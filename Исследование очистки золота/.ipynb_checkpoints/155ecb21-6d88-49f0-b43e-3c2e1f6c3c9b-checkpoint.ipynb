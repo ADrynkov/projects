{
 "cells": [
  {
   "cell_type": "markdown",
   "metadata": {
    "toc": true
   },
   "source": [
    "<h1>Содержание<span class=\"tocSkip\"></span></h1>\n",
    "<div class=\"toc\"><ul class=\"toc-item\"><li><span><a href=\"#Подготовка-данных\" data-toc-modified-id=\"Подготовка-данных-1\"><span class=\"toc-item-num\">1&nbsp;&nbsp;</span>Подготовка данных</a></span></li><li><span><a href=\"#Анализ-данных\" data-toc-modified-id=\"Анализ-данных-2\"><span class=\"toc-item-num\">2&nbsp;&nbsp;</span>Анализ данных</a></span></li><li><span><a href=\"#Модель\" data-toc-modified-id=\"Модель-3\"><span class=\"toc-item-num\">3&nbsp;&nbsp;</span>Модель</a></span></li><li><span><a href=\"#Чек-лист-готовности-проекта\" data-toc-modified-id=\"Чек-лист-готовности-проекта-4\"><span class=\"toc-item-num\">4&nbsp;&nbsp;</span>Чек-лист готовности проекта</a></span></li></ul></div>"
   ]
  },
  {
   "cell_type": "markdown",
   "metadata": {},
   "source": [
    "# Восстановление золота из руды"
   ]
  },
  {
   "cell_type": "markdown",
   "metadata": {},
   "source": [
    "Подготовьте прототип модели машинного обучения для «Цифры». Компания разрабатывает решения для эффективной работы промышленных предприятий.\n",
    "\n",
    "Модель должна предсказать коэффициент восстановления золота из золотосодержащей руды. Используйте данные с параметрами добычи и очистки. \n",
    "\n",
    "Модель поможет оптимизировать производство, чтобы не запускать предприятие с убыточными характеристиками.\n",
    "\n",
    "Вам нужно:\n",
    "\n",
    "1. Подготовить данные;\n",
    "2. Провести исследовательский анализ данных;\n",
    "3. Построить и обучить модель.\n",
    "\n",
    "Чтобы выполнить проект, обращайтесь к библиотекам *pandas*, *matplotlib* и *sklearn.* Вам поможет их документация."
   ]
  },
  {
   "cell_type": "markdown",
   "metadata": {},
   "source": [
    "## Подготовка данных"
   ]
  },
  {
   "cell_type": "code",
   "execution_count": 33,
   "metadata": {},
   "outputs": [
    {
     "name": "stdout",
     "output_type": "stream",
     "text": [
      "Requirement already satisfied: pandas-profiling in /opt/conda/lib/python3.9/site-packages (3.6.6)\n",
      "Requirement already satisfied: ydata-profiling in /opt/conda/lib/python3.9/site-packages (from pandas-profiling) (4.2.0)\n",
      "Requirement already satisfied: seaborn<0.13,>=0.10.1 in /opt/conda/lib/python3.9/site-packages (from ydata-profiling->pandas-profiling) (0.11.1)\n",
      "Requirement already satisfied: statsmodels<1,>=0.13.2 in /opt/conda/lib/python3.9/site-packages (from ydata-profiling->pandas-profiling) (0.13.2)\n",
      "Requirement already satisfied: matplotlib<4,>=3.2 in /opt/conda/lib/python3.9/site-packages (from ydata-profiling->pandas-profiling) (3.3.4)\n",
      "Requirement already satisfied: visions[type_image_path]==0.7.5 in /opt/conda/lib/python3.9/site-packages (from ydata-profiling->pandas-profiling) (0.7.5)\n",
      "Requirement already satisfied: numpy<1.24,>=1.16.0 in /opt/conda/lib/python3.9/site-packages (from ydata-profiling->pandas-profiling) (1.21.1)\n",
      "Requirement already satisfied: multimethod<2,>=1.4 in /opt/conda/lib/python3.9/site-packages (from ydata-profiling->pandas-profiling) (1.9.1)\n",
      "Requirement already satisfied: typeguard<3,>=2.13.2 in /opt/conda/lib/python3.9/site-packages (from ydata-profiling->pandas-profiling) (2.13.3)\n",
      "Requirement already satisfied: imagehash==4.3.1 in /opt/conda/lib/python3.9/site-packages (from ydata-profiling->pandas-profiling) (4.3.1)\n",
      "Requirement already satisfied: pydantic<2,>=1.8.1 in /opt/conda/lib/python3.9/site-packages (from ydata-profiling->pandas-profiling) (1.8.2)\n",
      "Requirement already satisfied: requests<3,>=2.24.0 in /opt/conda/lib/python3.9/site-packages (from ydata-profiling->pandas-profiling) (2.25.1)\n",
      "Requirement already satisfied: dacite>=1.8 in /opt/conda/lib/python3.9/site-packages (from ydata-profiling->pandas-profiling) (1.8.1)\n",
      "Requirement already satisfied: scipy<1.11,>=1.4.1 in /opt/conda/lib/python3.9/site-packages (from ydata-profiling->pandas-profiling) (1.9.1)\n",
      "Requirement already satisfied: wordcloud>=1.9.1 in /opt/conda/lib/python3.9/site-packages (from ydata-profiling->pandas-profiling) (1.9.2)\n",
      "Requirement already satisfied: PyYAML<6.1,>=5.0.0 in /opt/conda/lib/python3.9/site-packages (from ydata-profiling->pandas-profiling) (6.0)\n",
      "Requirement already satisfied: phik<0.13,>=0.11.1 in /opt/conda/lib/python3.9/site-packages (from ydata-profiling->pandas-profiling) (0.12.3)\n",
      "Requirement already satisfied: pandas!=1.4.0,<2,>1.1 in /opt/conda/lib/python3.9/site-packages (from ydata-profiling->pandas-profiling) (1.2.4)\n",
      "Requirement already satisfied: jinja2<3.2,>=2.11.1 in /opt/conda/lib/python3.9/site-packages (from ydata-profiling->pandas-profiling) (3.0.1)\n",
      "Requirement already satisfied: htmlmin==0.1.12 in /opt/conda/lib/python3.9/site-packages (from ydata-profiling->pandas-profiling) (0.1.12)\n",
      "Requirement already satisfied: tqdm<5,>=4.48.2 in /opt/conda/lib/python3.9/site-packages (from ydata-profiling->pandas-profiling) (4.61.2)\n",
      "Requirement already satisfied: PyWavelets in /opt/conda/lib/python3.9/site-packages (from imagehash==4.3.1->ydata-profiling->pandas-profiling) (1.4.1)\n",
      "Requirement already satisfied: pillow in /opt/conda/lib/python3.9/site-packages (from imagehash==4.3.1->ydata-profiling->pandas-profiling) (8.4.0)\n",
      "Requirement already satisfied: tangled-up-in-unicode>=0.0.4 in /opt/conda/lib/python3.9/site-packages (from visions[type_image_path]==0.7.5->ydata-profiling->pandas-profiling) (0.2.0)\n",
      "Requirement already satisfied: networkx>=2.4 in /opt/conda/lib/python3.9/site-packages (from visions[type_image_path]==0.7.5->ydata-profiling->pandas-profiling) (3.1)\n",
      "Requirement already satisfied: attrs>=19.3.0 in /opt/conda/lib/python3.9/site-packages (from visions[type_image_path]==0.7.5->ydata-profiling->pandas-profiling) (21.2.0)\n",
      "Requirement already satisfied: MarkupSafe>=2.0 in /opt/conda/lib/python3.9/site-packages (from jinja2<3.2,>=2.11.1->ydata-profiling->pandas-profiling) (2.1.1)\n",
      "Requirement already satisfied: python-dateutil>=2.1 in /opt/conda/lib/python3.9/site-packages (from matplotlib<4,>=3.2->ydata-profiling->pandas-profiling) (2.8.1)\n",
      "Requirement already satisfied: cycler>=0.10 in /opt/conda/lib/python3.9/site-packages (from matplotlib<4,>=3.2->ydata-profiling->pandas-profiling) (0.11.0)\n",
      "Requirement already satisfied: kiwisolver>=1.0.1 in /opt/conda/lib/python3.9/site-packages (from matplotlib<4,>=3.2->ydata-profiling->pandas-profiling) (1.4.4)\n",
      "Requirement already satisfied: pyparsing!=2.0.4,!=2.1.2,!=2.1.6,>=2.0.3 in /opt/conda/lib/python3.9/site-packages (from matplotlib<4,>=3.2->ydata-profiling->pandas-profiling) (2.4.7)\n",
      "Requirement already satisfied: pytz>=2017.3 in /opt/conda/lib/python3.9/site-packages (from pandas!=1.4.0,<2,>1.1->ydata-profiling->pandas-profiling) (2021.1)\n",
      "Requirement already satisfied: joblib>=0.14.1 in /opt/conda/lib/python3.9/site-packages (from phik<0.13,>=0.11.1->ydata-profiling->pandas-profiling) (1.1.0)\n",
      "Requirement already satisfied: typing-extensions>=3.7.4.3 in /opt/conda/lib/python3.9/site-packages (from pydantic<2,>=1.8.1->ydata-profiling->pandas-profiling) (4.3.0)\n",
      "Requirement already satisfied: six>=1.5 in /opt/conda/lib/python3.9/site-packages (from python-dateutil>=2.1->matplotlib<4,>=3.2->ydata-profiling->pandas-profiling) (1.16.0)\n",
      "Requirement already satisfied: urllib3<1.27,>=1.21.1 in /opt/conda/lib/python3.9/site-packages (from requests<3,>=2.24.0->ydata-profiling->pandas-profiling) (1.26.6)\n",
      "Requirement already satisfied: certifi>=2017.4.17 in /opt/conda/lib/python3.9/site-packages (from requests<3,>=2.24.0->ydata-profiling->pandas-profiling) (2022.6.15)\n",
      "Requirement already satisfied: idna<3,>=2.5 in /opt/conda/lib/python3.9/site-packages (from requests<3,>=2.24.0->ydata-profiling->pandas-profiling) (2.10)\n",
      "Requirement already satisfied: chardet<5,>=3.0.2 in /opt/conda/lib/python3.9/site-packages (from requests<3,>=2.24.0->ydata-profiling->pandas-profiling) (4.0.0)\n",
      "Requirement already satisfied: patsy>=0.5.2 in /opt/conda/lib/python3.9/site-packages (from statsmodels<1,>=0.13.2->ydata-profiling->pandas-profiling) (0.5.2)\n",
      "Requirement already satisfied: packaging>=21.3 in /opt/conda/lib/python3.9/site-packages (from statsmodels<1,>=0.13.2->ydata-profiling->pandas-profiling) (21.3)\n",
      "Note: you may need to restart the kernel to use updated packages.\n"
     ]
    }
   ],
   "source": [
    "pip install pandas-profiling"
   ]
  },
  {
   "cell_type": "markdown",
   "metadata": {},
   "source": [
    "Импорт библиотек"
   ]
  },
  {
   "cell_type": "code",
   "execution_count": 34,
   "metadata": {},
   "outputs": [],
   "source": [
    "import pandas as pd\n",
    "from ydata_profiling import ProfileReport\n",
    "from sklearn.linear_model import LinearRegression\n",
    "from sklearn.tree import DecisionTreeRegressor\n",
    "from sklearn.ensemble import RandomForestRegressor\n",
    "from sklearn.model_selection import train_test_split\n",
    "from sklearn.metrics import mean_squared_error\n",
    "from sklearn.preprocessing import StandardScaler\n",
    "from sklearn.model_selection import RandomizedSearchCV\n",
    "from sklearn.metrics import confusion_matrix\n",
    "import matplotlib.pyplot as plt\n",
    "import numpy as np\n",
    "from scipy.stats import t\n",
    "from IPython.core.display import display, HTML\n",
    "from sklearn.metrics import mean_absolute_error\n",
    "from sklearn.pipeline import Pipeline"
   ]
  },
  {
   "cell_type": "code",
   "execution_count": 35,
   "metadata": {},
   "outputs": [
    {
     "data": {
      "text/html": [
       "<style>.container { width:90% !important; }</style>"
      ],
      "text/plain": [
       "<IPython.core.display.HTML object>"
      ]
     },
     "metadata": {},
     "output_type": "display_data"
    }
   ],
   "source": [
    "display(HTML(\"<style>.container { width:90% !important; }</style>\"))"
   ]
  },
  {
   "cell_type": "code",
   "execution_count": 36,
   "metadata": {},
   "outputs": [],
   "source": [
    "df_train = pd.read_csv('/datasets/gold_industry_train.csv')\n",
    "df_test= pd.read_csv('/datasets/gold_industry_test.csv')\n",
    "df_full = pd.read_csv('/datasets/gold_industry_full.csv')"
   ]
  },
  {
   "cell_type": "markdown",
   "metadata": {},
   "source": [
    "Константы"
   ]
  },
  {
   "cell_type": "code",
   "execution_count": 37,
   "metadata": {},
   "outputs": [],
   "source": [
    "f_rougher = df_train['rougher.input.feed_au']\n",
    "c_rougher = df_train['rougher.output.concentrate_au']\n",
    "t_rougher = df_train['rougher.output.tail_au']\n",
    "\n",
    "f_final = df_train['rougher.input.feed_au']\n",
    "c_final = df_train['final.output.concentrate_au']\n",
    "t_final = df_train['final.output.tail_au']\n",
    "\n",
    "recovery_rougher = (c_rougher * (f_rougher - t_rougher)) / (f_rougher * (c_rougher - t_rougher)) * 100\n",
    "\n",
    "recovery_final = (c_final * (f_final - t_final)) / (f_final * (c_final - t_final)) * 100"
   ]
  },
  {
   "cell_type": "code",
   "execution_count": 38,
   "metadata": {},
   "outputs": [
    {
     "name": "stdout",
     "output_type": "stream",
     "text": [
      "<class 'pandas.core.frame.DataFrame'>\n",
      "RangeIndex: 19439 entries, 0 to 19438\n",
      "Data columns (total 87 columns):\n",
      " #   Column                                              Non-Null Count  Dtype  \n",
      "---  ------                                              --------------  -----  \n",
      " 0   date                                                19439 non-null  object \n",
      " 1   rougher.input.feed_au                               19439 non-null  float64\n",
      " 2   rougher.input.feed_ag                               19439 non-null  float64\n",
      " 3   rougher.input.feed_pb                               19339 non-null  float64\n",
      " 4   rougher.input.feed_sol                              19340 non-null  float64\n",
      " 5   rougher.input.feed_rate                             19428 non-null  float64\n",
      " 6   rougher.input.feed_size                             19294 non-null  float64\n",
      " 7   rougher.input.floatbank10_sulfate                   19405 non-null  float64\n",
      " 8   rougher.input.floatbank10_xanthate                  19431 non-null  float64\n",
      " 9   rougher.state.floatbank10_a_air                     19438 non-null  float64\n",
      " 10  rougher.state.floatbank10_a_level                   19438 non-null  float64\n",
      " 11  rougher.state.floatbank10_b_air                     19438 non-null  float64\n",
      " 12  rougher.state.floatbank10_b_level                   19438 non-null  float64\n",
      " 13  rougher.state.floatbank10_c_air                     19438 non-null  float64\n",
      " 14  rougher.state.floatbank10_c_level                   19438 non-null  float64\n",
      " 15  rougher.state.floatbank10_d_air                     19439 non-null  float64\n",
      " 16  rougher.state.floatbank10_d_level                   19439 non-null  float64\n",
      " 17  rougher.state.floatbank10_e_air                     19003 non-null  float64\n",
      " 18  rougher.state.floatbank10_e_level                   19439 non-null  float64\n",
      " 19  rougher.state.floatbank10_f_air                     19439 non-null  float64\n",
      " 20  rougher.state.floatbank10_f_level                   19439 non-null  float64\n",
      " 21  rougher.input.floatbank11_sulfate                   19395 non-null  float64\n",
      " 22  rougher.input.floatbank11_xanthate                  18986 non-null  float64\n",
      " 23  rougher.calculation.sulfate_to_au_concentrate       19437 non-null  float64\n",
      " 24  rougher.calculation.floatbank10_sulfate_to_au_feed  19437 non-null  float64\n",
      " 25  rougher.calculation.floatbank11_sulfate_to_au_feed  19437 non-null  float64\n",
      " 26  rougher.calculation.au_pb_ratio                     19439 non-null  float64\n",
      " 27  rougher.output.concentrate_au                       19439 non-null  float64\n",
      " 28  rougher.output.concentrate_ag                       19439 non-null  float64\n",
      " 29  rougher.output.concentrate_pb                       19439 non-null  float64\n",
      " 30  rougher.output.concentrate_sol                      19416 non-null  float64\n",
      " 31  rougher.output.recovery                             19439 non-null  float64\n",
      " 32  rougher.output.tail_au                              19439 non-null  float64\n",
      " 33  rougher.output.tail_ag                              19438 non-null  float64\n",
      " 34  rougher.output.tail_pb                              19439 non-null  float64\n",
      " 35  rougher.output.tail_sol                             19439 non-null  float64\n",
      " 36  primary_cleaner.input.sulfate                       19415 non-null  float64\n",
      " 37  primary_cleaner.input.depressant                    19402 non-null  float64\n",
      " 38  primary_cleaner.input.feed_size                     19439 non-null  float64\n",
      " 39  primary_cleaner.input.xanthate                      19335 non-null  float64\n",
      " 40  primary_cleaner.state.floatbank8_a_air              19435 non-null  float64\n",
      " 41  primary_cleaner.state.floatbank8_a_level            19438 non-null  float64\n",
      " 42  primary_cleaner.state.floatbank8_b_air              19435 non-null  float64\n",
      " 43  primary_cleaner.state.floatbank8_b_level            19438 non-null  float64\n",
      " 44  primary_cleaner.state.floatbank8_c_air              19437 non-null  float64\n",
      " 45  primary_cleaner.state.floatbank8_c_level            19438 non-null  float64\n",
      " 46  primary_cleaner.state.floatbank8_d_air              19436 non-null  float64\n",
      " 47  primary_cleaner.state.floatbank8_d_level            19438 non-null  float64\n",
      " 48  primary_cleaner.output.concentrate_au               19439 non-null  float64\n",
      " 49  primary_cleaner.output.concentrate_ag               19439 non-null  float64\n",
      " 50  primary_cleaner.output.concentrate_pb               19323 non-null  float64\n",
      " 51  primary_cleaner.output.concentrate_sol              19069 non-null  float64\n",
      " 52  primary_cleaner.output.tail_au                      19439 non-null  float64\n",
      " 53  primary_cleaner.output.tail_ag                      19435 non-null  float64\n",
      " 54  primary_cleaner.output.tail_pb                      19418 non-null  float64\n",
      " 55  primary_cleaner.output.tail_sol                     19377 non-null  float64\n",
      " 56  secondary_cleaner.state.floatbank2_a_air            19219 non-null  float64\n",
      " 57  secondary_cleaner.state.floatbank2_a_level          19438 non-null  float64\n",
      " 58  secondary_cleaner.state.floatbank2_b_air            19416 non-null  float64\n",
      " 59  secondary_cleaner.state.floatbank2_b_level          19438 non-null  float64\n",
      " 60  secondary_cleaner.state.floatbank3_a_air            19426 non-null  float64\n",
      " 61  secondary_cleaner.state.floatbank3_a_level          19438 non-null  float64\n",
      " 62  secondary_cleaner.state.floatbank3_b_air            19438 non-null  float64\n",
      " 63  secondary_cleaner.state.floatbank3_b_level          19438 non-null  float64\n",
      " 64  secondary_cleaner.state.floatbank4_a_air            19433 non-null  float64\n",
      " 65  secondary_cleaner.state.floatbank4_a_level          19438 non-null  float64\n",
      " 66  secondary_cleaner.state.floatbank4_b_air            19438 non-null  float64\n",
      " 67  secondary_cleaner.state.floatbank4_b_level          19438 non-null  float64\n",
      " 68  secondary_cleaner.state.floatbank5_a_air            19438 non-null  float64\n",
      " 69  secondary_cleaner.state.floatbank5_a_level          19438 non-null  float64\n",
      " 70  secondary_cleaner.state.floatbank5_b_air            19438 non-null  float64\n",
      " 71  secondary_cleaner.state.floatbank5_b_level          19438 non-null  float64\n",
      " 72  secondary_cleaner.state.floatbank6_a_air            19437 non-null  float64\n",
      " 73  secondary_cleaner.state.floatbank6_a_level          19438 non-null  float64\n",
      " 74  secondary_cleaner.output.tail_au                    19439 non-null  float64\n",
      " 75  secondary_cleaner.output.tail_ag                    19437 non-null  float64\n",
      " 76  secondary_cleaner.output.tail_pb                    19427 non-null  float64\n",
      " 77  secondary_cleaner.output.tail_sol                   17691 non-null  float64\n",
      " 78  final.output.concentrate_au                         19439 non-null  float64\n",
      " 79  final.output.concentrate_ag                         19438 non-null  float64\n",
      " 80  final.output.concentrate_pb                         19438 non-null  float64\n",
      " 81  final.output.concentrate_sol                        19228 non-null  float64\n",
      " 82  final.output.recovery                               19439 non-null  float64\n",
      " 83  final.output.tail_au                                19439 non-null  float64\n",
      " 84  final.output.tail_ag                                19438 non-null  float64\n",
      " 85  final.output.tail_pb                                19338 non-null  float64\n",
      " 86  final.output.tail_sol                               19433 non-null  float64\n",
      "dtypes: float64(86), object(1)\n",
      "memory usage: 12.9+ MB\n"
     ]
    }
   ],
   "source": [
    "df_full.info()"
   ]
  },
  {
   "cell_type": "code",
   "execution_count": 39,
   "metadata": {},
   "outputs": [
    {
     "name": "stdout",
     "output_type": "stream",
     "text": [
      "<class 'pandas.core.frame.DataFrame'>\n",
      "RangeIndex: 4860 entries, 0 to 4859\n",
      "Data columns (total 53 columns):\n",
      " #   Column                                      Non-Null Count  Dtype  \n",
      "---  ------                                      --------------  -----  \n",
      " 0   date                                        4860 non-null   object \n",
      " 1   rougher.input.feed_au                       4860 non-null   float64\n",
      " 2   rougher.input.feed_ag                       4860 non-null   float64\n",
      " 3   rougher.input.feed_pb                       4832 non-null   float64\n",
      " 4   rougher.input.feed_sol                      4838 non-null   float64\n",
      " 5   rougher.input.feed_rate                     4856 non-null   float64\n",
      " 6   rougher.input.feed_size                     4816 non-null   float64\n",
      " 7   rougher.input.floatbank10_sulfate           4857 non-null   float64\n",
      " 8   rougher.input.floatbank10_xanthate          4859 non-null   float64\n",
      " 9   rougher.state.floatbank10_a_air             4859 non-null   float64\n",
      " 10  rougher.state.floatbank10_a_level           4859 non-null   float64\n",
      " 11  rougher.state.floatbank10_b_air             4859 non-null   float64\n",
      " 12  rougher.state.floatbank10_b_level           4859 non-null   float64\n",
      " 13  rougher.state.floatbank10_c_air             4859 non-null   float64\n",
      " 14  rougher.state.floatbank10_c_level           4859 non-null   float64\n",
      " 15  rougher.state.floatbank10_d_air             4860 non-null   float64\n",
      " 16  rougher.state.floatbank10_d_level           4860 non-null   float64\n",
      " 17  rougher.state.floatbank10_e_air             4853 non-null   float64\n",
      " 18  rougher.state.floatbank10_e_level           4860 non-null   float64\n",
      " 19  rougher.state.floatbank10_f_air             4860 non-null   float64\n",
      " 20  rougher.state.floatbank10_f_level           4860 non-null   float64\n",
      " 21  rougher.input.floatbank11_sulfate           4852 non-null   float64\n",
      " 22  rougher.input.floatbank11_xanthate          4814 non-null   float64\n",
      " 23  primary_cleaner.input.sulfate               4859 non-null   float64\n",
      " 24  primary_cleaner.input.depressant            4851 non-null   float64\n",
      " 25  primary_cleaner.input.feed_size             4860 non-null   float64\n",
      " 26  primary_cleaner.input.xanthate              4817 non-null   float64\n",
      " 27  primary_cleaner.state.floatbank8_a_air      4859 non-null   float64\n",
      " 28  primary_cleaner.state.floatbank8_a_level    4859 non-null   float64\n",
      " 29  primary_cleaner.state.floatbank8_b_air      4859 non-null   float64\n",
      " 30  primary_cleaner.state.floatbank8_b_level    4859 non-null   float64\n",
      " 31  primary_cleaner.state.floatbank8_c_air      4858 non-null   float64\n",
      " 32  primary_cleaner.state.floatbank8_c_level    4859 non-null   float64\n",
      " 33  primary_cleaner.state.floatbank8_d_air      4858 non-null   float64\n",
      " 34  primary_cleaner.state.floatbank8_d_level    4859 non-null   float64\n",
      " 35  secondary_cleaner.state.floatbank2_a_air    4734 non-null   float64\n",
      " 36  secondary_cleaner.state.floatbank2_a_level  4859 non-null   float64\n",
      " 37  secondary_cleaner.state.floatbank2_b_air    4859 non-null   float64\n",
      " 38  secondary_cleaner.state.floatbank2_b_level  4859 non-null   float64\n",
      " 39  secondary_cleaner.state.floatbank3_a_air    4859 non-null   float64\n",
      " 40  secondary_cleaner.state.floatbank3_a_level  4859 non-null   float64\n",
      " 41  secondary_cleaner.state.floatbank3_b_air    4859 non-null   float64\n",
      " 42  secondary_cleaner.state.floatbank3_b_level  4859 non-null   float64\n",
      " 43  secondary_cleaner.state.floatbank4_a_air    4859 non-null   float64\n",
      " 44  secondary_cleaner.state.floatbank4_a_level  4859 non-null   float64\n",
      " 45  secondary_cleaner.state.floatbank4_b_air    4859 non-null   float64\n",
      " 46  secondary_cleaner.state.floatbank4_b_level  4859 non-null   float64\n",
      " 47  secondary_cleaner.state.floatbank5_a_air    4859 non-null   float64\n",
      " 48  secondary_cleaner.state.floatbank5_a_level  4859 non-null   float64\n",
      " 49  secondary_cleaner.state.floatbank5_b_air    4859 non-null   float64\n",
      " 50  secondary_cleaner.state.floatbank5_b_level  4859 non-null   float64\n",
      " 51  secondary_cleaner.state.floatbank6_a_air    4859 non-null   float64\n",
      " 52  secondary_cleaner.state.floatbank6_a_level  4859 non-null   float64\n",
      "dtypes: float64(52), object(1)\n",
      "memory usage: 2.0+ MB\n"
     ]
    }
   ],
   "source": [
    "df_test.info()"
   ]
  },
  {
   "cell_type": "code",
   "execution_count": 40,
   "metadata": {},
   "outputs": [
    {
     "name": "stdout",
     "output_type": "stream",
     "text": [
      "Эффективность обогащения посчитана правильно\n"
     ]
    }
   ],
   "source": [
    "if recovery_rougher.sum() == df_train['rougher.output.recovery'].sum():\n",
    "    print('Эффективность обогащения посчитана правильно')\n",
    "else:\n",
    "    print('Эффективность обогащения посчитана не правильно')"
   ]
  },
  {
   "cell_type": "code",
   "execution_count": 41,
   "metadata": {},
   "outputs": [
    {
     "data": {
      "text/plain": [
       "9.83758577644259e-15"
      ]
     },
     "execution_count": 41,
     "metadata": {},
     "output_type": "execute_result"
    }
   ],
   "source": [
    "mean_absolute_error(recovery_rougher, df_train['rougher.output.recovery'])"
   ]
  },
  {
   "cell_type": "code",
   "execution_count": 42,
   "metadata": {},
   "outputs": [
    {
     "name": "stdout",
     "output_type": "stream",
     "text": [
      "Эффективность обогащения посчитана правильно\n"
     ]
    }
   ],
   "source": [
    "if recovery_final.sum() == df_train['final.output.recovery'].sum():\n",
    "    print('Эффективность обогащения посчитана правильно')\n",
    "else:\n",
    "    print('Эффективность обогащения посчитана не правильно')"
   ]
  },
  {
   "cell_type": "code",
   "execution_count": 43,
   "metadata": {},
   "outputs": [
    {
     "data": {
      "text/plain": [
       "8.569602032360358e-15"
      ]
     },
     "execution_count": 43,
     "metadata": {},
     "output_type": "execute_result"
    }
   ],
   "source": [
    "mean_absolute_error(recovery_final, df_train['final.output.recovery'])"
   ]
  },
  {
   "cell_type": "code",
   "execution_count": 44,
   "metadata": {},
   "outputs": [],
   "source": [
    "df_train = df_train.fillna(method='ffill')"
   ]
  },
  {
   "cell_type": "code",
   "execution_count": 45,
   "metadata": {},
   "outputs": [],
   "source": [
    "columns_to_delete = set(df_train.columns) - set(df_test.columns)"
   ]
  },
  {
   "cell_type": "code",
   "execution_count": 46,
   "metadata": {},
   "outputs": [],
   "source": [
    "df_train_target = df_train[['rougher.output.recovery', 'final.output.recovery']]\n",
    "\n",
    "df_train_features = df_train.drop(columns_to_delete, axis=1)"
   ]
  },
  {
   "cell_type": "code",
   "execution_count": 47,
   "metadata": {},
   "outputs": [
    {
     "name": "stdout",
     "output_type": "stream",
     "text": [
      "<class 'pandas.core.frame.DataFrame'>\n",
      "RangeIndex: 14579 entries, 0 to 14578\n",
      "Data columns (total 53 columns):\n",
      " #   Column                                      Non-Null Count  Dtype  \n",
      "---  ------                                      --------------  -----  \n",
      " 0   date                                        14579 non-null  object \n",
      " 1   rougher.input.feed_au                       14579 non-null  float64\n",
      " 2   rougher.input.feed_ag                       14579 non-null  float64\n",
      " 3   rougher.input.feed_pb                       14579 non-null  float64\n",
      " 4   rougher.input.feed_sol                      14579 non-null  float64\n",
      " 5   rougher.input.feed_rate                     14579 non-null  float64\n",
      " 6   rougher.input.feed_size                     14579 non-null  float64\n",
      " 7   rougher.input.floatbank10_sulfate           14579 non-null  float64\n",
      " 8   rougher.input.floatbank10_xanthate          14579 non-null  float64\n",
      " 9   rougher.state.floatbank10_a_air             14579 non-null  float64\n",
      " 10  rougher.state.floatbank10_a_level           14579 non-null  float64\n",
      " 11  rougher.state.floatbank10_b_air             14579 non-null  float64\n",
      " 12  rougher.state.floatbank10_b_level           14579 non-null  float64\n",
      " 13  rougher.state.floatbank10_c_air             14579 non-null  float64\n",
      " 14  rougher.state.floatbank10_c_level           14579 non-null  float64\n",
      " 15  rougher.state.floatbank10_d_air             14579 non-null  float64\n",
      " 16  rougher.state.floatbank10_d_level           14579 non-null  float64\n",
      " 17  rougher.state.floatbank10_e_air             14579 non-null  float64\n",
      " 18  rougher.state.floatbank10_e_level           14579 non-null  float64\n",
      " 19  rougher.state.floatbank10_f_air             14579 non-null  float64\n",
      " 20  rougher.state.floatbank10_f_level           14579 non-null  float64\n",
      " 21  rougher.input.floatbank11_sulfate           14579 non-null  float64\n",
      " 22  rougher.input.floatbank11_xanthate          14579 non-null  float64\n",
      " 23  primary_cleaner.input.sulfate               14579 non-null  float64\n",
      " 24  primary_cleaner.input.depressant            14579 non-null  float64\n",
      " 25  primary_cleaner.input.feed_size             14579 non-null  float64\n",
      " 26  primary_cleaner.input.xanthate              14579 non-null  float64\n",
      " 27  primary_cleaner.state.floatbank8_a_air      14579 non-null  float64\n",
      " 28  primary_cleaner.state.floatbank8_a_level    14579 non-null  float64\n",
      " 29  primary_cleaner.state.floatbank8_b_air      14579 non-null  float64\n",
      " 30  primary_cleaner.state.floatbank8_b_level    14579 non-null  float64\n",
      " 31  primary_cleaner.state.floatbank8_c_air      14579 non-null  float64\n",
      " 32  primary_cleaner.state.floatbank8_c_level    14579 non-null  float64\n",
      " 33  primary_cleaner.state.floatbank8_d_air      14579 non-null  float64\n",
      " 34  primary_cleaner.state.floatbank8_d_level    14579 non-null  float64\n",
      " 35  secondary_cleaner.state.floatbank2_a_air    14579 non-null  float64\n",
      " 36  secondary_cleaner.state.floatbank2_a_level  14579 non-null  float64\n",
      " 37  secondary_cleaner.state.floatbank2_b_air    14579 non-null  float64\n",
      " 38  secondary_cleaner.state.floatbank2_b_level  14579 non-null  float64\n",
      " 39  secondary_cleaner.state.floatbank3_a_air    14579 non-null  float64\n",
      " 40  secondary_cleaner.state.floatbank3_a_level  14579 non-null  float64\n",
      " 41  secondary_cleaner.state.floatbank3_b_air    14579 non-null  float64\n",
      " 42  secondary_cleaner.state.floatbank3_b_level  14579 non-null  float64\n",
      " 43  secondary_cleaner.state.floatbank4_a_air    14579 non-null  float64\n",
      " 44  secondary_cleaner.state.floatbank4_a_level  14579 non-null  float64\n",
      " 45  secondary_cleaner.state.floatbank4_b_air    14579 non-null  float64\n",
      " 46  secondary_cleaner.state.floatbank4_b_level  14579 non-null  float64\n",
      " 47  secondary_cleaner.state.floatbank5_a_air    14579 non-null  float64\n",
      " 48  secondary_cleaner.state.floatbank5_a_level  14579 non-null  float64\n",
      " 49  secondary_cleaner.state.floatbank5_b_air    14579 non-null  float64\n",
      " 50  secondary_cleaner.state.floatbank5_b_level  14579 non-null  float64\n",
      " 51  secondary_cleaner.state.floatbank6_a_air    14579 non-null  float64\n",
      " 52  secondary_cleaner.state.floatbank6_a_level  14579 non-null  float64\n",
      "dtypes: float64(52), object(1)\n",
      "memory usage: 5.9+ MB\n"
     ]
    }
   ],
   "source": [
    "df_train_features.info()"
   ]
  },
  {
   "cell_type": "code",
   "execution_count": 48,
   "metadata": {},
   "outputs": [
    {
     "data": {
      "image/png": "[encoded data removed]",
      "text/plain": [
       "<Figure size 1152x1008 with 1 Axes>"
      ]
     },
     "metadata": {
      "needs_background": "light"
     },
     "output_type": "display_data"
    }
   ],
   "source": [
    "fig, ax = plt.subplots(figsize=(16,14))\n",
    "\n",
    "df_train['rougher.input.feed_au'].plot.hist(ax=ax, alpha=0.5, bins=100, label='концетрация золота в сырье')\n",
    "df_train['rougher.output.concentrate_au'].plot.hist(ax=ax, alpha=0.5, bins=100, label='концентрация золота после черновой очистки')\n",
    "df_train['primary_cleaner.output.concentrate_au'].plot.hist(ax=ax, alpha=0.5, bins=100, label = 'концентрация золота после тонкой очистки')\n",
    "df_train['final.output.concentrate_au'].plot.hist(ax=ax, alpha=0.5, bins=100, label='концентрация золота в финальном концентрате')\n",
    " \n",
    "plt.legend()\n",
    "ax.set_title('Изменение концентрации золота')\n",
    "plt.show()"
   ]
  },
  {
   "cell_type": "code",
   "execution_count": 49,
   "metadata": {},
   "outputs": [
    {
     "data": {
      "image/png": "[encoded data removed]",
      "text/plain": [
       "<Figure size 1152x1008 with 1 Axes>"
      ]
     },
     "metadata": {
      "needs_background": "light"
     },
     "output_type": "display_data"
    }
   ],
   "source": [
    "fig, ax = plt.subplots(figsize=(16,14))\n",
    "\n",
    "df_train['rougher.input.feed_ag'].plot.hist(ax=ax, alpha=0.5, bins=100, label='концетрация серебра в сырье')\n",
    "df_train['rougher.output.concentrate_ag'].plot.hist(ax=ax, alpha=0.5, bins=100, label='концентрация серебра после черновой очистки')\n",
    "df_train['primary_cleaner.output.concentrate_ag'].plot.hist(ax=ax, alpha=0.5, bins=100, label = 'концентрация серебра после тонкой очистки')\n",
    "df_train['final.output.concentrate_ag'].plot.hist(ax=ax, alpha=0.5, bins=100, label='концентрация серебра в финальном концентрате')\n",
    " \n",
    "plt.legend()\n",
    "ax.set_title('Изменение концентрации серебра')\n",
    "plt.show()"
   ]
  },
  {
   "cell_type": "code",
   "execution_count": 50,
   "metadata": {},
   "outputs": [
    {
     "data": {
      "image/png": "[encoded data removed]",
      "text/plain": [
       "<Figure size 1152x1008 with 1 Axes>"
      ]
     },
     "metadata": {
      "needs_background": "light"
     },
     "output_type": "display_data"
    }
   ],
   "source": [
    "fig, ax = plt.subplots(figsize=(16,14))\n",
    "\n",
    "df_train['rougher.input.feed_pb'].plot.hist(ax=ax, alpha=0.5, bins=100, label='концетрация свинца в сырье')\n",
    "df_train['rougher.output.concentrate_pb'].plot.hist(ax=ax, alpha=0.5, bins=100, label='концентрация свинца после черновой очистки')\n",
    "df_train['primary_cleaner.output.concentrate_pb'].plot.hist(ax=ax, alpha=0.5, bins=100, label = 'концентрация свинца после тонкой очистки')\n",
    "df_train['final.output.concentrate_pb'].plot.hist(ax=ax, alpha=0.5, bins=100, label='концентрация свинца в финальном концентрате')\n",
    " \n",
    "plt.legend()\n",
    "ax.set_title('Изменение концентрации свинца')\n",
    "plt.show()"
   ]
  },
  {
   "cell_type": "code",
   "execution_count": null,
   "metadata": {},
   "outputs": [
    {
     "data": {
      "application/vnd.jupyter.widget-view+json": {
       "model_id": "219842f89419432198a41c0bd9df0cb2",
       "version_major": 2,
       "version_minor": 0
      },
      "text/plain": [
       "Summarize dataset:   0%|          | 0/5 [00:00<?, ?it/s]"
      ]
     },
     "metadata": {},
     "output_type": "display_data"
    }
   ],
   "source": [
    "ProfileReport(df_train_features)"
   ]
  },
  {
   "cell_type": "code",
   "execution_count": null,
   "metadata": {},
   "outputs": [],
   "source": []
  },
  {
   "cell_type": "code",
   "execution_count": null,
   "metadata": {},
   "outputs": [],
   "source": []
  },
  {
   "cell_type": "code",
   "execution_count": null,
   "metadata": {},
   "outputs": [],
   "source": []
  },
  {
   "cell_type": "code",
   "execution_count": null,
   "metadata": {},
   "outputs": [],
   "source": []
  },
  {
   "cell_type": "markdown",
   "metadata": {},
   "source": [
    "## Анализ данных"
   ]
  },
  {
   "cell_type": "code",
   "execution_count": null,
   "metadata": {},
   "outputs": [],
   "source": []
  },
  {
   "cell_type": "code",
   "execution_count": null,
   "metadata": {},
   "outputs": [],
   "source": []
  },
  {
   "cell_type": "code",
   "execution_count": null,
   "metadata": {},
   "outputs": [],
   "source": []
  },
  {
   "cell_type": "code",
   "execution_count": null,
   "metadata": {},
   "outputs": [],
   "source": []
  },
  {
   "cell_type": "code",
   "execution_count": null,
   "metadata": {},
   "outputs": [],
   "source": []
  },
  {
   "cell_type": "code",
   "execution_count": null,
   "metadata": {},
   "outputs": [],
   "source": []
  },
  {
   "cell_type": "code",
   "execution_count": null,
   "metadata": {},
   "outputs": [],
   "source": []
  },
  {
   "cell_type": "code",
   "execution_count": null,
   "metadata": {},
   "outputs": [],
   "source": []
  },
  {
   "cell_type": "markdown",
   "metadata": {},
   "source": [
    "## Модель"
   ]
  },
  {
   "cell_type": "code",
   "execution_count": null,
   "metadata": {},
   "outputs": [],
   "source": []
  },
  {
   "cell_type": "markdown",
   "metadata": {},
   "source": [
    "## Чек-лист готовности проекта"
   ]
  },
  {
   "cell_type": "markdown",
   "metadata": {},
   "source": [
    "- [x]  Jupyter Notebook открыт\n",
    "- [ ]  Весь код выполняется без ошибок\n",
    "- [ ]  Ячейки с кодом расположены в порядке выполнения\n",
    "- [ ]  Выполнен шаг 1: данные подготовлены\n",
    "    - [ ]  Проверена формула вычисления эффективности обогащения\n",
    "    - [ ]  Проанализированы признаки, недоступные в тестовой выборке\n",
    "    - [ ]  Проведена предобработка данных\n",
    "- [ ]  Выполнен шаг 2: данные проанализированы\n",
    "    - [ ]  Исследовано изменение концентрации элементов на каждом этапе\n",
    "    - [ ]  Проанализированы распределения размеров гранул на обучающей и тестовой выборках\n",
    "    - [ ]  Исследованы суммарные концентрации\n",
    "- [ ]  Выполнен шаг 3: построена модель прогнозирования\n",
    "    - [ ]  Написана функция для вычисления итогового *sMAPE*\n",
    "    - [ ]  Обучено и проверено несколько моделей\n",
    "    - [ ]  Выбрана лучшая модель, её качество проверено на тестовой выборке"
   ]
  }
 ],
 "metadata": {
  "ExecuteTimeLog": [
   {
    "duration": 42,
    "start_time": "2023-05-26T17:18:28.361Z"
   },
   {
    "duration": 399,
    "start_time": "2023-05-26T17:18:28.800Z"
   },
   {
    "duration": 114,
    "start_time": "2023-05-26T17:18:30.869Z"
   },
   {
    "duration": 17,
    "start_time": "2023-05-26T17:18:41.992Z"
   },
   {
    "duration": 3,
    "start_time": "2023-05-26T17:21:25.534Z"
   },
   {
    "duration": 1128,
    "start_time": "2023-05-26T17:21:26.675Z"
   },
   {
    "duration": 54,
    "start_time": "2023-05-26T17:21:42.540Z"
   },
   {
    "duration": 109,
    "start_time": "2023-05-26T17:22:30.680Z"
   },
   {
    "duration": 3929,
    "start_time": "2023-05-26T17:22:37.148Z"
   },
   {
    "duration": 18193,
    "start_time": "2023-05-26T17:22:46.091Z"
   },
   {
    "duration": 974,
    "start_time": "2023-05-26T17:23:13.218Z"
   },
   {
    "duration": 150,
    "start_time": "2023-05-26T17:23:26.120Z"
   },
   {
    "duration": 103525,
    "start_time": "2023-05-26T17:23:36.575Z"
   },
   {
    "duration": 130,
    "start_time": "2023-05-26T17:25:29.865Z"
   },
   {
    "duration": 18,
    "start_time": "2023-05-26T17:26:11.605Z"
   },
   {
    "duration": 18,
    "start_time": "2023-05-26T17:26:14.897Z"
   },
   {
    "duration": 15,
    "start_time": "2023-05-26T17:28:10.627Z"
   },
   {
    "duration": 21,
    "start_time": "2023-05-26T17:28:19.522Z"
   },
   {
    "duration": 15,
    "start_time": "2023-05-26T17:29:56.329Z"
   },
   {
    "duration": 15,
    "start_time": "2023-05-26T17:30:49.708Z"
   },
   {
    "duration": 11,
    "start_time": "2023-05-26T17:30:52.980Z"
   },
   {
    "duration": 12,
    "start_time": "2023-05-26T17:30:56.743Z"
   },
   {
    "duration": 11,
    "start_time": "2023-05-26T17:31:07.965Z"
   },
   {
    "duration": 12,
    "start_time": "2023-05-26T17:32:14.186Z"
   },
   {
    "duration": 10,
    "start_time": "2023-05-26T17:32:38.213Z"
   },
   {
    "duration": 4,
    "start_time": "2023-05-26T17:32:50.248Z"
   },
   {
    "duration": 5,
    "start_time": "2023-05-26T17:32:58.758Z"
   },
   {
    "duration": 6,
    "start_time": "2023-05-26T17:33:19.643Z"
   },
   {
    "duration": 44,
    "start_time": "2023-05-27T06:06:02.823Z"
   },
   {
    "duration": 16571,
    "start_time": "2023-05-27T06:06:08.063Z"
   },
   {
    "duration": 23,
    "start_time": "2023-05-27T06:06:30.144Z"
   },
   {
    "duration": 69,
    "start_time": "2023-05-27T06:06:30.169Z"
   },
   {
    "duration": 769,
    "start_time": "2023-05-27T06:06:30.239Z"
   },
   {
    "duration": 18,
    "start_time": "2023-05-27T06:06:31.010Z"
   },
   {
    "duration": 37,
    "start_time": "2023-05-27T06:06:31.031Z"
   },
   {
    "duration": 23,
    "start_time": "2023-05-27T06:06:31.069Z"
   },
   {
    "duration": 40,
    "start_time": "2023-05-27T06:06:31.093Z"
   },
   {
    "duration": 71,
    "start_time": "2023-05-27T06:06:31.134Z"
   },
   {
    "duration": 6,
    "start_time": "2023-05-27T06:07:19.588Z"
   },
   {
    "duration": 5,
    "start_time": "2023-05-27T06:07:23.872Z"
   },
   {
    "duration": 6,
    "start_time": "2023-05-27T06:07:47.406Z"
   },
   {
    "duration": 6,
    "start_time": "2023-05-27T06:07:58.865Z"
   },
   {
    "duration": 6,
    "start_time": "2023-05-27T06:08:01.458Z"
   },
   {
    "duration": 4,
    "start_time": "2023-05-27T06:08:07.477Z"
   },
   {
    "duration": 5,
    "start_time": "2023-05-27T06:08:12.430Z"
   },
   {
    "duration": 2,
    "start_time": "2023-05-27T06:09:55.950Z"
   },
   {
    "duration": 4,
    "start_time": "2023-05-27T06:11:37.294Z"
   },
   {
    "duration": 6,
    "start_time": "2023-05-27T06:12:00.378Z"
   },
   {
    "duration": 4,
    "start_time": "2023-05-27T06:12:08.970Z"
   },
   {
    "duration": 1370,
    "start_time": "2023-05-27T07:33:26.200Z"
   },
   {
    "duration": 10,
    "start_time": "2023-05-27T07:33:46.573Z"
   },
   {
    "duration": 5,
    "start_time": "2023-05-27T07:34:16.889Z"
   },
   {
    "duration": 13,
    "start_time": "2023-05-27T07:34:53.071Z"
   },
   {
    "duration": 4,
    "start_time": "2023-05-27T07:34:57.125Z"
   },
   {
    "duration": 4,
    "start_time": "2023-05-27T07:38:19.583Z"
   },
   {
    "duration": 2570,
    "start_time": "2023-05-27T07:44:22.767Z"
   },
   {
    "duration": 51,
    "start_time": "2023-05-27T07:53:16.183Z"
   },
   {
    "duration": 7878,
    "start_time": "2023-05-27T07:53:28.239Z"
   },
   {
    "duration": 48,
    "start_time": "2023-05-27T07:53:36.119Z"
   },
   {
    "duration": 3302,
    "start_time": "2023-05-27T07:53:36.170Z"
   },
   {
    "duration": 13,
    "start_time": "2023-05-27T07:53:39.474Z"
   },
   {
    "duration": 20,
    "start_time": "2023-05-27T07:53:39.490Z"
   },
   {
    "duration": 7179,
    "start_time": "2023-05-27T07:53:39.512Z"
   },
   {
    "duration": 221,
    "start_time": "2023-05-27T07:53:46.693Z"
   },
   {
    "duration": 14,
    "start_time": "2023-05-27T07:53:46.916Z"
   },
   {
    "duration": 4,
    "start_time": "2023-05-27T07:53:46.931Z"
   },
   {
    "duration": 8,
    "start_time": "2023-05-27T07:53:46.958Z"
   },
   {
    "duration": 10,
    "start_time": "2023-05-27T07:53:46.970Z"
   },
   {
    "duration": 139,
    "start_time": "2023-05-27T07:53:46.982Z"
   },
   {
    "duration": 3,
    "start_time": "2023-05-27T07:54:46.828Z"
   },
   {
    "duration": 15,
    "start_time": "2023-05-27T07:55:52.766Z"
   },
   {
    "duration": 1406,
    "start_time": "2023-05-27T07:56:05.075Z"
   },
   {
    "duration": 2,
    "start_time": "2023-05-27T08:00:12.700Z"
   },
   {
    "duration": 1431,
    "start_time": "2023-05-27T08:00:21.254Z"
   },
   {
    "duration": 6,
    "start_time": "2023-05-27T08:01:22.659Z"
   },
   {
    "duration": 5,
    "start_time": "2023-05-27T08:01:56.944Z"
   },
   {
    "duration": 3,
    "start_time": "2023-05-27T08:33:09.128Z"
   },
   {
    "duration": 13,
    "start_time": "2023-05-27T08:33:14.413Z"
   },
   {
    "duration": 15,
    "start_time": "2023-05-27T08:34:37.603Z"
   },
   {
    "duration": 17,
    "start_time": "2023-05-27T08:35:04.771Z"
   },
   {
    "duration": 2,
    "start_time": "2023-05-27T08:35:26.303Z"
   },
   {
    "duration": 8,
    "start_time": "2023-05-27T08:35:37.719Z"
   },
   {
    "duration": 16,
    "start_time": "2023-05-27T08:35:44.590Z"
   },
   {
    "duration": 3,
    "start_time": "2023-05-27T08:36:22.409Z"
   },
   {
    "duration": 10,
    "start_time": "2023-05-27T08:36:25.020Z"
   },
   {
    "duration": 21,
    "start_time": "2023-05-27T08:36:37.608Z"
   },
   {
    "duration": 3,
    "start_time": "2023-05-27T08:37:12.604Z"
   },
   {
    "duration": 10,
    "start_time": "2023-05-27T08:37:16.795Z"
   },
   {
    "duration": 16,
    "start_time": "2023-05-27T08:37:19.995Z"
   },
   {
    "duration": 16,
    "start_time": "2023-05-27T08:40:16.502Z"
   },
   {
    "duration": 6,
    "start_time": "2023-05-27T08:40:23.657Z"
   },
   {
    "duration": 59,
    "start_time": "2023-05-27T08:40:23.683Z"
   },
   {
    "duration": 1029,
    "start_time": "2023-05-27T08:40:23.744Z"
   },
   {
    "duration": 10,
    "start_time": "2023-05-27T08:40:24.786Z"
   },
   {
    "duration": 35,
    "start_time": "2023-05-27T08:40:24.799Z"
   },
   {
    "duration": 23,
    "start_time": "2023-05-27T08:40:24.836Z"
   },
   {
    "duration": 25,
    "start_time": "2023-05-27T08:40:24.862Z"
   },
   {
    "duration": 5,
    "start_time": "2023-05-27T08:40:24.894Z"
   },
   {
    "duration": 12,
    "start_time": "2023-05-27T08:40:24.901Z"
   },
   {
    "duration": 5,
    "start_time": "2023-05-27T08:40:24.915Z"
   },
   {
    "duration": 11,
    "start_time": "2023-05-27T08:40:24.923Z"
   },
   {
    "duration": 33,
    "start_time": "2023-05-27T08:40:24.936Z"
   },
   {
    "duration": 5,
    "start_time": "2023-05-27T08:40:24.972Z"
   },
   {
    "duration": 21,
    "start_time": "2023-05-27T08:40:24.983Z"
   },
   {
    "duration": 17,
    "start_time": "2023-05-27T08:40:25.006Z"
   },
   {
    "duration": 7,
    "start_time": "2023-05-27T08:42:51.713Z"
   },
   {
    "duration": 45,
    "start_time": "2023-05-27T08:44:32.042Z"
   },
   {
    "duration": 252,
    "start_time": "2023-05-27T08:46:24.054Z"
   },
   {
    "duration": 297,
    "start_time": "2023-05-27T08:46:51.321Z"
   },
   {
    "duration": 306,
    "start_time": "2023-05-27T08:47:12.894Z"
   },
   {
    "duration": 309,
    "start_time": "2023-05-27T08:47:22.652Z"
   },
   {
    "duration": 22,
    "start_time": "2023-05-27T08:47:49.202Z"
   },
   {
    "duration": 26,
    "start_time": "2023-05-27T08:48:01.602Z"
   },
   {
    "duration": 121,
    "start_time": "2023-05-27T08:48:17.178Z"
   },
   {
    "duration": 143,
    "start_time": "2023-05-27T08:48:25.955Z"
   },
   {
    "duration": 123,
    "start_time": "2023-05-27T08:48:37.402Z"
   },
   {
    "duration": 219,
    "start_time": "2023-05-27T08:50:21.445Z"
   },
   {
    "duration": 1359,
    "start_time": "2023-05-27T08:50:38.988Z"
   },
   {
    "duration": 212,
    "start_time": "2023-05-27T08:50:52.737Z"
   },
   {
    "duration": 436,
    "start_time": "2023-05-27T08:51:47.100Z"
   },
   {
    "duration": 271,
    "start_time": "2023-05-27T08:51:56.723Z"
   },
   {
    "duration": 298,
    "start_time": "2023-05-27T08:52:57.221Z"
   },
   {
    "duration": 319,
    "start_time": "2023-05-27T08:53:36.158Z"
   },
   {
    "duration": 320,
    "start_time": "2023-05-27T08:54:05.315Z"
   },
   {
    "duration": 380,
    "start_time": "2023-05-27T08:54:11.603Z"
   },
   {
    "duration": 308,
    "start_time": "2023-05-27T08:54:53.443Z"
   },
   {
    "duration": 128,
    "start_time": "2023-05-27T08:56:37.303Z"
   },
   {
    "duration": 272,
    "start_time": "2023-05-27T08:56:49.702Z"
   },
   {
    "duration": 309,
    "start_time": "2023-05-27T08:56:56.499Z"
   },
   {
    "duration": 402,
    "start_time": "2023-05-27T08:57:31.105Z"
   },
   {
    "duration": 402,
    "start_time": "2023-05-27T08:58:35.606Z"
   },
   {
    "duration": 709,
    "start_time": "2023-05-27T08:58:47.932Z"
   },
   {
    "duration": 25,
    "start_time": "2023-05-27T08:58:55.392Z"
   },
   {
    "duration": 428,
    "start_time": "2023-05-27T08:59:04.503Z"
   },
   {
    "duration": 1238,
    "start_time": "2023-05-27T09:01:03.986Z"
   },
   {
    "duration": 1262,
    "start_time": "2023-05-27T09:01:31.556Z"
   },
   {
    "duration": 1500,
    "start_time": "2023-05-27T09:02:17.612Z"
   },
   {
    "duration": 1172,
    "start_time": "2023-05-27T09:03:03.412Z"
   },
   {
    "duration": 1994,
    "start_time": "2023-05-27T09:03:25.753Z"
   },
   {
    "duration": 1219,
    "start_time": "2023-05-27T09:04:36.113Z"
   },
   {
    "duration": 1142,
    "start_time": "2023-05-27T09:05:42.592Z"
   },
   {
    "duration": 1806,
    "start_time": "2023-05-27T09:07:07.035Z"
   },
   {
    "duration": 50,
    "start_time": "2023-05-28T08:18:12.846Z"
   },
   {
    "duration": 8,
    "start_time": "2023-05-28T08:18:16.497Z"
   },
   {
    "duration": 406,
    "start_time": "2023-05-28T08:18:18.841Z"
   },
   {
    "duration": 17646,
    "start_time": "2023-05-28T08:18:27.410Z"
   },
   {
    "duration": 10,
    "start_time": "2023-05-28T08:19:52.846Z"
   },
   {
    "duration": 2509,
    "start_time": "2023-05-28T08:19:59.348Z"
   },
   {
    "duration": 3477,
    "start_time": "2023-05-28T08:20:07.093Z"
   },
   {
    "duration": 92987,
    "start_time": "2023-05-28T08:20:12.934Z"
   },
   {
    "duration": 21,
    "start_time": "2023-05-28T08:30:54.397Z"
   },
   {
    "duration": 34889,
    "start_time": "2023-05-28T08:31:09.284Z"
   },
   {
    "duration": 49,
    "start_time": "2023-05-28T08:59:12.709Z"
   },
   {
    "duration": 3396,
    "start_time": "2023-05-28T08:59:21.219Z"
   },
   {
    "duration": 4119,
    "start_time": "2023-05-28T08:59:26.598Z"
   },
   {
    "duration": 51,
    "start_time": "2023-05-28T09:06:12.012Z"
   },
   {
    "duration": 2813,
    "start_time": "2023-05-28T09:06:20.099Z"
   },
   {
    "duration": 3425,
    "start_time": "2023-05-28T09:06:22.915Z"
   },
   {
    "duration": 65,
    "start_time": "2023-05-28T09:06:26.342Z"
   },
   {
    "duration": 4226,
    "start_time": "2023-05-28T09:06:26.408Z"
   },
   {
    "duration": 13,
    "start_time": "2023-05-28T09:06:30.638Z"
   },
   {
    "duration": 8436,
    "start_time": "2023-05-28T09:06:30.654Z"
   },
   {
    "duration": 25,
    "start_time": "2023-05-28T09:06:39.093Z"
   },
   {
    "duration": 28,
    "start_time": "2023-05-28T09:06:39.121Z"
   },
   {
    "duration": 14,
    "start_time": "2023-05-28T09:06:39.151Z"
   },
   {
    "duration": 16,
    "start_time": "2023-05-28T09:06:39.166Z"
   },
   {
    "duration": 9,
    "start_time": "2023-05-28T09:06:39.185Z"
   },
   {
    "duration": 6,
    "start_time": "2023-05-28T09:06:39.196Z"
   },
   {
    "duration": 11,
    "start_time": "2023-05-28T09:06:39.207Z"
   },
   {
    "duration": 12,
    "start_time": "2023-05-28T09:06:39.220Z"
   },
   {
    "duration": 4,
    "start_time": "2023-05-28T09:06:39.234Z"
   },
   {
    "duration": 48,
    "start_time": "2023-05-28T09:06:39.240Z"
   },
   {
    "duration": 34,
    "start_time": "2023-05-28T09:06:39.293Z"
   },
   {
    "duration": 1221,
    "start_time": "2023-05-28T09:06:39.330Z"
   },
   {
    "duration": 1032,
    "start_time": "2023-05-28T09:06:40.552Z"
   },
   {
    "duration": 1218,
    "start_time": "2023-05-28T09:06:41.586Z"
   },
   {
    "duration": 1627,
    "start_time": "2023-05-28T09:07:21.996Z"
   },
   {
    "duration": 25,
    "start_time": "2023-05-28T09:16:09.205Z"
   },
   {
    "duration": 8,
    "start_time": "2023-05-28T09:16:40.196Z"
   },
   {
    "duration": 25,
    "start_time": "2023-05-28T09:17:02.040Z"
   },
   {
    "duration": 1852,
    "start_time": "2023-05-28T09:18:27.380Z"
   },
   {
    "duration": 2773,
    "start_time": "2023-05-28T09:18:44.553Z"
   },
   {
    "duration": 2260,
    "start_time": "2023-05-28T09:18:47.329Z"
   },
   {
    "duration": 38,
    "start_time": "2023-05-28T09:18:49.593Z"
   },
   {
    "duration": 828,
    "start_time": "2023-05-28T09:18:49.632Z"
   },
   {
    "duration": 22,
    "start_time": "2023-05-28T09:18:50.462Z"
   },
   {
    "duration": 2391,
    "start_time": "2023-05-28T09:18:50.490Z"
   },
   {
    "duration": 25,
    "start_time": "2023-05-28T09:18:52.883Z"
   },
   {
    "duration": 20,
    "start_time": "2023-05-28T09:18:52.910Z"
   },
   {
    "duration": 15,
    "start_time": "2023-05-28T09:18:52.932Z"
   },
   {
    "duration": 46,
    "start_time": "2023-05-28T09:18:52.949Z"
   },
   {
    "duration": 7,
    "start_time": "2023-05-28T09:18:52.999Z"
   },
   {
    "duration": 7,
    "start_time": "2023-05-28T09:18:53.008Z"
   },
   {
    "duration": 6,
    "start_time": "2023-05-28T09:18:53.017Z"
   },
   {
    "duration": 11,
    "start_time": "2023-05-28T09:18:53.027Z"
   },
   {
    "duration": 3,
    "start_time": "2023-05-28T09:18:53.040Z"
   },
   {
    "duration": 33,
    "start_time": "2023-05-28T09:18:53.045Z"
   },
   {
    "duration": 24,
    "start_time": "2023-05-28T09:18:53.079Z"
   },
   {
    "duration": 1111,
    "start_time": "2023-05-28T09:18:53.106Z"
   },
   {
    "duration": 1476,
    "start_time": "2023-05-28T09:18:54.220Z"
   },
   {
    "duration": 1142,
    "start_time": "2023-05-28T09:18:55.702Z"
   },
   {
    "duration": 0,
    "start_time": "2023-05-28T09:32:33.497Z"
   },
   {
    "duration": 0,
    "start_time": "2023-05-28T09:32:33.498Z"
   },
   {
    "duration": 0,
    "start_time": "2023-05-28T09:32:33.499Z"
   },
   {
    "duration": 0,
    "start_time": "2023-05-28T09:32:33.500Z"
   },
   {
    "duration": 0,
    "start_time": "2023-05-28T09:32:33.501Z"
   },
   {
    "duration": 0,
    "start_time": "2023-05-28T09:32:33.501Z"
   },
   {
    "duration": 0,
    "start_time": "2023-05-28T09:32:33.502Z"
   },
   {
    "duration": 0,
    "start_time": "2023-05-28T09:32:33.503Z"
   },
   {
    "duration": 0,
    "start_time": "2023-05-28T09:32:33.509Z"
   },
   {
    "duration": 0,
    "start_time": "2023-05-28T09:32:33.510Z"
   },
   {
    "duration": 0,
    "start_time": "2023-05-28T09:32:33.511Z"
   },
   {
    "duration": 0,
    "start_time": "2023-05-28T09:32:33.517Z"
   },
   {
    "duration": 0,
    "start_time": "2023-05-28T09:32:33.521Z"
   },
   {
    "duration": 0,
    "start_time": "2023-05-28T09:32:33.522Z"
   },
   {
    "duration": 0,
    "start_time": "2023-05-28T09:32:33.524Z"
   },
   {
    "duration": 0,
    "start_time": "2023-05-28T09:32:33.526Z"
   },
   {
    "duration": 0,
    "start_time": "2023-05-28T09:32:33.528Z"
   },
   {
    "duration": 0,
    "start_time": "2023-05-28T09:32:33.529Z"
   },
   {
    "duration": 0,
    "start_time": "2023-05-28T09:32:33.531Z"
   },
   {
    "duration": 0,
    "start_time": "2023-05-28T09:32:33.532Z"
   },
   {
    "duration": 3084,
    "start_time": "2023-05-28T09:33:13.471Z"
   },
   {
    "duration": 6,
    "start_time": "2023-05-28T09:33:16.559Z"
   },
   {
    "duration": 66,
    "start_time": "2023-05-28T09:33:16.567Z"
   },
   {
    "duration": 914,
    "start_time": "2023-05-28T09:33:16.635Z"
   },
   {
    "duration": 9,
    "start_time": "2023-05-28T09:33:17.551Z"
   },
   {
    "duration": 72,
    "start_time": "2023-05-28T09:33:17.561Z"
   },
   {
    "duration": 0,
    "start_time": "2023-05-28T09:33:17.635Z"
   },
   {
    "duration": 0,
    "start_time": "2023-05-28T09:33:17.636Z"
   },
   {
    "duration": 0,
    "start_time": "2023-05-28T09:33:17.637Z"
   },
   {
    "duration": 0,
    "start_time": "2023-05-28T09:33:17.638Z"
   },
   {
    "duration": 0,
    "start_time": "2023-05-28T09:33:17.639Z"
   },
   {
    "duration": 0,
    "start_time": "2023-05-28T09:33:17.641Z"
   },
   {
    "duration": 0,
    "start_time": "2023-05-28T09:33:17.643Z"
   },
   {
    "duration": 0,
    "start_time": "2023-05-28T09:33:17.644Z"
   },
   {
    "duration": 0,
    "start_time": "2023-05-28T09:33:17.645Z"
   },
   {
    "duration": 0,
    "start_time": "2023-05-28T09:33:17.647Z"
   },
   {
    "duration": 0,
    "start_time": "2023-05-28T09:33:17.647Z"
   },
   {
    "duration": 0,
    "start_time": "2023-05-28T09:33:17.649Z"
   },
   {
    "duration": 0,
    "start_time": "2023-05-28T09:33:17.649Z"
   },
   {
    "duration": 0,
    "start_time": "2023-05-28T09:33:17.650Z"
   },
   {
    "duration": 50,
    "start_time": "2023-05-28T09:34:41.898Z"
   },
   {
    "duration": 47,
    "start_time": "2023-05-28T09:34:50.390Z"
   },
   {
    "duration": 7096,
    "start_time": "2023-05-28T09:36:04.596Z"
   },
   {
    "duration": 258,
    "start_time": "2023-05-28T09:36:33.007Z"
   },
   {
    "duration": 463,
    "start_time": "2023-05-28T09:37:24.058Z"
   },
   {
    "duration": 3248,
    "start_time": "2023-05-28T09:38:09.713Z"
   },
   {
    "duration": 7,
    "start_time": "2023-05-28T09:38:12.964Z"
   },
   {
    "duration": 51,
    "start_time": "2023-05-28T09:38:21.791Z"
   },
   {
    "duration": 968,
    "start_time": "2023-05-28T09:38:21.844Z"
   },
   {
    "duration": 16,
    "start_time": "2023-05-28T09:38:22.816Z"
   },
   {
    "duration": 22,
    "start_time": "2023-05-28T09:38:22.835Z"
   },
   {
    "duration": 31,
    "start_time": "2023-05-28T09:38:22.860Z"
   },
   {
    "duration": 19,
    "start_time": "2023-05-28T09:38:22.907Z"
   },
   {
    "duration": 10,
    "start_time": "2023-05-28T09:38:22.928Z"
   },
   {
    "duration": 5,
    "start_time": "2023-05-28T09:38:22.941Z"
   },
   {
    "duration": 8,
    "start_time": "2023-05-28T09:38:22.948Z"
   },
   {
    "duration": 14,
    "start_time": "2023-05-28T09:38:22.958Z"
   },
   {
    "duration": 21,
    "start_time": "2023-05-28T09:38:22.975Z"
   },
   {
    "duration": 31,
    "start_time": "2023-05-28T09:38:22.998Z"
   },
   {
    "duration": 38,
    "start_time": "2023-05-28T09:38:23.032Z"
   },
   {
    "duration": 1237,
    "start_time": "2023-05-28T09:38:23.075Z"
   },
   {
    "duration": 1322,
    "start_time": "2023-05-28T09:38:24.313Z"
   },
   {
    "duration": 1330,
    "start_time": "2023-05-28T09:38:25.638Z"
   }
  ],
  "kernelspec": {
   "display_name": "Python 3 (ipykernel)",
   "language": "python",
   "name": "python3"
  },
  "language_info": {
   "codemirror_mode": {
    "name": "ipython",
    "version": 3
   },
   "file_extension": ".py",
   "mimetype": "text/x-python",
   "name": "python",
   "nbconvert_exporter": "python",
   "pygments_lexer": "ipython3",
   "version": "3.9.5"
  },
  "toc": {
   "base_numbering": 1,
   "nav_menu": {},
   "number_sections": true,
   "sideBar": true,
   "skip_h1_title": true,
   "title_cell": "Содержание",
   "title_sidebar": "Contents",
   "toc_cell": true,
   "toc_position": {
    "height": "calc(100% - 180px)",
    "left": "10px",
    "top": "150px",
    "width": "178.271px"
   },
   "toc_section_display": true,
   "toc_window_display": true
  }
 },
 "nbformat": 4,
 "nbformat_minor": 2
}
