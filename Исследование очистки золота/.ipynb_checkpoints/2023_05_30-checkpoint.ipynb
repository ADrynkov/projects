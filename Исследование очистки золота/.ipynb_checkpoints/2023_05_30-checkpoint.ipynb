{
 "cells": [
  {
   "cell_type": "markdown",
   "metadata": {
    "toc": true
   },
   "source": [
    "<h1>Содержание<span class=\"tocSkip\"></span></h1>\n",
    "<div class=\"toc\"><ul class=\"toc-item\"><li><span><a href=\"#Подготовка-данных\" data-toc-modified-id=\"Подготовка-данных-1\"><span class=\"toc-item-num\">1&nbsp;&nbsp;</span>Подготовка данных</a></span><ul class=\"toc-item\"><li><span><a href=\"#Импорт-библиотек.\" data-toc-modified-id=\"Импорт-библиотек.-1.1\"><span class=\"toc-item-num\">1.1&nbsp;&nbsp;</span>Импорт библиотек.</a></span></li><li><span><a href=\"#Чтение-и-изучение-данных.\" data-toc-modified-id=\"Чтение-и-изучение-данных.-1.2\"><span class=\"toc-item-num\">1.2&nbsp;&nbsp;</span>Чтение и изучение данных.</a></span></li><li><span><a href=\"#Предобработка-данных.\" data-toc-modified-id=\"Предобработка-данных.-1.3\"><span class=\"toc-item-num\">1.3&nbsp;&nbsp;</span>Предобработка данных.</a></span></li><li><span><a href=\"#Вывод.\" data-toc-modified-id=\"Вывод.-1.4\"><span class=\"toc-item-num\">1.4&nbsp;&nbsp;</span>Вывод.</a></span></li></ul></li><li><span><a href=\"#Анализ-данных\" data-toc-modified-id=\"Анализ-данных-2\"><span class=\"toc-item-num\">2&nbsp;&nbsp;</span>Анализ данных</a></span><ul class=\"toc-item\"><li><span><a href=\"#Изменение-количества-золота,-серебра-и-свинца-после-этапов-обработки.\" data-toc-modified-id=\"Изменение-количества-золота,-серебра-и-свинца-после-этапов-обработки.-2.1\"><span class=\"toc-item-num\">2.1&nbsp;&nbsp;</span>Изменение количества золота, серебра и свинца после этапов обработки.</a></span><ul class=\"toc-item\"><li><span><a href=\"#Изучим-как-меняется-количество-золота-в-руде-после-этапов-обработки.\" data-toc-modified-id=\"Изучим-как-меняется-количество-золота-в-руде-после-этапов-обработки.-2.1.1\"><span class=\"toc-item-num\">2.1.1&nbsp;&nbsp;</span>Изучим как меняется количество золота в руде после этапов обработки.</a></span></li><li><span><a href=\"#Изучим-как-меняется-количество-серебра-в-руде-после-этапов-обработки.\" data-toc-modified-id=\"Изучим-как-меняется-количество-серебра-в-руде-после-этапов-обработки.-2.1.2\"><span class=\"toc-item-num\">2.1.2&nbsp;&nbsp;</span>Изучим как меняется количество серебра в руде после этапов обработки.</a></span></li><li><span><a href=\"#Изучим-как-меняется-количество-свинца-в-руде-после-этапов-обработки.\" data-toc-modified-id=\"Изучим-как-меняется-количество-свинца-в-руде-после-этапов-обработки.-2.1.3\"><span class=\"toc-item-num\">2.1.3&nbsp;&nbsp;</span>Изучим как меняется количество свинца в руде после этапов обработки.</a></span></li></ul></li><li><span><a href=\"#Размеры-гранул-в-обучабщей-и-тестовой-выборке.\" data-toc-modified-id=\"Размеры-гранул-в-обучабщей-и-тестовой-выборке.-2.2\"><span class=\"toc-item-num\">2.2&nbsp;&nbsp;</span>Размеры гранул в обучабщей и тестовой выборке.</a></span></li><li><span><a href=\"#Суммарное-изменение-количества-металла-после-этапов.\" data-toc-modified-id=\"Суммарное-изменение-количества-металла-после-этапов.-2.3\"><span class=\"toc-item-num\">2.3&nbsp;&nbsp;</span>Суммарное изменение количества металла после этапов.</a></span></li><li><span><a href=\"#Выводы.\" data-toc-modified-id=\"Выводы.-2.4\"><span class=\"toc-item-num\">2.4&nbsp;&nbsp;</span>Выводы.</a></span></li></ul></li><li><span><a href=\"#Модель\" data-toc-modified-id=\"Модель-3\"><span class=\"toc-item-num\">3&nbsp;&nbsp;</span>Модель</a></span><ul class=\"toc-item\"><li><span><a href=\"#Вывод\" data-toc-modified-id=\"Вывод-3.1\"><span class=\"toc-item-num\">3.1&nbsp;&nbsp;</span>Вывод</a></span></li></ul></li><li><span><a href=\"#Чек-лист-готовности-проекта\" data-toc-modified-id=\"Чек-лист-готовности-проекта-4\"><span class=\"toc-item-num\">4&nbsp;&nbsp;</span>Чек-лист готовности проекта</a></span></li></ul></div>"
   ]
  },
  {
   "cell_type": "markdown",
   "metadata": {},
   "source": [
    "# Восстановление золота из руды"
   ]
  },
  {
   "cell_type": "markdown",
   "metadata": {},
   "source": [
    "Подготовьте прототип модели машинного обучения для «Цифры». Компания разрабатывает решения для эффективной работы промышленных предприятий.\n",
    "\n",
    "Модель должна предсказать коэффициент восстановления золота из золотосодержащей руды. Используйте данные с параметрами добычи и очистки. \n",
    "\n",
    "Модель поможет оптимизировать производство, чтобы не запускать предприятие с убыточными характеристиками.\n",
    "\n",
    "Вам нужно:\n",
    "\n",
    "1. Подготовить данные;\n",
    "2. Провести исследовательский анализ данных;\n",
    "3. Построить и обучить модель.\n",
    "\n",
    "Чтобы выполнить проект, обращайтесь к библиотекам *pandas*, *matplotlib* и *sklearn.* Вам поможет их документация."
   ]
  },
  {
   "cell_type": "markdown",
   "metadata": {},
   "source": [
    "## Подготовка данных"
   ]
  },
  {
   "cell_type": "markdown",
   "metadata": {},
   "source": [
    "### Импорт библиотек."
   ]
  },
  {
   "cell_type": "markdown",
   "metadata": {},
   "source": [
    "Установим необходимые для работы библиотеки."
   ]
  },
  {
   "cell_type": "code",
   "execution_count": 45,
   "metadata": {},
   "outputs": [
    {
     "name": "stdout",
     "output_type": "stream",
     "text": [
      "Collecting pandas-profiling\n",
      "  Downloading pandas_profiling-3.6.6-py2.py3-none-any.whl (324 kB)\n",
      "\u001b[K     |████████████████████████████████| 324 kB 1.2 MB/s eta 0:00:01\n",
      "\u001b[?25hCollecting ydata-profiling\n",
      "  Downloading ydata_profiling-4.2.0-py2.py3-none-any.whl (352 kB)\n",
      "\u001b[K     |████████████████████████████████| 352 kB 21.5 MB/s eta 0:00:01\n",
      "\u001b[?25hRequirement already satisfied: requests<3,>=2.24.0 in /opt/conda/lib/python3.9/site-packages (from ydata-profiling->pandas-profiling) (2.25.1)\n",
      "Requirement already satisfied: pydantic<2,>=1.8.1 in /opt/conda/lib/python3.9/site-packages (from ydata-profiling->pandas-profiling) (1.8.2)\n",
      "Collecting typeguard<3,>=2.13.2\n",
      "  Downloading typeguard-2.13.3-py3-none-any.whl (17 kB)\n",
      "Collecting dacite>=1.8\n",
      "  Downloading dacite-1.8.1-py3-none-any.whl (14 kB)\n",
      "Collecting htmlmin==0.1.12\n",
      "  Downloading htmlmin-0.1.12.tar.gz (19 kB)\n",
      "Collecting phik<0.13,>=0.11.1\n",
      "  Downloading phik-0.12.3-cp39-cp39-manylinux_2_17_x86_64.manylinux2014_x86_64.whl (679 kB)\n",
      "\u001b[K     |████████████████████████████████| 679 kB 56.3 MB/s eta 0:00:01\n",
      "\u001b[?25hCollecting multimethod<2,>=1.4\n",
      "  Downloading multimethod-1.9.1-py3-none-any.whl (10 kB)\n",
      "Requirement already satisfied: pandas!=1.4.0,<2,>1.1 in /opt/conda/lib/python3.9/site-packages (from ydata-profiling->pandas-profiling) (1.2.4)\n",
      "Requirement already satisfied: PyYAML<6.1,>=5.0.0 in /opt/conda/lib/python3.9/site-packages (from ydata-profiling->pandas-profiling) (6.0)\n",
      "Requirement already satisfied: jinja2<3.2,>=2.11.1 in /opt/conda/lib/python3.9/site-packages (from ydata-profiling->pandas-profiling) (3.0.1)\n",
      "Requirement already satisfied: matplotlib<4,>=3.2 in /opt/conda/lib/python3.9/site-packages (from ydata-profiling->pandas-profiling) (3.3.4)\n",
      "Requirement already satisfied: seaborn<0.13,>=0.10.1 in /opt/conda/lib/python3.9/site-packages (from ydata-profiling->pandas-profiling) (0.11.1)\n",
      "Collecting wordcloud>=1.9.1\n",
      "  Downloading wordcloud-1.9.2-cp39-cp39-manylinux_2_17_x86_64.manylinux2014_x86_64.whl (460 kB)\n",
      "\u001b[K     |████████████████████████████████| 460 kB 92.3 MB/s eta 0:00:01\n",
      "\u001b[?25hRequirement already satisfied: scipy<1.11,>=1.4.1 in /opt/conda/lib/python3.9/site-packages (from ydata-profiling->pandas-profiling) (1.9.1)\n",
      "Requirement already satisfied: numpy<1.24,>=1.16.0 in /opt/conda/lib/python3.9/site-packages (from ydata-profiling->pandas-profiling) (1.21.1)\n",
      "Collecting imagehash==4.3.1\n",
      "  Downloading ImageHash-4.3.1-py2.py3-none-any.whl (296 kB)\n",
      "\u001b[K     |████████████████████████████████| 296 kB 67.5 MB/s eta 0:00:01\n",
      "\u001b[?25hCollecting visions[type_image_path]==0.7.5\n",
      "  Downloading visions-0.7.5-py3-none-any.whl (102 kB)\n",
      "\u001b[K     |████████████████████████████████| 102 kB 76.8 MB/s eta 0:00:01\n",
      "\u001b[?25hRequirement already satisfied: tqdm<5,>=4.48.2 in /opt/conda/lib/python3.9/site-packages (from ydata-profiling->pandas-profiling) (4.61.2)\n",
      "Requirement already satisfied: statsmodels<1,>=0.13.2 in /opt/conda/lib/python3.9/site-packages (from ydata-profiling->pandas-profiling) (0.13.2)\n",
      "Requirement already satisfied: pillow in /opt/conda/lib/python3.9/site-packages (from imagehash==4.3.1->ydata-profiling->pandas-profiling) (8.4.0)\n",
      "Collecting PyWavelets\n",
      "  Downloading PyWavelets-1.4.1-cp39-cp39-manylinux_2_17_x86_64.manylinux2014_x86_64.whl (6.9 MB)\n",
      "\u001b[K     |████████████████████████████████| 6.9 MB 82.8 MB/s eta 0:00:01\n",
      "\u001b[?25hCollecting networkx>=2.4\n",
      "  Downloading networkx-3.1-py3-none-any.whl (2.1 MB)\n",
      "\u001b[K     |████████████████████████████████| 2.1 MB 70.8 MB/s eta 0:00:01\n",
      "\u001b[?25hCollecting tangled-up-in-unicode>=0.0.4\n",
      "  Downloading tangled_up_in_unicode-0.2.0-py3-none-any.whl (4.7 MB)\n",
      "\u001b[K     |████████████████████████████████| 4.7 MB 70.7 MB/s eta 0:00:01\n",
      "\u001b[?25hRequirement already satisfied: attrs>=19.3.0 in /opt/conda/lib/python3.9/site-packages (from visions[type_image_path]==0.7.5->ydata-profiling->pandas-profiling) (21.2.0)\n",
      "Requirement already satisfied: MarkupSafe>=2.0 in /opt/conda/lib/python3.9/site-packages (from jinja2<3.2,>=2.11.1->ydata-profiling->pandas-profiling) (2.1.1)\n",
      "Requirement already satisfied: python-dateutil>=2.1 in /opt/conda/lib/python3.9/site-packages (from matplotlib<4,>=3.2->ydata-profiling->pandas-profiling) (2.8.1)\n",
      "Requirement already satisfied: cycler>=0.10 in /opt/conda/lib/python3.9/site-packages (from matplotlib<4,>=3.2->ydata-profiling->pandas-profiling) (0.11.0)\n",
      "Requirement already satisfied: kiwisolver>=1.0.1 in /opt/conda/lib/python3.9/site-packages (from matplotlib<4,>=3.2->ydata-profiling->pandas-profiling) (1.4.4)\n",
      "Requirement already satisfied: pyparsing!=2.0.4,!=2.1.2,!=2.1.6,>=2.0.3 in /opt/conda/lib/python3.9/site-packages (from matplotlib<4,>=3.2->ydata-profiling->pandas-profiling) (2.4.7)\n",
      "Requirement already satisfied: pytz>=2017.3 in /opt/conda/lib/python3.9/site-packages (from pandas!=1.4.0,<2,>1.1->ydata-profiling->pandas-profiling) (2021.1)\n",
      "Requirement already satisfied: joblib>=0.14.1 in /opt/conda/lib/python3.9/site-packages (from phik<0.13,>=0.11.1->ydata-profiling->pandas-profiling) (1.1.0)\n",
      "Requirement already satisfied: typing-extensions>=3.7.4.3 in /opt/conda/lib/python3.9/site-packages (from pydantic<2,>=1.8.1->ydata-profiling->pandas-profiling) (4.3.0)\n",
      "Requirement already satisfied: six>=1.5 in /opt/conda/lib/python3.9/site-packages (from python-dateutil>=2.1->matplotlib<4,>=3.2->ydata-profiling->pandas-profiling) (1.16.0)\n",
      "Requirement already satisfied: chardet<5,>=3.0.2 in /opt/conda/lib/python3.9/site-packages (from requests<3,>=2.24.0->ydata-profiling->pandas-profiling) (4.0.0)\n",
      "Requirement already satisfied: certifi>=2017.4.17 in /opt/conda/lib/python3.9/site-packages (from requests<3,>=2.24.0->ydata-profiling->pandas-profiling) (2022.6.15)\n",
      "Requirement already satisfied: idna<3,>=2.5 in /opt/conda/lib/python3.9/site-packages (from requests<3,>=2.24.0->ydata-profiling->pandas-profiling) (2.10)\n",
      "Requirement already satisfied: urllib3<1.27,>=1.21.1 in /opt/conda/lib/python3.9/site-packages (from requests<3,>=2.24.0->ydata-profiling->pandas-profiling) (1.26.6)\n",
      "Requirement already satisfied: packaging>=21.3 in /opt/conda/lib/python3.9/site-packages (from statsmodels<1,>=0.13.2->ydata-profiling->pandas-profiling) (21.3)\n",
      "Requirement already satisfied: patsy>=0.5.2 in /opt/conda/lib/python3.9/site-packages (from statsmodels<1,>=0.13.2->ydata-profiling->pandas-profiling) (0.5.2)\n",
      "Building wheels for collected packages: htmlmin\n",
      "  Building wheel for htmlmin (setup.py) ... \u001b[?25ldone\n",
      "\u001b[?25h  Created wheel for htmlmin: filename=htmlmin-0.1.12-py3-none-any.whl size=27085 sha256=2dfc175116815654416a496e17518b0b955c7ed52380e6d69a1b1e3afa871102\n",
      "  Stored in directory: /home/jovyan/.cache/pip/wheels/1d/05/04/c6d7d3b66539d9e659ac6dfe81e2d0fd4c1a8316cc5a403300\n",
      "Successfully built htmlmin\n",
      "Installing collected packages: tangled-up-in-unicode, PyWavelets, networkx, multimethod, visions, imagehash, wordcloud, typeguard, phik, htmlmin, dacite, ydata-profiling, pandas-profiling\n",
      "Successfully installed PyWavelets-1.4.1 dacite-1.8.1 htmlmin-0.1.12 imagehash-4.3.1 multimethod-1.9.1 networkx-3.1 pandas-profiling-3.6.6 phik-0.12.3 tangled-up-in-unicode-0.2.0 typeguard-2.13.3 visions-0.7.5 wordcloud-1.9.2 ydata-profiling-4.2.0\n",
      "Note: you may need to restart the kernel to use updated packages.\n"
     ]
    }
   ],
   "source": [
    "pip install pandas-profiling"
   ]
  },
  {
   "cell_type": "markdown",
   "metadata": {},
   "source": [
    "Импортируем необходимые для работы библиотеки."
   ]
  },
  {
   "cell_type": "code",
   "execution_count": 47,
   "metadata": {},
   "outputs": [],
   "source": [
    "import pandas as pd\n",
    "from ydata_profiling import ProfileReport\n",
    "from sklearn.linear_model import LinearRegression\n",
    "from sklearn.tree import DecisionTreeRegressor\n",
    "from sklearn.ensemble import RandomForestRegressor\n",
    "from sklearn.model_selection import train_test_split\n",
    "from sklearn.metrics import mean_squared_error\n",
    "from sklearn.preprocessing import StandardScaler\n",
    "from sklearn.model_selection import RandomizedSearchCV\n",
    "from sklearn.metrics import confusion_matrix\n",
    "import matplotlib.pyplot as plt\n",
    "import numpy as np\n",
    "from scipy.stats import t\n",
    "from IPython.core.display import display, HTML\n",
    "from sklearn.metrics import mean_absolute_error\n",
    "from sklearn.pipeline import Pipeline\n",
    "import seaborn as sns\n",
    "from sklearn.model_selection import cross_val_score\n",
    "from sklearn.impute import SimpleImputer\n",
    "from sklearn.preprocessing import MinMaxScaler\n",
    "from sklearn.model_selection import GridSearchCV\n",
    "import scipy\n",
    "import statsmodels.api as sm\n",
    "from sklearn.metrics import make_scorer"
   ]
  },
  {
   "cell_type": "code",
   "execution_count": 2,
   "metadata": {},
   "outputs": [
    {
     "data": {
      "text/html": [
       "<style>.container { width:90% !important; }</style>"
      ],
      "text/plain": [
       "<IPython.core.display.HTML object>"
      ]
     },
     "metadata": {},
     "output_type": "display_data"
    }
   ],
   "source": [
    "display(HTML(\"<style>.container { width:90% !important; }</style>\"))"
   ]
  },
  {
   "cell_type": "markdown",
   "metadata": {},
   "source": [
    "### Чтение и изучение данных."
   ]
  },
  {
   "cell_type": "markdown",
   "metadata": {},
   "source": [
    "Загрузим исходные данные и запишем их в переменные."
   ]
  },
  {
   "cell_type": "code",
   "execution_count": 3,
   "metadata": {},
   "outputs": [],
   "source": [
    "df_train = pd.read_csv('/datasets/gold_industry_train.csv', index_col='date')\n",
    "df_test= pd.read_csv('/datasets/gold_industry_test.csv', index_col='date')\n",
    "df_full = pd.read_csv('/datasets/gold_industry_full.csv', index_col='date')"
   ]
  },
  {
   "cell_type": "markdown",
   "metadata": {},
   "source": [
    "Определим необходимые контстанты."
   ]
  },
  {
   "cell_type": "code",
   "execution_count": 4,
   "metadata": {},
   "outputs": [],
   "source": [
    "f_rougher = df_train['rougher.input.feed_au']\n",
    "c_rougher = df_train['rougher.output.concentrate_au']\n",
    "t_rougher = df_train['rougher.output.tail_au']\n",
    "\n",
    "f_final = df_train['rougher.input.feed_au']\n",
    "c_final = df_train['final.output.concentrate_au']\n",
    "t_final = df_train['final.output.tail_au']\n",
    "#данные для проверки recovery\n",
    "\n",
    "recovery_rougher = (c_rougher * (f_rougher - t_rougher)) / (f_rougher * (c_rougher - t_rougher)) * 100\n",
    "#формула для проверки recovery_rougher\n",
    "\n",
    "recovery_final = (c_final * (f_final - t_final)) / (f_final * (c_final - t_final)) * 100\n",
    "#формула для проверки recovery_final"
   ]
  },
  {
   "cell_type": "code",
   "execution_count": null,
   "metadata": {},
   "outputs": [
    {
     "data": {
      "application/vnd.jupyter.widget-view+json": {
       "model_id": "9953630ebe8d4023b2e6965a6e14a94f",
       "version_major": 2,
       "version_minor": 0
      },
      "text/plain": [
       "Summarize dataset:   0%|          | 0/5 [00:00<?, ?it/s]"
      ]
     },
     "metadata": {},
     "output_type": "display_data"
    },
    {
     "data": {
      "application/vnd.jupyter.widget-view+json": {
       "model_id": "78e2e5382f704d1a9f6c7fecea7642bc",
       "version_major": 2,
       "version_minor": 0
      },
      "text/plain": [
       "Generate report structure:   0%|          | 0/1 [00:00<?, ?it/s]"
      ]
     },
     "metadata": {},
     "output_type": "display_data"
    }
   ],
   "source": [
    "ProfileReport(df_train, minimal=True)"
   ]
  },
  {
   "cell_type": "code",
   "execution_count": null,
   "metadata": {},
   "outputs": [],
   "source": [
    "ProfileReport(df_test, minimal=True)"
   ]
  },
  {
   "cell_type": "code",
   "execution_count": null,
   "metadata": {},
   "outputs": [],
   "source": [
    "ProfileReport(df_full, minimal=True)"
   ]
  },
  {
   "cell_type": "markdown",
   "metadata": {},
   "source": [
    "Удостоверимся, что данные в целевых столбцах посчитаны верно."
   ]
  },
  {
   "cell_type": "code",
   "execution_count": 5,
   "metadata": {},
   "outputs": [
    {
     "name": "stdout",
     "output_type": "stream",
     "text": [
      "Эффективность обогащения посчитана правильно\n"
     ]
    }
   ],
   "source": [
    "if recovery_rougher.sum() == df_train['rougher.output.recovery'].sum():\n",
    "    print('Эффективность обогащения посчитана правильно')\n",
    "else:\n",
    "    print('Эффективность обогащения посчитана не правильно')"
   ]
  },
  {
   "cell_type": "code",
   "execution_count": 6,
   "metadata": {},
   "outputs": [
    {
     "data": {
      "text/plain": [
       "9.83758577644259e-15"
      ]
     },
     "execution_count": 6,
     "metadata": {},
     "output_type": "execute_result"
    }
   ],
   "source": [
    "mean_absolute_error(recovery_rougher, df_train['rougher.output.recovery'])"
   ]
  },
  {
   "cell_type": "code",
   "execution_count": 7,
   "metadata": {},
   "outputs": [
    {
     "name": "stdout",
     "output_type": "stream",
     "text": [
      "Эффективность обогащения посчитана правильно\n"
     ]
    }
   ],
   "source": [
    "if recovery_final.sum() == df_train['final.output.recovery'].sum():\n",
    "    print('Эффективность обогащения посчитана правильно')\n",
    "else:\n",
    "    print('Эффективность обогащения посчитана не правильно')"
   ]
  },
  {
   "cell_type": "code",
   "execution_count": 8,
   "metadata": {
    "scrolled": true
   },
   "outputs": [
    {
     "data": {
      "text/plain": [
       "8.569602032360358e-15"
      ]
     },
     "execution_count": 8,
     "metadata": {},
     "output_type": "execute_result"
    }
   ],
   "source": [
    "mean_absolute_error(recovery_final, df_train['final.output.recovery'])"
   ]
  },
  {
   "cell_type": "markdown",
   "metadata": {},
   "source": [
    "Эффективности обогощения посчитаны верно. Разница составляет очень незначительную величину."
   ]
  },
  {
   "cell_type": "markdown",
   "metadata": {},
   "source": [
    "Как мы видим из отчетов, данные имеют пропуски, аномалии и выбросы. Так же тестовая и обучабщие датафреймы различаются по количеству столбцов. Для дальнейшей работы необходимо произвести предобработку данных. В том числе:\n",
    "- Удалить строки с нулевыми значениями.\n",
    "- Заменить пропуски в данных на те, которые находятся в предыдущих записях (так как данные несильно различаются)."
   ]
  },
  {
   "cell_type": "markdown",
   "metadata": {},
   "source": [
    "### Предобработка данных."
   ]
  },
  {
   "cell_type": "markdown",
   "metadata": {},
   "source": [
    "Заполним пропуски."
   ]
  },
  {
   "cell_type": "code",
   "execution_count": 9,
   "metadata": {},
   "outputs": [],
   "source": [
    "df_train = df_train.fillna(method='ffill')\n",
    "df_test = df_test.fillna(method='ffill')\n",
    "df_full = df_full.fillna(method='ffill')\n",
    "#заполним пропуски по предыдущему значению"
   ]
  },
  {
   "cell_type": "markdown",
   "metadata": {},
   "source": [
    "Удалим из обучающего датафрейма нулевые значения."
   ]
  },
  {
   "cell_type": "code",
   "execution_count": 10,
   "metadata": {},
   "outputs": [],
   "source": [
    "for i in df_train.columns:\n",
    "    df_train = df_train[df_train[i] != 0]"
   ]
  },
  {
   "cell_type": "code",
   "execution_count": 11,
   "metadata": {
    "scrolled": true
   },
   "outputs": [
    {
     "name": "stdout",
     "output_type": "stream",
     "text": [
      "<class 'pandas.core.frame.DataFrame'>\n",
      "Index: 13107 entries, 2016-01-15 00:00:00 to 2017-12-09 07:59:59\n",
      "Data columns (total 86 columns):\n",
      " #   Column                                              Non-Null Count  Dtype  \n",
      "---  ------                                              --------------  -----  \n",
      " 0   rougher.input.feed_au                               13107 non-null  float64\n",
      " 1   rougher.input.feed_ag                               13107 non-null  float64\n",
      " 2   rougher.input.feed_pb                               13107 non-null  float64\n",
      " 3   rougher.input.feed_sol                              13107 non-null  float64\n",
      " 4   rougher.input.feed_rate                             13107 non-null  float64\n",
      " 5   rougher.input.feed_size                             13107 non-null  float64\n",
      " 6   rougher.input.floatbank10_sulfate                   13107 non-null  float64\n",
      " 7   rougher.input.floatbank10_xanthate                  13107 non-null  float64\n",
      " 8   rougher.state.floatbank10_a_air                     13107 non-null  float64\n",
      " 9   rougher.state.floatbank10_a_level                   13107 non-null  float64\n",
      " 10  rougher.state.floatbank10_b_air                     13107 non-null  float64\n",
      " 11  rougher.state.floatbank10_b_level                   13107 non-null  float64\n",
      " 12  rougher.state.floatbank10_c_air                     13107 non-null  float64\n",
      " 13  rougher.state.floatbank10_c_level                   13107 non-null  float64\n",
      " 14  rougher.state.floatbank10_d_air                     13107 non-null  float64\n",
      " 15  rougher.state.floatbank10_d_level                   13107 non-null  float64\n",
      " 16  rougher.state.floatbank10_e_air                     13107 non-null  float64\n",
      " 17  rougher.state.floatbank10_e_level                   13107 non-null  float64\n",
      " 18  rougher.state.floatbank10_f_air                     13107 non-null  float64\n",
      " 19  rougher.state.floatbank10_f_level                   13107 non-null  float64\n",
      " 20  rougher.input.floatbank11_sulfate                   13107 non-null  float64\n",
      " 21  rougher.input.floatbank11_xanthate                  13107 non-null  float64\n",
      " 22  rougher.calculation.sulfate_to_au_concentrate       13107 non-null  float64\n",
      " 23  rougher.calculation.floatbank10_sulfate_to_au_feed  13107 non-null  float64\n",
      " 24  rougher.calculation.floatbank11_sulfate_to_au_feed  13107 non-null  float64\n",
      " 25  rougher.calculation.au_pb_ratio                     13107 non-null  float64\n",
      " 26  rougher.output.concentrate_au                       13107 non-null  float64\n",
      " 27  rougher.output.concentrate_ag                       13107 non-null  float64\n",
      " 28  rougher.output.concentrate_pb                       13107 non-null  float64\n",
      " 29  rougher.output.concentrate_sol                      13107 non-null  float64\n",
      " 30  rougher.output.recovery                             13107 non-null  float64\n",
      " 31  rougher.output.tail_au                              13107 non-null  float64\n",
      " 32  rougher.output.tail_ag                              13107 non-null  float64\n",
      " 33  rougher.output.tail_pb                              13107 non-null  float64\n",
      " 34  rougher.output.tail_sol                             13107 non-null  float64\n",
      " 35  primary_cleaner.input.sulfate                       13107 non-null  float64\n",
      " 36  primary_cleaner.input.depressant                    13107 non-null  float64\n",
      " 37  primary_cleaner.input.feed_size                     13107 non-null  float64\n",
      " 38  primary_cleaner.input.xanthate                      13107 non-null  float64\n",
      " 39  primary_cleaner.state.floatbank8_a_air              13107 non-null  float64\n",
      " 40  primary_cleaner.state.floatbank8_a_level            13107 non-null  float64\n",
      " 41  primary_cleaner.state.floatbank8_b_air              13107 non-null  float64\n",
      " 42  primary_cleaner.state.floatbank8_b_level            13107 non-null  float64\n",
      " 43  primary_cleaner.state.floatbank8_c_air              13107 non-null  float64\n",
      " 44  primary_cleaner.state.floatbank8_c_level            13107 non-null  float64\n",
      " 45  primary_cleaner.state.floatbank8_d_air              13107 non-null  float64\n",
      " 46  primary_cleaner.state.floatbank8_d_level            13107 non-null  float64\n",
      " 47  primary_cleaner.output.concentrate_au               13107 non-null  float64\n",
      " 48  primary_cleaner.output.concentrate_ag               13107 non-null  float64\n",
      " 49  primary_cleaner.output.concentrate_pb               13107 non-null  float64\n",
      " 50  primary_cleaner.output.concentrate_sol              13107 non-null  float64\n",
      " 51  primary_cleaner.output.tail_au                      13107 non-null  float64\n",
      " 52  primary_cleaner.output.tail_ag                      13107 non-null  float64\n",
      " 53  primary_cleaner.output.tail_pb                      13107 non-null  float64\n",
      " 54  primary_cleaner.output.tail_sol                     13107 non-null  float64\n",
      " 55  secondary_cleaner.state.floatbank2_a_air            13107 non-null  float64\n",
      " 56  secondary_cleaner.state.floatbank2_a_level          13107 non-null  float64\n",
      " 57  secondary_cleaner.state.floatbank2_b_air            13107 non-null  float64\n",
      " 58  secondary_cleaner.state.floatbank2_b_level          13107 non-null  float64\n",
      " 59  secondary_cleaner.state.floatbank3_a_air            13107 non-null  float64\n",
      " 60  secondary_cleaner.state.floatbank3_a_level          13107 non-null  float64\n",
      " 61  secondary_cleaner.state.floatbank3_b_air            13107 non-null  float64\n",
      " 62  secondary_cleaner.state.floatbank3_b_level          13107 non-null  float64\n",
      " 63  secondary_cleaner.state.floatbank4_a_air            13107 non-null  float64\n",
      " 64  secondary_cleaner.state.floatbank4_a_level          13107 non-null  float64\n",
      " 65  secondary_cleaner.state.floatbank4_b_air            13107 non-null  float64\n",
      " 66  secondary_cleaner.state.floatbank4_b_level          13107 non-null  float64\n",
      " 67  secondary_cleaner.state.floatbank5_a_air            13107 non-null  float64\n",
      " 68  secondary_cleaner.state.floatbank5_a_level          13107 non-null  float64\n",
      " 69  secondary_cleaner.state.floatbank5_b_air            13107 non-null  float64\n",
      " 70  secondary_cleaner.state.floatbank5_b_level          13107 non-null  float64\n",
      " 71  secondary_cleaner.state.floatbank6_a_air            13107 non-null  float64\n",
      " 72  secondary_cleaner.state.floatbank6_a_level          13107 non-null  float64\n",
      " 73  secondary_cleaner.output.tail_au                    13107 non-null  float64\n",
      " 74  secondary_cleaner.output.tail_ag                    13107 non-null  float64\n",
      " 75  secondary_cleaner.output.tail_pb                    13107 non-null  float64\n",
      " 76  secondary_cleaner.output.tail_sol                   13107 non-null  float64\n",
      " 77  final.output.concentrate_au                         13107 non-null  float64\n",
      " 78  final.output.concentrate_ag                         13107 non-null  float64\n",
      " 79  final.output.concentrate_pb                         13107 non-null  float64\n",
      " 80  final.output.concentrate_sol                        13107 non-null  float64\n",
      " 81  final.output.recovery                               13107 non-null  float64\n",
      " 82  final.output.tail_au                                13107 non-null  float64\n",
      " 83  final.output.tail_ag                                13107 non-null  float64\n",
      " 84  final.output.tail_pb                                13107 non-null  float64\n",
      " 85  final.output.tail_sol                               13107 non-null  float64\n",
      "dtypes: float64(86)\n",
      "memory usage: 8.7+ MB\n"
     ]
    }
   ],
   "source": [
    "df_train.info()\n",
    "#проверим, что пропусков нет"
   ]
  },
  {
   "cell_type": "markdown",
   "metadata": {},
   "source": [
    "### Вывод."
   ]
  },
  {
   "cell_type": "markdown",
   "metadata": {},
   "source": [
    "Данные были записаны, изучены и была проведена предобработка данных. Предобработка включала в себя:\n",
    "- Удаление строк с нулевыми значениями.\n",
    "- Замена пропусков в данных на те, которые находятся в предыдущих записях (так как данные несильно различаются).\n"
   ]
  },
  {
   "cell_type": "markdown",
   "metadata": {},
   "source": [
    "## Анализ данных"
   ]
  },
  {
   "cell_type": "markdown",
   "metadata": {},
   "source": [
    "### Изменение количества золота, серебра и свинца после этапов обработки."
   ]
  },
  {
   "cell_type": "markdown",
   "metadata": {},
   "source": [
    "#### Изучим как меняется количество золота в руде после этапов обработки."
   ]
  },
  {
   "cell_type": "code",
   "execution_count": 13,
   "metadata": {},
   "outputs": [
    {
     "data": {
      "image/png": "[encoded data removed]",
      "text/plain": [
       "<Figure size 864x648 with 1 Axes>"
      ]
     },
     "metadata": {
      "needs_background": "light"
     },
     "output_type": "display_data"
    }
   ],
   "source": [
    "fig, ax = plt.subplots(figsize=(12,9))\n",
    "\n",
    "df_train['rougher.input.feed_au'].plot.hist(ax=ax, alpha=0.5, bins=100, label='концетрация золота в сырье')\n",
    "df_train['rougher.output.concentrate_au'].plot.hist(ax=ax, alpha=0.5, bins=100, label='концентрация золота после черновой очистки')\n",
    "df_train['primary_cleaner.output.concentrate_au'].plot.hist(ax=ax, alpha=0.5, bins=100, label = 'концентрация золота после тонкой очистки')\n",
    "df_train['final.output.concentrate_au'].plot.hist(ax=ax, alpha=0.5, bins=100, label='концентрация золота в финальном концентрате')\n",
    " \n",
    "plt.legend()\n",
    "ax.set_title('Изменение концентрации золота')\n",
    "ax.set_xlabel('Количество', color='gray')\n",
    "ax.set_ylabel('Частота', color='gray')\n",
    "plt.show()"
   ]
  },
  {
   "cell_type": "markdown",
   "metadata": {},
   "source": [
    "Как видим из графика, с каждым этапом обработки количество золота возрастает."
   ]
  },
  {
   "cell_type": "markdown",
   "metadata": {},
   "source": [
    "#### Изучим как меняется количество серебра в руде после этапов обработки."
   ]
  },
  {
   "cell_type": "code",
   "execution_count": 14,
   "metadata": {
    "scrolled": false
   },
   "outputs": [
    {
     "data": {
      "image/png": "[encoded data removed]",
      "text/plain": [
       "<Figure size 864x648 with 1 Axes>"
      ]
     },
     "metadata": {
      "needs_background": "light"
     },
     "output_type": "display_data"
    }
   ],
   "source": [
    "fig, ax = plt.subplots(figsize=(12,9))\n",
    "\n",
    "df_train['rougher.input.feed_ag'].plot.hist(ax=ax, alpha=0.5, bins=100, label='концетрация серебра в сырье')\n",
    "df_train['rougher.output.concentrate_ag'].plot.hist(ax=ax, alpha=0.5, bins=100, label='концентрация серебра после черновой очистки')\n",
    "df_train['primary_cleaner.output.concentrate_ag'].plot.hist(ax=ax, alpha=0.5, bins=100, label = 'концентрация серебра после тонкой очистки')\n",
    "df_train['final.output.concentrate_ag'].plot.hist(ax=ax, alpha=0.5, bins=100, label='концентрация серебра в финальном концентрате')\n",
    " \n",
    "plt.legend()\n",
    "ax.set_title('Изменение концентрации серебра')\n",
    "ax.set_xlabel('Количество', color='gray')\n",
    "ax.set_ylabel('Частота', color='gray')\n",
    "plt.show()"
   ]
  },
  {
   "cell_type": "markdown",
   "metadata": {},
   "source": [
    "Как видим из графика, количество серебра в руде сначала повышается, а затем падает. Минимальное количество серебра остается после финального этапа."
   ]
  },
  {
   "cell_type": "markdown",
   "metadata": {},
   "source": [
    "#### Изучим как меняется количество свинца в руде после этапов обработки."
   ]
  },
  {
   "cell_type": "code",
   "execution_count": 15,
   "metadata": {},
   "outputs": [
    {
     "data": {
      "image/png": "[encoded data removed]",
      "text/plain": [
       "<Figure size 864x648 with 1 Axes>"
      ]
     },
     "metadata": {
      "needs_background": "light"
     },
     "output_type": "display_data"
    }
   ],
   "source": [
    "fig, ax = plt.subplots(figsize=(12,9))\n",
    "#зададим параметры для графика fig - фигура и ax - оси\n",
    "\n",
    "df_train['rougher.input.feed_pb'].plot.hist(ax=ax, alpha=0.5, bins=100, label='концетрация свинца в сырье')\n",
    "df_train['rougher.output.concentrate_pb'].plot.hist(ax=ax, alpha=0.5, bins=100, label='концентрация свинца после черновой очистки')\n",
    "df_train['primary_cleaner.output.concentrate_pb'].plot.hist(ax=ax, alpha=0.5, bins=100, label = 'концентрация свинца после тонкой очистки')\n",
    "df_train['final.output.concentrate_pb'].plot.hist(ax=ax, alpha=0.5, bins=100, label='концентрация свинца в финальном концентрате')\n",
    "#нарисуем графики\n",
    " \n",
    "plt.legend()\n",
    "ax.set_title('Изменение концентрации свинца')\n",
    "ax.set_xlabel('Количество', color='gray')\n",
    "ax.set_ylabel('Частота', color='gray')\n",
    "#добавим подписи и легенду\n",
    "\n",
    "plt.show()"
   ]
  },
  {
   "cell_type": "markdown",
   "metadata": {},
   "source": [
    "Как виим из графиков, количество свинца повышается после этапов обработки. Перед после второй очистки практически не изменяется."
   ]
  },
  {
   "cell_type": "markdown",
   "metadata": {},
   "source": [
    "### Размеры гранул в обучабщей и тестовой выборке."
   ]
  },
  {
   "cell_type": "markdown",
   "metadata": {},
   "source": [
    "Посмотрим отличаются ли размеры гранул в обучабщей выборке и тестовой."
   ]
  },
  {
   "cell_type": "code",
   "execution_count": 16,
   "metadata": {},
   "outputs": [
    {
     "data": {
      "image/png": "[encoded data removed]",
      "text/plain": [
       "<Figure size 864x648 with 1 Axes>"
      ]
     },
     "metadata": {
      "needs_background": "light"
     },
     "output_type": "display_data"
    }
   ],
   "source": [
    "fig, ax = plt.subplots(figsize=(12,9))\n",
    "#зададим параметры для графика fig - фигура и ax - оси\n",
    "\n",
    "df_train['rougher.input.feed_size'].plot.hist(ax=ax, alpha=0.5, bins=100, label='размер гранул в исходном сырье(обучающая выборка)', density=True)\n",
    "df_test['rougher.input.feed_size'].plot.hist(ax=ax, alpha=0.5, bins=100, label='размер гранул в исходном вырье(тестовая выборка)', density=True)\n",
    "#нарисуем графики\n",
    " \n",
    "plt.legend()\n",
    "ax.set_title('Размеры гранул в сырье')\n",
    "ax.set_xlabel('Плотность', color='gray')\n",
    "ax.set_ylabel('Частота', color='gray')\n",
    "#добавим подписи и легенду\n",
    "\n",
    "plt.show()"
   ]
  },
  {
   "cell_type": "markdown",
   "metadata": {},
   "source": [
    "Проведем тест Манни-Уитни на схожесть выборок."
   ]
  },
  {
   "cell_type": "markdown",
   "metadata": {},
   "source": [
    "Определим гипотезы: \n",
    "- H0 - выборки не различаются.\n",
    "- H1 - выборки различаются."
   ]
  },
  {
   "cell_type": "code",
   "execution_count": 17,
   "metadata": {},
   "outputs": [
    {
     "name": "stdout",
     "output_type": "stream",
     "text": [
      "stat=33764460.000, p=0.000\n",
      "Есть достаточно оснований, чтобы отклонить H0, приманимаем H1.\n"
     ]
    }
   ],
   "source": [
    "stat, p = scipy.stats.mannwhitneyu(df_test['rougher.input.feed_size'], df_train['rougher.input.feed_size'])\n",
    "#проведем тест и запишем значеие p-value и статистики\n",
    "\n",
    "print(f'stat={stat:.3f}, p={p:.3f}')\n",
    "#выведем на экран\n",
    "\n",
    "if p > 0.5:\n",
    "    print('Нет досточных оснований, чтобы отклонить H0')\n",
    "else:\n",
    "    print('Есть достаточно оснований, чтобы отклонить H0, приманимаем H1.')\n",
    "#по математической значимости в 5% посмотрим можем ли мы откинуть нулевую гипотезу"
   ]
  },
  {
   "cell_type": "markdown",
   "metadata": {},
   "source": [
    "По графику видно, что выборки очень похоже рапределены, но тест Манни-Уитни говорит о том, что выборки не одинаковые."
   ]
  },
  {
   "cell_type": "markdown",
   "metadata": {},
   "source": [
    "### Суммарное изменение количества металла после этапов."
   ]
  },
  {
   "cell_type": "code",
   "execution_count": 18,
   "metadata": {},
   "outputs": [
    {
     "data": {
      "image/png": "[encoded data removed]",
      "text/plain": [
       "<Figure size 864x648 with 1 Axes>"
      ]
     },
     "metadata": {
      "needs_background": "light"
     },
     "output_type": "display_data"
    }
   ],
   "source": [
    "sum_of_metal_input = df_train['rougher.input.feed_au'] + df_train['rougher.input.feed_ag'] + df_train['rougher.input.feed_pb']\n",
    "sum_of_metal_rougher = df_train['rougher.output.concentrate_au'] + df_train['rougher.output.concentrate_ag'] + df_train['rougher.output.concentrate_pb']\n",
    "sum_of_metal_primary_cleaner = df_train['primary_cleaner.output.concentrate_au'] + df_train['primary_cleaner.output.concentrate_ag'] + df_train['primary_cleaner.output.concentrate_pb']\n",
    "sum_of_metal_final_output = df_train['final.output.concentrate_au'] + df_train['final.output.concentrate_ag'] + df_train['final.output.concentrate_pb']\n",
    "#посчитаем суммарный объем металлов на каждом из этапов\n",
    "\n",
    "fig, ax = plt.subplots(figsize=(12,9))\n",
    "#зададим параметры для графика fig - фигура и ax - оси\n",
    "\n",
    "sum_of_metal_input.plot.hist(ax=ax, alpha=0.5, bins=100, label='содержание металлов в сырье')\n",
    "sum_of_metal_rougher.plot.hist(ax=ax, alpha=0.5, bins=100, label='содержание металлов после флотации')\n",
    "sum_of_metal_primary_cleaner.plot.hist(ax=ax, alpha=0.5, bins=100, label='содержание металлов после 1-ой очистки')\n",
    "sum_of_metal_final_output .plot.hist(ax=ax, alpha=0.5, bins=100, label='содержание металлов в финальной выдаче')\n",
    "#нарисуем графики\n",
    " \n",
    "plt.legend()\n",
    "ax.set_title('Суммарное содержание металлов на разных этапов процесса')\n",
    "ax.set_xlabel('Количество', color='gray')\n",
    "ax.set_ylabel('Частота', color='gray')\n",
    "#добавим подписи и легенду\n",
    "\n",
    "plt.show()"
   ]
  },
  {
   "cell_type": "markdown",
   "metadata": {},
   "source": [
    "Из графика видно, что суммарное количество металлов растет после каждого этапа обработки."
   ]
  },
  {
   "cell_type": "markdown",
   "metadata": {},
   "source": [
    "### Выводы."
   ]
  },
  {
   "cell_type": "markdown",
   "metadata": {},
   "source": [
    "Проведя исследования было установлено, что количество металлов в руде, ожидаемо, увеличивается после каждого этапа обработки. если смотреть по отдельности, то можно заметить, что количество серебра увеличивается, а других металлов уменьшается. Интересно ведет себя серебро. Вначале количество серебра увеличивается, а затем так же уменьшается. \\\n",
    "Из исследования гранул в исходном сырье в тестовой и обучающей выборке было определено, что хоть данные и выглядят очень похоже, тест Манни-Уитни показывает, что распределения отличаются."
   ]
  },
  {
   "cell_type": "markdown",
   "metadata": {},
   "source": [
    "## Модель"
   ]
  },
  {
   "cell_type": "markdown",
   "metadata": {},
   "source": [
    "Построим модель предсказания. Для этого требуется дообработать данные."
   ]
  },
  {
   "cell_type": "markdown",
   "metadata": {},
   "source": [
    "Разделим признаки на целевой и остальные."
   ]
  },
  {
   "cell_type": "code",
   "execution_count": 19,
   "metadata": {},
   "outputs": [],
   "source": [
    "df_train_rougher_target = df_train['rougher.output.recovery']\n",
    "df_train_final_target = df_train['final.output.recovery']\n",
    "#запишем целевые признаки для rougher и final в отдельные переменные\n",
    "\n",
    "df_test_rougher_target = pd.Series(df_full['rougher.output.recovery'], index=df_test.index)\n",
    "df_test_final_target = pd.Series(df_full['final.output.recovery'], index=df_test.index)\n",
    "#так как у нас нет целевого значения в датафрейме test, возьмем целевые признаки из датафрейма full и запишем их в переменную"
   ]
  },
  {
   "cell_type": "markdown",
   "metadata": {},
   "source": [
    "Удалим лишние столбцы из обучающего датафрейма."
   ]
  },
  {
   "cell_type": "code",
   "execution_count": 34,
   "metadata": {},
   "outputs": [],
   "source": [
    "columns_to_delete = set(df_train.columns) - set(df_test.columns)\n",
    "#определим столбцы для удаления\n",
    "\n",
    "df_train_features = df_train.drop(columns_to_delete, axis=1)\n",
    "#удалим выбранные столбцы"
   ]
  },
  {
   "cell_type": "markdown",
   "metadata": {},
   "source": [
    "Напишем функцию для вывода коэффициента sMAPE."
   ]
  },
  {
   "cell_type": "code",
   "execution_count": 22,
   "metadata": {},
   "outputs": [],
   "source": [
    "def smape_score(target, predictions):\n",
    "    #создадим функцию для подсчета sMAPE\n",
    "    \n",
    "    sum_for_smape = 0\n",
    "    \n",
    "    for i in range (len(target)):    \n",
    "        sum_for_smape += np.abs(target[i] - predictions[i]) / ((np.abs(target[i]) + np.abs(predictions[i])) / 2)\n",
    "        #посчитаем сумму для формулы\n",
    "        \n",
    "    return (1/len(target)) * sum_for_smape * 100\n",
    "    #вернем значение sMAPE согласно формулы"
   ]
  },
  {
   "cell_type": "markdown",
   "metadata": {},
   "source": [
    "Сделаем счетчик из функции `sMAPE_score`."
   ]
  },
  {
   "cell_type": "code",
   "execution_count": 29,
   "metadata": {},
   "outputs": [],
   "source": [
    "smape_scorer = make_scorer(smape_score, greater_is_better=False)"
   ]
  },
  {
   "cell_type": "markdown",
   "metadata": {},
   "source": [
    "Выберем лучшую модель для этапа Rougher."
   ]
  },
  {
   "cell_type": "code",
   "execution_count": 31,
   "metadata": {},
   "outputs": [
    {
     "name": "stdout",
     "output_type": "stream",
     "text": [
      "Fitting 5 folds for each of 61 candidates, totalling 305 fits\n",
      "[CV] END .......................regressor=LinearRegression(); total time=   0.3s\n",
      "[CV] END .......................regressor=LinearRegression(); total time=   0.2s\n",
      "[CV] END .......................regressor=LinearRegression(); total time=   0.4s\n",
      "[CV] END .......................regressor=LinearRegression(); total time=   0.4s\n",
      "[CV] END .......................regressor=LinearRegression(); total time=   0.3s\n",
      "[CV] END regressor=RandomForestRegressor(random_state=12345), regressor__max_depth=3, regressor__max_features=log2, regressor__n_estimators=100; total time=   1.2s\n",
      "[CV] END regressor=RandomForestRegressor(random_state=12345), regressor__max_depth=3, regressor__max_features=log2, regressor__n_estimators=100; total time=   1.0s\n",
      "[CV] END regressor=RandomForestRegressor(random_state=12345), regressor__max_depth=3, regressor__max_features=log2, regressor__n_estimators=100; total time=   1.0s\n",
      "[CV] END regressor=RandomForestRegressor(random_state=12345), regressor__max_depth=3, regressor__max_features=log2, regressor__n_estimators=100; total time=   1.1s\n",
      "[CV] END regressor=RandomForestRegressor(random_state=12345), regressor__max_depth=3, regressor__max_features=log2, regressor__n_estimators=100; total time=   1.1s\n",
      "[CV] END regressor=RandomForestRegressor(random_state=12345), regressor__max_depth=3, regressor__max_features=log2, regressor__n_estimators=300; total time=   3.2s\n",
      "[CV] END regressor=RandomForestRegressor(random_state=12345), regressor__max_depth=3, regressor__max_features=log2, regressor__n_estimators=300; total time=   3.1s\n",
      "[CV] END regressor=RandomForestRegressor(random_state=12345), regressor__max_depth=3, regressor__max_features=log2, regressor__n_estimators=300; total time=   3.0s\n",
      "[CV] END regressor=RandomForestRegressor(random_state=12345), regressor__max_depth=3, regressor__max_features=log2, regressor__n_estimators=300; total time=   3.1s\n",
      "[CV] END regressor=RandomForestRegressor(random_state=12345), regressor__max_depth=3, regressor__max_features=log2, regressor__n_estimators=300; total time=   3.2s\n",
      "[CV] END regressor=RandomForestRegressor(random_state=12345), regressor__max_depth=3, regressor__max_features=log2, regressor__n_estimators=500; total time=   5.2s\n",
      "[CV] END regressor=RandomForestRegressor(random_state=12345), regressor__max_depth=3, regressor__max_features=log2, regressor__n_estimators=500; total time=   5.1s\n",
      "[CV] END regressor=RandomForestRegressor(random_state=12345), regressor__max_depth=3, regressor__max_features=log2, regressor__n_estimators=500; total time=   5.1s\n",
      "[CV] END regressor=RandomForestRegressor(random_state=12345), regressor__max_depth=3, regressor__max_features=log2, regressor__n_estimators=500; total time=   5.1s\n",
      "[CV] END regressor=RandomForestRegressor(random_state=12345), regressor__max_depth=3, regressor__max_features=log2, regressor__n_estimators=500; total time=   5.1s\n",
      "[CV] END regressor=RandomForestRegressor(random_state=12345), regressor__max_depth=3, regressor__max_features=log2, regressor__n_estimators=1000; total time=  10.5s\n",
      "[CV] END regressor=RandomForestRegressor(random_state=12345), regressor__max_depth=3, regressor__max_features=log2, regressor__n_estimators=1000; total time=  10.1s\n",
      "[CV] END regressor=RandomForestRegressor(random_state=12345), regressor__max_depth=3, regressor__max_features=log2, regressor__n_estimators=1000; total time=  10.2s\n",
      "[CV] END regressor=RandomForestRegressor(random_state=12345), regressor__max_depth=3, regressor__max_features=log2, regressor__n_estimators=1000; total time=  10.1s\n",
      "[CV] END regressor=RandomForestRegressor(random_state=12345), regressor__max_depth=3, regressor__max_features=log2, regressor__n_estimators=1000; total time=  10.1s\n",
      "[CV] END regressor=RandomForestRegressor(random_state=12345), regressor__max_depth=3, regressor__max_features=sqrt, regressor__n_estimators=100; total time=   1.5s\n",
      "[CV] END regressor=RandomForestRegressor(random_state=12345), regressor__max_depth=3, regressor__max_features=sqrt, regressor__n_estimators=100; total time=   1.4s\n",
      "[CV] END regressor=RandomForestRegressor(random_state=12345), regressor__max_depth=3, regressor__max_features=sqrt, regressor__n_estimators=100; total time=   1.4s\n",
      "[CV] END regressor=RandomForestRegressor(random_state=12345), regressor__max_depth=3, regressor__max_features=sqrt, regressor__n_estimators=100; total time=   1.3s\n",
      "[CV] END regressor=RandomForestRegressor(random_state=12345), regressor__max_depth=3, regressor__max_features=sqrt, regressor__n_estimators=100; total time=   1.4s\n",
      "[CV] END regressor=RandomForestRegressor(random_state=12345), regressor__max_depth=3, regressor__max_features=sqrt, regressor__n_estimators=300; total time=   4.1s\n",
      "[CV] END regressor=RandomForestRegressor(random_state=12345), regressor__max_depth=3, regressor__max_features=sqrt, regressor__n_estimators=300; total time=   4.1s\n",
      "[CV] END regressor=RandomForestRegressor(random_state=12345), regressor__max_depth=3, regressor__max_features=sqrt, regressor__n_estimators=300; total time=   4.2s\n",
      "[CV] END regressor=RandomForestRegressor(random_state=12345), regressor__max_depth=3, regressor__max_features=sqrt, regressor__n_estimators=300; total time=   4.1s\n",
      "[CV] END regressor=RandomForestRegressor(random_state=12345), regressor__max_depth=3, regressor__max_features=sqrt, regressor__n_estimators=300; total time=   4.1s\n",
      "[CV] END regressor=RandomForestRegressor(random_state=12345), regressor__max_depth=3, regressor__max_features=sqrt, regressor__n_estimators=500; total time=   6.9s\n",
      "[CV] END regressor=RandomForestRegressor(random_state=12345), regressor__max_depth=3, regressor__max_features=sqrt, regressor__n_estimators=500; total time=   6.7s\n",
      "[CV] END regressor=RandomForestRegressor(random_state=12345), regressor__max_depth=3, regressor__max_features=sqrt, regressor__n_estimators=500; total time=   6.8s\n",
      "[CV] END regressor=RandomForestRegressor(random_state=12345), regressor__max_depth=3, regressor__max_features=sqrt, regressor__n_estimators=500; total time=   7.1s\n",
      "[CV] END regressor=RandomForestRegressor(random_state=12345), regressor__max_depth=3, regressor__max_features=sqrt, regressor__n_estimators=500; total time=   7.2s\n",
      "[CV] END regressor=RandomForestRegressor(random_state=12345), regressor__max_depth=3, regressor__max_features=sqrt, regressor__n_estimators=1000; total time=  14.1s\n",
      "[CV] END regressor=RandomForestRegressor(random_state=12345), regressor__max_depth=3, regressor__max_features=sqrt, regressor__n_estimators=1000; total time=  13.7s\n",
      "[CV] END regressor=RandomForestRegressor(random_state=12345), regressor__max_depth=3, regressor__max_features=sqrt, regressor__n_estimators=1000; total time=  13.6s\n",
      "[CV] END regressor=RandomForestRegressor(random_state=12345), regressor__max_depth=3, regressor__max_features=sqrt, regressor__n_estimators=1000; total time=  13.7s\n",
      "[CV] END regressor=RandomForestRegressor(random_state=12345), regressor__max_depth=3, regressor__max_features=sqrt, regressor__n_estimators=1000; total time=  13.9s\n",
      "[CV] END regressor=RandomForestRegressor(random_state=12345), regressor__max_depth=3, regressor__max_features=auto, regressor__n_estimators=100; total time=   9.1s\n",
      "[CV] END regressor=RandomForestRegressor(random_state=12345), regressor__max_depth=3, regressor__max_features=auto, regressor__n_estimators=100; total time=   8.9s\n",
      "[CV] END regressor=RandomForestRegressor(random_state=12345), regressor__max_depth=3, regressor__max_features=auto, regressor__n_estimators=100; total time=   8.9s\n",
      "[CV] END regressor=RandomForestRegressor(random_state=12345), regressor__max_depth=3, regressor__max_features=auto, regressor__n_estimators=100; total time=   8.9s\n",
      "[CV] END regressor=RandomForestRegressor(random_state=12345), regressor__max_depth=3, regressor__max_features=auto, regressor__n_estimators=100; total time=   8.9s\n",
      "[CV] END regressor=RandomForestRegressor(random_state=12345), regressor__max_depth=3, regressor__max_features=auto, regressor__n_estimators=300; total time=  27.4s\n",
      "[CV] END regressor=RandomForestRegressor(random_state=12345), regressor__max_depth=3, regressor__max_features=auto, regressor__n_estimators=300; total time=  27.6s\n",
      "[CV] END regressor=RandomForestRegressor(random_state=12345), regressor__max_depth=3, regressor__max_features=auto, regressor__n_estimators=300; total time=  27.8s\n",
      "[CV] END regressor=RandomForestRegressor(random_state=12345), regressor__max_depth=3, regressor__max_features=auto, regressor__n_estimators=300; total time=  27.7s\n",
      "[CV] END regressor=RandomForestRegressor(random_state=12345), regressor__max_depth=3, regressor__max_features=auto, regressor__n_estimators=500; total time=  45.6s\n",
      "[CV] END regressor=RandomForestRegressor(random_state=12345), regressor__max_depth=3, regressor__max_features=auto, regressor__n_estimators=500; total time=  45.8s\n",
      "[CV] END regressor=RandomForestRegressor(random_state=12345), regressor__max_depth=3, regressor__max_features=auto, regressor__n_estimators=500; total time=  45.1s\n",
      "[CV] END regressor=RandomForestRegressor(random_state=12345), regressor__max_depth=3, regressor__max_features=auto, regressor__n_estimators=500; total time=  45.7s\n",
      "[CV] END regressor=RandomForestRegressor(random_state=12345), regressor__max_depth=3, regressor__max_features=auto, regressor__n_estimators=500; total time=  45.5s\n",
      "[CV] END regressor=RandomForestRegressor(random_state=12345), regressor__max_depth=3, regressor__max_features=auto, regressor__n_estimators=1000; total time= 1.5min\n",
      "[CV] END regressor=RandomForestRegressor(random_state=12345), regressor__max_depth=3, regressor__max_features=auto, regressor__n_estimators=1000; total time= 1.5min\n",
      "[CV] END regressor=RandomForestRegressor(random_state=12345), regressor__max_depth=3, regressor__max_features=auto, regressor__n_estimators=1000; total time= 1.5min\n",
      "[CV] END regressor=RandomForestRegressor(random_state=12345), regressor__max_depth=3, regressor__max_features=auto, regressor__n_estimators=1000; total time= 1.5min\n",
      "[CV] END regressor=RandomForestRegressor(random_state=12345), regressor__max_depth=3, regressor__max_features=auto, regressor__n_estimators=1000; total time= 1.5min\n",
      "[CV] END regressor=RandomForestRegressor(random_state=12345), regressor__max_depth=5, regressor__max_features=log2, regressor__n_estimators=100; total time=   1.6s\n",
      "[CV] END regressor=RandomForestRegressor(random_state=12345), regressor__max_depth=5, regressor__max_features=log2, regressor__n_estimators=100; total time=   1.5s\n",
      "[CV] END regressor=RandomForestRegressor(random_state=12345), regressor__max_depth=5, regressor__max_features=log2, regressor__n_estimators=100; total time=   1.5s\n",
      "[CV] END regressor=RandomForestRegressor(random_state=12345), regressor__max_depth=5, regressor__max_features=log2, regressor__n_estimators=100; total time=   1.5s\n",
      "[CV] END regressor=RandomForestRegressor(random_state=12345), regressor__max_depth=5, regressor__max_features=log2, regressor__n_estimators=100; total time=   1.5s\n",
      "[CV] END regressor=RandomForestRegressor(random_state=12345), regressor__max_depth=5, regressor__max_features=log2, regressor__n_estimators=300; total time=   4.6s\n",
      "[CV] END regressor=RandomForestRegressor(random_state=12345), regressor__max_depth=5, regressor__max_features=log2, regressor__n_estimators=300; total time=   4.5s\n",
      "[CV] END regressor=RandomForestRegressor(random_state=12345), regressor__max_depth=5, regressor__max_features=log2, regressor__n_estimators=300; total time=   4.6s\n",
      "[CV] END regressor=RandomForestRegressor(random_state=12345), regressor__max_depth=5, regressor__max_features=log2, regressor__n_estimators=300; total time=   4.6s\n",
      "[CV] END regressor=RandomForestRegressor(random_state=12345), regressor__max_depth=5, regressor__max_features=log2, regressor__n_estimators=300; total time=   4.7s\n",
      "[CV] END regressor=RandomForestRegressor(random_state=12345), regressor__max_depth=5, regressor__max_features=log2, regressor__n_estimators=500; total time=   7.7s\n",
      "[CV] END regressor=RandomForestRegressor(random_state=12345), regressor__max_depth=5, regressor__max_features=log2, regressor__n_estimators=500; total time=   7.7s\n",
      "[CV] END regressor=RandomForestRegressor(random_state=12345), regressor__max_depth=5, regressor__max_features=log2, regressor__n_estimators=500; total time=   7.7s\n",
      "[CV] END regressor=RandomForestRegressor(random_state=12345), regressor__max_depth=5, regressor__max_features=log2, regressor__n_estimators=500; total time=   7.8s\n",
      "[CV] END regressor=RandomForestRegressor(random_state=12345), regressor__max_depth=5, regressor__max_features=log2, regressor__n_estimators=500; total time=   7.6s\n",
      "[CV] END regressor=RandomForestRegressor(random_state=12345), regressor__max_depth=5, regressor__max_features=log2, regressor__n_estimators=1000; total time=  15.1s\n",
      "[CV] END regressor=RandomForestRegressor(random_state=12345), regressor__max_depth=5, regressor__max_features=log2, regressor__n_estimators=1000; total time=  15.3s\n",
      "[CV] END regressor=RandomForestRegressor(random_state=12345), regressor__max_depth=5, regressor__max_features=log2, regressor__n_estimators=1000; total time=  15.2s\n",
      "[CV] END regressor=RandomForestRegressor(random_state=12345), regressor__max_depth=5, regressor__max_features=log2, regressor__n_estimators=1000; total time=  15.0s\n",
      "[CV] END regressor=RandomForestRegressor(random_state=12345), regressor__max_depth=5, regressor__max_features=log2, regressor__n_estimators=1000; total time=  15.6s\n",
      "[CV] END regressor=RandomForestRegressor(random_state=12345), regressor__max_depth=5, regressor__max_features=sqrt, regressor__n_estimators=100; total time=   2.1s\n",
      "[CV] END regressor=RandomForestRegressor(random_state=12345), regressor__max_depth=5, regressor__max_features=sqrt, regressor__n_estimators=100; total time=   2.2s\n",
      "[CV] END regressor=RandomForestRegressor(random_state=12345), regressor__max_depth=5, regressor__max_features=sqrt, regressor__n_estimators=100; total time=   2.2s\n",
      "[CV] END regressor=RandomForestRegressor(random_state=12345), regressor__max_depth=5, regressor__max_features=sqrt, regressor__n_estimators=100; total time=   2.1s\n",
      "[CV] END regressor=RandomForestRegressor(random_state=12345), regressor__max_depth=5, regressor__max_features=sqrt, regressor__n_estimators=100; total time=   2.1s\n",
      "[CV] END regressor=RandomForestRegressor(random_state=12345), regressor__max_depth=5, regressor__max_features=sqrt, regressor__n_estimators=300; total time=   6.4s\n",
      "[CV] END regressor=RandomForestRegressor(random_state=12345), regressor__max_depth=5, regressor__max_features=sqrt, regressor__n_estimators=300; total time=   6.5s\n",
      "[CV] END regressor=RandomForestRegressor(random_state=12345), regressor__max_depth=5, regressor__max_features=sqrt, regressor__n_estimators=300; total time=   6.3s\n",
      "[CV] END regressor=RandomForestRegressor(random_state=12345), regressor__max_depth=5, regressor__max_features=sqrt, regressor__n_estimators=300; total time=   6.3s\n",
      "[CV] END regressor=RandomForestRegressor(random_state=12345), regressor__max_depth=5, regressor__max_features=sqrt, regressor__n_estimators=300; total time=   6.2s\n",
      "[CV] END regressor=RandomForestRegressor(random_state=12345), regressor__max_depth=5, regressor__max_features=sqrt, regressor__n_estimators=500; total time=  10.8s\n",
      "[CV] END regressor=RandomForestRegressor(random_state=12345), regressor__max_depth=5, regressor__max_features=sqrt, regressor__n_estimators=500; total time=  10.5s\n",
      "[CV] END regressor=RandomForestRegressor(random_state=12345), regressor__max_depth=5, regressor__max_features=sqrt, regressor__n_estimators=500; total time=  10.5s\n",
      "[CV] END regressor=RandomForestRegressor(random_state=12345), regressor__max_depth=5, regressor__max_features=sqrt, regressor__n_estimators=500; total time=  10.8s\n",
      "[CV] END regressor=RandomForestRegressor(random_state=12345), regressor__max_depth=5, regressor__max_features=sqrt, regressor__n_estimators=500; total time=  10.8s\n",
      "[CV] END regressor=RandomForestRegressor(random_state=12345), regressor__max_depth=5, regressor__max_features=sqrt, regressor__n_estimators=1000; total time=  21.6s\n",
      "[CV] END regressor=RandomForestRegressor(random_state=12345), regressor__max_depth=5, regressor__max_features=sqrt, regressor__n_estimators=1000; total time=  21.4s\n",
      "[CV] END regressor=RandomForestRegressor(random_state=12345), regressor__max_depth=5, regressor__max_features=sqrt, regressor__n_estimators=1000; total time=  21.0s\n",
      "[CV] END regressor=RandomForestRegressor(random_state=12345), regressor__max_depth=5, regressor__max_features=sqrt, regressor__n_estimators=1000; total time=  21.3s\n",
      "[CV] END regressor=RandomForestRegressor(random_state=12345), regressor__max_depth=5, regressor__max_features=sqrt, regressor__n_estimators=1000; total time=  21.7s\n",
      "[CV] END regressor=RandomForestRegressor(random_state=12345), regressor__max_depth=5, regressor__max_features=auto, regressor__n_estimators=100; total time=  14.5s\n",
      "[CV] END regressor=RandomForestRegressor(random_state=12345), regressor__max_depth=5, regressor__max_features=auto, regressor__n_estimators=100; total time=  14.3s\n",
      "[CV] END regressor=RandomForestRegressor(random_state=12345), regressor__max_depth=5, regressor__max_features=auto, regressor__n_estimators=100; total time=  14.6s\n",
      "[CV] END regressor=RandomForestRegressor(random_state=12345), regressor__max_depth=5, regressor__max_features=auto, regressor__n_estimators=100; total time=  14.5s\n",
      "[CV] END regressor=RandomForestRegressor(random_state=12345), regressor__max_depth=5, regressor__max_features=auto, regressor__n_estimators=100; total time=  14.8s\n",
      "[CV] END regressor=RandomForestRegressor(random_state=12345), regressor__max_depth=5, regressor__max_features=auto, regressor__n_estimators=300; total time=  44.1s\n",
      "[CV] END regressor=RandomForestRegressor(random_state=12345), regressor__max_depth=5, regressor__max_features=auto, regressor__n_estimators=300; total time=  43.0s\n",
      "[CV] END regressor=RandomForestRegressor(random_state=12345), regressor__max_depth=5, regressor__max_features=auto, regressor__n_estimators=300; total time=  43.4s\n",
      "[CV] END regressor=RandomForestRegressor(random_state=12345), regressor__max_depth=5, regressor__max_features=auto, regressor__n_estimators=300; total time=  42.9s\n",
      "[CV] END regressor=RandomForestRegressor(random_state=12345), regressor__max_depth=5, regressor__max_features=auto, regressor__n_estimators=300; total time=  43.1s\n",
      "[CV] END regressor=RandomForestRegressor(random_state=12345), regressor__max_depth=5, regressor__max_features=auto, regressor__n_estimators=500; total time= 1.2min\n",
      "[CV] END regressor=RandomForestRegressor(random_state=12345), regressor__max_depth=5, regressor__max_features=auto, regressor__n_estimators=500; total time= 1.2min\n",
      "[CV] END regressor=RandomForestRegressor(random_state=12345), regressor__max_depth=5, regressor__max_features=auto, regressor__n_estimators=500; total time= 1.2min\n",
      "[CV] END regressor=RandomForestRegressor(random_state=12345), regressor__max_depth=5, regressor__max_features=auto, regressor__n_estimators=500; total time= 1.2min\n",
      "[CV] END regressor=RandomForestRegressor(random_state=12345), regressor__max_depth=5, regressor__max_features=auto, regressor__n_estimators=500; total time= 1.2min\n",
      "[CV] END regressor=RandomForestRegressor(random_state=12345), regressor__max_depth=5, regressor__max_features=auto, regressor__n_estimators=1000; total time= 2.5min\n",
      "[CV] END regressor=RandomForestRegressor(random_state=12345), regressor__max_depth=5, regressor__max_features=auto, regressor__n_estimators=1000; total time= 2.4min\n",
      "[CV] END regressor=RandomForestRegressor(random_state=12345), regressor__max_depth=5, regressor__max_features=auto, regressor__n_estimators=1000; total time= 2.4min\n",
      "[CV] END regressor=RandomForestRegressor(random_state=12345), regressor__max_depth=5, regressor__max_features=auto, regressor__n_estimators=1000; total time= 2.3min\n",
      "[CV] END regressor=RandomForestRegressor(random_state=12345), regressor__max_depth=5, regressor__max_features=auto, regressor__n_estimators=1000; total time= 2.3min\n",
      "[CV] END regressor=RandomForestRegressor(random_state=12345), regressor__max_depth=8, regressor__max_features=log2, regressor__n_estimators=100; total time=   2.3s\n",
      "[CV] END regressor=RandomForestRegressor(random_state=12345), regressor__max_depth=8, regressor__max_features=log2, regressor__n_estimators=100; total time=   2.4s\n",
      "[CV] END regressor=RandomForestRegressor(random_state=12345), regressor__max_depth=8, regressor__max_features=log2, regressor__n_estimators=100; total time=   2.4s\n",
      "[CV] END regressor=RandomForestRegressor(random_state=12345), regressor__max_depth=8, regressor__max_features=log2, regressor__n_estimators=100; total time=   2.5s\n",
      "[CV] END regressor=RandomForestRegressor(random_state=12345), regressor__max_depth=8, regressor__max_features=log2, regressor__n_estimators=100; total time=   2.3s\n",
      "[CV] END regressor=RandomForestRegressor(random_state=12345), regressor__max_depth=8, regressor__max_features=log2, regressor__n_estimators=300; total time=   7.0s\n",
      "[CV] END regressor=RandomForestRegressor(random_state=12345), regressor__max_depth=8, regressor__max_features=log2, regressor__n_estimators=300; total time=   6.6s\n",
      "[CV] END regressor=RandomForestRegressor(random_state=12345), regressor__max_depth=8, regressor__max_features=log2, regressor__n_estimators=300; total time=   6.5s\n",
      "[CV] END regressor=RandomForestRegressor(random_state=12345), regressor__max_depth=8, regressor__max_features=log2, regressor__n_estimators=300; total time=   6.7s\n",
      "[CV] END regressor=RandomForestRegressor(random_state=12345), regressor__max_depth=8, regressor__max_features=log2, regressor__n_estimators=300; total time=   6.8s\n",
      "[CV] END regressor=RandomForestRegressor(random_state=12345), regressor__max_depth=8, regressor__max_features=log2, regressor__n_estimators=500; total time=  11.4s\n",
      "[CV] END regressor=RandomForestRegressor(random_state=12345), regressor__max_depth=8, regressor__max_features=log2, regressor__n_estimators=500; total time=  11.3s\n",
      "[CV] END regressor=RandomForestRegressor(random_state=12345), regressor__max_depth=8, regressor__max_features=log2, regressor__n_estimators=500; total time=  11.5s\n",
      "[CV] END regressor=RandomForestRegressor(random_state=12345), regressor__max_depth=8, regressor__max_features=log2, regressor__n_estimators=500; total time=  11.2s\n",
      "[CV] END regressor=RandomForestRegressor(random_state=12345), regressor__max_depth=8, regressor__max_features=log2, regressor__n_estimators=500; total time=  11.3s\n",
      "[CV] END regressor=RandomForestRegressor(random_state=12345), regressor__max_depth=8, regressor__max_features=log2, regressor__n_estimators=1000; total time=  23.0s\n",
      "[CV] END regressor=RandomForestRegressor(random_state=12345), regressor__max_depth=8, regressor__max_features=log2, regressor__n_estimators=1000; total time=  22.6s\n",
      "[CV] END regressor=RandomForestRegressor(random_state=12345), regressor__max_depth=8, regressor__max_features=log2, regressor__n_estimators=1000; total time=  22.6s\n",
      "[CV] END regressor=RandomForestRegressor(random_state=12345), regressor__max_depth=8, regressor__max_features=log2, regressor__n_estimators=1000; total time=  23.4s\n",
      "[CV] END regressor=RandomForestRegressor(random_state=12345), regressor__max_depth=8, regressor__max_features=log2, regressor__n_estimators=1000; total time=  23.3s\n",
      "[CV] END regressor=RandomForestRegressor(random_state=12345), regressor__max_depth=8, regressor__max_features=sqrt, regressor__n_estimators=100; total time=   3.2s\n",
      "[CV] END regressor=RandomForestRegressor(random_state=12345), regressor__max_depth=8, regressor__max_features=sqrt, regressor__n_estimators=100; total time=   3.2s\n",
      "[CV] END regressor=RandomForestRegressor(random_state=12345), regressor__max_depth=8, regressor__max_features=sqrt, regressor__n_estimators=100; total time=   3.1s\n",
      "[CV] END regressor=RandomForestRegressor(random_state=12345), regressor__max_depth=8, regressor__max_features=sqrt, regressor__n_estimators=100; total time=   3.2s\n",
      "[CV] END regressor=RandomForestRegressor(random_state=12345), regressor__max_depth=8, regressor__max_features=sqrt, regressor__n_estimators=100; total time=   3.1s\n",
      "[CV] END regressor=RandomForestRegressor(random_state=12345), regressor__max_depth=8, regressor__max_features=sqrt, regressor__n_estimators=300; total time=   9.5s\n",
      "[CV] END regressor=RandomForestRegressor(random_state=12345), regressor__max_depth=8, regressor__max_features=sqrt, regressor__n_estimators=300; total time=   9.6s\n",
      "[CV] END regressor=RandomForestRegressor(random_state=12345), regressor__max_depth=8, regressor__max_features=sqrt, regressor__n_estimators=300; total time=   9.5s\n",
      "[CV] END regressor=RandomForestRegressor(random_state=12345), regressor__max_depth=8, regressor__max_features=sqrt, regressor__n_estimators=300; total time=   9.5s\n",
      "[CV] END regressor=RandomForestRegressor(random_state=12345), regressor__max_depth=8, regressor__max_features=sqrt, regressor__n_estimators=300; total time=   9.6s\n",
      "[CV] END regressor=RandomForestRegressor(random_state=12345), regressor__max_depth=8, regressor__max_features=sqrt, regressor__n_estimators=500; total time=  15.9s\n",
      "[CV] END regressor=RandomForestRegressor(random_state=12345), regressor__max_depth=8, regressor__max_features=sqrt, regressor__n_estimators=500; total time=  15.7s\n",
      "[CV] END regressor=RandomForestRegressor(random_state=12345), regressor__max_depth=8, regressor__max_features=sqrt, regressor__n_estimators=500; total time=  15.6s\n",
      "[CV] END regressor=RandomForestRegressor(random_state=12345), regressor__max_depth=8, regressor__max_features=sqrt, regressor__n_estimators=500; total time=  15.5s\n",
      "[CV] END regressor=RandomForestRegressor(random_state=12345), regressor__max_depth=8, regressor__max_features=sqrt, regressor__n_estimators=500; total time=  15.7s\n",
      "[CV] END regressor=RandomForestRegressor(random_state=12345), regressor__max_depth=8, regressor__max_features=sqrt, regressor__n_estimators=1000; total time=  31.7s\n",
      "[CV] END regressor=RandomForestRegressor(random_state=12345), regressor__max_depth=8, regressor__max_features=sqrt, regressor__n_estimators=1000; total time=  31.3s\n",
      "[CV] END regressor=RandomForestRegressor(random_state=12345), regressor__max_depth=8, regressor__max_features=sqrt, regressor__n_estimators=1000; total time=  31.2s\n",
      "[CV] END regressor=RandomForestRegressor(random_state=12345), regressor__max_depth=8, regressor__max_features=sqrt, regressor__n_estimators=1000; total time=  31.6s\n",
      "[CV] END regressor=RandomForestRegressor(random_state=12345), regressor__max_depth=8, regressor__max_features=sqrt, regressor__n_estimators=1000; total time=  31.6s\n",
      "[CV] END regressor=RandomForestRegressor(random_state=12345), regressor__max_depth=8, regressor__max_features=auto, regressor__n_estimators=100; total time=  21.7s\n",
      "[CV] END regressor=RandomForestRegressor(random_state=12345), regressor__max_depth=8, regressor__max_features=auto, regressor__n_estimators=100; total time=  21.4s\n",
      "[CV] END regressor=RandomForestRegressor(random_state=12345), regressor__max_depth=8, regressor__max_features=auto, regressor__n_estimators=100; total time=  21.2s\n",
      "[CV] END regressor=RandomForestRegressor(random_state=12345), regressor__max_depth=8, regressor__max_features=auto, regressor__n_estimators=100; total time=  21.4s\n",
      "[CV] END regressor=RandomForestRegressor(random_state=12345), regressor__max_depth=8, regressor__max_features=auto, regressor__n_estimators=100; total time=  21.6s\n",
      "[CV] END regressor=RandomForestRegressor(random_state=12345), regressor__max_depth=8, regressor__max_features=auto, regressor__n_estimators=300; total time= 1.1min\n",
      "[CV] END regressor=RandomForestRegressor(random_state=12345), regressor__max_depth=8, regressor__max_features=auto, regressor__n_estimators=300; total time= 1.1min\n",
      "[CV] END regressor=RandomForestRegressor(random_state=12345), regressor__max_depth=8, regressor__max_features=auto, regressor__n_estimators=300; total time= 1.1min\n",
      "[CV] END regressor=RandomForestRegressor(random_state=12345), regressor__max_depth=8, regressor__max_features=auto, regressor__n_estimators=300; total time= 1.1min\n",
      "[CV] END regressor=RandomForestRegressor(random_state=12345), regressor__max_depth=8, regressor__max_features=auto, regressor__n_estimators=300; total time= 1.1min\n",
      "[CV] END regressor=RandomForestRegressor(random_state=12345), regressor__max_depth=8, regressor__max_features=auto, regressor__n_estimators=500; total time= 1.8min\n",
      "[CV] END regressor=RandomForestRegressor(random_state=12345), regressor__max_depth=8, regressor__max_features=auto, regressor__n_estimators=500; total time= 1.8min\n",
      "[CV] END regressor=RandomForestRegressor(random_state=12345), regressor__max_depth=8, regressor__max_features=auto, regressor__n_estimators=500; total time= 1.8min\n",
      "[CV] END regressor=RandomForestRegressor(random_state=12345), regressor__max_depth=8, regressor__max_features=auto, regressor__n_estimators=500; total time= 1.8min\n",
      "[CV] END regressor=RandomForestRegressor(random_state=12345), regressor__max_depth=8, regressor__max_features=auto, regressor__n_estimators=500; total time= 1.7min\n",
      "[CV] END regressor=RandomForestRegressor(random_state=12345), regressor__max_depth=8, regressor__max_features=auto, regressor__n_estimators=1000; total time= 3.5min\n",
      "[CV] END regressor=RandomForestRegressor(random_state=12345), regressor__max_depth=8, regressor__max_features=auto, regressor__n_estimators=1000; total time= 3.4min\n",
      "[CV] END regressor=RandomForestRegressor(random_state=12345), regressor__max_depth=8, regressor__max_features=auto, regressor__n_estimators=1000; total time= 3.4min\n",
      "[CV] END regressor=RandomForestRegressor(random_state=12345), regressor__max_depth=8, regressor__max_features=auto, regressor__n_estimators=1000; total time= 3.4min\n",
      "[CV] END regressor=RandomForestRegressor(random_state=12345), regressor__max_depth=8, regressor__max_features=auto, regressor__n_estimators=1000; total time= 3.4min\n",
      "[CV] END regressor=RandomForestRegressor(random_state=12345), regressor__max_depth=15, regressor__max_features=log2, regressor__n_estimators=100; total time=   3.6s\n",
      "[CV] END regressor=RandomForestRegressor(random_state=12345), regressor__max_depth=15, regressor__max_features=log2, regressor__n_estimators=100; total time=   3.5s\n",
      "[CV] END regressor=RandomForestRegressor(random_state=12345), regressor__max_depth=15, regressor__max_features=log2, regressor__n_estimators=100; total time=   3.5s\n",
      "[CV] END regressor=RandomForestRegressor(random_state=12345), regressor__max_depth=15, regressor__max_features=log2, regressor__n_estimators=100; total time=   3.6s\n",
      "[CV] END regressor=RandomForestRegressor(random_state=12345), regressor__max_depth=15, regressor__max_features=log2, regressor__n_estimators=100; total time=   3.5s\n",
      "[CV] END regressor=RandomForestRegressor(random_state=12345), regressor__max_depth=15, regressor__max_features=log2, regressor__n_estimators=300; total time=  10.7s\n",
      "[CV] END regressor=RandomForestRegressor(random_state=12345), regressor__max_depth=15, regressor__max_features=log2, regressor__n_estimators=300; total time=  10.5s\n",
      "[CV] END regressor=RandomForestRegressor(random_state=12345), regressor__max_depth=15, regressor__max_features=log2, regressor__n_estimators=300; total time=  10.5s\n",
      "[CV] END regressor=RandomForestRegressor(random_state=12345), regressor__max_depth=15, regressor__max_features=log2, regressor__n_estimators=300; total time=  10.6s\n",
      "[CV] END regressor=RandomForestRegressor(random_state=12345), regressor__max_depth=15, regressor__max_features=log2, regressor__n_estimators=300; total time=  10.5s\n",
      "[CV] END regressor=RandomForestRegressor(random_state=12345), regressor__max_depth=15, regressor__max_features=log2, regressor__n_estimators=500; total time=  18.0s\n",
      "[CV] END regressor=RandomForestRegressor(random_state=12345), regressor__max_depth=15, regressor__max_features=log2, regressor__n_estimators=500; total time=  17.6s\n",
      "[CV] END regressor=RandomForestRegressor(random_state=12345), regressor__max_depth=15, regressor__max_features=log2, regressor__n_estimators=500; total time=  17.6s\n",
      "[CV] END regressor=RandomForestRegressor(random_state=12345), regressor__max_depth=15, regressor__max_features=log2, regressor__n_estimators=500; total time=  17.7s\n",
      "[CV] END regressor=RandomForestRegressor(random_state=12345), regressor__max_depth=15, regressor__max_features=log2, regressor__n_estimators=500; total time=  17.5s\n",
      "[CV] END regressor=RandomForestRegressor(random_state=12345), regressor__max_depth=15, regressor__max_features=log2, regressor__n_estimators=1000; total time=  35.7s\n",
      "[CV] END regressor=RandomForestRegressor(random_state=12345), regressor__max_depth=15, regressor__max_features=log2, regressor__n_estimators=1000; total time=  35.6s\n",
      "[CV] END regressor=RandomForestRegressor(random_state=12345), regressor__max_depth=15, regressor__max_features=log2, regressor__n_estimators=1000; total time=  35.3s\n",
      "[CV] END regressor=RandomForestRegressor(random_state=12345), regressor__max_depth=15, regressor__max_features=log2, regressor__n_estimators=1000; total time=  34.9s\n",
      "[CV] END regressor=RandomForestRegressor(random_state=12345), regressor__max_depth=15, regressor__max_features=log2, regressor__n_estimators=1000; total time=  35.2s\n",
      "[CV] END regressor=RandomForestRegressor(random_state=12345), regressor__max_depth=15, regressor__max_features=sqrt, regressor__n_estimators=100; total time=   4.7s\n",
      "[CV] END regressor=RandomForestRegressor(random_state=12345), regressor__max_depth=15, regressor__max_features=sqrt, regressor__n_estimators=100; total time=   4.7s\n",
      "[CV] END regressor=RandomForestRegressor(random_state=12345), regressor__max_depth=15, regressor__max_features=sqrt, regressor__n_estimators=100; total time=   4.7s\n",
      "[CV] END regressor=RandomForestRegressor(random_state=12345), regressor__max_depth=15, regressor__max_features=sqrt, regressor__n_estimators=100; total time=   4.7s\n",
      "[CV] END regressor=RandomForestRegressor(random_state=12345), regressor__max_depth=15, regressor__max_features=sqrt, regressor__n_estimators=100; total time=   4.7s\n",
      "[CV] END regressor=RandomForestRegressor(random_state=12345), regressor__max_depth=15, regressor__max_features=sqrt, regressor__n_estimators=300; total time=  14.5s\n",
      "[CV] END regressor=RandomForestRegressor(random_state=12345), regressor__max_depth=15, regressor__max_features=sqrt, regressor__n_estimators=300; total time=  14.3s\n",
      "[CV] END regressor=RandomForestRegressor(random_state=12345), regressor__max_depth=15, regressor__max_features=sqrt, regressor__n_estimators=300; total time=  14.3s\n",
      "[CV] END regressor=RandomForestRegressor(random_state=12345), regressor__max_depth=15, regressor__max_features=sqrt, regressor__n_estimators=300; total time=  14.1s\n",
      "[CV] END regressor=RandomForestRegressor(random_state=12345), regressor__max_depth=15, regressor__max_features=sqrt, regressor__n_estimators=300; total time=  14.1s\n",
      "[CV] END regressor=RandomForestRegressor(random_state=12345), regressor__max_depth=15, regressor__max_features=sqrt, regressor__n_estimators=500; total time=  24.6s\n",
      "[CV] END regressor=RandomForestRegressor(random_state=12345), regressor__max_depth=15, regressor__max_features=sqrt, regressor__n_estimators=500; total time=  23.5s\n",
      "[CV] END regressor=RandomForestRegressor(random_state=12345), regressor__max_depth=15, regressor__max_features=sqrt, regressor__n_estimators=500; total time=  24.0s\n",
      "[CV] END regressor=RandomForestRegressor(random_state=12345), regressor__max_depth=15, regressor__max_features=sqrt, regressor__n_estimators=500; total time=  23.6s\n",
      "[CV] END regressor=RandomForestRegressor(random_state=12345), regressor__max_depth=15, regressor__max_features=sqrt, regressor__n_estimators=500; total time=  23.6s\n",
      "[CV] END regressor=RandomForestRegressor(random_state=12345), regressor__max_depth=15, regressor__max_features=sqrt, regressor__n_estimators=1000; total time=  47.9s\n",
      "[CV] END regressor=RandomForestRegressor(random_state=12345), regressor__max_depth=15, regressor__max_features=sqrt, regressor__n_estimators=1000; total time=  47.9s\n",
      "[CV] END regressor=RandomForestRegressor(random_state=12345), regressor__max_depth=15, regressor__max_features=sqrt, regressor__n_estimators=1000; total time=  47.6s\n",
      "[CV] END regressor=RandomForestRegressor(random_state=12345), regressor__max_depth=15, regressor__max_features=sqrt, regressor__n_estimators=1000; total time=  47.6s\n",
      "[CV] END regressor=RandomForestRegressor(random_state=12345), regressor__max_depth=15, regressor__max_features=sqrt, regressor__n_estimators=1000; total time=  47.1s\n",
      "[CV] END regressor=RandomForestRegressor(random_state=12345), regressor__max_depth=15, regressor__max_features=auto, regressor__n_estimators=100; total time=  32.8s\n",
      "[CV] END regressor=RandomForestRegressor(random_state=12345), regressor__max_depth=15, regressor__max_features=auto, regressor__n_estimators=100; total time=  32.4s\n",
      "[CV] END regressor=RandomForestRegressor(random_state=12345), regressor__max_depth=15, regressor__max_features=auto, regressor__n_estimators=100; total time=  32.2s\n",
      "[CV] END regressor=RandomForestRegressor(random_state=12345), regressor__max_depth=15, regressor__max_features=auto, regressor__n_estimators=100; total time=  31.5s\n",
      "[CV] END regressor=RandomForestRegressor(random_state=12345), regressor__max_depth=15, regressor__max_features=auto, regressor__n_estimators=100; total time=  31.3s\n",
      "[CV] END regressor=RandomForestRegressor(random_state=12345), regressor__max_depth=15, regressor__max_features=auto, regressor__n_estimators=300; total time= 1.6min\n",
      "[CV] END regressor=RandomForestRegressor(random_state=12345), regressor__max_depth=15, regressor__max_features=auto, regressor__n_estimators=300; total time= 1.6min\n",
      "[CV] END regressor=RandomForestRegressor(random_state=12345), regressor__max_depth=15, regressor__max_features=auto, regressor__n_estimators=300; total time= 1.6min\n",
      "[CV] END regressor=RandomForestRegressor(random_state=12345), regressor__max_depth=15, regressor__max_features=auto, regressor__n_estimators=300; total time= 1.6min\n",
      "[CV] END regressor=RandomForestRegressor(random_state=12345), regressor__max_depth=15, regressor__max_features=auto, regressor__n_estimators=300; total time= 1.6min\n",
      "[CV] END regressor=RandomForestRegressor(random_state=12345), regressor__max_depth=15, regressor__max_features=auto, regressor__n_estimators=500; total time= 2.7min\n",
      "[CV] END regressor=RandomForestRegressor(random_state=12345), regressor__max_depth=15, regressor__max_features=auto, regressor__n_estimators=500; total time= 2.7min\n",
      "[CV] END regressor=RandomForestRegressor(random_state=12345), regressor__max_depth=15, regressor__max_features=auto, regressor__n_estimators=500; total time= 2.7min\n",
      "[CV] END regressor=RandomForestRegressor(random_state=12345), regressor__max_depth=15, regressor__max_features=auto, regressor__n_estimators=500; total time= 2.7min\n",
      "[CV] END regressor=RandomForestRegressor(random_state=12345), regressor__max_depth=15, regressor__max_features=auto, regressor__n_estimators=500; total time= 2.7min\n",
      "[CV] END regressor=RandomForestRegressor(random_state=12345), regressor__max_depth=15, regressor__max_features=auto, regressor__n_estimators=1000; total time= 5.7min\n",
      "[CV] END regressor=RandomForestRegressor(random_state=12345), regressor__max_depth=15, regressor__max_features=auto, regressor__n_estimators=1000; total time= 5.6min\n",
      "[CV] END regressor=RandomForestRegressor(random_state=12345), regressor__max_depth=15, regressor__max_features=auto, regressor__n_estimators=1000; total time= 5.6min\n",
      "[CV] END regressor=RandomForestRegressor(random_state=12345), regressor__max_depth=15, regressor__max_features=auto, regressor__n_estimators=1000; total time= 5.4min\n",
      "[CV] END regressor=RandomForestRegressor(random_state=12345), regressor__max_depth=15, regressor__max_features=auto, regressor__n_estimators=1000; total time= 5.3min\n",
      "[CV] END regressor=DecisionTreeRegressor(random_state=12345), regressor__max_depth=3, regressor__max_features=log2; total time=   0.0s\n",
      "[CV] END regressor=DecisionTreeRegressor(random_state=12345), regressor__max_depth=3, regressor__max_features=log2; total time=   0.1s\n",
      "[CV] END regressor=DecisionTreeRegressor(random_state=12345), regressor__max_depth=3, regressor__max_features=log2; total time=   0.1s\n",
      "[CV] END regressor=DecisionTreeRegressor(random_state=12345), regressor__max_depth=3, regressor__max_features=log2; total time=   0.1s\n",
      "[CV] END regressor=DecisionTreeRegressor(random_state=12345), regressor__max_depth=3, regressor__max_features=log2; total time=   0.1s\n",
      "[CV] END regressor=DecisionTreeRegressor(random_state=12345), regressor__max_depth=3, regressor__max_features=sqrt; total time=   0.1s\n",
      "[CV] END regressor=DecisionTreeRegressor(random_state=12345), regressor__max_depth=3, regressor__max_features=sqrt; total time=   0.1s\n",
      "[CV] END regressor=DecisionTreeRegressor(random_state=12345), regressor__max_depth=3, regressor__max_features=sqrt; total time=   0.1s\n",
      "[CV] END regressor=DecisionTreeRegressor(random_state=12345), regressor__max_depth=3, regressor__max_features=sqrt; total time=   0.1s\n",
      "[CV] END regressor=DecisionTreeRegressor(random_state=12345), regressor__max_depth=3, regressor__max_features=sqrt; total time=   0.1s\n",
      "[CV] END regressor=DecisionTreeRegressor(random_state=12345), regressor__max_depth=3, regressor__max_features=auto; total time=   0.2s\n",
      "[CV] END regressor=DecisionTreeRegressor(random_state=12345), regressor__max_depth=3, regressor__max_features=auto; total time=   0.2s\n",
      "[CV] END regressor=DecisionTreeRegressor(random_state=12345), regressor__max_depth=3, regressor__max_features=auto; total time=   0.2s\n",
      "[CV] END regressor=DecisionTreeRegressor(random_state=12345), regressor__max_depth=3, regressor__max_features=auto; total time=   0.2s\n",
      "[CV] END regressor=DecisionTreeRegressor(random_state=12345), regressor__max_depth=3, regressor__max_features=auto; total time=   0.2s\n",
      "[CV] END regressor=DecisionTreeRegressor(random_state=12345), regressor__max_depth=5, regressor__max_features=log2; total time=   0.1s\n",
      "[CV] END regressor=DecisionTreeRegressor(random_state=12345), regressor__max_depth=5, regressor__max_features=log2; total time=   0.1s\n",
      "[CV] END regressor=DecisionTreeRegressor(random_state=12345), regressor__max_depth=5, regressor__max_features=log2; total time=   0.1s\n",
      "[CV] END regressor=DecisionTreeRegressor(random_state=12345), regressor__max_depth=5, regressor__max_features=log2; total time=   0.1s\n",
      "[CV] END regressor=DecisionTreeRegressor(random_state=12345), regressor__max_depth=5, regressor__max_features=log2; total time=   0.1s\n",
      "[CV] END regressor=DecisionTreeRegressor(random_state=12345), regressor__max_depth=5, regressor__max_features=sqrt; total time=   0.1s\n",
      "[CV] END regressor=DecisionTreeRegressor(random_state=12345), regressor__max_depth=5, regressor__max_features=sqrt; total time=   0.1s\n",
      "[CV] END regressor=DecisionTreeRegressor(random_state=12345), regressor__max_depth=5, regressor__max_features=sqrt; total time=   0.1s\n",
      "[CV] END regressor=DecisionTreeRegressor(random_state=12345), regressor__max_depth=5, regressor__max_features=sqrt; total time=   0.1s\n",
      "[CV] END regressor=DecisionTreeRegressor(random_state=12345), regressor__max_depth=5, regressor__max_features=sqrt; total time=   0.1s\n",
      "[CV] END regressor=DecisionTreeRegressor(random_state=12345), regressor__max_depth=5, regressor__max_features=auto; total time=   0.3s\n",
      "[CV] END regressor=DecisionTreeRegressor(random_state=12345), regressor__max_depth=5, regressor__max_features=auto; total time=   0.3s\n",
      "[CV] END regressor=DecisionTreeRegressor(random_state=12345), regressor__max_depth=5, regressor__max_features=auto; total time=   0.3s\n",
      "[CV] END regressor=DecisionTreeRegressor(random_state=12345), regressor__max_depth=5, regressor__max_features=auto; total time=   0.3s\n",
      "[CV] END regressor=DecisionTreeRegressor(random_state=12345), regressor__max_depth=5, regressor__max_features=auto; total time=   0.3s\n",
      "[CV] END regressor=DecisionTreeRegressor(random_state=12345), regressor__max_depth=8, regressor__max_features=log2; total time=   0.1s\n",
      "[CV] END regressor=DecisionTreeRegressor(random_state=12345), regressor__max_depth=8, regressor__max_features=log2; total time=   0.1s\n",
      "[CV] END regressor=DecisionTreeRegressor(random_state=12345), regressor__max_depth=8, regressor__max_features=log2; total time=   0.1s\n",
      "[CV] END regressor=DecisionTreeRegressor(random_state=12345), regressor__max_depth=8, regressor__max_features=log2; total time=   0.1s\n",
      "[CV] END regressor=DecisionTreeRegressor(random_state=12345), regressor__max_depth=8, regressor__max_features=log2; total time=   0.1s\n",
      "[CV] END regressor=DecisionTreeRegressor(random_state=12345), regressor__max_depth=8, regressor__max_features=sqrt; total time=   0.1s\n",
      "[CV] END regressor=DecisionTreeRegressor(random_state=12345), regressor__max_depth=8, regressor__max_features=sqrt; total time=   0.1s\n",
      "[CV] END regressor=DecisionTreeRegressor(random_state=12345), regressor__max_depth=8, regressor__max_features=sqrt; total time=   0.1s\n",
      "[CV] END regressor=DecisionTreeRegressor(random_state=12345), regressor__max_depth=8, regressor__max_features=sqrt; total time=   0.1s\n",
      "[CV] END regressor=DecisionTreeRegressor(random_state=12345), regressor__max_depth=8, regressor__max_features=sqrt; total time=   0.1s\n",
      "[CV] END regressor=DecisionTreeRegressor(random_state=12345), regressor__max_depth=8, regressor__max_features=auto; total time=   0.4s\n",
      "[CV] END regressor=DecisionTreeRegressor(random_state=12345), regressor__max_depth=8, regressor__max_features=auto; total time=   0.4s\n",
      "[CV] END regressor=DecisionTreeRegressor(random_state=12345), regressor__max_depth=8, regressor__max_features=auto; total time=   0.4s\n",
      "[CV] END regressor=DecisionTreeRegressor(random_state=12345), regressor__max_depth=8, regressor__max_features=auto; total time=   0.4s\n",
      "[CV] END regressor=DecisionTreeRegressor(random_state=12345), regressor__max_depth=8, regressor__max_features=auto; total time=   0.4s\n",
      "[CV] END regressor=DecisionTreeRegressor(random_state=12345), regressor__max_depth=15, regressor__max_features=log2; total time=   0.1s\n",
      "[CV] END regressor=DecisionTreeRegressor(random_state=12345), regressor__max_depth=15, regressor__max_features=log2; total time=   0.1s\n",
      "[CV] END regressor=DecisionTreeRegressor(random_state=12345), regressor__max_depth=15, regressor__max_features=log2; total time=   0.1s\n",
      "[CV] END regressor=DecisionTreeRegressor(random_state=12345), regressor__max_depth=15, regressor__max_features=log2; total time=   0.1s\n",
      "[CV] END regressor=DecisionTreeRegressor(random_state=12345), regressor__max_depth=15, regressor__max_features=log2; total time=   0.1s\n",
      "[CV] END regressor=DecisionTreeRegressor(random_state=12345), regressor__max_depth=15, regressor__max_features=sqrt; total time=   0.1s\n",
      "[CV] END regressor=DecisionTreeRegressor(random_state=12345), regressor__max_depth=15, regressor__max_features=sqrt; total time=   0.1s\n",
      "[CV] END regressor=DecisionTreeRegressor(random_state=12345), regressor__max_depth=15, regressor__max_features=sqrt; total time=   0.1s\n",
      "[CV] END regressor=DecisionTreeRegressor(random_state=12345), regressor__max_depth=15, regressor__max_features=sqrt; total time=   0.1s\n",
      "[CV] END regressor=DecisionTreeRegressor(random_state=12345), regressor__max_depth=15, regressor__max_features=sqrt; total time=   0.1s\n",
      "[CV] END regressor=DecisionTreeRegressor(random_state=12345), regressor__max_depth=15, regressor__max_features=auto; total time=   0.6s\n",
      "[CV] END regressor=DecisionTreeRegressor(random_state=12345), regressor__max_depth=15, regressor__max_features=auto; total time=   0.6s\n",
      "[CV] END regressor=DecisionTreeRegressor(random_state=12345), regressor__max_depth=15, regressor__max_features=auto; total time=   0.6s\n",
      "[CV] END regressor=DecisionTreeRegressor(random_state=12345), regressor__max_depth=15, regressor__max_features=auto; total time=   0.6s\n",
      "[CV] END regressor=DecisionTreeRegressor(random_state=12345), regressor__max_depth=15, regressor__max_features=auto; total time=   0.6s\n",
      "Pipeline(steps=[('scaler', StandardScaler()),\n",
      "                ('regressor',\n",
      "                 RandomForestRegressor(max_depth=5, max_features='log2',\n",
      "                                       n_estimators=300, random_state=12345))])\n",
      "2.4716729539648274\n"
     ]
    }
   ],
   "source": [
    "pipe = Pipeline( [('scaler', StandardScaler()), \n",
    "                  ('regressor', LinearRegression())] )\n",
    "#создадим PipeLine\n",
    "\n",
    "param_grid = [\n",
    "    {\n",
    "    'regressor': [LinearRegression()]\n",
    "    },\n",
    "    {\n",
    "        \"regressor\": [RandomForestRegressor(random_state=12345)],\n",
    "        \"regressor__n_estimators\": [100, 300, 500, 1000],\n",
    "        \"regressor__max_depth\": [3, 5, 8, 15],\n",
    "        \"regressor__max_features\": [\"log2\", \"sqrt\", \"auto\"]\n",
    "    },\n",
    "    {\n",
    "        \"regressor\": [DecisionTreeRegressor(random_state=12345)],\n",
    "        \"regressor__max_depth\": [3, 5, 8, 15],\n",
    "        \"regressor__max_features\": [\"log2\", \"sqrt\", \"auto\"]\n",
    "    }]\n",
    "#зададим модели и параметры для перебора\n",
    "\n",
    "grid = GridSearchCV(pipe, param_grid=param_grid, cv=5, scoring=smape_scorer, verbose=2)\n",
    "#передадим в GridSearchCV параметры и PipeLine\n",
    "\n",
    "grid.fit(df_train_features, df_train_rougher_target)\n",
    "#обучим grid\n",
    "\n",
    "print(f'Лучшие параметры: {grid.best_estimator_}')\n",
    "print(f'sMAPE лучшей модели: {np.sqrt(-grid.best_score_)}')\n",
    "#выведем лучшие параметры и результат sMAPE лучшей модели"
   ]
  },
  {
   "cell_type": "markdown",
   "metadata": {},
   "source": [
    "Выберем лучшую модель для этапа Final."
   ]
  },
  {
   "cell_type": "code",
   "execution_count": 32,
   "metadata": {},
   "outputs": [
    {
     "name": "stdout",
     "output_type": "stream",
     "text": [
      "Fitting 5 folds for each of 61 candidates, totalling 305 fits\n",
      "[CV] END .......................regressor=LinearRegression(); total time=   0.3s\n",
      "[CV] END .......................regressor=LinearRegression(); total time=   0.3s\n",
      "[CV] END .......................regressor=LinearRegression(); total time=   0.3s\n",
      "[CV] END .......................regressor=LinearRegression(); total time=   0.3s\n",
      "[CV] END .......................regressor=LinearRegression(); total time=   0.2s\n",
      "[CV] END regressor=RandomForestRegressor(random_state=12345), regressor__max_depth=3, regressor__max_features=log2, regressor__n_estimators=100; total time=   1.1s\n",
      "[CV] END regressor=RandomForestRegressor(random_state=12345), regressor__max_depth=3, regressor__max_features=log2, regressor__n_estimators=100; total time=   1.0s\n",
      "[CV] END regressor=RandomForestRegressor(random_state=12345), regressor__max_depth=3, regressor__max_features=log2, regressor__n_estimators=100; total time=   1.1s\n",
      "[CV] END regressor=RandomForestRegressor(random_state=12345), regressor__max_depth=3, regressor__max_features=log2, regressor__n_estimators=100; total time=   1.0s\n",
      "[CV] END regressor=RandomForestRegressor(random_state=12345), regressor__max_depth=3, regressor__max_features=log2, regressor__n_estimators=100; total time=   1.0s\n",
      "[CV] END regressor=RandomForestRegressor(random_state=12345), regressor__max_depth=3, regressor__max_features=log2, regressor__n_estimators=300; total time=   3.1s\n",
      "[CV] END regressor=RandomForestRegressor(random_state=12345), regressor__max_depth=3, regressor__max_features=log2, regressor__n_estimators=300; total time=   2.9s\n",
      "[CV] END regressor=RandomForestRegressor(random_state=12345), regressor__max_depth=3, regressor__max_features=log2, regressor__n_estimators=300; total time=   3.1s\n",
      "[CV] END regressor=RandomForestRegressor(random_state=12345), regressor__max_depth=3, regressor__max_features=log2, regressor__n_estimators=300; total time=   3.0s\n",
      "[CV] END regressor=RandomForestRegressor(random_state=12345), regressor__max_depth=3, regressor__max_features=log2, regressor__n_estimators=300; total time=   3.1s\n",
      "[CV] END regressor=RandomForestRegressor(random_state=12345), regressor__max_depth=3, regressor__max_features=log2, regressor__n_estimators=500; total time=   5.1s\n",
      "[CV] END regressor=RandomForestRegressor(random_state=12345), regressor__max_depth=3, regressor__max_features=log2, regressor__n_estimators=500; total time=   5.1s\n",
      "[CV] END regressor=RandomForestRegressor(random_state=12345), regressor__max_depth=3, regressor__max_features=log2, regressor__n_estimators=500; total time=   5.1s\n",
      "[CV] END regressor=RandomForestRegressor(random_state=12345), regressor__max_depth=3, regressor__max_features=log2, regressor__n_estimators=500; total time=   5.0s\n",
      "[CV] END regressor=RandomForestRegressor(random_state=12345), regressor__max_depth=3, regressor__max_features=log2, regressor__n_estimators=500; total time=   5.1s\n",
      "[CV] END regressor=RandomForestRegressor(random_state=12345), regressor__max_depth=3, regressor__max_features=log2, regressor__n_estimators=1000; total time=  10.2s\n",
      "[CV] END regressor=RandomForestRegressor(random_state=12345), regressor__max_depth=3, regressor__max_features=log2, regressor__n_estimators=1000; total time=  10.0s\n",
      "[CV] END regressor=RandomForestRegressor(random_state=12345), regressor__max_depth=3, regressor__max_features=log2, regressor__n_estimators=1000; total time=  10.2s\n",
      "[CV] END regressor=RandomForestRegressor(random_state=12345), regressor__max_depth=3, regressor__max_features=log2, regressor__n_estimators=1000; total time=  10.3s\n",
      "[CV] END regressor=RandomForestRegressor(random_state=12345), regressor__max_depth=3, regressor__max_features=log2, regressor__n_estimators=1000; total time=  10.2s\n",
      "[CV] END regressor=RandomForestRegressor(random_state=12345), regressor__max_depth=3, regressor__max_features=sqrt, regressor__n_estimators=100; total time=   1.3s\n",
      "[CV] END regressor=RandomForestRegressor(random_state=12345), regressor__max_depth=3, regressor__max_features=sqrt, regressor__n_estimators=100; total time=   1.3s\n",
      "[CV] END regressor=RandomForestRegressor(random_state=12345), regressor__max_depth=3, regressor__max_features=sqrt, regressor__n_estimators=100; total time=   1.3s\n",
      "[CV] END regressor=RandomForestRegressor(random_state=12345), regressor__max_depth=3, regressor__max_features=sqrt, regressor__n_estimators=100; total time=   1.4s\n",
      "[CV] END regressor=RandomForestRegressor(random_state=12345), regressor__max_depth=3, regressor__max_features=sqrt, regressor__n_estimators=100; total time=   1.4s\n",
      "[CV] END regressor=RandomForestRegressor(random_state=12345), regressor__max_depth=3, regressor__max_features=sqrt, regressor__n_estimators=300; total time=   4.1s\n",
      "[CV] END regressor=RandomForestRegressor(random_state=12345), regressor__max_depth=3, regressor__max_features=sqrt, regressor__n_estimators=300; total time=   4.1s\n",
      "[CV] END regressor=RandomForestRegressor(random_state=12345), regressor__max_depth=3, regressor__max_features=sqrt, regressor__n_estimators=300; total time=   4.1s\n",
      "[CV] END regressor=RandomForestRegressor(random_state=12345), regressor__max_depth=3, regressor__max_features=sqrt, regressor__n_estimators=300; total time=   4.0s\n",
      "[CV] END regressor=RandomForestRegressor(random_state=12345), regressor__max_depth=3, regressor__max_features=sqrt, regressor__n_estimators=300; total time=   4.1s\n",
      "[CV] END regressor=RandomForestRegressor(random_state=12345), regressor__max_depth=3, regressor__max_features=sqrt, regressor__n_estimators=500; total time=   6.7s\n",
      "[CV] END regressor=RandomForestRegressor(random_state=12345), regressor__max_depth=3, regressor__max_features=sqrt, regressor__n_estimators=500; total time=   6.9s\n",
      "[CV] END regressor=RandomForestRegressor(random_state=12345), regressor__max_depth=3, regressor__max_features=sqrt, regressor__n_estimators=500; total time=   6.9s\n",
      "[CV] END regressor=RandomForestRegressor(random_state=12345), regressor__max_depth=3, regressor__max_features=sqrt, regressor__n_estimators=500; total time=   6.7s\n",
      "[CV] END regressor=RandomForestRegressor(random_state=12345), regressor__max_depth=3, regressor__max_features=sqrt, regressor__n_estimators=500; total time=   6.9s\n",
      "[CV] END regressor=RandomForestRegressor(random_state=12345), regressor__max_depth=3, regressor__max_features=sqrt, regressor__n_estimators=1000; total time=  13.3s\n",
      "[CV] END regressor=RandomForestRegressor(random_state=12345), regressor__max_depth=3, regressor__max_features=sqrt, regressor__n_estimators=1000; total time=  13.4s\n",
      "[CV] END regressor=RandomForestRegressor(random_state=12345), regressor__max_depth=3, regressor__max_features=sqrt, regressor__n_estimators=1000; total time=  13.6s\n",
      "[CV] END regressor=RandomForestRegressor(random_state=12345), regressor__max_depth=3, regressor__max_features=sqrt, regressor__n_estimators=1000; total time=  13.6s\n",
      "[CV] END regressor=RandomForestRegressor(random_state=12345), regressor__max_depth=3, regressor__max_features=sqrt, regressor__n_estimators=1000; total time=  13.5s\n",
      "[CV] END regressor=RandomForestRegressor(random_state=12345), regressor__max_depth=3, regressor__max_features=auto, regressor__n_estimators=100; total time=   8.9s\n",
      "[CV] END regressor=RandomForestRegressor(random_state=12345), regressor__max_depth=3, regressor__max_features=auto, regressor__n_estimators=100; total time=   8.9s\n",
      "[CV] END regressor=RandomForestRegressor(random_state=12345), regressor__max_depth=3, regressor__max_features=auto, regressor__n_estimators=100; total time=   8.9s\n",
      "[CV] END regressor=RandomForestRegressor(random_state=12345), regressor__max_depth=3, regressor__max_features=auto, regressor__n_estimators=100; total time=   8.9s\n",
      "[CV] END regressor=RandomForestRegressor(random_state=12345), regressor__max_depth=3, regressor__max_features=auto, regressor__n_estimators=100; total time=   9.0s\n",
      "[CV] END regressor=RandomForestRegressor(random_state=12345), regressor__max_depth=3, regressor__max_features=auto, regressor__n_estimators=300; total time=  26.8s\n",
      "[CV] END regressor=RandomForestRegressor(random_state=12345), regressor__max_depth=3, regressor__max_features=auto, regressor__n_estimators=300; total time=  26.6s\n",
      "[CV] END regressor=RandomForestRegressor(random_state=12345), regressor__max_depth=3, regressor__max_features=auto, regressor__n_estimators=300; total time=  26.4s\n",
      "[CV] END regressor=RandomForestRegressor(random_state=12345), regressor__max_depth=3, regressor__max_features=auto, regressor__n_estimators=300; total time=  26.6s\n",
      "[CV] END regressor=RandomForestRegressor(random_state=12345), regressor__max_depth=3, regressor__max_features=auto, regressor__n_estimators=300; total time=  26.7s\n",
      "[CV] END regressor=RandomForestRegressor(random_state=12345), regressor__max_depth=3, regressor__max_features=auto, regressor__n_estimators=500; total time=  44.9s\n",
      "[CV] END regressor=RandomForestRegressor(random_state=12345), regressor__max_depth=3, regressor__max_features=auto, regressor__n_estimators=500; total time=  44.9s\n",
      "[CV] END regressor=RandomForestRegressor(random_state=12345), regressor__max_depth=3, regressor__max_features=auto, regressor__n_estimators=500; total time=  44.4s\n",
      "[CV] END regressor=RandomForestRegressor(random_state=12345), regressor__max_depth=3, regressor__max_features=auto, regressor__n_estimators=500; total time=  45.1s\n",
      "[CV] END regressor=RandomForestRegressor(random_state=12345), regressor__max_depth=3, regressor__max_features=auto, regressor__n_estimators=500; total time=  44.8s\n",
      "[CV] END regressor=RandomForestRegressor(random_state=12345), regressor__max_depth=3, regressor__max_features=auto, regressor__n_estimators=1000; total time= 1.5min\n",
      "[CV] END regressor=RandomForestRegressor(random_state=12345), regressor__max_depth=3, regressor__max_features=auto, regressor__n_estimators=1000; total time= 1.5min\n",
      "[CV] END regressor=RandomForestRegressor(random_state=12345), regressor__max_depth=3, regressor__max_features=auto, regressor__n_estimators=1000; total time= 1.5min\n",
      "[CV] END regressor=RandomForestRegressor(random_state=12345), regressor__max_depth=3, regressor__max_features=auto, regressor__n_estimators=1000; total time= 1.5min\n",
      "[CV] END regressor=RandomForestRegressor(random_state=12345), regressor__max_depth=3, regressor__max_features=auto, regressor__n_estimators=1000; total time= 1.5min\n",
      "[CV] END regressor=RandomForestRegressor(random_state=12345), regressor__max_depth=5, regressor__max_features=log2, regressor__n_estimators=100; total time=   1.5s\n",
      "[CV] END regressor=RandomForestRegressor(random_state=12345), regressor__max_depth=5, regressor__max_features=log2, regressor__n_estimators=100; total time=   1.5s\n",
      "[CV] END regressor=RandomForestRegressor(random_state=12345), regressor__max_depth=5, regressor__max_features=log2, regressor__n_estimators=100; total time=   1.6s\n",
      "[CV] END regressor=RandomForestRegressor(random_state=12345), regressor__max_depth=5, regressor__max_features=log2, regressor__n_estimators=100; total time=   1.6s\n",
      "[CV] END regressor=RandomForestRegressor(random_state=12345), regressor__max_depth=5, regressor__max_features=log2, regressor__n_estimators=100; total time=   1.7s\n",
      "[CV] END regressor=RandomForestRegressor(random_state=12345), regressor__max_depth=5, regressor__max_features=log2, regressor__n_estimators=300; total time=   4.6s\n",
      "[CV] END regressor=RandomForestRegressor(random_state=12345), regressor__max_depth=5, regressor__max_features=log2, regressor__n_estimators=300; total time=   4.7s\n",
      "[CV] END regressor=RandomForestRegressor(random_state=12345), regressor__max_depth=5, regressor__max_features=log2, regressor__n_estimators=300; total time=   4.8s\n",
      "[CV] END regressor=RandomForestRegressor(random_state=12345), regressor__max_depth=5, regressor__max_features=log2, regressor__n_estimators=300; total time=   4.8s\n",
      "[CV] END regressor=RandomForestRegressor(random_state=12345), regressor__max_depth=5, regressor__max_features=log2, regressor__n_estimators=300; total time=   4.7s\n",
      "[CV] END regressor=RandomForestRegressor(random_state=12345), regressor__max_depth=5, regressor__max_features=log2, regressor__n_estimators=500; total time=   7.7s\n",
      "[CV] END regressor=RandomForestRegressor(random_state=12345), regressor__max_depth=5, regressor__max_features=log2, regressor__n_estimators=500; total time=   7.6s\n",
      "[CV] END regressor=RandomForestRegressor(random_state=12345), regressor__max_depth=5, regressor__max_features=log2, regressor__n_estimators=500; total time=   7.6s\n",
      "[CV] END regressor=RandomForestRegressor(random_state=12345), regressor__max_depth=5, regressor__max_features=log2, regressor__n_estimators=500; total time=   7.6s\n",
      "[CV] END regressor=RandomForestRegressor(random_state=12345), regressor__max_depth=5, regressor__max_features=log2, regressor__n_estimators=500; total time=   7.7s\n",
      "[CV] END regressor=RandomForestRegressor(random_state=12345), regressor__max_depth=5, regressor__max_features=log2, regressor__n_estimators=1000; total time=  15.4s\n",
      "[CV] END regressor=RandomForestRegressor(random_state=12345), regressor__max_depth=5, regressor__max_features=log2, regressor__n_estimators=1000; total time=  15.4s\n",
      "[CV] END regressor=RandomForestRegressor(random_state=12345), regressor__max_depth=5, regressor__max_features=log2, regressor__n_estimators=1000; total time=  15.0s\n",
      "[CV] END regressor=RandomForestRegressor(random_state=12345), regressor__max_depth=5, regressor__max_features=log2, regressor__n_estimators=1000; total time=  15.3s\n",
      "[CV] END regressor=RandomForestRegressor(random_state=12345), regressor__max_depth=5, regressor__max_features=log2, regressor__n_estimators=1000; total time=  15.5s\n",
      "[CV] END regressor=RandomForestRegressor(random_state=12345), regressor__max_depth=5, regressor__max_features=sqrt, regressor__n_estimators=100; total time=   2.0s\n",
      "[CV] END regressor=RandomForestRegressor(random_state=12345), regressor__max_depth=5, regressor__max_features=sqrt, regressor__n_estimators=100; total time=   2.1s\n",
      "[CV] END regressor=RandomForestRegressor(random_state=12345), regressor__max_depth=5, regressor__max_features=sqrt, regressor__n_estimators=100; total time=   2.0s\n",
      "[CV] END regressor=RandomForestRegressor(random_state=12345), regressor__max_depth=5, regressor__max_features=sqrt, regressor__n_estimators=100; total time=   2.1s\n",
      "[CV] END regressor=RandomForestRegressor(random_state=12345), regressor__max_depth=5, regressor__max_features=sqrt, regressor__n_estimators=100; total time=   2.1s\n",
      "[CV] END regressor=RandomForestRegressor(random_state=12345), regressor__max_depth=5, regressor__max_features=sqrt, regressor__n_estimators=300; total time=   6.1s\n",
      "[CV] END regressor=RandomForestRegressor(random_state=12345), regressor__max_depth=5, regressor__max_features=sqrt, regressor__n_estimators=300; total time=   6.2s\n",
      "[CV] END regressor=RandomForestRegressor(random_state=12345), regressor__max_depth=5, regressor__max_features=sqrt, regressor__n_estimators=300; total time=   6.1s\n",
      "[CV] END regressor=RandomForestRegressor(random_state=12345), regressor__max_depth=5, regressor__max_features=sqrt, regressor__n_estimators=300; total time=   6.2s\n",
      "[CV] END regressor=RandomForestRegressor(random_state=12345), regressor__max_depth=5, regressor__max_features=sqrt, regressor__n_estimators=300; total time=   6.3s\n",
      "[CV] END regressor=RandomForestRegressor(random_state=12345), regressor__max_depth=5, regressor__max_features=sqrt, regressor__n_estimators=500; total time=  10.3s\n",
      "[CV] END regressor=RandomForestRegressor(random_state=12345), regressor__max_depth=5, regressor__max_features=sqrt, regressor__n_estimators=500; total time=  10.4s\n",
      "[CV] END regressor=RandomForestRegressor(random_state=12345), regressor__max_depth=5, regressor__max_features=sqrt, regressor__n_estimators=500; total time=  10.3s\n",
      "[CV] END regressor=RandomForestRegressor(random_state=12345), regressor__max_depth=5, regressor__max_features=sqrt, regressor__n_estimators=500; total time=  10.5s\n",
      "[CV] END regressor=RandomForestRegressor(random_state=12345), regressor__max_depth=5, regressor__max_features=sqrt, regressor__n_estimators=500; total time=  10.4s\n",
      "[CV] END regressor=RandomForestRegressor(random_state=12345), regressor__max_depth=5, regressor__max_features=sqrt, regressor__n_estimators=1000; total time=  20.7s\n",
      "[CV] END regressor=RandomForestRegressor(random_state=12345), regressor__max_depth=5, regressor__max_features=sqrt, regressor__n_estimators=1000; total time=  21.1s\n",
      "[CV] END regressor=RandomForestRegressor(random_state=12345), regressor__max_depth=5, regressor__max_features=sqrt, regressor__n_estimators=1000; total time=  20.8s\n",
      "[CV] END regressor=RandomForestRegressor(random_state=12345), regressor__max_depth=5, regressor__max_features=sqrt, regressor__n_estimators=1000; total time=  21.2s\n",
      "[CV] END regressor=RandomForestRegressor(random_state=12345), regressor__max_depth=5, regressor__max_features=sqrt, regressor__n_estimators=1000; total time=  21.3s\n",
      "[CV] END regressor=RandomForestRegressor(random_state=12345), regressor__max_depth=5, regressor__max_features=auto, regressor__n_estimators=100; total time=  14.6s\n",
      "[CV] END regressor=RandomForestRegressor(random_state=12345), regressor__max_depth=5, regressor__max_features=auto, regressor__n_estimators=100; total time=  14.1s\n",
      "[CV] END regressor=RandomForestRegressor(random_state=12345), regressor__max_depth=5, regressor__max_features=auto, regressor__n_estimators=100; total time=  14.2s\n",
      "[CV] END regressor=RandomForestRegressor(random_state=12345), regressor__max_depth=5, regressor__max_features=auto, regressor__n_estimators=100; total time=  13.9s\n",
      "[CV] END regressor=RandomForestRegressor(random_state=12345), regressor__max_depth=5, regressor__max_features=auto, regressor__n_estimators=100; total time=  14.0s\n",
      "[CV] END regressor=RandomForestRegressor(random_state=12345), regressor__max_depth=5, regressor__max_features=auto, regressor__n_estimators=300; total time=  42.5s\n",
      "[CV] END regressor=RandomForestRegressor(random_state=12345), regressor__max_depth=5, regressor__max_features=auto, regressor__n_estimators=300; total time=  41.8s\n",
      "[CV] END regressor=RandomForestRegressor(random_state=12345), regressor__max_depth=5, regressor__max_features=auto, regressor__n_estimators=300; total time=  41.6s\n",
      "[CV] END regressor=RandomForestRegressor(random_state=12345), regressor__max_depth=5, regressor__max_features=auto, regressor__n_estimators=300; total time=  42.7s\n",
      "[CV] END regressor=RandomForestRegressor(random_state=12345), regressor__max_depth=5, regressor__max_features=auto, regressor__n_estimators=300; total time=  42.9s\n",
      "[CV] END regressor=RandomForestRegressor(random_state=12345), regressor__max_depth=5, regressor__max_features=auto, regressor__n_estimators=500; total time= 1.2min\n",
      "[CV] END regressor=RandomForestRegressor(random_state=12345), regressor__max_depth=5, regressor__max_features=auto, regressor__n_estimators=500; total time= 1.2min\n",
      "[CV] END regressor=RandomForestRegressor(random_state=12345), regressor__max_depth=5, regressor__max_features=auto, regressor__n_estimators=500; total time= 1.1min\n",
      "[CV] END regressor=RandomForestRegressor(random_state=12345), regressor__max_depth=5, regressor__max_features=auto, regressor__n_estimators=500; total time= 1.2min\n",
      "[CV] END regressor=RandomForestRegressor(random_state=12345), regressor__max_depth=5, regressor__max_features=auto, regressor__n_estimators=500; total time= 1.2min\n",
      "[CV] END regressor=RandomForestRegressor(random_state=12345), regressor__max_depth=5, regressor__max_features=auto, regressor__n_estimators=1000; total time= 2.4min\n",
      "[CV] END regressor=RandomForestRegressor(random_state=12345), regressor__max_depth=5, regressor__max_features=auto, regressor__n_estimators=1000; total time= 2.3min\n",
      "[CV] END regressor=RandomForestRegressor(random_state=12345), regressor__max_depth=5, regressor__max_features=auto, regressor__n_estimators=1000; total time= 2.3min\n",
      "[CV] END regressor=RandomForestRegressor(random_state=12345), regressor__max_depth=5, regressor__max_features=auto, regressor__n_estimators=1000; total time= 2.4min\n",
      "[CV] END regressor=RandomForestRegressor(random_state=12345), regressor__max_depth=5, regressor__max_features=auto, regressor__n_estimators=1000; total time= 2.3min\n",
      "[CV] END regressor=RandomForestRegressor(random_state=12345), regressor__max_depth=8, regressor__max_features=log2, regressor__n_estimators=100; total time=   2.3s\n",
      "[CV] END regressor=RandomForestRegressor(random_state=12345), regressor__max_depth=8, regressor__max_features=log2, regressor__n_estimators=100; total time=   2.2s\n",
      "[CV] END regressor=RandomForestRegressor(random_state=12345), regressor__max_depth=8, regressor__max_features=log2, regressor__n_estimators=100; total time=   2.3s\n",
      "[CV] END regressor=RandomForestRegressor(random_state=12345), regressor__max_depth=8, regressor__max_features=log2, regressor__n_estimators=100; total time=   2.3s\n",
      "[CV] END regressor=RandomForestRegressor(random_state=12345), regressor__max_depth=8, regressor__max_features=log2, regressor__n_estimators=100; total time=   2.4s\n",
      "[CV] END regressor=RandomForestRegressor(random_state=12345), regressor__max_depth=8, regressor__max_features=log2, regressor__n_estimators=300; total time=   6.8s\n",
      "[CV] END regressor=RandomForestRegressor(random_state=12345), regressor__max_depth=8, regressor__max_features=log2, regressor__n_estimators=300; total time=   6.9s\n",
      "[CV] END regressor=RandomForestRegressor(random_state=12345), regressor__max_depth=8, regressor__max_features=log2, regressor__n_estimators=300; total time=   6.7s\n",
      "[CV] END regressor=RandomForestRegressor(random_state=12345), regressor__max_depth=8, regressor__max_features=log2, regressor__n_estimators=300; total time=   6.8s\n",
      "[CV] END regressor=RandomForestRegressor(random_state=12345), regressor__max_depth=8, regressor__max_features=log2, regressor__n_estimators=300; total time=   7.0s\n",
      "[CV] END regressor=RandomForestRegressor(random_state=12345), regressor__max_depth=8, regressor__max_features=log2, regressor__n_estimators=500; total time=  11.5s\n",
      "[CV] END regressor=RandomForestRegressor(random_state=12345), regressor__max_depth=8, regressor__max_features=log2, regressor__n_estimators=500; total time=  11.3s\n",
      "[CV] END regressor=RandomForestRegressor(random_state=12345), regressor__max_depth=8, regressor__max_features=log2, regressor__n_estimators=500; total time=  11.3s\n",
      "[CV] END regressor=RandomForestRegressor(random_state=12345), regressor__max_depth=8, regressor__max_features=log2, regressor__n_estimators=500; total time=  11.5s\n",
      "[CV] END regressor=RandomForestRegressor(random_state=12345), regressor__max_depth=8, regressor__max_features=log2, regressor__n_estimators=500; total time=  11.2s\n",
      "[CV] END regressor=RandomForestRegressor(random_state=12345), regressor__max_depth=8, regressor__max_features=log2, regressor__n_estimators=1000; total time=  22.4s\n",
      "[CV] END regressor=RandomForestRegressor(random_state=12345), regressor__max_depth=8, regressor__max_features=log2, regressor__n_estimators=1000; total time=  22.8s\n",
      "[CV] END regressor=RandomForestRegressor(random_state=12345), regressor__max_depth=8, regressor__max_features=log2, regressor__n_estimators=1000; total time=  22.4s\n",
      "[CV] END regressor=RandomForestRegressor(random_state=12345), regressor__max_depth=8, regressor__max_features=log2, regressor__n_estimators=1000; total time=  22.6s\n",
      "[CV] END regressor=RandomForestRegressor(random_state=12345), regressor__max_depth=8, regressor__max_features=log2, regressor__n_estimators=1000; total time=  22.5s\n",
      "[CV] END regressor=RandomForestRegressor(random_state=12345), regressor__max_depth=8, regressor__max_features=sqrt, regressor__n_estimators=100; total time=   3.1s\n",
      "[CV] END regressor=RandomForestRegressor(random_state=12345), regressor__max_depth=8, regressor__max_features=sqrt, regressor__n_estimators=100; total time=   3.0s\n",
      "[CV] END regressor=RandomForestRegressor(random_state=12345), regressor__max_depth=8, regressor__max_features=sqrt, regressor__n_estimators=100; total time=   3.0s\n",
      "[CV] END regressor=RandomForestRegressor(random_state=12345), regressor__max_depth=8, regressor__max_features=sqrt, regressor__n_estimators=100; total time=   3.2s\n",
      "[CV] END regressor=RandomForestRegressor(random_state=12345), regressor__max_depth=8, regressor__max_features=sqrt, regressor__n_estimators=100; total time=   3.1s\n",
      "[CV] END regressor=RandomForestRegressor(random_state=12345), regressor__max_depth=8, regressor__max_features=sqrt, regressor__n_estimators=300; total time=   9.2s\n",
      "[CV] END regressor=RandomForestRegressor(random_state=12345), regressor__max_depth=8, regressor__max_features=sqrt, regressor__n_estimators=300; total time=   9.3s\n",
      "[CV] END regressor=RandomForestRegressor(random_state=12345), regressor__max_depth=8, regressor__max_features=sqrt, regressor__n_estimators=300; total time=   9.0s\n",
      "[CV] END regressor=RandomForestRegressor(random_state=12345), regressor__max_depth=8, regressor__max_features=sqrt, regressor__n_estimators=300; total time=   9.3s\n",
      "[CV] END regressor=RandomForestRegressor(random_state=12345), regressor__max_depth=8, regressor__max_features=sqrt, regressor__n_estimators=300; total time=   9.2s\n",
      "[CV] END regressor=RandomForestRegressor(random_state=12345), regressor__max_depth=8, regressor__max_features=sqrt, regressor__n_estimators=500; total time=  15.2s\n",
      "[CV] END regressor=RandomForestRegressor(random_state=12345), regressor__max_depth=8, regressor__max_features=sqrt, regressor__n_estimators=500; total time=  15.0s\n",
      "[CV] END regressor=RandomForestRegressor(random_state=12345), regressor__max_depth=8, regressor__max_features=sqrt, regressor__n_estimators=500; total time=  15.1s\n",
      "[CV] END regressor=RandomForestRegressor(random_state=12345), regressor__max_depth=8, regressor__max_features=sqrt, regressor__n_estimators=500; total time=  15.4s\n",
      "[CV] END regressor=RandomForestRegressor(random_state=12345), regressor__max_depth=8, regressor__max_features=sqrt, regressor__n_estimators=500; total time=  15.4s\n",
      "[CV] END regressor=RandomForestRegressor(random_state=12345), regressor__max_depth=8, regressor__max_features=sqrt, regressor__n_estimators=1000; total time=  30.7s\n",
      "[CV] END regressor=RandomForestRegressor(random_state=12345), regressor__max_depth=8, regressor__max_features=sqrt, regressor__n_estimators=1000; total time=  30.7s\n",
      "[CV] END regressor=RandomForestRegressor(random_state=12345), regressor__max_depth=8, regressor__max_features=sqrt, regressor__n_estimators=1000; total time=  30.5s\n",
      "[CV] END regressor=RandomForestRegressor(random_state=12345), regressor__max_depth=8, regressor__max_features=sqrt, regressor__n_estimators=1000; total time=  30.5s\n",
      "[CV] END regressor=RandomForestRegressor(random_state=12345), regressor__max_depth=8, regressor__max_features=sqrt, regressor__n_estimators=1000; total time=  31.7s\n",
      "[CV] END regressor=RandomForestRegressor(random_state=12345), regressor__max_depth=8, regressor__max_features=auto, regressor__n_estimators=100; total time=  21.5s\n",
      "[CV] END regressor=RandomForestRegressor(random_state=12345), regressor__max_depth=8, regressor__max_features=auto, regressor__n_estimators=100; total time=  21.1s\n",
      "[CV] END regressor=RandomForestRegressor(random_state=12345), regressor__max_depth=8, regressor__max_features=auto, regressor__n_estimators=100; total time=  20.8s\n",
      "[CV] END regressor=RandomForestRegressor(random_state=12345), regressor__max_depth=8, regressor__max_features=auto, regressor__n_estimators=100; total time=  21.1s\n",
      "[CV] END regressor=RandomForestRegressor(random_state=12345), regressor__max_depth=8, regressor__max_features=auto, regressor__n_estimators=100; total time=  21.6s\n",
      "[CV] END regressor=RandomForestRegressor(random_state=12345), regressor__max_depth=8, regressor__max_features=auto, regressor__n_estimators=300; total time= 1.1min\n",
      "[CV] END regressor=RandomForestRegressor(random_state=12345), regressor__max_depth=8, regressor__max_features=auto, regressor__n_estimators=300; total time= 1.0min\n",
      "[CV] END regressor=RandomForestRegressor(random_state=12345), regressor__max_depth=8, regressor__max_features=auto, regressor__n_estimators=300; total time= 1.1min\n",
      "[CV] END regressor=RandomForestRegressor(random_state=12345), regressor__max_depth=8, regressor__max_features=auto, regressor__n_estimators=300; total time= 1.1min\n",
      "[CV] END regressor=RandomForestRegressor(random_state=12345), regressor__max_depth=8, regressor__max_features=auto, regressor__n_estimators=300; total time= 1.1min\n",
      "[CV] END regressor=RandomForestRegressor(random_state=12345), regressor__max_depth=8, regressor__max_features=auto, regressor__n_estimators=500; total time= 1.8min\n",
      "[CV] END regressor=RandomForestRegressor(random_state=12345), regressor__max_depth=8, regressor__max_features=auto, regressor__n_estimators=500; total time= 1.8min\n",
      "[CV] END regressor=RandomForestRegressor(random_state=12345), regressor__max_depth=8, regressor__max_features=auto, regressor__n_estimators=500; total time= 1.8min\n",
      "[CV] END regressor=RandomForestRegressor(random_state=12345), regressor__max_depth=8, regressor__max_features=auto, regressor__n_estimators=500; total time= 1.8min\n",
      "[CV] END regressor=RandomForestRegressor(random_state=12345), regressor__max_depth=8, regressor__max_features=auto, regressor__n_estimators=500; total time= 1.8min\n",
      "[CV] END regressor=RandomForestRegressor(random_state=12345), regressor__max_depth=8, regressor__max_features=auto, regressor__n_estimators=1000; total time= 3.6min\n",
      "[CV] END regressor=RandomForestRegressor(random_state=12345), regressor__max_depth=8, regressor__max_features=auto, regressor__n_estimators=1000; total time= 3.5min\n",
      "[CV] END regressor=RandomForestRegressor(random_state=12345), regressor__max_depth=8, regressor__max_features=auto, regressor__n_estimators=1000; total time= 3.5min\n",
      "[CV] END regressor=RandomForestRegressor(random_state=12345), regressor__max_depth=8, regressor__max_features=auto, regressor__n_estimators=1000; total time= 3.6min\n",
      "[CV] END regressor=RandomForestRegressor(random_state=12345), regressor__max_depth=8, regressor__max_features=auto, regressor__n_estimators=1000; total time= 3.5min\n",
      "[CV] END regressor=RandomForestRegressor(random_state=12345), regressor__max_depth=15, regressor__max_features=log2, regressor__n_estimators=100; total time=   3.6s\n",
      "[CV] END regressor=RandomForestRegressor(random_state=12345), regressor__max_depth=15, regressor__max_features=log2, regressor__n_estimators=100; total time=   3.5s\n",
      "[CV] END regressor=RandomForestRegressor(random_state=12345), regressor__max_depth=15, regressor__max_features=log2, regressor__n_estimators=100; total time=   3.6s\n",
      "[CV] END regressor=RandomForestRegressor(random_state=12345), regressor__max_depth=15, regressor__max_features=log2, regressor__n_estimators=100; total time=   3.8s\n",
      "[CV] END regressor=RandomForestRegressor(random_state=12345), regressor__max_depth=15, regressor__max_features=log2, regressor__n_estimators=100; total time=   3.8s\n",
      "[CV] END regressor=RandomForestRegressor(random_state=12345), regressor__max_depth=15, regressor__max_features=log2, regressor__n_estimators=300; total time=  11.1s\n",
      "[CV] END regressor=RandomForestRegressor(random_state=12345), regressor__max_depth=15, regressor__max_features=log2, regressor__n_estimators=300; total time=  10.9s\n",
      "[CV] END regressor=RandomForestRegressor(random_state=12345), regressor__max_depth=15, regressor__max_features=log2, regressor__n_estimators=300; total time=  10.9s\n",
      "[CV] END regressor=RandomForestRegressor(random_state=12345), regressor__max_depth=15, regressor__max_features=log2, regressor__n_estimators=300; total time=  11.3s\n",
      "[CV] END regressor=RandomForestRegressor(random_state=12345), regressor__max_depth=15, regressor__max_features=log2, regressor__n_estimators=300; total time=  11.2s\n",
      "[CV] END regressor=RandomForestRegressor(random_state=12345), regressor__max_depth=15, regressor__max_features=log2, regressor__n_estimators=500; total time=  18.3s\n",
      "[CV] END regressor=RandomForestRegressor(random_state=12345), regressor__max_depth=15, regressor__max_features=log2, regressor__n_estimators=500; total time=  17.9s\n",
      "[CV] END regressor=RandomForestRegressor(random_state=12345), regressor__max_depth=15, regressor__max_features=log2, regressor__n_estimators=500; total time=  18.3s\n",
      "[CV] END regressor=RandomForestRegressor(random_state=12345), regressor__max_depth=15, regressor__max_features=log2, regressor__n_estimators=500; total time=  17.9s\n",
      "[CV] END regressor=RandomForestRegressor(random_state=12345), regressor__max_depth=15, regressor__max_features=log2, regressor__n_estimators=500; total time=  18.4s\n",
      "[CV] END regressor=RandomForestRegressor(random_state=12345), regressor__max_depth=15, regressor__max_features=log2, regressor__n_estimators=1000; total time=  36.5s\n",
      "[CV] END regressor=RandomForestRegressor(random_state=12345), regressor__max_depth=15, regressor__max_features=log2, regressor__n_estimators=1000; total time=  35.9s\n",
      "[CV] END regressor=RandomForestRegressor(random_state=12345), regressor__max_depth=15, regressor__max_features=log2, regressor__n_estimators=1000; total time=  36.0s\n",
      "[CV] END regressor=RandomForestRegressor(random_state=12345), regressor__max_depth=15, regressor__max_features=log2, regressor__n_estimators=1000; total time=  36.9s\n",
      "[CV] END regressor=RandomForestRegressor(random_state=12345), regressor__max_depth=15, regressor__max_features=log2, regressor__n_estimators=1000; total time=  37.7s\n",
      "[CV] END regressor=RandomForestRegressor(random_state=12345), regressor__max_depth=15, regressor__max_features=sqrt, regressor__n_estimators=100; total time=   4.9s\n",
      "[CV] END regressor=RandomForestRegressor(random_state=12345), regressor__max_depth=15, regressor__max_features=sqrt, regressor__n_estimators=100; total time=   5.0s\n",
      "[CV] END regressor=RandomForestRegressor(random_state=12345), regressor__max_depth=15, regressor__max_features=sqrt, regressor__n_estimators=100; total time=   5.1s\n",
      "[CV] END regressor=RandomForestRegressor(random_state=12345), regressor__max_depth=15, regressor__max_features=sqrt, regressor__n_estimators=100; total time=   4.9s\n",
      "[CV] END regressor=RandomForestRegressor(random_state=12345), regressor__max_depth=15, regressor__max_features=sqrt, regressor__n_estimators=100; total time=   4.9s\n",
      "[CV] END regressor=RandomForestRegressor(random_state=12345), regressor__max_depth=15, regressor__max_features=sqrt, regressor__n_estimators=300; total time=  15.0s\n",
      "[CV] END regressor=RandomForestRegressor(random_state=12345), regressor__max_depth=15, regressor__max_features=sqrt, regressor__n_estimators=300; total time=  14.8s\n",
      "[CV] END regressor=RandomForestRegressor(random_state=12345), regressor__max_depth=15, regressor__max_features=sqrt, regressor__n_estimators=300; total time=  14.9s\n",
      "[CV] END regressor=RandomForestRegressor(random_state=12345), regressor__max_depth=15, regressor__max_features=sqrt, regressor__n_estimators=300; total time=  14.9s\n",
      "[CV] END regressor=RandomForestRegressor(random_state=12345), regressor__max_depth=15, regressor__max_features=sqrt, regressor__n_estimators=300; total time=  15.1s\n",
      "[CV] END regressor=RandomForestRegressor(random_state=12345), regressor__max_depth=15, regressor__max_features=sqrt, regressor__n_estimators=500; total time=  24.9s\n",
      "[CV] END regressor=RandomForestRegressor(random_state=12345), regressor__max_depth=15, regressor__max_features=sqrt, regressor__n_estimators=500; total time=  25.5s\n",
      "[CV] END regressor=RandomForestRegressor(random_state=12345), regressor__max_depth=15, regressor__max_features=sqrt, regressor__n_estimators=500; total time=  24.4s\n",
      "[CV] END regressor=RandomForestRegressor(random_state=12345), regressor__max_depth=15, regressor__max_features=sqrt, regressor__n_estimators=500; total time=  25.4s\n",
      "[CV] END regressor=RandomForestRegressor(random_state=12345), regressor__max_depth=15, regressor__max_features=sqrt, regressor__n_estimators=500; total time=  26.1s\n",
      "[CV] END regressor=RandomForestRegressor(random_state=12345), regressor__max_depth=15, regressor__max_features=sqrt, regressor__n_estimators=1000; total time=  50.1s\n",
      "[CV] END regressor=RandomForestRegressor(random_state=12345), regressor__max_depth=15, regressor__max_features=sqrt, regressor__n_estimators=1000; total time=  48.7s\n",
      "[CV] END regressor=RandomForestRegressor(random_state=12345), regressor__max_depth=15, regressor__max_features=sqrt, regressor__n_estimators=1000; total time=  49.9s\n",
      "[CV] END regressor=RandomForestRegressor(random_state=12345), regressor__max_depth=15, regressor__max_features=sqrt, regressor__n_estimators=1000; total time=  50.1s\n",
      "[CV] END regressor=RandomForestRegressor(random_state=12345), regressor__max_depth=15, regressor__max_features=sqrt, regressor__n_estimators=1000; total time=  51.7s\n",
      "[CV] END regressor=RandomForestRegressor(random_state=12345), regressor__max_depth=15, regressor__max_features=auto, regressor__n_estimators=100; total time=  35.3s\n",
      "[CV] END regressor=RandomForestRegressor(random_state=12345), regressor__max_depth=15, regressor__max_features=auto, regressor__n_estimators=100; total time=  34.1s\n",
      "[CV] END regressor=RandomForestRegressor(random_state=12345), regressor__max_depth=15, regressor__max_features=auto, regressor__n_estimators=100; total time=  33.1s\n",
      "[CV] END regressor=RandomForestRegressor(random_state=12345), regressor__max_depth=15, regressor__max_features=auto, regressor__n_estimators=100; total time=  33.4s\n",
      "[CV] END regressor=RandomForestRegressor(random_state=12345), regressor__max_depth=15, regressor__max_features=auto, regressor__n_estimators=100; total time=  35.1s\n",
      "[CV] END regressor=RandomForestRegressor(random_state=12345), regressor__max_depth=15, regressor__max_features=auto, regressor__n_estimators=300; total time= 1.7min\n",
      "[CV] END regressor=RandomForestRegressor(random_state=12345), regressor__max_depth=15, regressor__max_features=auto, regressor__n_estimators=300; total time= 1.7min\n",
      "[CV] END regressor=RandomForestRegressor(random_state=12345), regressor__max_depth=15, regressor__max_features=auto, regressor__n_estimators=300; total time= 1.6min\n",
      "[CV] END regressor=RandomForestRegressor(random_state=12345), regressor__max_depth=15, regressor__max_features=auto, regressor__n_estimators=300; total time= 1.7min\n",
      "[CV] END regressor=RandomForestRegressor(random_state=12345), regressor__max_depth=15, regressor__max_features=auto, regressor__n_estimators=300; total time= 1.7min\n",
      "[CV] END regressor=RandomForestRegressor(random_state=12345), regressor__max_depth=15, regressor__max_features=auto, regressor__n_estimators=500; total time= 2.9min\n",
      "[CV] END regressor=RandomForestRegressor(random_state=12345), regressor__max_depth=15, regressor__max_features=auto, regressor__n_estimators=500; total time= 2.8min\n",
      "[CV] END regressor=RandomForestRegressor(random_state=12345), regressor__max_depth=15, regressor__max_features=auto, regressor__n_estimators=500; total time= 2.9min\n",
      "[CV] END regressor=RandomForestRegressor(random_state=12345), regressor__max_depth=15, regressor__max_features=auto, regressor__n_estimators=500; total time= 3.0min\n",
      "[CV] END regressor=RandomForestRegressor(random_state=12345), regressor__max_depth=15, regressor__max_features=auto, regressor__n_estimators=500; total time= 3.0min\n",
      "[CV] END regressor=RandomForestRegressor(random_state=12345), regressor__max_depth=15, regressor__max_features=auto, regressor__n_estimators=1000; total time= 5.9min\n",
      "[CV] END regressor=RandomForestRegressor(random_state=12345), regressor__max_depth=15, regressor__max_features=auto, regressor__n_estimators=1000; total time= 5.7min\n",
      "[CV] END regressor=RandomForestRegressor(random_state=12345), regressor__max_depth=15, regressor__max_features=auto, regressor__n_estimators=1000; total time= 5.6min\n",
      "[CV] END regressor=RandomForestRegressor(random_state=12345), regressor__max_depth=15, regressor__max_features=auto, regressor__n_estimators=1000; total time= 5.6min\n",
      "[CV] END regressor=RandomForestRegressor(random_state=12345), regressor__max_depth=15, regressor__max_features=auto, regressor__n_estimators=1000; total time= 5.8min\n",
      "[CV] END regressor=DecisionTreeRegressor(random_state=12345), regressor__max_depth=3, regressor__max_features=log2; total time=   0.0s\n",
      "[CV] END regressor=DecisionTreeRegressor(random_state=12345), regressor__max_depth=3, regressor__max_features=log2; total time=   0.0s\n",
      "[CV] END regressor=DecisionTreeRegressor(random_state=12345), regressor__max_depth=3, regressor__max_features=log2; total time=   0.0s\n",
      "[CV] END regressor=DecisionTreeRegressor(random_state=12345), regressor__max_depth=3, regressor__max_features=log2; total time=   0.0s\n",
      "[CV] END regressor=DecisionTreeRegressor(random_state=12345), regressor__max_depth=3, regressor__max_features=log2; total time=   0.1s\n",
      "[CV] END regressor=DecisionTreeRegressor(random_state=12345), regressor__max_depth=3, regressor__max_features=sqrt; total time=   0.1s\n",
      "[CV] END regressor=DecisionTreeRegressor(random_state=12345), regressor__max_depth=3, regressor__max_features=sqrt; total time=   0.1s\n",
      "[CV] END regressor=DecisionTreeRegressor(random_state=12345), regressor__max_depth=3, regressor__max_features=sqrt; total time=   0.1s\n",
      "[CV] END regressor=DecisionTreeRegressor(random_state=12345), regressor__max_depth=3, regressor__max_features=sqrt; total time=   0.1s\n",
      "[CV] END regressor=DecisionTreeRegressor(random_state=12345), regressor__max_depth=3, regressor__max_features=sqrt; total time=   0.1s\n",
      "[CV] END regressor=DecisionTreeRegressor(random_state=12345), regressor__max_depth=3, regressor__max_features=auto; total time=   0.2s\n",
      "[CV] END regressor=DecisionTreeRegressor(random_state=12345), regressor__max_depth=3, regressor__max_features=auto; total time=   0.2s\n",
      "[CV] END regressor=DecisionTreeRegressor(random_state=12345), regressor__max_depth=3, regressor__max_features=auto; total time=   0.2s\n",
      "[CV] END regressor=DecisionTreeRegressor(random_state=12345), regressor__max_depth=3, regressor__max_features=auto; total time=   0.2s\n",
      "[CV] END regressor=DecisionTreeRegressor(random_state=12345), regressor__max_depth=3, regressor__max_features=auto; total time=   0.2s\n",
      "[CV] END regressor=DecisionTreeRegressor(random_state=12345), regressor__max_depth=5, regressor__max_features=log2; total time=   0.1s\n",
      "[CV] END regressor=DecisionTreeRegressor(random_state=12345), regressor__max_depth=5, regressor__max_features=log2; total time=   0.1s\n",
      "[CV] END regressor=DecisionTreeRegressor(random_state=12345), regressor__max_depth=5, regressor__max_features=log2; total time=   0.1s\n",
      "[CV] END regressor=DecisionTreeRegressor(random_state=12345), regressor__max_depth=5, regressor__max_features=log2; total time=   0.1s\n",
      "[CV] END regressor=DecisionTreeRegressor(random_state=12345), regressor__max_depth=5, regressor__max_features=log2; total time=   0.1s\n",
      "[CV] END regressor=DecisionTreeRegressor(random_state=12345), regressor__max_depth=5, regressor__max_features=sqrt; total time=   0.1s\n",
      "[CV] END regressor=DecisionTreeRegressor(random_state=12345), regressor__max_depth=5, regressor__max_features=sqrt; total time=   0.1s\n",
      "[CV] END regressor=DecisionTreeRegressor(random_state=12345), regressor__max_depth=5, regressor__max_features=sqrt; total time=   0.1s\n",
      "[CV] END regressor=DecisionTreeRegressor(random_state=12345), regressor__max_depth=5, regressor__max_features=sqrt; total time=   0.1s\n",
      "[CV] END regressor=DecisionTreeRegressor(random_state=12345), regressor__max_depth=5, regressor__max_features=sqrt; total time=   0.1s\n",
      "[CV] END regressor=DecisionTreeRegressor(random_state=12345), regressor__max_depth=5, regressor__max_features=auto; total time=   0.3s\n",
      "[CV] END regressor=DecisionTreeRegressor(random_state=12345), regressor__max_depth=5, regressor__max_features=auto; total time=   0.3s\n",
      "[CV] END regressor=DecisionTreeRegressor(random_state=12345), regressor__max_depth=5, regressor__max_features=auto; total time=   0.3s\n",
      "[CV] END regressor=DecisionTreeRegressor(random_state=12345), regressor__max_depth=5, regressor__max_features=auto; total time=   0.2s\n",
      "[CV] END regressor=DecisionTreeRegressor(random_state=12345), regressor__max_depth=5, regressor__max_features=auto; total time=   0.3s\n",
      "[CV] END regressor=DecisionTreeRegressor(random_state=12345), regressor__max_depth=8, regressor__max_features=log2; total time=   0.1s\n",
      "[CV] END regressor=DecisionTreeRegressor(random_state=12345), regressor__max_depth=8, regressor__max_features=log2; total time=   0.1s\n",
      "[CV] END regressor=DecisionTreeRegressor(random_state=12345), regressor__max_depth=8, regressor__max_features=log2; total time=   0.1s\n",
      "[CV] END regressor=DecisionTreeRegressor(random_state=12345), regressor__max_depth=8, regressor__max_features=log2; total time=   0.1s\n",
      "[CV] END regressor=DecisionTreeRegressor(random_state=12345), regressor__max_depth=8, regressor__max_features=log2; total time=   0.1s\n",
      "[CV] END regressor=DecisionTreeRegressor(random_state=12345), regressor__max_depth=8, regressor__max_features=sqrt; total time=   0.1s\n",
      "[CV] END regressor=DecisionTreeRegressor(random_state=12345), regressor__max_depth=8, regressor__max_features=sqrt; total time=   0.1s\n",
      "[CV] END regressor=DecisionTreeRegressor(random_state=12345), regressor__max_depth=8, regressor__max_features=sqrt; total time=   0.1s\n",
      "[CV] END regressor=DecisionTreeRegressor(random_state=12345), regressor__max_depth=8, regressor__max_features=sqrt; total time=   0.1s\n",
      "[CV] END regressor=DecisionTreeRegressor(random_state=12345), regressor__max_depth=8, regressor__max_features=sqrt; total time=   0.1s\n",
      "[CV] END regressor=DecisionTreeRegressor(random_state=12345), regressor__max_depth=8, regressor__max_features=auto; total time=   0.4s\n",
      "[CV] END regressor=DecisionTreeRegressor(random_state=12345), regressor__max_depth=8, regressor__max_features=auto; total time=   0.4s\n",
      "[CV] END regressor=DecisionTreeRegressor(random_state=12345), regressor__max_depth=8, regressor__max_features=auto; total time=   0.4s\n",
      "[CV] END regressor=DecisionTreeRegressor(random_state=12345), regressor__max_depth=8, regressor__max_features=auto; total time=   0.4s\n",
      "[CV] END regressor=DecisionTreeRegressor(random_state=12345), regressor__max_depth=8, regressor__max_features=auto; total time=   0.4s\n",
      "[CV] END regressor=DecisionTreeRegressor(random_state=12345), regressor__max_depth=15, regressor__max_features=log2; total time=   0.1s\n",
      "[CV] END regressor=DecisionTreeRegressor(random_state=12345), regressor__max_depth=15, regressor__max_features=log2; total time=   0.1s\n",
      "[CV] END regressor=DecisionTreeRegressor(random_state=12345), regressor__max_depth=15, regressor__max_features=log2; total time=   0.1s\n",
      "[CV] END regressor=DecisionTreeRegressor(random_state=12345), regressor__max_depth=15, regressor__max_features=log2; total time=   0.1s\n",
      "[CV] END regressor=DecisionTreeRegressor(random_state=12345), regressor__max_depth=15, regressor__max_features=log2; total time=   0.1s\n",
      "[CV] END regressor=DecisionTreeRegressor(random_state=12345), regressor__max_depth=15, regressor__max_features=sqrt; total time=   0.1s\n",
      "[CV] END regressor=DecisionTreeRegressor(random_state=12345), regressor__max_depth=15, regressor__max_features=sqrt; total time=   0.1s\n",
      "[CV] END regressor=DecisionTreeRegressor(random_state=12345), regressor__max_depth=15, regressor__max_features=sqrt; total time=   0.1s\n",
      "[CV] END regressor=DecisionTreeRegressor(random_state=12345), regressor__max_depth=15, regressor__max_features=sqrt; total time=   0.1s\n",
      "[CV] END regressor=DecisionTreeRegressor(random_state=12345), regressor__max_depth=15, regressor__max_features=sqrt; total time=   0.1s\n",
      "[CV] END regressor=DecisionTreeRegressor(random_state=12345), regressor__max_depth=15, regressor__max_features=auto; total time=   0.6s\n",
      "[CV] END regressor=DecisionTreeRegressor(random_state=12345), regressor__max_depth=15, regressor__max_features=auto; total time=   0.6s\n",
      "[CV] END regressor=DecisionTreeRegressor(random_state=12345), regressor__max_depth=15, regressor__max_features=auto; total time=   0.6s\n",
      "[CV] END regressor=DecisionTreeRegressor(random_state=12345), regressor__max_depth=15, regressor__max_features=auto; total time=   0.6s\n",
      "[CV] END regressor=DecisionTreeRegressor(random_state=12345), regressor__max_depth=15, regressor__max_features=auto; total time=   0.6s\n",
      "Pipeline(steps=[('scaler', StandardScaler()),\n",
      "                ('regressor',\n",
      "                 RandomForestRegressor(max_depth=5, max_features='sqrt',\n",
      "                                       n_estimators=500, random_state=12345))])\n",
      "2.9249610369831798\n"
     ]
    }
   ],
   "source": [
    "pipe = Pipeline( [('scaler', StandardScaler()), \n",
    "                  ('regressor', LinearRegression())] ) \n",
    "#создадим PipeLine\n",
    "\n",
    "param_grid = [\n",
    "    {\n",
    "    'regressor': [LinearRegression()]\n",
    "    },\n",
    "    {\n",
    "        \"regressor\": [RandomForestRegressor(random_state=12345)],\n",
    "        \"regressor__n_estimators\": [100, 300, 500, 1000],\n",
    "        \"regressor__max_depth\": [3, 5, 8, 15],\n",
    "        \"regressor__max_features\": [\"log2\", \"sqrt\", \"auto\"]\n",
    "    },\n",
    "    {\n",
    "        \"regressor\": [DecisionTreeRegressor(random_state=12345)],\n",
    "        \"regressor__max_depth\": [3, 5, 8, 15],\n",
    "        \"regressor__max_features\": [\"log2\", \"sqrt\", \"auto\"]\n",
    "    }]\n",
    "#зададим модели и параметры для перебора\n",
    "\n",
    "\n",
    "grid = GridSearchCV(pipe, param_grid=param_grid, cv=5, scoring=smape_scorer, verbose=2)\n",
    "#передадим в GridSearchCV параметры и PipeLine\n",
    "\n",
    "grid.fit(df_train_features, df_train_final_target)\\\n",
    "#обучим grid\n",
    "\n",
    "print(f'Лучшие параметры: {grid.best_estimator_}')\n",
    "print(f'sMAPE лучшей модели: {np.sqrt(-grid.best_score_)}')\n",
    "#выведем лучшие параметры и результат sMAPE лучшей модели"
   ]
  },
  {
   "cell_type": "markdown",
   "metadata": {},
   "source": [
    "Построим модели по выбранным гиперпараметрам."
   ]
  },
  {
   "cell_type": "code",
   "execution_count": 35,
   "metadata": {},
   "outputs": [],
   "source": [
    "scaler = StandardScaler()\n",
    "scaler.fit(df_train_features)\n",
    "#создадим скэлер\n",
    "\n",
    "df_train_features_scaled = scaler.transform(df_train_features)\n",
    "df_train_features_scaled = pd.DataFrame(df_train_features_scaled, columns=df_train_features.columns)\n",
    "#преобразуем данные в обучающей выборке"
   ]
  },
  {
   "cell_type": "code",
   "execution_count": 38,
   "metadata": {},
   "outputs": [
    {
     "data": {
      "text/plain": [
       "RandomForestRegressor(max_depth=5, max_features='log2', n_estimators=300,\n",
       "                      random_state=12345)"
      ]
     },
     "execution_count": 38,
     "metadata": {},
     "output_type": "execute_result"
    }
   ],
   "source": [
    "model_rougher = RandomForestRegressor(max_depth=5, \n",
    "                                      max_features='log2',\n",
    "                                      n_estimators=300, \n",
    "                                      random_state=12345)\n",
    "\n",
    "#создадим модель для rougher\n",
    "\n",
    "model_rougher.fit(df_train_features_scaled, df_train_rougher_target)\n",
    "#обучим модель на обучающей выборке"
   ]
  },
  {
   "cell_type": "code",
   "execution_count": 40,
   "metadata": {},
   "outputs": [
    {
     "data": {
      "text/plain": [
       "RandomForestRegressor(max_depth=5, max_features='sqrt', n_estimators=500,\n",
       "                      random_state=12345)"
      ]
     },
     "execution_count": 40,
     "metadata": {},
     "output_type": "execute_result"
    }
   ],
   "source": [
    "model_final = RandomForestRegressor(max_depth=5, \n",
    "                                    max_features='sqrt',\n",
    "                                    n_estimators=500,\n",
    "                                    random_state=12345)\n",
    "#создадим модель для final\n",
    "\n",
    "model_final.fit(df_train_features_scaled, df_train_final_target)\n",
    "#обучим модель на обучающей выборке"
   ]
  },
  {
   "cell_type": "markdown",
   "metadata": {},
   "source": [
    "Сделаем предсказание на тестовой выборке и проверим RMSE модели."
   ]
  },
  {
   "cell_type": "code",
   "execution_count": 41,
   "metadata": {},
   "outputs": [
    {
     "name": "stdout",
     "output_type": "stream",
     "text": [
      "sMAPE модели: 5.860993914877397\n"
     ]
    }
   ],
   "source": [
    "predict_rougher = model_rougher.predict(df_test)\n",
    "#сделаем предсказание\n",
    "\n",
    "print(f'sMAPE модели: {smape_score(df_test_rougher_target, predict_rougher)}')\n",
    "#выведем значение sMAPE"
   ]
  },
  {
   "cell_type": "code",
   "execution_count": 43,
   "metadata": {},
   "outputs": [
    {
     "name": "stdout",
     "output_type": "stream",
     "text": [
      "sMAPE модели: 9.171484577820827\n"
     ]
    }
   ],
   "source": [
    "predict_final = model_final.predict(df_test)\n",
    "#сделаем предсказание\n",
    "\n",
    "print(f'sMAPE модели: {smape_score(df_test_final_target, predict_final)}')\n",
    "#выведем значение sMAPE"
   ]
  },
  {
   "cell_type": "markdown",
   "metadata": {},
   "source": [
    "Посчитаем итоговый sMAPE."
   ]
  },
  {
   "cell_type": "code",
   "execution_count": 44,
   "metadata": {},
   "outputs": [
    {
     "name": "stdout",
     "output_type": "stream",
     "text": [
      "Итоговый sMAPE: 8.34386191208497\n"
     ]
    }
   ],
   "source": [
    "smape_fin = 0.25 * smape_score(df_test_rougher_target, predict_rougher) + 0.75 * smape_score(df_test_final_target, predict_final)\n",
    "\n",
    "print(f'Итоговый sMAPE: {smape_fin}')"
   ]
  },
  {
   "cell_type": "markdown",
   "metadata": {},
   "source": [
    "### Вывод"
   ]
  },
  {
   "cell_type": "markdown",
   "metadata": {},
   "source": [
    "Была проведена дообработка данных для загрузки в модель. Выбраны лучшие параметры для модели. Модели были построены для двух целевых признаков и сделаны предсказание. Получен итоговый sMAPE 8.34. Данное значение показывает, что модель хорошо предсказывает данные."
   ]
  },
  {
   "cell_type": "markdown",
   "metadata": {},
   "source": [
    "## Чек-лист готовности проекта"
   ]
  },
  {
   "cell_type": "markdown",
   "metadata": {},
   "source": [
    "- [x]  Jupyter Notebook открыт\n",
    "- [ ]  Весь код выполняется без ошибок\n",
    "- [ ]  Ячейки с кодом расположены в порядке выполнения\n",
    "- [ ]  Выполнен шаг 1: данные подготовлены\n",
    "    - [ ]  Проверена формула вычисления эффективности обогащения\n",
    "    - [ ]  Проанализированы признаки, недоступные в тестовой выборке\n",
    "    - [ ]  Проведена предобработка данных\n",
    "- [ ]  Выполнен шаг 2: данные проанализированы\n",
    "    - [ ]  Исследовано изменение концентрации элементов на каждом этапе\n",
    "    - [ ]  Проанализированы распределения размеров гранул на обучающей и тестовой выборках\n",
    "    - [ ]  Исследованы суммарные концентрации\n",
    "- [ ]  Выполнен шаг 3: построена модель прогнозирования\n",
    "    - [ ]  Написана функция для вычисления итогового *sMAPE*\n",
    "    - [ ]  Обучено и проверено несколько моделей\n",
    "    - [ ]  Выбрана лучшая модель, её качество проверено на тестовой выборке"
   ]
  }
 ],
 "metadata": {
  "ExecuteTimeLog": [
   {
    "duration": 42,
    "start_time": "2023-05-26T17:18:28.361Z"
   },
   {
    "duration": 399,
    "start_time": "2023-05-26T17:18:28.800Z"
   },
   {
    "duration": 114,
    "start_time": "2023-05-26T17:18:30.869Z"
   },
   {
    "duration": 17,
    "start_time": "2023-05-26T17:18:41.992Z"
   },
   {
    "duration": 3,
    "start_time": "2023-05-26T17:21:25.534Z"
   },
   {
    "duration": 1128,
    "start_time": "2023-05-26T17:21:26.675Z"
   },
   {
    "duration": 54,
    "start_time": "2023-05-26T17:21:42.540Z"
   },
   {
    "duration": 109,
    "start_time": "2023-05-26T17:22:30.680Z"
   },
   {
    "duration": 3929,
    "start_time": "2023-05-26T17:22:37.148Z"
   },
   {
    "duration": 18193,
    "start_time": "2023-05-26T17:22:46.091Z"
   },
   {
    "duration": 974,
    "start_time": "2023-05-26T17:23:13.218Z"
   },
   {
    "duration": 150,
    "start_time": "2023-05-26T17:23:26.120Z"
   },
   {
    "duration": 103525,
    "start_time": "2023-05-26T17:23:36.575Z"
   },
   {
    "duration": 130,
    "start_time": "2023-05-26T17:25:29.865Z"
   },
   {
    "duration": 18,
    "start_time": "2023-05-26T17:26:11.605Z"
   },
   {
    "duration": 18,
    "start_time": "2023-05-26T17:26:14.897Z"
   },
   {
    "duration": 15,
    "start_time": "2023-05-26T17:28:10.627Z"
   },
   {
    "duration": 21,
    "start_time": "2023-05-26T17:28:19.522Z"
   },
   {
    "duration": 15,
    "start_time": "2023-05-26T17:29:56.329Z"
   },
   {
    "duration": 15,
    "start_time": "2023-05-26T17:30:49.708Z"
   },
   {
    "duration": 11,
    "start_time": "2023-05-26T17:30:52.980Z"
   },
   {
    "duration": 12,
    "start_time": "2023-05-26T17:30:56.743Z"
   },
   {
    "duration": 11,
    "start_time": "2023-05-26T17:31:07.965Z"
   },
   {
    "duration": 12,
    "start_time": "2023-05-26T17:32:14.186Z"
   },
   {
    "duration": 10,
    "start_time": "2023-05-26T17:32:38.213Z"
   },
   {
    "duration": 4,
    "start_time": "2023-05-26T17:32:50.248Z"
   },
   {
    "duration": 5,
    "start_time": "2023-05-26T17:32:58.758Z"
   },
   {
    "duration": 6,
    "start_time": "2023-05-26T17:33:19.643Z"
   },
   {
    "duration": 44,
    "start_time": "2023-05-27T06:06:02.823Z"
   },
   {
    "duration": 16571,
    "start_time": "2023-05-27T06:06:08.063Z"
   },
   {
    "duration": 23,
    "start_time": "2023-05-27T06:06:30.144Z"
   },
   {
    "duration": 69,
    "start_time": "2023-05-27T06:06:30.169Z"
   },
   {
    "duration": 769,
    "start_time": "2023-05-27T06:06:30.239Z"
   },
   {
    "duration": 18,
    "start_time": "2023-05-27T06:06:31.010Z"
   },
   {
    "duration": 37,
    "start_time": "2023-05-27T06:06:31.031Z"
   },
   {
    "duration": 23,
    "start_time": "2023-05-27T06:06:31.069Z"
   },
   {
    "duration": 40,
    "start_time": "2023-05-27T06:06:31.093Z"
   },
   {
    "duration": 71,
    "start_time": "2023-05-27T06:06:31.134Z"
   },
   {
    "duration": 6,
    "start_time": "2023-05-27T06:07:19.588Z"
   },
   {
    "duration": 5,
    "start_time": "2023-05-27T06:07:23.872Z"
   },
   {
    "duration": 6,
    "start_time": "2023-05-27T06:07:47.406Z"
   },
   {
    "duration": 6,
    "start_time": "2023-05-27T06:07:58.865Z"
   },
   {
    "duration": 6,
    "start_time": "2023-05-27T06:08:01.458Z"
   },
   {
    "duration": 4,
    "start_time": "2023-05-27T06:08:07.477Z"
   },
   {
    "duration": 5,
    "start_time": "2023-05-27T06:08:12.430Z"
   },
   {
    "duration": 2,
    "start_time": "2023-05-27T06:09:55.950Z"
   },
   {
    "duration": 4,
    "start_time": "2023-05-27T06:11:37.294Z"
   },
   {
    "duration": 6,
    "start_time": "2023-05-27T06:12:00.378Z"
   },
   {
    "duration": 4,
    "start_time": "2023-05-27T06:12:08.970Z"
   },
   {
    "duration": 1370,
    "start_time": "2023-05-27T07:33:26.200Z"
   },
   {
    "duration": 10,
    "start_time": "2023-05-27T07:33:46.573Z"
   },
   {
    "duration": 5,
    "start_time": "2023-05-27T07:34:16.889Z"
   },
   {
    "duration": 13,
    "start_time": "2023-05-27T07:34:53.071Z"
   },
   {
    "duration": 4,
    "start_time": "2023-05-27T07:34:57.125Z"
   },
   {
    "duration": 4,
    "start_time": "2023-05-27T07:38:19.583Z"
   },
   {
    "duration": 2570,
    "start_time": "2023-05-27T07:44:22.767Z"
   },
   {
    "duration": 51,
    "start_time": "2023-05-27T07:53:16.183Z"
   },
   {
    "duration": 7878,
    "start_time": "2023-05-27T07:53:28.239Z"
   },
   {
    "duration": 48,
    "start_time": "2023-05-27T07:53:36.119Z"
   },
   {
    "duration": 3302,
    "start_time": "2023-05-27T07:53:36.170Z"
   },
   {
    "duration": 13,
    "start_time": "2023-05-27T07:53:39.474Z"
   },
   {
    "duration": 20,
    "start_time": "2023-05-27T07:53:39.490Z"
   },
   {
    "duration": 7179,
    "start_time": "2023-05-27T07:53:39.512Z"
   },
   {
    "duration": 221,
    "start_time": "2023-05-27T07:53:46.693Z"
   },
   {
    "duration": 14,
    "start_time": "2023-05-27T07:53:46.916Z"
   },
   {
    "duration": 4,
    "start_time": "2023-05-27T07:53:46.931Z"
   },
   {
    "duration": 8,
    "start_time": "2023-05-27T07:53:46.958Z"
   },
   {
    "duration": 10,
    "start_time": "2023-05-27T07:53:46.970Z"
   },
   {
    "duration": 139,
    "start_time": "2023-05-27T07:53:46.982Z"
   },
   {
    "duration": 3,
    "start_time": "2023-05-27T07:54:46.828Z"
   },
   {
    "duration": 15,
    "start_time": "2023-05-27T07:55:52.766Z"
   },
   {
    "duration": 1406,
    "start_time": "2023-05-27T07:56:05.075Z"
   },
   {
    "duration": 2,
    "start_time": "2023-05-27T08:00:12.700Z"
   },
   {
    "duration": 1431,
    "start_time": "2023-05-27T08:00:21.254Z"
   },
   {
    "duration": 6,
    "start_time": "2023-05-27T08:01:22.659Z"
   },
   {
    "duration": 5,
    "start_time": "2023-05-27T08:01:56.944Z"
   },
   {
    "duration": 3,
    "start_time": "2023-05-27T08:33:09.128Z"
   },
   {
    "duration": 13,
    "start_time": "2023-05-27T08:33:14.413Z"
   },
   {
    "duration": 15,
    "start_time": "2023-05-27T08:34:37.603Z"
   },
   {
    "duration": 17,
    "start_time": "2023-05-27T08:35:04.771Z"
   },
   {
    "duration": 2,
    "start_time": "2023-05-27T08:35:26.303Z"
   },
   {
    "duration": 8,
    "start_time": "2023-05-27T08:35:37.719Z"
   },
   {
    "duration": 16,
    "start_time": "2023-05-27T08:35:44.590Z"
   },
   {
    "duration": 3,
    "start_time": "2023-05-27T08:36:22.409Z"
   },
   {
    "duration": 10,
    "start_time": "2023-05-27T08:36:25.020Z"
   },
   {
    "duration": 21,
    "start_time": "2023-05-27T08:36:37.608Z"
   },
   {
    "duration": 3,
    "start_time": "2023-05-27T08:37:12.604Z"
   },
   {
    "duration": 10,
    "start_time": "2023-05-27T08:37:16.795Z"
   },
   {
    "duration": 16,
    "start_time": "2023-05-27T08:37:19.995Z"
   },
   {
    "duration": 16,
    "start_time": "2023-05-27T08:40:16.502Z"
   },
   {
    "duration": 6,
    "start_time": "2023-05-27T08:40:23.657Z"
   },
   {
    "duration": 59,
    "start_time": "2023-05-27T08:40:23.683Z"
   },
   {
    "duration": 1029,
    "start_time": "2023-05-27T08:40:23.744Z"
   },
   {
    "duration": 10,
    "start_time": "2023-05-27T08:40:24.786Z"
   },
   {
    "duration": 35,
    "start_time": "2023-05-27T08:40:24.799Z"
   },
   {
    "duration": 23,
    "start_time": "2023-05-27T08:40:24.836Z"
   },
   {
    "duration": 25,
    "start_time": "2023-05-27T08:40:24.862Z"
   },
   {
    "duration": 5,
    "start_time": "2023-05-27T08:40:24.894Z"
   },
   {
    "duration": 12,
    "start_time": "2023-05-27T08:40:24.901Z"
   },
   {
    "duration": 5,
    "start_time": "2023-05-27T08:40:24.915Z"
   },
   {
    "duration": 11,
    "start_time": "2023-05-27T08:40:24.923Z"
   },
   {
    "duration": 33,
    "start_time": "2023-05-27T08:40:24.936Z"
   },
   {
    "duration": 5,
    "start_time": "2023-05-27T08:40:24.972Z"
   },
   {
    "duration": 21,
    "start_time": "2023-05-27T08:40:24.983Z"
   },
   {
    "duration": 17,
    "start_time": "2023-05-27T08:40:25.006Z"
   },
   {
    "duration": 7,
    "start_time": "2023-05-27T08:42:51.713Z"
   },
   {
    "duration": 45,
    "start_time": "2023-05-27T08:44:32.042Z"
   },
   {
    "duration": 252,
    "start_time": "2023-05-27T08:46:24.054Z"
   },
   {
    "duration": 297,
    "start_time": "2023-05-27T08:46:51.321Z"
   },
   {
    "duration": 306,
    "start_time": "2023-05-27T08:47:12.894Z"
   },
   {
    "duration": 309,
    "start_time": "2023-05-27T08:47:22.652Z"
   },
   {
    "duration": 22,
    "start_time": "2023-05-27T08:47:49.202Z"
   },
   {
    "duration": 26,
    "start_time": "2023-05-27T08:48:01.602Z"
   },
   {
    "duration": 121,
    "start_time": "2023-05-27T08:48:17.178Z"
   },
   {
    "duration": 143,
    "start_time": "2023-05-27T08:48:25.955Z"
   },
   {
    "duration": 123,
    "start_time": "2023-05-27T08:48:37.402Z"
   },
   {
    "duration": 219,
    "start_time": "2023-05-27T08:50:21.445Z"
   },
   {
    "duration": 1359,
    "start_time": "2023-05-27T08:50:38.988Z"
   },
   {
    "duration": 212,
    "start_time": "2023-05-27T08:50:52.737Z"
   },
   {
    "duration": 436,
    "start_time": "2023-05-27T08:51:47.100Z"
   },
   {
    "duration": 271,
    "start_time": "2023-05-27T08:51:56.723Z"
   },
   {
    "duration": 298,
    "start_time": "2023-05-27T08:52:57.221Z"
   },
   {
    "duration": 319,
    "start_time": "2023-05-27T08:53:36.158Z"
   },
   {
    "duration": 320,
    "start_time": "2023-05-27T08:54:05.315Z"
   },
   {
    "duration": 380,
    "start_time": "2023-05-27T08:54:11.603Z"
   },
   {
    "duration": 308,
    "start_time": "2023-05-27T08:54:53.443Z"
   },
   {
    "duration": 128,
    "start_time": "2023-05-27T08:56:37.303Z"
   },
   {
    "duration": 272,
    "start_time": "2023-05-27T08:56:49.702Z"
   },
   {
    "duration": 309,
    "start_time": "2023-05-27T08:56:56.499Z"
   },
   {
    "duration": 402,
    "start_time": "2023-05-27T08:57:31.105Z"
   },
   {
    "duration": 402,
    "start_time": "2023-05-27T08:58:35.606Z"
   },
   {
    "duration": 709,
    "start_time": "2023-05-27T08:58:47.932Z"
   },
   {
    "duration": 25,
    "start_time": "2023-05-27T08:58:55.392Z"
   },
   {
    "duration": 428,
    "start_time": "2023-05-27T08:59:04.503Z"
   },
   {
    "duration": 1238,
    "start_time": "2023-05-27T09:01:03.986Z"
   },
   {
    "duration": 1262,
    "start_time": "2023-05-27T09:01:31.556Z"
   },
   {
    "duration": 1500,
    "start_time": "2023-05-27T09:02:17.612Z"
   },
   {
    "duration": 1172,
    "start_time": "2023-05-27T09:03:03.412Z"
   },
   {
    "duration": 1994,
    "start_time": "2023-05-27T09:03:25.753Z"
   },
   {
    "duration": 1219,
    "start_time": "2023-05-27T09:04:36.113Z"
   },
   {
    "duration": 1142,
    "start_time": "2023-05-27T09:05:42.592Z"
   },
   {
    "duration": 1806,
    "start_time": "2023-05-27T09:07:07.035Z"
   },
   {
    "duration": 50,
    "start_time": "2023-05-28T08:18:12.846Z"
   },
   {
    "duration": 8,
    "start_time": "2023-05-28T08:18:16.497Z"
   },
   {
    "duration": 406,
    "start_time": "2023-05-28T08:18:18.841Z"
   },
   {
    "duration": 17646,
    "start_time": "2023-05-28T08:18:27.410Z"
   },
   {
    "duration": 10,
    "start_time": "2023-05-28T08:19:52.846Z"
   },
   {
    "duration": 2509,
    "start_time": "2023-05-28T08:19:59.348Z"
   },
   {
    "duration": 3477,
    "start_time": "2023-05-28T08:20:07.093Z"
   },
   {
    "duration": 92987,
    "start_time": "2023-05-28T08:20:12.934Z"
   },
   {
    "duration": 21,
    "start_time": "2023-05-28T08:30:54.397Z"
   },
   {
    "duration": 34889,
    "start_time": "2023-05-28T08:31:09.284Z"
   },
   {
    "duration": 49,
    "start_time": "2023-05-28T08:59:12.709Z"
   },
   {
    "duration": 3396,
    "start_time": "2023-05-28T08:59:21.219Z"
   },
   {
    "duration": 4119,
    "start_time": "2023-05-28T08:59:26.598Z"
   },
   {
    "duration": 51,
    "start_time": "2023-05-28T09:06:12.012Z"
   },
   {
    "duration": 2813,
    "start_time": "2023-05-28T09:06:20.099Z"
   },
   {
    "duration": 3425,
    "start_time": "2023-05-28T09:06:22.915Z"
   },
   {
    "duration": 65,
    "start_time": "2023-05-28T09:06:26.342Z"
   },
   {
    "duration": 4226,
    "start_time": "2023-05-28T09:06:26.408Z"
   },
   {
    "duration": 13,
    "start_time": "2023-05-28T09:06:30.638Z"
   },
   {
    "duration": 8436,
    "start_time": "2023-05-28T09:06:30.654Z"
   },
   {
    "duration": 25,
    "start_time": "2023-05-28T09:06:39.093Z"
   },
   {
    "duration": 28,
    "start_time": "2023-05-28T09:06:39.121Z"
   },
   {
    "duration": 14,
    "start_time": "2023-05-28T09:06:39.151Z"
   },
   {
    "duration": 16,
    "start_time": "2023-05-28T09:06:39.166Z"
   },
   {
    "duration": 9,
    "start_time": "2023-05-28T09:06:39.185Z"
   },
   {
    "duration": 6,
    "start_time": "2023-05-28T09:06:39.196Z"
   },
   {
    "duration": 11,
    "start_time": "2023-05-28T09:06:39.207Z"
   },
   {
    "duration": 12,
    "start_time": "2023-05-28T09:06:39.220Z"
   },
   {
    "duration": 4,
    "start_time": "2023-05-28T09:06:39.234Z"
   },
   {
    "duration": 48,
    "start_time": "2023-05-28T09:06:39.240Z"
   },
   {
    "duration": 34,
    "start_time": "2023-05-28T09:06:39.293Z"
   },
   {
    "duration": 1221,
    "start_time": "2023-05-28T09:06:39.330Z"
   },
   {
    "duration": 1032,
    "start_time": "2023-05-28T09:06:40.552Z"
   },
   {
    "duration": 1218,
    "start_time": "2023-05-28T09:06:41.586Z"
   },
   {
    "duration": 1627,
    "start_time": "2023-05-28T09:07:21.996Z"
   },
   {
    "duration": 25,
    "start_time": "2023-05-28T09:16:09.205Z"
   },
   {
    "duration": 8,
    "start_time": "2023-05-28T09:16:40.196Z"
   },
   {
    "duration": 25,
    "start_time": "2023-05-28T09:17:02.040Z"
   },
   {
    "duration": 1852,
    "start_time": "2023-05-28T09:18:27.380Z"
   },
   {
    "duration": 2773,
    "start_time": "2023-05-28T09:18:44.553Z"
   },
   {
    "duration": 2260,
    "start_time": "2023-05-28T09:18:47.329Z"
   },
   {
    "duration": 38,
    "start_time": "2023-05-28T09:18:49.593Z"
   },
   {
    "duration": 828,
    "start_time": "2023-05-28T09:18:49.632Z"
   },
   {
    "duration": 22,
    "start_time": "2023-05-28T09:18:50.462Z"
   },
   {
    "duration": 2391,
    "start_time": "2023-05-28T09:18:50.490Z"
   },
   {
    "duration": 25,
    "start_time": "2023-05-28T09:18:52.883Z"
   },
   {
    "duration": 20,
    "start_time": "2023-05-28T09:18:52.910Z"
   },
   {
    "duration": 15,
    "start_time": "2023-05-28T09:18:52.932Z"
   },
   {
    "duration": 46,
    "start_time": "2023-05-28T09:18:52.949Z"
   },
   {
    "duration": 7,
    "start_time": "2023-05-28T09:18:52.999Z"
   },
   {
    "duration": 7,
    "start_time": "2023-05-28T09:18:53.008Z"
   },
   {
    "duration": 6,
    "start_time": "2023-05-28T09:18:53.017Z"
   },
   {
    "duration": 11,
    "start_time": "2023-05-28T09:18:53.027Z"
   },
   {
    "duration": 3,
    "start_time": "2023-05-28T09:18:53.040Z"
   },
   {
    "duration": 33,
    "start_time": "2023-05-28T09:18:53.045Z"
   },
   {
    "duration": 24,
    "start_time": "2023-05-28T09:18:53.079Z"
   },
   {
    "duration": 1111,
    "start_time": "2023-05-28T09:18:53.106Z"
   },
   {
    "duration": 1476,
    "start_time": "2023-05-28T09:18:54.220Z"
   },
   {
    "duration": 1142,
    "start_time": "2023-05-28T09:18:55.702Z"
   },
   {
    "duration": 0,
    "start_time": "2023-05-28T09:32:33.497Z"
   },
   {
    "duration": 0,
    "start_time": "2023-05-28T09:32:33.498Z"
   },
   {
    "duration": 0,
    "start_time": "2023-05-28T09:32:33.499Z"
   },
   {
    "duration": 0,
    "start_time": "2023-05-28T09:32:33.500Z"
   },
   {
    "duration": 0,
    "start_time": "2023-05-28T09:32:33.501Z"
   },
   {
    "duration": 0,
    "start_time": "2023-05-28T09:32:33.501Z"
   },
   {
    "duration": 0,
    "start_time": "2023-05-28T09:32:33.502Z"
   },
   {
    "duration": 0,
    "start_time": "2023-05-28T09:32:33.503Z"
   },
   {
    "duration": 0,
    "start_time": "2023-05-28T09:32:33.509Z"
   },
   {
    "duration": 0,
    "start_time": "2023-05-28T09:32:33.510Z"
   },
   {
    "duration": 0,
    "start_time": "2023-05-28T09:32:33.511Z"
   },
   {
    "duration": 0,
    "start_time": "2023-05-28T09:32:33.517Z"
   },
   {
    "duration": 0,
    "start_time": "2023-05-28T09:32:33.521Z"
   },
   {
    "duration": 0,
    "start_time": "2023-05-28T09:32:33.522Z"
   },
   {
    "duration": 0,
    "start_time": "2023-05-28T09:32:33.524Z"
   },
   {
    "duration": 0,
    "start_time": "2023-05-28T09:32:33.526Z"
   },
   {
    "duration": 0,
    "start_time": "2023-05-28T09:32:33.528Z"
   },
   {
    "duration": 0,
    "start_time": "2023-05-28T09:32:33.529Z"
   },
   {
    "duration": 0,
    "start_time": "2023-05-28T09:32:33.531Z"
   },
   {
    "duration": 0,
    "start_time": "2023-05-28T09:32:33.532Z"
   },
   {
    "duration": 3084,
    "start_time": "2023-05-28T09:33:13.471Z"
   },
   {
    "duration": 6,
    "start_time": "2023-05-28T09:33:16.559Z"
   },
   {
    "duration": 66,
    "start_time": "2023-05-28T09:33:16.567Z"
   },
   {
    "duration": 914,
    "start_time": "2023-05-28T09:33:16.635Z"
   },
   {
    "duration": 9,
    "start_time": "2023-05-28T09:33:17.551Z"
   },
   {
    "duration": 72,
    "start_time": "2023-05-28T09:33:17.561Z"
   },
   {
    "duration": 0,
    "start_time": "2023-05-28T09:33:17.635Z"
   },
   {
    "duration": 0,
    "start_time": "2023-05-28T09:33:17.636Z"
   },
   {
    "duration": 0,
    "start_time": "2023-05-28T09:33:17.637Z"
   },
   {
    "duration": 0,
    "start_time": "2023-05-28T09:33:17.638Z"
   },
   {
    "duration": 0,
    "start_time": "2023-05-28T09:33:17.639Z"
   },
   {
    "duration": 0,
    "start_time": "2023-05-28T09:33:17.641Z"
   },
   {
    "duration": 0,
    "start_time": "2023-05-28T09:33:17.643Z"
   },
   {
    "duration": 0,
    "start_time": "2023-05-28T09:33:17.644Z"
   },
   {
    "duration": 0,
    "start_time": "2023-05-28T09:33:17.645Z"
   },
   {
    "duration": 0,
    "start_time": "2023-05-28T09:33:17.647Z"
   },
   {
    "duration": 0,
    "start_time": "2023-05-28T09:33:17.647Z"
   },
   {
    "duration": 0,
    "start_time": "2023-05-28T09:33:17.649Z"
   },
   {
    "duration": 0,
    "start_time": "2023-05-28T09:33:17.649Z"
   },
   {
    "duration": 0,
    "start_time": "2023-05-28T09:33:17.650Z"
   },
   {
    "duration": 50,
    "start_time": "2023-05-28T09:34:41.898Z"
   },
   {
    "duration": 47,
    "start_time": "2023-05-28T09:34:50.390Z"
   },
   {
    "duration": 7096,
    "start_time": "2023-05-28T09:36:04.596Z"
   },
   {
    "duration": 258,
    "start_time": "2023-05-28T09:36:33.007Z"
   },
   {
    "duration": 463,
    "start_time": "2023-05-28T09:37:24.058Z"
   },
   {
    "duration": 3248,
    "start_time": "2023-05-28T09:38:09.713Z"
   },
   {
    "duration": 7,
    "start_time": "2023-05-28T09:38:12.964Z"
   },
   {
    "duration": 51,
    "start_time": "2023-05-28T09:38:21.791Z"
   },
   {
    "duration": 968,
    "start_time": "2023-05-28T09:38:21.844Z"
   },
   {
    "duration": 16,
    "start_time": "2023-05-28T09:38:22.816Z"
   },
   {
    "duration": 22,
    "start_time": "2023-05-28T09:38:22.835Z"
   },
   {
    "duration": 31,
    "start_time": "2023-05-28T09:38:22.860Z"
   },
   {
    "duration": 19,
    "start_time": "2023-05-28T09:38:22.907Z"
   },
   {
    "duration": 10,
    "start_time": "2023-05-28T09:38:22.928Z"
   },
   {
    "duration": 5,
    "start_time": "2023-05-28T09:38:22.941Z"
   },
   {
    "duration": 8,
    "start_time": "2023-05-28T09:38:22.948Z"
   },
   {
    "duration": 14,
    "start_time": "2023-05-28T09:38:22.958Z"
   },
   {
    "duration": 21,
    "start_time": "2023-05-28T09:38:22.975Z"
   },
   {
    "duration": 31,
    "start_time": "2023-05-28T09:38:22.998Z"
   },
   {
    "duration": 38,
    "start_time": "2023-05-28T09:38:23.032Z"
   },
   {
    "duration": 1237,
    "start_time": "2023-05-28T09:38:23.075Z"
   },
   {
    "duration": 1322,
    "start_time": "2023-05-28T09:38:24.313Z"
   },
   {
    "duration": 1330,
    "start_time": "2023-05-28T09:38:25.638Z"
   },
   {
    "duration": 3558,
    "start_time": "2023-05-28T09:51:38.902Z"
   },
   {
    "duration": 58,
    "start_time": "2023-05-30T09:17:07.394Z"
   },
   {
    "duration": 493,
    "start_time": "2023-05-30T09:17:43.486Z"
   },
   {
    "duration": 0,
    "start_time": "2023-05-30T09:17:43.981Z"
   },
   {
    "duration": 0,
    "start_time": "2023-05-30T09:17:43.982Z"
   },
   {
    "duration": 0,
    "start_time": "2023-05-30T09:17:43.984Z"
   },
   {
    "duration": 0,
    "start_time": "2023-05-30T09:17:43.985Z"
   },
   {
    "duration": 0,
    "start_time": "2023-05-30T09:17:43.986Z"
   },
   {
    "duration": 0,
    "start_time": "2023-05-30T09:17:43.987Z"
   },
   {
    "duration": 0,
    "start_time": "2023-05-30T09:17:43.988Z"
   },
   {
    "duration": 0,
    "start_time": "2023-05-30T09:17:43.989Z"
   },
   {
    "duration": 0,
    "start_time": "2023-05-30T09:17:43.990Z"
   },
   {
    "duration": 1157,
    "start_time": "2023-05-30T09:17:59.605Z"
   },
   {
    "duration": 41,
    "start_time": "2023-05-30T09:18:00.764Z"
   },
   {
    "duration": 3464,
    "start_time": "2023-05-30T09:18:00.807Z"
   },
   {
    "duration": 9,
    "start_time": "2023-05-30T09:18:04.273Z"
   },
   {
    "duration": 10,
    "start_time": "2023-05-30T09:18:04.284Z"
   },
   {
    "duration": 6,
    "start_time": "2023-05-30T09:18:04.295Z"
   },
   {
    "duration": 4,
    "start_time": "2023-05-30T09:18:04.302Z"
   },
   {
    "duration": 6,
    "start_time": "2023-05-30T09:18:04.308Z"
   },
   {
    "duration": 26,
    "start_time": "2023-05-30T09:18:04.315Z"
   },
   {
    "duration": 269,
    "start_time": "2023-05-30T09:18:04.343Z"
   },
   {
    "duration": 17,
    "start_time": "2023-05-30T09:18:20.594Z"
   },
   {
    "duration": 16,
    "start_time": "2023-05-30T09:18:33.285Z"
   },
   {
    "duration": 3,
    "start_time": "2023-05-30T09:20:41.872Z"
   },
   {
    "duration": 10,
    "start_time": "2023-05-30T09:20:55.703Z"
   },
   {
    "duration": 7,
    "start_time": "2023-05-30T09:21:08.972Z"
   },
   {
    "duration": 6,
    "start_time": "2023-05-30T09:21:26.288Z"
   },
   {
    "duration": 92,
    "start_time": "2023-05-30T09:21:41.751Z"
   },
   {
    "duration": 697,
    "start_time": "2023-05-30T09:22:39.761Z"
   },
   {
    "duration": 985,
    "start_time": "2023-05-30T09:28:10.968Z"
   },
   {
    "duration": 942,
    "start_time": "2023-05-30T09:28:24.444Z"
   },
   {
    "duration": 858,
    "start_time": "2023-05-30T09:29:11.514Z"
   },
   {
    "duration": 988,
    "start_time": "2023-05-30T09:29:21.223Z"
   },
   {
    "duration": 807,
    "start_time": "2023-05-30T09:29:32.307Z"
   },
   {
    "duration": 1121,
    "start_time": "2023-05-30T09:29:35.011Z"
   },
   {
    "duration": 477,
    "start_time": "2023-05-30T09:36:02.603Z"
   },
   {
    "duration": 477,
    "start_time": "2023-05-30T09:36:47.872Z"
   },
   {
    "duration": 11,
    "start_time": "2023-05-30T09:38:48.269Z"
   },
   {
    "duration": 4,
    "start_time": "2023-05-30T09:39:05.971Z"
   },
   {
    "duration": 6,
    "start_time": "2023-05-30T09:39:10.153Z"
   },
   {
    "duration": 1440,
    "start_time": "2023-05-30T09:44:33.479Z"
   },
   {
    "duration": 40,
    "start_time": "2023-05-30T09:44:34.921Z"
   },
   {
    "duration": 712,
    "start_time": "2023-05-30T09:44:34.963Z"
   },
   {
    "duration": 8,
    "start_time": "2023-05-30T09:44:35.678Z"
   },
   {
    "duration": 8,
    "start_time": "2023-05-30T09:44:35.688Z"
   },
   {
    "duration": 8,
    "start_time": "2023-05-30T09:44:35.698Z"
   },
   {
    "duration": 7,
    "start_time": "2023-05-30T09:44:35.708Z"
   },
   {
    "duration": 15,
    "start_time": "2023-05-30T09:44:35.717Z"
   },
   {
    "duration": 43,
    "start_time": "2023-05-30T09:44:35.735Z"
   },
   {
    "duration": 258,
    "start_time": "2023-05-30T09:44:35.781Z"
   },
   {
    "duration": 14,
    "start_time": "2023-05-30T09:44:36.041Z"
   },
   {
    "duration": 12,
    "start_time": "2023-05-30T09:44:36.057Z"
   },
   {
    "duration": 1708,
    "start_time": "2023-05-30T09:44:36.077Z"
   },
   {
    "duration": 0,
    "start_time": "2023-05-30T09:44:37.787Z"
   },
   {
    "duration": 0,
    "start_time": "2023-05-30T09:44:37.789Z"
   },
   {
    "duration": 0,
    "start_time": "2023-05-30T09:44:37.790Z"
   },
   {
    "duration": 0,
    "start_time": "2023-05-30T09:44:37.792Z"
   },
   {
    "duration": 1598,
    "start_time": "2023-05-30T09:46:15.330Z"
   },
   {
    "duration": 5,
    "start_time": "2023-05-30T09:47:49.286Z"
   },
   {
    "duration": 63,
    "start_time": "2023-05-30T09:47:49.293Z"
   },
   {
    "duration": 698,
    "start_time": "2023-05-30T09:47:49.357Z"
   },
   {
    "duration": 9,
    "start_time": "2023-05-30T09:47:50.057Z"
   },
   {
    "duration": 21,
    "start_time": "2023-05-30T09:47:50.068Z"
   },
   {
    "duration": 18,
    "start_time": "2023-05-30T09:47:50.090Z"
   },
   {
    "duration": 31,
    "start_time": "2023-05-30T09:47:50.110Z"
   },
   {
    "duration": 30,
    "start_time": "2023-05-30T09:47:50.143Z"
   },
   {
    "duration": 104,
    "start_time": "2023-05-30T09:47:50.174Z"
   },
   {
    "duration": 258,
    "start_time": "2023-05-30T09:47:50.280Z"
   },
   {
    "duration": 15,
    "start_time": "2023-05-30T09:47:50.540Z"
   },
   {
    "duration": 809,
    "start_time": "2023-05-30T09:47:50.557Z"
   },
   {
    "duration": 947,
    "start_time": "2023-05-30T09:47:51.368Z"
   },
   {
    "duration": 830,
    "start_time": "2023-05-30T09:47:52.319Z"
   },
   {
    "duration": 483,
    "start_time": "2023-05-30T09:47:53.151Z"
   },
   {
    "duration": 16,
    "start_time": "2023-05-30T09:47:53.636Z"
   },
   {
    "duration": 24,
    "start_time": "2023-05-30T09:47:53.654Z"
   },
   {
    "duration": 1470,
    "start_time": "2023-05-30T09:48:30.754Z"
   },
   {
    "duration": 63,
    "start_time": "2023-05-30T09:48:32.226Z"
   },
   {
    "duration": 694,
    "start_time": "2023-05-30T09:48:32.291Z"
   },
   {
    "duration": 9,
    "start_time": "2023-05-30T09:48:32.987Z"
   },
   {
    "duration": 10,
    "start_time": "2023-05-30T09:48:32.998Z"
   },
   {
    "duration": 8,
    "start_time": "2023-05-30T09:48:33.010Z"
   },
   {
    "duration": 11,
    "start_time": "2023-05-30T09:48:33.019Z"
   },
   {
    "duration": 5,
    "start_time": "2023-05-30T09:48:33.032Z"
   },
   {
    "duration": 43,
    "start_time": "2023-05-30T09:48:33.038Z"
   },
   {
    "duration": 269,
    "start_time": "2023-05-30T09:48:33.084Z"
   },
   {
    "duration": 23,
    "start_time": "2023-05-30T09:48:33.355Z"
   },
   {
    "duration": 933,
    "start_time": "2023-05-30T09:48:33.379Z"
   },
   {
    "duration": 877,
    "start_time": "2023-05-30T09:48:34.314Z"
   },
   {
    "duration": 1027,
    "start_time": "2023-05-30T09:48:35.193Z"
   },
   {
    "duration": 481,
    "start_time": "2023-05-30T09:48:36.222Z"
   },
   {
    "duration": 16,
    "start_time": "2023-05-30T09:48:36.704Z"
   },
   {
    "duration": 5,
    "start_time": "2023-05-30T09:48:36.722Z"
   },
   {
    "duration": 116,
    "start_time": "2023-05-30T09:49:19.063Z"
   },
   {
    "duration": 10,
    "start_time": "2023-05-30T09:49:31.100Z"
   },
   {
    "duration": 110,
    "start_time": "2023-05-30T09:49:43.195Z"
   },
   {
    "duration": 99,
    "start_time": "2023-05-30T09:49:51.361Z"
   },
   {
    "duration": 128,
    "start_time": "2023-05-30T09:50:03.524Z"
   },
   {
    "duration": 651,
    "start_time": "2023-05-30T09:51:15.952Z"
   },
   {
    "duration": 69,
    "start_time": "2023-05-30T09:51:36.897Z"
   },
   {
    "duration": 619,
    "start_time": "2023-05-30T09:51:40.299Z"
   },
   {
    "duration": 8,
    "start_time": "2023-05-30T09:51:49.421Z"
   },
   {
    "duration": 17,
    "start_time": "2023-05-30T09:51:58.700Z"
   },
   {
    "duration": 8,
    "start_time": "2023-05-30T09:52:04.631Z"
   },
   {
    "duration": 4,
    "start_time": "2023-05-30T09:53:41.520Z"
   },
   {
    "duration": 8,
    "start_time": "2023-05-30T10:15:53.622Z"
   },
   {
    "duration": 14,
    "start_time": "2023-05-30T10:16:30.216Z"
   },
   {
    "duration": 8,
    "start_time": "2023-05-30T10:16:32.191Z"
   },
   {
    "duration": 22,
    "start_time": "2023-05-30T10:16:46.125Z"
   },
   {
    "duration": 15,
    "start_time": "2023-05-30T10:17:58.644Z"
   },
   {
    "duration": 327,
    "start_time": "2023-05-30T10:18:26.054Z"
   },
   {
    "duration": 165,
    "start_time": "2023-05-30T10:18:35.219Z"
   },
   {
    "duration": 154,
    "start_time": "2023-05-30T10:18:46.715Z"
   },
   {
    "duration": 83,
    "start_time": "2023-05-30T10:19:16.922Z"
   },
   {
    "duration": 120,
    "start_time": "2023-05-30T10:19:21.852Z"
   },
   {
    "duration": 6,
    "start_time": "2023-05-30T10:19:52.848Z"
   },
   {
    "duration": 10,
    "start_time": "2023-05-30T10:20:04.701Z"
   },
   {
    "duration": 141,
    "start_time": "2023-05-30T10:20:07.121Z"
   },
   {
    "duration": 133,
    "start_time": "2023-05-30T10:20:14.572Z"
   },
   {
    "duration": 16,
    "start_time": "2023-05-30T10:20:20.938Z"
   },
   {
    "duration": 506,
    "start_time": "2023-05-30T10:20:46.417Z"
   },
   {
    "duration": 7,
    "start_time": "2023-05-30T11:18:27.994Z"
   },
   {
    "duration": 5,
    "start_time": "2023-05-30T11:19:23.570Z"
   },
   {
    "duration": 22,
    "start_time": "2023-05-30T11:22:43.773Z"
   },
   {
    "duration": 18,
    "start_time": "2023-05-30T11:22:52.288Z"
   },
   {
    "duration": 1729,
    "start_time": "2023-05-30T11:23:55.253Z"
   },
   {
    "duration": 41,
    "start_time": "2023-05-30T11:23:56.984Z"
   },
   {
    "duration": 697,
    "start_time": "2023-05-30T11:23:57.027Z"
   },
   {
    "duration": 10,
    "start_time": "2023-05-30T11:23:57.726Z"
   },
   {
    "duration": 7,
    "start_time": "2023-05-30T11:23:57.738Z"
   },
   {
    "duration": 33,
    "start_time": "2023-05-30T11:23:57.747Z"
   },
   {
    "duration": 5,
    "start_time": "2023-05-30T11:23:57.782Z"
   },
   {
    "duration": 9,
    "start_time": "2023-05-30T11:23:57.790Z"
   },
   {
    "duration": 24,
    "start_time": "2023-05-30T11:23:57.801Z"
   },
   {
    "duration": 313,
    "start_time": "2023-05-30T11:23:57.827Z"
   },
   {
    "duration": 20,
    "start_time": "2023-05-30T11:23:58.142Z"
   },
   {
    "duration": 16,
    "start_time": "2023-05-30T11:23:58.164Z"
   },
   {
    "duration": 840,
    "start_time": "2023-05-30T11:23:58.182Z"
   },
   {
    "duration": 956,
    "start_time": "2023-05-30T11:23:59.025Z"
   },
   {
    "duration": 866,
    "start_time": "2023-05-30T11:23:59.983Z"
   },
   {
    "duration": 483,
    "start_time": "2023-05-30T11:24:00.851Z"
   },
   {
    "duration": 17,
    "start_time": "2023-05-30T11:24:01.336Z"
   },
   {
    "duration": 284,
    "start_time": "2023-05-30T11:24:01.355Z"
   },
   {
    "duration": 4,
    "start_time": "2023-05-30T11:24:01.641Z"
   },
   {
    "duration": 50,
    "start_time": "2023-05-30T11:24:01.646Z"
   },
   {
    "duration": 30,
    "start_time": "2023-05-30T11:24:01.698Z"
   },
   {
    "duration": 38,
    "start_time": "2023-05-30T11:24:01.730Z"
   },
   {
    "duration": 151,
    "start_time": "2023-05-30T11:24:01.770Z"
   },
   {
    "duration": 144,
    "start_time": "2023-05-30T11:24:01.923Z"
   },
   {
    "duration": 487,
    "start_time": "2023-05-30T11:24:02.069Z"
   },
   {
    "duration": 6,
    "start_time": "2023-05-30T11:24:02.558Z"
   },
   {
    "duration": 40,
    "start_time": "2023-05-30T11:24:02.565Z"
   },
   {
    "duration": 8,
    "start_time": "2023-05-30T11:34:48.705Z"
   },
   {
    "duration": 7,
    "start_time": "2023-05-30T11:34:50.285Z"
   },
   {
    "duration": 3,
    "start_time": "2023-05-30T11:37:35.363Z"
   },
   {
    "duration": 135,
    "start_time": "2023-05-30T11:39:02.075Z"
   },
   {
    "duration": 7,
    "start_time": "2023-05-30T11:39:05.154Z"
   },
   {
    "duration": 8,
    "start_time": "2023-05-30T11:39:44.275Z"
   },
   {
    "duration": 15,
    "start_time": "2023-05-30T11:39:50.683Z"
   },
   {
    "duration": 477,
    "start_time": "2023-05-30T11:40:06.792Z"
   },
   {
    "duration": 6,
    "start_time": "2023-05-30T11:41:08.903Z"
   },
   {
    "duration": 6,
    "start_time": "2023-05-30T11:41:24.288Z"
   },
   {
    "duration": 14,
    "start_time": "2023-05-30T11:43:54.611Z"
   },
   {
    "duration": 1310,
    "start_time": "2023-05-30T11:46:20.794Z"
   },
   {
    "duration": 1687,
    "start_time": "2023-05-30T11:46:42.263Z"
   },
   {
    "duration": 42,
    "start_time": "2023-05-30T11:46:43.952Z"
   },
   {
    "duration": 681,
    "start_time": "2023-05-30T11:46:43.997Z"
   },
   {
    "duration": 8,
    "start_time": "2023-05-30T11:46:44.680Z"
   },
   {
    "duration": 5,
    "start_time": "2023-05-30T11:46:44.690Z"
   },
   {
    "duration": 7,
    "start_time": "2023-05-30T11:46:44.697Z"
   },
   {
    "duration": 9,
    "start_time": "2023-05-30T11:46:44.706Z"
   },
   {
    "duration": 6,
    "start_time": "2023-05-30T11:46:44.716Z"
   },
   {
    "duration": 22,
    "start_time": "2023-05-30T11:46:44.724Z"
   },
   {
    "duration": 304,
    "start_time": "2023-05-30T11:46:44.747Z"
   },
   {
    "duration": 25,
    "start_time": "2023-05-30T11:46:45.053Z"
   },
   {
    "duration": 6,
    "start_time": "2023-05-30T11:46:45.080Z"
   },
   {
    "duration": 940,
    "start_time": "2023-05-30T11:46:45.088Z"
   },
   {
    "duration": 1017,
    "start_time": "2023-05-30T11:46:46.031Z"
   },
   {
    "duration": 905,
    "start_time": "2023-05-30T11:46:47.050Z"
   },
   {
    "duration": 501,
    "start_time": "2023-05-30T11:46:47.957Z"
   },
   {
    "duration": 24,
    "start_time": "2023-05-30T11:46:48.459Z"
   },
   {
    "duration": 1188,
    "start_time": "2023-05-30T11:46:48.484Z"
   },
   {
    "duration": 6,
    "start_time": "2023-05-30T11:46:49.677Z"
   },
   {
    "duration": 1406,
    "start_time": "2023-05-30T11:48:57.221Z"
   },
   {
    "duration": 1669,
    "start_time": "2023-05-30T11:49:28.257Z"
   },
   {
    "duration": 41,
    "start_time": "2023-05-30T11:49:29.928Z"
   },
   {
    "duration": 716,
    "start_time": "2023-05-30T11:49:29.971Z"
   },
   {
    "duration": 8,
    "start_time": "2023-05-30T11:49:30.689Z"
   },
   {
    "duration": 34,
    "start_time": "2023-05-30T11:49:30.699Z"
   },
   {
    "duration": 37,
    "start_time": "2023-05-30T11:49:30.734Z"
   },
   {
    "duration": 32,
    "start_time": "2023-05-30T11:49:30.773Z"
   },
   {
    "duration": 35,
    "start_time": "2023-05-30T11:49:30.807Z"
   },
   {
    "duration": 48,
    "start_time": "2023-05-30T11:49:30.843Z"
   },
   {
    "duration": 285,
    "start_time": "2023-05-30T11:49:30.893Z"
   },
   {
    "duration": 16,
    "start_time": "2023-05-30T11:49:31.179Z"
   },
   {
    "duration": 35,
    "start_time": "2023-05-30T11:49:31.197Z"
   },
   {
    "duration": 944,
    "start_time": "2023-05-30T11:49:31.234Z"
   },
   {
    "duration": 961,
    "start_time": "2023-05-30T11:49:32.181Z"
   },
   {
    "duration": 797,
    "start_time": "2023-05-30T11:49:33.143Z"
   },
   {
    "duration": 497,
    "start_time": "2023-05-30T11:49:33.942Z"
   },
   {
    "duration": 17,
    "start_time": "2023-05-30T11:49:34.441Z"
   },
   {
    "duration": 1775,
    "start_time": "2023-05-30T11:49:34.460Z"
   },
   {
    "duration": 811,
    "start_time": "2023-05-30T11:50:20.383Z"
   },
   {
    "duration": 6,
    "start_time": "2023-05-30T12:00:16.462Z"
   },
   {
    "duration": 5,
    "start_time": "2023-05-30T12:02:30.284Z"
   },
   {
    "duration": 1542,
    "start_time": "2023-05-30T12:18:58.459Z"
   },
   {
    "duration": 1752,
    "start_time": "2023-05-30T12:20:15.458Z"
   },
   {
    "duration": 42,
    "start_time": "2023-05-30T12:20:17.212Z"
   },
   {
    "duration": 769,
    "start_time": "2023-05-30T12:20:17.255Z"
   },
   {
    "duration": 9,
    "start_time": "2023-05-30T12:20:18.026Z"
   },
   {
    "duration": 6,
    "start_time": "2023-05-30T12:20:18.037Z"
   },
   {
    "duration": 15,
    "start_time": "2023-05-30T12:20:18.045Z"
   },
   {
    "duration": 19,
    "start_time": "2023-05-30T12:20:18.062Z"
   },
   {
    "duration": 5,
    "start_time": "2023-05-30T12:20:18.083Z"
   },
   {
    "duration": 25,
    "start_time": "2023-05-30T12:20:18.091Z"
   },
   {
    "duration": 304,
    "start_time": "2023-05-30T12:20:18.118Z"
   },
   {
    "duration": 15,
    "start_time": "2023-05-30T12:20:18.424Z"
   },
   {
    "duration": 7,
    "start_time": "2023-05-30T12:20:18.441Z"
   },
   {
    "duration": 878,
    "start_time": "2023-05-30T12:20:18.449Z"
   },
   {
    "duration": 987,
    "start_time": "2023-05-30T12:20:19.329Z"
   },
   {
    "duration": 821,
    "start_time": "2023-05-30T12:20:20.318Z"
   },
   {
    "duration": 495,
    "start_time": "2023-05-30T12:20:21.141Z"
   },
   {
    "duration": 18,
    "start_time": "2023-05-30T12:20:21.638Z"
   },
   {
    "duration": 941,
    "start_time": "2023-05-30T12:20:21.658Z"
   },
   {
    "duration": 6,
    "start_time": "2023-05-30T12:20:22.601Z"
   },
   {
    "duration": 1695,
    "start_time": "2023-05-30T12:20:22.609Z"
   },
   {
    "duration": 0,
    "start_time": "2023-05-30T12:20:24.306Z"
   },
   {
    "duration": 21,
    "start_time": "2023-05-30T12:21:44.882Z"
   },
   {
    "duration": 13,
    "start_time": "2023-05-30T12:22:07.970Z"
   },
   {
    "duration": 1720,
    "start_time": "2023-05-30T12:23:09.968Z"
   },
   {
    "duration": 41,
    "start_time": "2023-05-30T12:23:11.690Z"
   },
   {
    "duration": 716,
    "start_time": "2023-05-30T12:23:11.733Z"
   },
   {
    "duration": 8,
    "start_time": "2023-05-30T12:23:12.451Z"
   },
   {
    "duration": 6,
    "start_time": "2023-05-30T12:23:12.461Z"
   },
   {
    "duration": 7,
    "start_time": "2023-05-30T12:23:12.478Z"
   },
   {
    "duration": 7,
    "start_time": "2023-05-30T12:23:12.486Z"
   },
   {
    "duration": 7,
    "start_time": "2023-05-30T12:23:12.494Z"
   },
   {
    "duration": 24,
    "start_time": "2023-05-30T12:23:12.502Z"
   },
   {
    "duration": 301,
    "start_time": "2023-05-30T12:23:12.527Z"
   },
   {
    "duration": 16,
    "start_time": "2023-05-30T12:23:12.830Z"
   },
   {
    "duration": 7,
    "start_time": "2023-05-30T12:23:12.848Z"
   },
   {
    "duration": 847,
    "start_time": "2023-05-30T12:23:12.857Z"
   },
   {
    "duration": 909,
    "start_time": "2023-05-30T12:23:13.706Z"
   },
   {
    "duration": 821,
    "start_time": "2023-05-30T12:23:14.617Z"
   },
   {
    "duration": 559,
    "start_time": "2023-05-30T12:23:15.440Z"
   },
   {
    "duration": 18,
    "start_time": "2023-05-30T12:23:16.001Z"
   },
   {
    "duration": 1047,
    "start_time": "2023-05-30T12:23:16.021Z"
   },
   {
    "duration": 6,
    "start_time": "2023-05-30T12:23:17.078Z"
   },
   {
    "duration": 36,
    "start_time": "2023-05-30T12:23:17.086Z"
   },
   {
    "duration": 11,
    "start_time": "2023-05-30T12:23:17.123Z"
   },
   {
    "duration": 7,
    "start_time": "2023-05-30T12:23:25.574Z"
   },
   {
    "duration": 2079,
    "start_time": "2023-05-30T12:23:54.180Z"
   },
   {
    "duration": 1664,
    "start_time": "2023-05-30T12:24:05.767Z"
   },
   {
    "duration": 46,
    "start_time": "2023-05-30T12:24:07.433Z"
   },
   {
    "duration": 755,
    "start_time": "2023-05-30T12:24:07.480Z"
   },
   {
    "duration": 8,
    "start_time": "2023-05-30T12:24:08.237Z"
   },
   {
    "duration": 27,
    "start_time": "2023-05-30T12:24:08.246Z"
   },
   {
    "duration": 22,
    "start_time": "2023-05-30T12:24:08.275Z"
   },
   {
    "duration": 11,
    "start_time": "2023-05-30T12:24:08.299Z"
   },
   {
    "duration": 13,
    "start_time": "2023-05-30T12:24:08.311Z"
   },
   {
    "duration": 29,
    "start_time": "2023-05-30T12:24:08.326Z"
   },
   {
    "duration": 252,
    "start_time": "2023-05-30T12:24:08.357Z"
   },
   {
    "duration": 16,
    "start_time": "2023-05-30T12:24:08.611Z"
   },
   {
    "duration": 19,
    "start_time": "2023-05-30T12:24:08.628Z"
   },
   {
    "duration": 819,
    "start_time": "2023-05-30T12:24:08.649Z"
   },
   {
    "duration": 951,
    "start_time": "2023-05-30T12:24:09.478Z"
   },
   {
    "duration": 836,
    "start_time": "2023-05-30T12:24:10.431Z"
   },
   {
    "duration": 522,
    "start_time": "2023-05-30T12:24:11.269Z"
   },
   {
    "duration": 17,
    "start_time": "2023-05-30T12:24:11.793Z"
   },
   {
    "duration": 959,
    "start_time": "2023-05-30T12:24:11.811Z"
   },
   {
    "duration": 12,
    "start_time": "2023-05-30T12:24:12.772Z"
   },
   {
    "duration": 11,
    "start_time": "2023-05-30T12:24:12.786Z"
   },
   {
    "duration": 34,
    "start_time": "2023-05-30T12:24:12.798Z"
   },
   {
    "duration": 17,
    "start_time": "2023-05-30T12:24:12.834Z"
   },
   {
    "duration": 126,
    "start_time": "2023-05-30T12:26:08.988Z"
   },
   {
    "duration": 13,
    "start_time": "2023-05-30T12:26:33.652Z"
   },
   {
    "duration": 14,
    "start_time": "2023-05-30T12:26:49.257Z"
   },
   {
    "duration": 42229,
    "start_time": "2023-05-30T12:27:52.679Z"
   },
   {
    "duration": 12,
    "start_time": "2023-05-30T12:36:30.358Z"
   },
   {
    "duration": 5,
    "start_time": "2023-05-30T12:36:54.826Z"
   },
   {
    "duration": 3,
    "start_time": "2023-05-30T12:37:00.364Z"
   },
   {
    "duration": 0,
    "start_time": "2023-05-30T12:37:37.005Z"
   },
   {
    "duration": 9213000,
    "start_time": "2023-05-30T12:37:38.992Z"
   },
   {
    "duration": 9416063,
    "start_time": "2023-05-30T15:48:12.119Z"
   },
   {
    "duration": 11,
    "start_time": "2023-05-30T18:32:45.039Z"
   },
   {
    "duration": 4,
    "start_time": "2023-05-30T18:35:54.125Z"
   },
   {
    "duration": 19,
    "start_time": "2023-05-30T18:36:05.162Z"
   },
   {
    "duration": 14,
    "start_time": "2023-05-30T18:36:07.519Z"
   },
   {
    "duration": 11,
    "start_time": "2023-05-30T18:36:17.416Z"
   },
   {
    "duration": 5825,
    "start_time": "2023-05-30T18:36:33.823Z"
   },
   {
    "duration": 13,
    "start_time": "2023-05-30T18:36:45.802Z"
   },
   {
    "duration": 12927,
    "start_time": "2023-05-30T18:36:51.597Z"
   },
   {
    "duration": 78,
    "start_time": "2023-05-30T18:37:06.876Z"
   },
   {
    "duration": 108,
    "start_time": "2023-05-30T18:37:09.465Z"
   },
   {
    "duration": 107,
    "start_time": "2023-05-30T18:37:14.635Z"
   },
   {
    "duration": 72,
    "start_time": "2023-05-30T18:37:18.283Z"
   },
   {
    "duration": 16594,
    "start_time": "2023-05-30T18:39:14.770Z"
   },
   {
    "duration": 957,
    "start_time": "2023-05-30T18:39:31.374Z"
   }
  ],
  "kernelspec": {
   "display_name": "Python 3 (ipykernel)",
   "language": "python",
   "name": "python3"
  },
  "language_info": {
   "codemirror_mode": {
    "name": "ipython",
    "version": 3
   },
   "file_extension": ".py",
   "mimetype": "text/x-python",
   "name": "python",
   "nbconvert_exporter": "python",
   "pygments_lexer": "ipython3",
   "version": "3.9.5"
  },
  "toc": {
   "base_numbering": 1,
   "nav_menu": {},
   "number_sections": true,
   "sideBar": true,
   "skip_h1_title": true,
   "title_cell": "Содержание",
   "title_sidebar": "Contents",
   "toc_cell": true,
   "toc_position": {
    "height": "calc(100% - 180px)",
    "left": "10px",
    "top": "150px",
    "width": "167.604px"
   },
   "toc_section_display": true,
   "toc_window_display": true
  }
 },
 "nbformat": 4,
 "nbformat_minor": 2
}
