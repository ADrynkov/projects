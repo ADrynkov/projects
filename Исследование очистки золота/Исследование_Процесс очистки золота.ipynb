{
 "cells": [
  {
   "cell_type": "markdown",
   "metadata": {
    "toc": true
   },
   "source": [
    "<h1>Содержание<span class=\"tocSkip\"></span></h1>\n",
    "<div class=\"toc\"><ul class=\"toc-item\"><li><span><a href=\"#Подготовка-данных\" data-toc-modified-id=\"Подготовка-данных-1\"><span class=\"toc-item-num\">1&nbsp;&nbsp;</span>Подготовка данных</a></span><ul class=\"toc-item\"><li><span><a href=\"#Импорт-библиотек.\" data-toc-modified-id=\"Импорт-библиотек.-1.1\"><span class=\"toc-item-num\">1.1&nbsp;&nbsp;</span>Импорт библиотек.</a></span></li><li><span><a href=\"#Чтение-и-изучение-данных.\" data-toc-modified-id=\"Чтение-и-изучение-данных.-1.2\"><span class=\"toc-item-num\">1.2&nbsp;&nbsp;</span>Чтение и изучение данных.</a></span></li><li><span><a href=\"#Предобработка-данных.\" data-toc-modified-id=\"Предобработка-данных.-1.3\"><span class=\"toc-item-num\">1.3&nbsp;&nbsp;</span>Предобработка данных.</a></span></li><li><span><a href=\"#Вывод.\" data-toc-modified-id=\"Вывод.-1.4\"><span class=\"toc-item-num\">1.4&nbsp;&nbsp;</span>Вывод.</a></span></li></ul></li><li><span><a href=\"#Анализ-данных\" data-toc-modified-id=\"Анализ-данных-2\"><span class=\"toc-item-num\">2&nbsp;&nbsp;</span>Анализ данных</a></span><ul class=\"toc-item\"><li><span><a href=\"#Изменение-количества-золота,-серебра-и-свинца-после-этапов-обработки.\" data-toc-modified-id=\"Изменение-количества-золота,-серебра-и-свинца-после-этапов-обработки.-2.1\"><span class=\"toc-item-num\">2.1&nbsp;&nbsp;</span>Изменение количества золота, серебра и свинца после этапов обработки.</a></span><ul class=\"toc-item\"><li><span><a href=\"#Изучим-как-меняется-количество-золота-в-руде-после-этапов-обработки.\" data-toc-modified-id=\"Изучим-как-меняется-количество-золота-в-руде-после-этапов-обработки.-2.1.1\"><span class=\"toc-item-num\">2.1.1&nbsp;&nbsp;</span>Изучим как меняется количество золота в руде после этапов обработки.</a></span></li><li><span><a href=\"#Изучим-как-меняется-количество-серебра-в-руде-после-этапов-обработки.\" data-toc-modified-id=\"Изучим-как-меняется-количество-серебра-в-руде-после-этапов-обработки.-2.1.2\"><span class=\"toc-item-num\">2.1.2&nbsp;&nbsp;</span>Изучим как меняется количество серебра в руде после этапов обработки.</a></span></li><li><span><a href=\"#Изучим-как-меняется-количество-свинца-в-руде-после-этапов-обработки.\" data-toc-modified-id=\"Изучим-как-меняется-количество-свинца-в-руде-после-этапов-обработки.-2.1.3\"><span class=\"toc-item-num\">2.1.3&nbsp;&nbsp;</span>Изучим как меняется количество свинца в руде после этапов обработки.</a></span></li></ul></li><li><span><a href=\"#Размеры-гранул-в-обучабщей-и-тестовой-выборке.\" data-toc-modified-id=\"Размеры-гранул-в-обучабщей-и-тестовой-выборке.-2.2\"><span class=\"toc-item-num\">2.2&nbsp;&nbsp;</span>Размеры гранул в обучабщей и тестовой выборке.</a></span></li><li><span><a href=\"#Суммарное-изменение-количества-металла-после-этапов.\" data-toc-modified-id=\"Суммарное-изменение-количества-металла-после-этапов.-2.3\"><span class=\"toc-item-num\">2.3&nbsp;&nbsp;</span>Суммарное изменение количества металла после этапов.</a></span></li><li><span><a href=\"#Выводы.\" data-toc-modified-id=\"Выводы.-2.4\"><span class=\"toc-item-num\">2.4&nbsp;&nbsp;</span>Выводы.</a></span></li></ul></li><li><span><a href=\"#Модель\" data-toc-modified-id=\"Модель-3\"><span class=\"toc-item-num\">3&nbsp;&nbsp;</span>Модель</a></span><ul class=\"toc-item\"><li><span><a href=\"#Вывод\" data-toc-modified-id=\"Вывод-3.1\"><span class=\"toc-item-num\">3.1&nbsp;&nbsp;</span>Вывод</a></span></li></ul></li><li><span><a href=\"#Чек-лист-готовности-проекта\" data-toc-modified-id=\"Чек-лист-готовности-проекта-4\"><span class=\"toc-item-num\">4&nbsp;&nbsp;</span>Чек-лист готовности проекта</a></span></li></ul></div>"
   ]
  },
  {
   "cell_type": "markdown",
   "metadata": {},
   "source": [
    "# Восстановление золота из руды"
   ]
  },
  {
   "cell_type": "markdown",
   "metadata": {},
   "source": [
    "Подготовьте прототип модели машинного обучения для «Цифры». Компания разрабатывает решения для эффективной работы промышленных предприятий.\n",
    "\n",
    "Модель должна предсказать коэффициент восстановления золота из золотосодержащей руды. Используйте данные с параметрами добычи и очистки. \n",
    "\n",
    "Модель поможет оптимизировать производство, чтобы не запускать предприятие с убыточными характеристиками.\n",
    "\n",
    "Вам нужно:\n",
    "\n",
    "1. Подготовить данные;\n",
    "2. Провести исследовательский анализ данных;\n",
    "3. Построить и обучить модель.\n",
    "\n",
    "Чтобы выполнить проект, обращайтесь к библиотекам *pandas*, *matplotlib* и *sklearn.* Вам поможет их документация."
   ]
  },
  {
   "cell_type": "markdown",
   "metadata": {},
   "source": [
    "## Подготовка данных"
   ]
  },
  {
   "cell_type": "markdown",
   "metadata": {},
   "source": [
    "### Импорт библиотек."
   ]
  },
  {
   "cell_type": "markdown",
   "metadata": {},
   "source": [
    "Установим необходимые для работы библиотеки."
   ]
  },
  {
   "cell_type": "markdown",
   "metadata": {},
   "source": [
    "pip install pandas-profiling"
   ]
  },
  {
   "cell_type": "markdown",
   "metadata": {},
   "source": [
    "Импортируем необходимые для работы библиотеки."
   ]
  },
  {
   "cell_type": "code",
   "execution_count": 1,
   "metadata": {
    "tags": []
   },
   "outputs": [
    {
     "name": "stderr",
     "output_type": "stream",
     "text": [
      "/var/folders/2g/t9l31hm97nqbgq1c0gv_y_kc0000gn/T/ipykernel_1765/21368120.py:9: DeprecationWarning: Importing display from IPython.core.display is deprecated since IPython 7.14, please import from IPython display\n",
      "  from IPython.core.display import display, HTML\n"
     ]
    }
   ],
   "source": [
    "import pandas as pd\n",
    "#from ydata_profiling import ProfileReport\n",
    "from sklearn.linear_model import LinearRegression\n",
    "from sklearn.tree import DecisionTreeRegressor\n",
    "from sklearn.ensemble import RandomForestRegressor\n",
    "from sklearn.preprocessing import StandardScaler\n",
    "import matplotlib.pyplot as plt\n",
    "import numpy as np\n",
    "from IPython.core.display import display, HTML\n",
    "from sklearn.metrics import mean_absolute_error\n",
    "from sklearn.pipeline import Pipeline\n",
    "from sklearn.model_selection import GridSearchCV\n",
    "import scipy\n",
    "import statsmodels.api as sm\n",
    "from sklearn.metrics import make_scorer\n",
    "from sklearn.dummy import DummyRegressor"
   ]
  },
  {
   "cell_type": "code",
   "execution_count": 2,
   "metadata": {},
   "outputs": [
    {
     "data": {
      "text/html": [
       "<style>.container { width:90% !important; }</style>"
      ],
      "text/plain": [
       "<IPython.core.display.HTML object>"
      ]
     },
     "metadata": {},
     "output_type": "display_data"
    }
   ],
   "source": [
    "display(HTML(\"<style>.container { width:90% !important; }</style>\"))"
   ]
  },
  {
   "cell_type": "markdown",
   "metadata": {},
   "source": [
    "### Чтение и изучение данных."
   ]
  },
  {
   "cell_type": "markdown",
   "metadata": {},
   "source": [
    "Загрузим исходные данные и запишем их в переменные."
   ]
  },
  {
   "cell_type": "code",
   "execution_count": 2,
   "metadata": {
    "tags": []
   },
   "outputs": [
    {
     "ename": "FileNotFoundError",
     "evalue": "[Errno 2] No such file or directory: '/datasets/gold_industry_train.csv'",
     "output_type": "error",
     "traceback": [
      "\u001b[0;31m---------------------------------------------------------------------------\u001b[0m",
      "\u001b[0;31mFileNotFoundError\u001b[0m                         Traceback (most recent call last)",
      "Cell \u001b[0;32mIn[2], line 1\u001b[0m\n\u001b[0;32m----> 1\u001b[0m df_train \u001b[38;5;241m=\u001b[39m pd\u001b[38;5;241m.\u001b[39mread_csv(\u001b[38;5;124m'\u001b[39m\u001b[38;5;124m/datasets/gold_industry_train.csv\u001b[39m\u001b[38;5;124m'\u001b[39m, index_col\u001b[38;5;241m=\u001b[39m\u001b[38;5;124m'\u001b[39m\u001b[38;5;124mdate\u001b[39m\u001b[38;5;124m'\u001b[39m)\n\u001b[1;32m      2\u001b[0m df_test\u001b[38;5;241m=\u001b[39m pd\u001b[38;5;241m.\u001b[39mread_csv(\u001b[38;5;124m'\u001b[39m\u001b[38;5;124m/datasets/gold_industry_test.csv\u001b[39m\u001b[38;5;124m'\u001b[39m, index_col\u001b[38;5;241m=\u001b[39m\u001b[38;5;124m'\u001b[39m\u001b[38;5;124mdate\u001b[39m\u001b[38;5;124m'\u001b[39m)\n\u001b[1;32m      3\u001b[0m df_full \u001b[38;5;241m=\u001b[39m pd\u001b[38;5;241m.\u001b[39mread_csv(\u001b[38;5;124m'\u001b[39m\u001b[38;5;124m/datasets/gold_industry_full.csv\u001b[39m\u001b[38;5;124m'\u001b[39m, index_col\u001b[38;5;241m=\u001b[39m\u001b[38;5;124m'\u001b[39m\u001b[38;5;124mdate\u001b[39m\u001b[38;5;124m'\u001b[39m)\n",
      "File \u001b[0;32m~/anaconda3/lib/python3.11/site-packages/pandas/io/parsers/readers.py:912\u001b[0m, in \u001b[0;36mread_csv\u001b[0;34m(filepath_or_buffer, sep, delimiter, header, names, index_col, usecols, dtype, engine, converters, true_values, false_values, skipinitialspace, skiprows, skipfooter, nrows, na_values, keep_default_na, na_filter, verbose, skip_blank_lines, parse_dates, infer_datetime_format, keep_date_col, date_parser, date_format, dayfirst, cache_dates, iterator, chunksize, compression, thousands, decimal, lineterminator, quotechar, quoting, doublequote, escapechar, comment, encoding, encoding_errors, dialect, on_bad_lines, delim_whitespace, low_memory, memory_map, float_precision, storage_options, dtype_backend)\u001b[0m\n\u001b[1;32m    899\u001b[0m kwds_defaults \u001b[38;5;241m=\u001b[39m _refine_defaults_read(\n\u001b[1;32m    900\u001b[0m     dialect,\n\u001b[1;32m    901\u001b[0m     delimiter,\n\u001b[0;32m   (...)\u001b[0m\n\u001b[1;32m    908\u001b[0m     dtype_backend\u001b[38;5;241m=\u001b[39mdtype_backend,\n\u001b[1;32m    909\u001b[0m )\n\u001b[1;32m    910\u001b[0m kwds\u001b[38;5;241m.\u001b[39mupdate(kwds_defaults)\n\u001b[0;32m--> 912\u001b[0m \u001b[38;5;28;01mreturn\u001b[39;00m _read(filepath_or_buffer, kwds)\n",
      "File \u001b[0;32m~/anaconda3/lib/python3.11/site-packages/pandas/io/parsers/readers.py:577\u001b[0m, in \u001b[0;36m_read\u001b[0;34m(filepath_or_buffer, kwds)\u001b[0m\n\u001b[1;32m    574\u001b[0m _validate_names(kwds\u001b[38;5;241m.\u001b[39mget(\u001b[38;5;124m\"\u001b[39m\u001b[38;5;124mnames\u001b[39m\u001b[38;5;124m\"\u001b[39m, \u001b[38;5;28;01mNone\u001b[39;00m))\n\u001b[1;32m    576\u001b[0m \u001b[38;5;66;03m# Create the parser.\u001b[39;00m\n\u001b[0;32m--> 577\u001b[0m parser \u001b[38;5;241m=\u001b[39m TextFileReader(filepath_or_buffer, \u001b[38;5;241m*\u001b[39m\u001b[38;5;241m*\u001b[39mkwds)\n\u001b[1;32m    579\u001b[0m \u001b[38;5;28;01mif\u001b[39;00m chunksize \u001b[38;5;129;01mor\u001b[39;00m iterator:\n\u001b[1;32m    580\u001b[0m     \u001b[38;5;28;01mreturn\u001b[39;00m parser\n",
      "File \u001b[0;32m~/anaconda3/lib/python3.11/site-packages/pandas/io/parsers/readers.py:1407\u001b[0m, in \u001b[0;36mTextFileReader.__init__\u001b[0;34m(self, f, engine, **kwds)\u001b[0m\n\u001b[1;32m   1404\u001b[0m     \u001b[38;5;28mself\u001b[39m\u001b[38;5;241m.\u001b[39moptions[\u001b[38;5;124m\"\u001b[39m\u001b[38;5;124mhas_index_names\u001b[39m\u001b[38;5;124m\"\u001b[39m] \u001b[38;5;241m=\u001b[39m kwds[\u001b[38;5;124m\"\u001b[39m\u001b[38;5;124mhas_index_names\u001b[39m\u001b[38;5;124m\"\u001b[39m]\n\u001b[1;32m   1406\u001b[0m \u001b[38;5;28mself\u001b[39m\u001b[38;5;241m.\u001b[39mhandles: IOHandles \u001b[38;5;241m|\u001b[39m \u001b[38;5;28;01mNone\u001b[39;00m \u001b[38;5;241m=\u001b[39m \u001b[38;5;28;01mNone\u001b[39;00m\n\u001b[0;32m-> 1407\u001b[0m \u001b[38;5;28mself\u001b[39m\u001b[38;5;241m.\u001b[39m_engine \u001b[38;5;241m=\u001b[39m \u001b[38;5;28mself\u001b[39m\u001b[38;5;241m.\u001b[39m_make_engine(f, \u001b[38;5;28mself\u001b[39m\u001b[38;5;241m.\u001b[39mengine)\n",
      "File \u001b[0;32m~/anaconda3/lib/python3.11/site-packages/pandas/io/parsers/readers.py:1661\u001b[0m, in \u001b[0;36mTextFileReader._make_engine\u001b[0;34m(self, f, engine)\u001b[0m\n\u001b[1;32m   1659\u001b[0m     \u001b[38;5;28;01mif\u001b[39;00m \u001b[38;5;124m\"\u001b[39m\u001b[38;5;124mb\u001b[39m\u001b[38;5;124m\"\u001b[39m \u001b[38;5;129;01mnot\u001b[39;00m \u001b[38;5;129;01min\u001b[39;00m mode:\n\u001b[1;32m   1660\u001b[0m         mode \u001b[38;5;241m+\u001b[39m\u001b[38;5;241m=\u001b[39m \u001b[38;5;124m\"\u001b[39m\u001b[38;5;124mb\u001b[39m\u001b[38;5;124m\"\u001b[39m\n\u001b[0;32m-> 1661\u001b[0m \u001b[38;5;28mself\u001b[39m\u001b[38;5;241m.\u001b[39mhandles \u001b[38;5;241m=\u001b[39m get_handle(\n\u001b[1;32m   1662\u001b[0m     f,\n\u001b[1;32m   1663\u001b[0m     mode,\n\u001b[1;32m   1664\u001b[0m     encoding\u001b[38;5;241m=\u001b[39m\u001b[38;5;28mself\u001b[39m\u001b[38;5;241m.\u001b[39moptions\u001b[38;5;241m.\u001b[39mget(\u001b[38;5;124m\"\u001b[39m\u001b[38;5;124mencoding\u001b[39m\u001b[38;5;124m\"\u001b[39m, \u001b[38;5;28;01mNone\u001b[39;00m),\n\u001b[1;32m   1665\u001b[0m     compression\u001b[38;5;241m=\u001b[39m\u001b[38;5;28mself\u001b[39m\u001b[38;5;241m.\u001b[39moptions\u001b[38;5;241m.\u001b[39mget(\u001b[38;5;124m\"\u001b[39m\u001b[38;5;124mcompression\u001b[39m\u001b[38;5;124m\"\u001b[39m, \u001b[38;5;28;01mNone\u001b[39;00m),\n\u001b[1;32m   1666\u001b[0m     memory_map\u001b[38;5;241m=\u001b[39m\u001b[38;5;28mself\u001b[39m\u001b[38;5;241m.\u001b[39moptions\u001b[38;5;241m.\u001b[39mget(\u001b[38;5;124m\"\u001b[39m\u001b[38;5;124mmemory_map\u001b[39m\u001b[38;5;124m\"\u001b[39m, \u001b[38;5;28;01mFalse\u001b[39;00m),\n\u001b[1;32m   1667\u001b[0m     is_text\u001b[38;5;241m=\u001b[39mis_text,\n\u001b[1;32m   1668\u001b[0m     errors\u001b[38;5;241m=\u001b[39m\u001b[38;5;28mself\u001b[39m\u001b[38;5;241m.\u001b[39moptions\u001b[38;5;241m.\u001b[39mget(\u001b[38;5;124m\"\u001b[39m\u001b[38;5;124mencoding_errors\u001b[39m\u001b[38;5;124m\"\u001b[39m, \u001b[38;5;124m\"\u001b[39m\u001b[38;5;124mstrict\u001b[39m\u001b[38;5;124m\"\u001b[39m),\n\u001b[1;32m   1669\u001b[0m     storage_options\u001b[38;5;241m=\u001b[39m\u001b[38;5;28mself\u001b[39m\u001b[38;5;241m.\u001b[39moptions\u001b[38;5;241m.\u001b[39mget(\u001b[38;5;124m\"\u001b[39m\u001b[38;5;124mstorage_options\u001b[39m\u001b[38;5;124m\"\u001b[39m, \u001b[38;5;28;01mNone\u001b[39;00m),\n\u001b[1;32m   1670\u001b[0m )\n\u001b[1;32m   1671\u001b[0m \u001b[38;5;28;01massert\u001b[39;00m \u001b[38;5;28mself\u001b[39m\u001b[38;5;241m.\u001b[39mhandles \u001b[38;5;129;01mis\u001b[39;00m \u001b[38;5;129;01mnot\u001b[39;00m \u001b[38;5;28;01mNone\u001b[39;00m\n\u001b[1;32m   1672\u001b[0m f \u001b[38;5;241m=\u001b[39m \u001b[38;5;28mself\u001b[39m\u001b[38;5;241m.\u001b[39mhandles\u001b[38;5;241m.\u001b[39mhandle\n",
      "File \u001b[0;32m~/anaconda3/lib/python3.11/site-packages/pandas/io/common.py:859\u001b[0m, in \u001b[0;36mget_handle\u001b[0;34m(path_or_buf, mode, encoding, compression, memory_map, is_text, errors, storage_options)\u001b[0m\n\u001b[1;32m    854\u001b[0m \u001b[38;5;28;01melif\u001b[39;00m \u001b[38;5;28misinstance\u001b[39m(handle, \u001b[38;5;28mstr\u001b[39m):\n\u001b[1;32m    855\u001b[0m     \u001b[38;5;66;03m# Check whether the filename is to be opened in binary mode.\u001b[39;00m\n\u001b[1;32m    856\u001b[0m     \u001b[38;5;66;03m# Binary mode does not support 'encoding' and 'newline'.\u001b[39;00m\n\u001b[1;32m    857\u001b[0m     \u001b[38;5;28;01mif\u001b[39;00m ioargs\u001b[38;5;241m.\u001b[39mencoding \u001b[38;5;129;01mand\u001b[39;00m \u001b[38;5;124m\"\u001b[39m\u001b[38;5;124mb\u001b[39m\u001b[38;5;124m\"\u001b[39m \u001b[38;5;129;01mnot\u001b[39;00m \u001b[38;5;129;01min\u001b[39;00m ioargs\u001b[38;5;241m.\u001b[39mmode:\n\u001b[1;32m    858\u001b[0m         \u001b[38;5;66;03m# Encoding\u001b[39;00m\n\u001b[0;32m--> 859\u001b[0m         handle \u001b[38;5;241m=\u001b[39m \u001b[38;5;28mopen\u001b[39m(\n\u001b[1;32m    860\u001b[0m             handle,\n\u001b[1;32m    861\u001b[0m             ioargs\u001b[38;5;241m.\u001b[39mmode,\n\u001b[1;32m    862\u001b[0m             encoding\u001b[38;5;241m=\u001b[39mioargs\u001b[38;5;241m.\u001b[39mencoding,\n\u001b[1;32m    863\u001b[0m             errors\u001b[38;5;241m=\u001b[39merrors,\n\u001b[1;32m    864\u001b[0m             newline\u001b[38;5;241m=\u001b[39m\u001b[38;5;124m\"\u001b[39m\u001b[38;5;124m\"\u001b[39m,\n\u001b[1;32m    865\u001b[0m         )\n\u001b[1;32m    866\u001b[0m     \u001b[38;5;28;01melse\u001b[39;00m:\n\u001b[1;32m    867\u001b[0m         \u001b[38;5;66;03m# Binary mode\u001b[39;00m\n\u001b[1;32m    868\u001b[0m         handle \u001b[38;5;241m=\u001b[39m \u001b[38;5;28mopen\u001b[39m(handle, ioargs\u001b[38;5;241m.\u001b[39mmode)\n",
      "\u001b[0;31mFileNotFoundError\u001b[0m: [Errno 2] No such file or directory: '/datasets/gold_industry_train.csv'"
     ]
    }
   ],
   "source": [
    "df_train = pd.read_csv('/datasets/gold_industry_train.csv', index_col='date')\n",
    "df_test= pd.read_csv('/datasets/gold_industry_test.csv', index_col='date')\n",
    "df_full = pd.read_csv('/datasets/gold_industry_full.csv', index_col='date')"
   ]
  },
  {
   "cell_type": "markdown",
   "metadata": {},
   "source": [
    "Определим необходимые контстанты."
   ]
  },
  {
   "cell_type": "code",
   "execution_count": 3,
   "metadata": {
    "tags": []
   },
   "outputs": [
    {
     "ename": "NameError",
     "evalue": "name 'df_train' is not defined",
     "output_type": "error",
     "traceback": [
      "\u001b[0;31m---------------------------------------------------------------------------\u001b[0m",
      "\u001b[0;31mNameError\u001b[0m                                 Traceback (most recent call last)",
      "Cell \u001b[0;32mIn[3], line 1\u001b[0m\n\u001b[0;32m----> 1\u001b[0m f_rougher \u001b[38;5;241m=\u001b[39m df_train[\u001b[38;5;124m'\u001b[39m\u001b[38;5;124mrougher.input.feed_au\u001b[39m\u001b[38;5;124m'\u001b[39m]\n\u001b[1;32m      2\u001b[0m c_rougher \u001b[38;5;241m=\u001b[39m df_train[\u001b[38;5;124m'\u001b[39m\u001b[38;5;124mrougher.output.concentrate_au\u001b[39m\u001b[38;5;124m'\u001b[39m]\n\u001b[1;32m      3\u001b[0m t_rougher \u001b[38;5;241m=\u001b[39m df_train[\u001b[38;5;124m'\u001b[39m\u001b[38;5;124mrougher.output.tail_au\u001b[39m\u001b[38;5;124m'\u001b[39m]\n",
      "\u001b[0;31mNameError\u001b[0m: name 'df_train' is not defined"
     ]
    }
   ],
   "source": [
    "f_rougher = df_train['rougher.input.feed_au']\n",
    "c_rougher = df_train['rougher.output.concentrate_au']\n",
    "t_rougher = df_train['rougher.output.tail_au']\n",
    "\n",
    "f_final = df_train['rougher.input.feed_au']\n",
    "c_final = df_train['final.output.concentrate_au']\n",
    "t_final = df_train['final.output.tail_au']\n",
    "#данные для проверки recovery\n",
    "\n",
    "recovery_rougher = (c_rougher * (f_rougher - t_rougher)) / (f_rougher * (c_rougher - t_rougher)) * 100\n",
    "#формула для проверки recovery_rougher\n",
    "\n",
    "recovery_final = (c_final * (f_final - t_final)) / (f_final * (c_final - t_final)) * 100\n",
    "#формула для проверки recovery_final\n",
    "\n",
    "columns_to_delete = set(df_train.columns) - set(df_test.columns)\n",
    "#определим столбцы для удаления"
   ]
  },
  {
   "cell_type": "markdown",
   "metadata": {},
   "source": [
    "ProfileReport(df_train, minimal=True)"
   ]
  },
  {
   "cell_type": "markdown",
   "metadata": {},
   "source": [
    "ProfileReport(df_test, minimal=True)"
   ]
  },
  {
   "cell_type": "markdown",
   "metadata": {},
   "source": [
    "ProfileReport(df_full, minimal=True)"
   ]
  },
  {
   "cell_type": "markdown",
   "metadata": {},
   "source": [
    "Удостоверимся, что данные в целевых столбцах посчитаны верно."
   ]
  },
  {
   "cell_type": "code",
   "execution_count": 5,
   "metadata": {},
   "outputs": [
    {
     "name": "stdout",
     "output_type": "stream",
     "text": [
      "Эффективность обогащения посчитана правильно\n"
     ]
    }
   ],
   "source": [
    "if recovery_rougher.sum() == df_train['rougher.output.recovery'].sum():\n",
    "    print('Эффективность обогащения посчитана правильно')\n",
    "else:\n",
    "    print('Эффективность обогащения посчитана не правильно')"
   ]
  },
  {
   "cell_type": "code",
   "execution_count": 6,
   "metadata": {},
   "outputs": [
    {
     "data": {
      "text/plain": [
       "9.83758577644259e-15"
      ]
     },
     "execution_count": 6,
     "metadata": {},
     "output_type": "execute_result"
    }
   ],
   "source": [
    "mean_absolute_error(recovery_rougher, df_train['rougher.output.recovery'])"
   ]
  },
  {
   "cell_type": "code",
   "execution_count": 7,
   "metadata": {},
   "outputs": [
    {
     "name": "stdout",
     "output_type": "stream",
     "text": [
      "Эффективность обогащения посчитана правильно\n"
     ]
    }
   ],
   "source": [
    "if recovery_final.sum() == df_train['final.output.recovery'].sum():\n",
    "    print('Эффективность обогащения посчитана правильно')\n",
    "else:\n",
    "    print('Эффективность обогащения посчитана не правильно')"
   ]
  },
  {
   "cell_type": "code",
   "execution_count": 8,
   "metadata": {
    "scrolled": true
   },
   "outputs": [
    {
     "data": {
      "text/plain": [
       "8.569602032360358e-15"
      ]
     },
     "execution_count": 8,
     "metadata": {},
     "output_type": "execute_result"
    }
   ],
   "source": [
    "mean_absolute_error(recovery_final, df_train['final.output.recovery'])"
   ]
  },
  {
   "cell_type": "markdown",
   "metadata": {},
   "source": [
    "Эффективности обогощения посчитаны верно. Разница составляет очень незначительную величину."
   ]
  },
  {
   "cell_type": "markdown",
   "metadata": {},
   "source": [
    "Изучим какие колонки недоступны в тестовой выборке."
   ]
  },
  {
   "cell_type": "code",
   "execution_count": 9,
   "metadata": {},
   "outputs": [
    {
     "data": {
      "text/plain": [
       "{'final.output.concentrate_ag',\n",
       " 'final.output.concentrate_au',\n",
       " 'final.output.concentrate_pb',\n",
       " 'final.output.concentrate_sol',\n",
       " 'final.output.recovery',\n",
       " 'final.output.tail_ag',\n",
       " 'final.output.tail_au',\n",
       " 'final.output.tail_pb',\n",
       " 'final.output.tail_sol',\n",
       " 'primary_cleaner.output.concentrate_ag',\n",
       " 'primary_cleaner.output.concentrate_au',\n",
       " 'primary_cleaner.output.concentrate_pb',\n",
       " 'primary_cleaner.output.concentrate_sol',\n",
       " 'primary_cleaner.output.tail_ag',\n",
       " 'primary_cleaner.output.tail_au',\n",
       " 'primary_cleaner.output.tail_pb',\n",
       " 'primary_cleaner.output.tail_sol',\n",
       " 'rougher.calculation.au_pb_ratio',\n",
       " 'rougher.calculation.floatbank10_sulfate_to_au_feed',\n",
       " 'rougher.calculation.floatbank11_sulfate_to_au_feed',\n",
       " 'rougher.calculation.sulfate_to_au_concentrate',\n",
       " 'rougher.output.concentrate_ag',\n",
       " 'rougher.output.concentrate_au',\n",
       " 'rougher.output.concentrate_pb',\n",
       " 'rougher.output.concentrate_sol',\n",
       " 'rougher.output.recovery',\n",
       " 'rougher.output.tail_ag',\n",
       " 'rougher.output.tail_au',\n",
       " 'rougher.output.tail_pb',\n",
       " 'rougher.output.tail_sol',\n",
       " 'secondary_cleaner.output.tail_ag',\n",
       " 'secondary_cleaner.output.tail_au',\n",
       " 'secondary_cleaner.output.tail_pb',\n",
       " 'secondary_cleaner.output.tail_sol'}"
      ]
     },
     "execution_count": 9,
     "metadata": {},
     "output_type": "execute_result"
    }
   ],
   "source": [
    "columns_to_delete"
   ]
  },
  {
   "cell_type": "markdown",
   "metadata": {},
   "source": [
    "Как мы видим из сравнения столбцов в тестовой и обучающей выборке, в тестовой выборке нам недоступны параметры по выводу металлов и сульфатов на каждом этапе, а так же столбцы с столбцы с расчетными значениями отношений между количествами металлов. Так же отсутствуют и целевые столбцы. Видимо, это связано с тем, что даные не доступны до начала обработки."
   ]
  },
  {
   "cell_type": "markdown",
   "metadata": {},
   "source": [
    "Как мы видим из отчетов, данные имеют пропуски, аномалии и выбросы. Так же тестовая и обучабщие датафреймы различаются по количеству столбцов. Для дальнейшей работы необходимо произвести предобработку данных. В том числе:\n",
    "- Удалить строки с нулевыми значениями.\n",
    "- Заменить пропуски в данных на те, которые находятся в предыдущих записях (так как данные несильно различаются)."
   ]
  },
  {
   "cell_type": "markdown",
   "metadata": {},
   "source": [
    "### Предобработка данных."
   ]
  },
  {
   "cell_type": "markdown",
   "metadata": {},
   "source": [
    "Заполним пропуски."
   ]
  },
  {
   "cell_type": "code",
   "execution_count": 10,
   "metadata": {},
   "outputs": [],
   "source": [
    "df_train = df_train.fillna(method='ffill')\n",
    "df_test = df_test.fillna(method='ffill')\n",
    "df_full = df_full.fillna(method='ffill')\n",
    "#заполним пропуски по предыдущему значению"
   ]
  },
  {
   "cell_type": "markdown",
   "metadata": {},
   "source": [
    "Удалим из обучающего датафрейма нулевые значения."
   ]
  },
  {
   "cell_type": "code",
   "execution_count": 11,
   "metadata": {},
   "outputs": [],
   "source": [
    "for i in df_train.columns:\n",
    "    df_train = df_train[df_train[i] != 0]"
   ]
  },
  {
   "cell_type": "code",
   "execution_count": 12,
   "metadata": {},
   "outputs": [
    {
     "name": "stdout",
     "output_type": "stream",
     "text": [
      "<class 'pandas.core.frame.DataFrame'>\n",
      "Index: 13107 entries, 2016-01-15 00:00:00 to 2017-12-09 07:59:59\n",
      "Data columns (total 86 columns):\n",
      " #   Column                                              Non-Null Count  Dtype  \n",
      "---  ------                                              --------------  -----  \n",
      " 0   rougher.input.feed_au                               13107 non-null  float64\n",
      " 1   rougher.input.feed_ag                               13107 non-null  float64\n",
      " 2   rougher.input.feed_pb                               13107 non-null  float64\n",
      " 3   rougher.input.feed_sol                              13107 non-null  float64\n",
      " 4   rougher.input.feed_rate                             13107 non-null  float64\n",
      " 5   rougher.input.feed_size                             13107 non-null  float64\n",
      " 6   rougher.input.floatbank10_sulfate                   13107 non-null  float64\n",
      " 7   rougher.input.floatbank10_xanthate                  13107 non-null  float64\n",
      " 8   rougher.state.floatbank10_a_air                     13107 non-null  float64\n",
      " 9   rougher.state.floatbank10_a_level                   13107 non-null  float64\n",
      " 10  rougher.state.floatbank10_b_air                     13107 non-null  float64\n",
      " 11  rougher.state.floatbank10_b_level                   13107 non-null  float64\n",
      " 12  rougher.state.floatbank10_c_air                     13107 non-null  float64\n",
      " 13  rougher.state.floatbank10_c_level                   13107 non-null  float64\n",
      " 14  rougher.state.floatbank10_d_air                     13107 non-null  float64\n",
      " 15  rougher.state.floatbank10_d_level                   13107 non-null  float64\n",
      " 16  rougher.state.floatbank10_e_air                     13107 non-null  float64\n",
      " 17  rougher.state.floatbank10_e_level                   13107 non-null  float64\n",
      " 18  rougher.state.floatbank10_f_air                     13107 non-null  float64\n",
      " 19  rougher.state.floatbank10_f_level                   13107 non-null  float64\n",
      " 20  rougher.input.floatbank11_sulfate                   13107 non-null  float64\n",
      " 21  rougher.input.floatbank11_xanthate                  13107 non-null  float64\n",
      " 22  rougher.calculation.sulfate_to_au_concentrate       13107 non-null  float64\n",
      " 23  rougher.calculation.floatbank10_sulfate_to_au_feed  13107 non-null  float64\n",
      " 24  rougher.calculation.floatbank11_sulfate_to_au_feed  13107 non-null  float64\n",
      " 25  rougher.calculation.au_pb_ratio                     13107 non-null  float64\n",
      " 26  rougher.output.concentrate_au                       13107 non-null  float64\n",
      " 27  rougher.output.concentrate_ag                       13107 non-null  float64\n",
      " 28  rougher.output.concentrate_pb                       13107 non-null  float64\n",
      " 29  rougher.output.concentrate_sol                      13107 non-null  float64\n",
      " 30  rougher.output.recovery                             13107 non-null  float64\n",
      " 31  rougher.output.tail_au                              13107 non-null  float64\n",
      " 32  rougher.output.tail_ag                              13107 non-null  float64\n",
      " 33  rougher.output.tail_pb                              13107 non-null  float64\n",
      " 34  rougher.output.tail_sol                             13107 non-null  float64\n",
      " 35  primary_cleaner.input.sulfate                       13107 non-null  float64\n",
      " 36  primary_cleaner.input.depressant                    13107 non-null  float64\n",
      " 37  primary_cleaner.input.feed_size                     13107 non-null  float64\n",
      " 38  primary_cleaner.input.xanthate                      13107 non-null  float64\n",
      " 39  primary_cleaner.state.floatbank8_a_air              13107 non-null  float64\n",
      " 40  primary_cleaner.state.floatbank8_a_level            13107 non-null  float64\n",
      " 41  primary_cleaner.state.floatbank8_b_air              13107 non-null  float64\n",
      " 42  primary_cleaner.state.floatbank8_b_level            13107 non-null  float64\n",
      " 43  primary_cleaner.state.floatbank8_c_air              13107 non-null  float64\n",
      " 44  primary_cleaner.state.floatbank8_c_level            13107 non-null  float64\n",
      " 45  primary_cleaner.state.floatbank8_d_air              13107 non-null  float64\n",
      " 46  primary_cleaner.state.floatbank8_d_level            13107 non-null  float64\n",
      " 47  primary_cleaner.output.concentrate_au               13107 non-null  float64\n",
      " 48  primary_cleaner.output.concentrate_ag               13107 non-null  float64\n",
      " 49  primary_cleaner.output.concentrate_pb               13107 non-null  float64\n",
      " 50  primary_cleaner.output.concentrate_sol              13107 non-null  float64\n",
      " 51  primary_cleaner.output.tail_au                      13107 non-null  float64\n",
      " 52  primary_cleaner.output.tail_ag                      13107 non-null  float64\n",
      " 53  primary_cleaner.output.tail_pb                      13107 non-null  float64\n",
      " 54  primary_cleaner.output.tail_sol                     13107 non-null  float64\n",
      " 55  secondary_cleaner.state.floatbank2_a_air            13107 non-null  float64\n",
      " 56  secondary_cleaner.state.floatbank2_a_level          13107 non-null  float64\n",
      " 57  secondary_cleaner.state.floatbank2_b_air            13107 non-null  float64\n",
      " 58  secondary_cleaner.state.floatbank2_b_level          13107 non-null  float64\n",
      " 59  secondary_cleaner.state.floatbank3_a_air            13107 non-null  float64\n",
      " 60  secondary_cleaner.state.floatbank3_a_level          13107 non-null  float64\n",
      " 61  secondary_cleaner.state.floatbank3_b_air            13107 non-null  float64\n",
      " 62  secondary_cleaner.state.floatbank3_b_level          13107 non-null  float64\n",
      " 63  secondary_cleaner.state.floatbank4_a_air            13107 non-null  float64\n",
      " 64  secondary_cleaner.state.floatbank4_a_level          13107 non-null  float64\n",
      " 65  secondary_cleaner.state.floatbank4_b_air            13107 non-null  float64\n",
      " 66  secondary_cleaner.state.floatbank4_b_level          13107 non-null  float64\n",
      " 67  secondary_cleaner.state.floatbank5_a_air            13107 non-null  float64\n",
      " 68  secondary_cleaner.state.floatbank5_a_level          13107 non-null  float64\n",
      " 69  secondary_cleaner.state.floatbank5_b_air            13107 non-null  float64\n",
      " 70  secondary_cleaner.state.floatbank5_b_level          13107 non-null  float64\n",
      " 71  secondary_cleaner.state.floatbank6_a_air            13107 non-null  float64\n",
      " 72  secondary_cleaner.state.floatbank6_a_level          13107 non-null  float64\n",
      " 73  secondary_cleaner.output.tail_au                    13107 non-null  float64\n",
      " 74  secondary_cleaner.output.tail_ag                    13107 non-null  float64\n",
      " 75  secondary_cleaner.output.tail_pb                    13107 non-null  float64\n",
      " 76  secondary_cleaner.output.tail_sol                   13107 non-null  float64\n",
      " 77  final.output.concentrate_au                         13107 non-null  float64\n",
      " 78  final.output.concentrate_ag                         13107 non-null  float64\n",
      " 79  final.output.concentrate_pb                         13107 non-null  float64\n",
      " 80  final.output.concentrate_sol                        13107 non-null  float64\n",
      " 81  final.output.recovery                               13107 non-null  float64\n",
      " 82  final.output.tail_au                                13107 non-null  float64\n",
      " 83  final.output.tail_ag                                13107 non-null  float64\n",
      " 84  final.output.tail_pb                                13107 non-null  float64\n",
      " 85  final.output.tail_sol                               13107 non-null  float64\n",
      "dtypes: float64(86)\n",
      "memory usage: 8.7+ MB\n"
     ]
    }
   ],
   "source": [
    "df_train.info()"
   ]
  },
  {
   "cell_type": "markdown",
   "metadata": {},
   "source": [
    "### Вывод."
   ]
  },
  {
   "cell_type": "markdown",
   "metadata": {},
   "source": [
    "Данные были записаны, изучены и была проведена предобработка данных. Предобработка включала в себя:\n",
    "- Удаление строк с нулевыми значениями.\n",
    "- Замена пропусков в данных на те, которые находятся в предыдущих записях (так как данные несильно различаются).\n"
   ]
  },
  {
   "cell_type": "markdown",
   "metadata": {},
   "source": [
    "## Анализ данных"
   ]
  },
  {
   "cell_type": "markdown",
   "metadata": {},
   "source": [
    "### Изменение количества золота, серебра и свинца после этапов обработки."
   ]
  },
  {
   "cell_type": "markdown",
   "metadata": {},
   "source": [
    "#### Изучим как меняется количество золота в руде после этапов обработки."
   ]
  },
  {
   "cell_type": "code",
   "execution_count": 13,
   "metadata": {},
   "outputs": [
    {
     "data": {
      "image/png": "[encoded data removed]",
      "text/plain": [
       "<Figure size 864x648 with 1 Axes>"
      ]
     },
     "metadata": {
      "needs_background": "light"
     },
     "output_type": "display_data"
    }
   ],
   "source": [
    "fig, ax = plt.subplots(figsize=(12,9))\n",
    "\n",
    "df_train['rougher.input.feed_au'].plot.hist(ax=ax, alpha=0.5, bins=100, label='концетрация золота в сырье')\n",
    "df_train['rougher.output.concentrate_au'].plot.hist(ax=ax, alpha=0.5, bins=100, label='концентрация золота после черновой очистки')\n",
    "df_train['primary_cleaner.output.concentrate_au'].plot.hist(ax=ax, alpha=0.5, bins=100, label = 'концентрация золота после тонкой очистки')\n",
    "df_train['final.output.concentrate_au'].plot.hist(ax=ax, alpha=0.5, bins=100, label='концентрация золота в финальном концентрате')\n",
    " \n",
    "plt.legend()\n",
    "ax.set_title('Изменение концентрации золота')\n",
    "ax.set_xlabel('Количество', color='gray')\n",
    "ax.set_ylabel('Частота', color='gray')\n",
    "plt.show()"
   ]
  },
  {
   "cell_type": "markdown",
   "metadata": {},
   "source": [
    "Как видим из графика, с каждым этапом обработки количество золота возрастает."
   ]
  },
  {
   "cell_type": "markdown",
   "metadata": {},
   "source": [
    "#### Изучим как меняется количество серебра в руде после этапов обработки."
   ]
  },
  {
   "cell_type": "code",
   "execution_count": 14,
   "metadata": {},
   "outputs": [
    {
     "data": {
      "image/png": "[encoded data removed]",
      "text/plain": [
       "<Figure size 864x648 with 1 Axes>"
      ]
     },
     "metadata": {
      "needs_background": "light"
     },
     "output_type": "display_data"
    }
   ],
   "source": [
    "fig, ax = plt.subplots(figsize=(12,9))\n",
    "\n",
    "df_train['rougher.input.feed_ag'].plot.hist(ax=ax, alpha=0.5, bins=100, label='концетрация серебра в сырье')\n",
    "df_train['rougher.output.concentrate_ag'].plot.hist(ax=ax, alpha=0.5, bins=100, label='концентрация серебра после черновой очистки')\n",
    "df_train['primary_cleaner.output.concentrate_ag'].plot.hist(ax=ax, alpha=0.5, bins=100, label = 'концентрация серебра после тонкой очистки')\n",
    "df_train['final.output.concentrate_ag'].plot.hist(ax=ax, alpha=0.5, bins=100, label='концентрация серебра в финальном концентрате')\n",
    " \n",
    "plt.legend()\n",
    "ax.set_title('Изменение концентрации серебра')\n",
    "ax.set_xlabel('Количество', color='gray')\n",
    "ax.set_ylabel('Частота', color='gray')\n",
    "plt.show()"
   ]
  },
  {
   "cell_type": "markdown",
   "metadata": {},
   "source": [
    "Как видим из графика, количество серебра в руде сначала повышается, а затем падает. Минимальное количество серебра остается после финального этапа."
   ]
  },
  {
   "cell_type": "markdown",
   "metadata": {},
   "source": [
    "#### Изучим как меняется количество свинца в руде после этапов обработки."
   ]
  },
  {
   "cell_type": "code",
   "execution_count": 15,
   "metadata": {},
   "outputs": [
    {
     "data": {
      "image/png": "[encoded data removed]",
      "text/plain": [
       "<Figure size 864x648 with 1 Axes>"
      ]
     },
     "metadata": {
      "needs_background": "light"
     },
     "output_type": "display_data"
    }
   ],
   "source": [
    "fig, ax = plt.subplots(figsize=(12,9))\n",
    "#зададим параметры для графика fig - фигура и ax - оси\n",
    "\n",
    "df_train['rougher.input.feed_pb'].plot.hist(ax=ax, alpha=0.5, bins=100, label='концетрация свинца в сырье')\n",
    "df_train['rougher.output.concentrate_pb'].plot.hist(ax=ax, alpha=0.5, bins=100, label='концентрация свинца после черновой очистки')\n",
    "df_train['primary_cleaner.output.concentrate_pb'].plot.hist(ax=ax, alpha=0.5, bins=100, label = 'концентрация свинца после тонкой очистки')\n",
    "df_train['final.output.concentrate_pb'].plot.hist(ax=ax, alpha=0.5, bins=100, label='концентрация свинца в финальном концентрате')\n",
    "#нарисуем графики\n",
    " \n",
    "plt.legend()\n",
    "ax.set_title('Изменение концентрации свинца')\n",
    "ax.set_xlabel('Количество', color='gray')\n",
    "ax.set_ylabel('Частота', color='gray')\n",
    "#добавим подписи и легенду\n",
    "\n",
    "plt.show()"
   ]
  },
  {
   "cell_type": "markdown",
   "metadata": {},
   "source": [
    "Как виим из графиков, количество свинца повышается после этапов обработки. Перед после второй очистки практически не изменяется."
   ]
  },
  {
   "cell_type": "markdown",
   "metadata": {},
   "source": [
    "### Размеры гранул в обучабщей и тестовой выборке."
   ]
  },
  {
   "cell_type": "markdown",
   "metadata": {},
   "source": [
    "Посмотрим отличаются ли размеры гранул в обучабщей выборке и тестовой."
   ]
  },
  {
   "cell_type": "code",
   "execution_count": 16,
   "metadata": {},
   "outputs": [
    {
     "data": {
      "image/png": "[encoded data removed]",
      "text/plain": [
       "<Figure size 864x648 with 1 Axes>"
      ]
     },
     "metadata": {
      "needs_background": "light"
     },
     "output_type": "display_data"
    }
   ],
   "source": [
    "fig, ax = plt.subplots(figsize=(12,9))\n",
    "#зададим параметры для графика fig - фигура и ax - оси\n",
    "\n",
    "df_train['rougher.input.feed_size'].plot.hist(ax=ax, alpha=0.5, bins=100, label='размер гранул в исходном сырье(обучающая выборка)', density=True)\n",
    "df_test['rougher.input.feed_size'].plot.hist(ax=ax, alpha=0.5, bins=100, label='размер гранул в исходном вырье(тестовая выборка)', density=True)\n",
    "#нарисуем графики\n",
    " \n",
    "plt.legend()\n",
    "ax.set_title('Размеры гранул в сырье')\n",
    "ax.set_xlabel('Плотность', color='gray')\n",
    "ax.set_ylabel('Частота', color='gray')\n",
    "#добавим подписи и легенду\n",
    "\n",
    "plt.show()"
   ]
  },
  {
   "cell_type": "markdown",
   "metadata": {},
   "source": [
    "Проведем тест Манни-Уитни на схожесть выборок."
   ]
  },
  {
   "cell_type": "markdown",
   "metadata": {},
   "source": [
    "Определим гипотезы: \n",
    "- H0 - выборки не различаются.\n",
    "- H1 - выборки различаются."
   ]
  },
  {
   "cell_type": "code",
   "execution_count": 17,
   "metadata": {},
   "outputs": [
    {
     "name": "stdout",
     "output_type": "stream",
     "text": [
      "stat=33764460.000, p=0.000\n",
      "Есть достаточно оснований, чтобы отклонить H0, приманимаем H1.\n"
     ]
    }
   ],
   "source": [
    "stat, p = scipy.stats.mannwhitneyu(df_test['rougher.input.feed_size'], df_train['rougher.input.feed_size'])\n",
    "#проведем тест и запишем значеие p-value и статистики\n",
    "\n",
    "print(f'stat={stat:.3f}, p={p:.3f}')\n",
    "#выведем на экран\n",
    "\n",
    "if p > 0.5:\n",
    "    print('Нет досточных оснований, чтобы отклонить H0')\n",
    "else:\n",
    "    print('Есть достаточно оснований, чтобы отклонить H0, приманимаем H1.')\n",
    "#по математической значимости в 5% посмотрим можем ли мы откинуть нулевую гипотезу"
   ]
  },
  {
   "cell_type": "markdown",
   "metadata": {},
   "source": [
    "По графику видно, что выборки очень похоже рапределены, но тест Манни-Уитни говорит о том, что выборки не одинаковые."
   ]
  },
  {
   "cell_type": "markdown",
   "metadata": {},
   "source": [
    "### Суммарное изменение количества металла после этапов."
   ]
  },
  {
   "cell_type": "code",
   "execution_count": 18,
   "metadata": {
    "scrolled": true
   },
   "outputs": [
    {
     "data": {
      "image/png": "[encoded data removed]",
      "text/plain": [
       "<Figure size 864x648 with 1 Axes>"
      ]
     },
     "metadata": {
      "needs_background": "light"
     },
     "output_type": "display_data"
    }
   ],
   "source": [
    "columns_in_sum_of_metal = ['input', 'rougher', 'primary_cleaner', 'final_output']\n",
    "\n",
    "sum_of_metal = pd.DataFrame(index=df_train.index, columns=columns_in_sum_of_metal)\n",
    "\n",
    "sum_of_metal.input = df_train['rougher.input.feed_au'] + df_train['rougher.input.feed_ag'] + df_train['rougher.input.feed_pb']\n",
    "sum_of_metal.rougher = df_train['rougher.output.concentrate_au'] + df_train['rougher.output.concentrate_ag'] + df_train['rougher.output.concentrate_pb']\n",
    "sum_of_metal.primary_cleaner = df_train['primary_cleaner.output.concentrate_au'] + df_train['primary_cleaner.output.concentrate_ag'] + df_train['primary_cleaner.output.concentrate_pb']\n",
    "sum_of_metal.final_output = df_train['final.output.concentrate_au'] + df_train['final.output.concentrate_ag'] + df_train['final.output.concentrate_pb']\n",
    "#посчитаем суммарный объем металлов на каждом из этапов\n",
    "\n",
    "fig, ax = plt.subplots(figsize=(12,9))\n",
    "#зададим параметры для графика fig - фигура и ax - оси\n",
    "\n",
    "sum_of_metal.input.plot.hist(ax=ax, alpha=0.5, bins=100, label='содержание металлов в сырье')\n",
    "sum_of_metal.rougher.plot.hist(ax=ax, alpha=0.5, bins=100, label='содержание металлов после флотации')\n",
    "sum_of_metal.primary_cleaner.plot.hist(ax=ax, alpha=0.5, bins=100, label='содержание металлов после 1-ой очистки')\n",
    "sum_of_metal.final_output.plot.hist(ax=ax, alpha=0.5, bins=100, label='содержание металлов в финальной выдаче')\n",
    "#нарисуем графики\n",
    " \n",
    "plt.legend()\n",
    "ax.set_title('Суммарное содержание металлов на разных этапов процесса')\n",
    "ax.set_xlabel('Количество', color='gray')\n",
    "ax.set_ylabel('Частота', color='gray')\n",
    "#добавим подписи и легенду\n",
    "\n",
    "plt.show()"
   ]
  },
  {
   "cell_type": "markdown",
   "metadata": {},
   "source": [
    "Как мы видим из графика, значения имеют выбросы во всех столбцах кроме `input`. Откинем все значения в столбцах кроме столбца `input` все значения равные 0 из обучющего датафрейма."
   ]
  },
  {
   "cell_type": "code",
   "execution_count": 19,
   "metadata": {},
   "outputs": [],
   "source": [
    "for i in columns_in_sum_of_metal[1:]:\n",
    "    df_train = df_train.drop(index=sum_of_metal[i].loc[sum_of_metal[i] == 0].index, errors='ignore')"
   ]
  },
  {
   "cell_type": "code",
   "execution_count": 20,
   "metadata": {},
   "outputs": [
    {
     "data": {
      "image/png": "[encoded data removed]",
      "text/plain": [
       "<Figure size 864x648 with 1 Axes>"
      ]
     },
     "metadata": {
      "needs_background": "light"
     },
     "output_type": "display_data"
    }
   ],
   "source": [
    "sum_of_metal = pd.DataFrame(index=df_train.index, columns=columns_in_sum_of_metal)\n",
    "\n",
    "sum_of_metal.input = df_train['rougher.input.feed_au'] + df_train['rougher.input.feed_ag'] + df_train['rougher.input.feed_pb']\n",
    "sum_of_metal.rougher = df_train['rougher.output.concentrate_au'] + df_train['rougher.output.concentrate_ag'] + df_train['rougher.output.concentrate_pb']\n",
    "sum_of_metal.primary_cleaner = df_train['primary_cleaner.output.concentrate_au'] + df_train['primary_cleaner.output.concentrate_ag'] + df_train['primary_cleaner.output.concentrate_pb']\n",
    "sum_of_metal.final_output = df_train['final.output.concentrate_au'] + df_train['final.output.concentrate_ag'] + df_train['final.output.concentrate_pb']\n",
    "#посчитаем суммарный объем металлов на каждом из этапов\n",
    "\n",
    "fig, ax = plt.subplots(figsize=(12,9))\n",
    "#зададим параметры для графика fig - фигура и ax - оси\n",
    "\n",
    "sum_of_metal.input.plot.hist(ax=ax, alpha=0.5, bins=100, label='содержание металлов в сырье')\n",
    "sum_of_metal.rougher.plot.hist(ax=ax, alpha=0.5, bins=100, label='содержание металлов после флотации')\n",
    "sum_of_metal.primary_cleaner.plot.hist(ax=ax, alpha=0.5, bins=100, label='содержание металлов после 1-ой очистки')\n",
    "sum_of_metal.final_output.plot.hist(ax=ax, alpha=0.5, bins=100, label='содержание металлов в финальной выдаче')\n",
    "#нарисуем графики\n",
    " \n",
    "plt.legend()\n",
    "ax.set_title('Суммарное содержание металлов на разных этапов процесса')\n",
    "ax.set_xlabel('Количество', color='gray')\n",
    "ax.set_ylabel('Частота', color='gray')\n",
    "#добавим подписи и легенду\n",
    "\n",
    "plt.show()"
   ]
  },
  {
   "cell_type": "markdown",
   "metadata": {},
   "source": [
    "### Выводы."
   ]
  },
  {
   "cell_type": "markdown",
   "metadata": {},
   "source": [
    "Проведя исследования было установлено, что количество металлов в руде, ожидаемо, увеличивается после каждого этапа обработки. если смотреть по отдельности, то можно заметить, что количество серебра увеличивается, а других металлов уменьшается. Интересно ведет себя серебро. Вначале количество серебра увеличивается, а затем так же уменьшается. \\\n",
    "Из исследования гранул в исходном сырье в тестовой и обучающей выборке было определено, что хоть данные и выглядят очень похоже, тест Манни-Уитни показывает, что распределения отличаются."
   ]
  },
  {
   "cell_type": "markdown",
   "metadata": {},
   "source": [
    "## Модель"
   ]
  },
  {
   "cell_type": "markdown",
   "metadata": {},
   "source": [
    "Построим модель предсказания. Для этого требуется дообработать данные."
   ]
  },
  {
   "cell_type": "markdown",
   "metadata": {},
   "source": [
    "Разделим признаки на целевой и остальные."
   ]
  },
  {
   "cell_type": "code",
   "execution_count": 21,
   "metadata": {},
   "outputs": [],
   "source": [
    "df_train_rougher_target = df_train['rougher.output.recovery']\n",
    "df_train_final_target = df_train['final.output.recovery']\n",
    "#запишем целевые признаки для rougher и final в отдельные переменные\n",
    "\n",
    "df_test_rougher_target = pd.Series(df_full['rougher.output.recovery'], index=df_test.index)\n",
    "df_test_final_target = pd.Series(df_full['final.output.recovery'], index=df_test.index)\n",
    "#так как у нас нет целевого значения в датафрейме test, возьмем целевые признаки из датафрейма full и запишем их в переменную"
   ]
  },
  {
   "cell_type": "markdown",
   "metadata": {},
   "source": [
    "Удалим лишние столбцы из обучающего датафрейма."
   ]
  },
  {
   "cell_type": "code",
   "execution_count": 22,
   "metadata": {},
   "outputs": [],
   "source": [
    "df_train_rougher_features = df_train.drop(columns_to_delete, axis=1)\n",
    "df_train_final_features = df_train.drop(columns_to_delete, axis=1)\n",
    "#удалим выбранные столбцы"
   ]
  },
  {
   "cell_type": "markdown",
   "metadata": {},
   "source": [
    "Напишем функцию для вывода коэффициента sMAPE."
   ]
  },
  {
   "cell_type": "code",
   "execution_count": 23,
   "metadata": {},
   "outputs": [],
   "source": [
    "def smape_score(target, predictions):\n",
    "    #создадим функцию для подсчета sMAPE\n",
    "    \n",
    "    sum_for_smape = 0\n",
    "    \n",
    "    for i in range (len(target)):    \n",
    "        sum_for_smape += np.abs(target[i] - predictions[i]) / ((np.abs(target[i]) + np.abs(predictions[i])) / 2)\n",
    "        #посчитаем сумму для формулы\n",
    "        \n",
    "    return (1/len(target)) * sum_for_smape * 100\n",
    "    #вернем значение sMAPE согласно формулы"
   ]
  },
  {
   "cell_type": "markdown",
   "metadata": {},
   "source": [
    "Сделаем счетчик из функции `sMAPE_score`."
   ]
  },
  {
   "cell_type": "code",
   "execution_count": 24,
   "metadata": {},
   "outputs": [],
   "source": [
    "smape_scorer = make_scorer(smape_score, greater_is_better=False)"
   ]
  },
  {
   "cell_type": "markdown",
   "metadata": {},
   "source": [
    "Выберем лучшую модель для этапа Rougher."
   ]
  },
  {
   "cell_type": "code",
   "execution_count": 26,
   "metadata": {},
   "outputs": [
    {
     "name": "stdout",
     "output_type": "stream",
     "text": [
      "Fitting 5 folds for each of 34 candidates, totalling 170 fits\n",
      "[CV] END .......................regressor=LinearRegression(); total time=   0.3s\n",
      "[CV] END .......................regressor=LinearRegression(); total time=   0.2s\n",
      "[CV] END .......................regressor=LinearRegression(); total time=   0.3s\n",
      "[CV] END .......................regressor=LinearRegression(); total time=   0.4s\n",
      "[CV] END .......................regressor=LinearRegression(); total time=   0.3s\n",
      "[CV] END regressor=RandomForestRegressor(random_state=12345), regressor__max_depth=3, regressor__max_features=log2, regressor__n_estimators=100; total time=   1.1s\n",
      "[CV] END regressor=RandomForestRegressor(random_state=12345), regressor__max_depth=3, regressor__max_features=log2, regressor__n_estimators=100; total time=   1.1s\n",
      "[CV] END regressor=RandomForestRegressor(random_state=12345), regressor__max_depth=3, regressor__max_features=log2, regressor__n_estimators=100; total time=   1.1s\n",
      "[CV] END regressor=RandomForestRegressor(random_state=12345), regressor__max_depth=3, regressor__max_features=log2, regressor__n_estimators=100; total time=   1.1s\n",
      "[CV] END regressor=RandomForestRegressor(random_state=12345), regressor__max_depth=3, regressor__max_features=log2, regressor__n_estimators=100; total time=   1.1s\n",
      "[CV] END regressor=RandomForestRegressor(random_state=12345), regressor__max_depth=3, regressor__max_features=log2, regressor__n_estimators=150; total time=   1.7s\n",
      "[CV] END regressor=RandomForestRegressor(random_state=12345), regressor__max_depth=3, regressor__max_features=log2, regressor__n_estimators=150; total time=   1.6s\n",
      "[CV] END regressor=RandomForestRegressor(random_state=12345), regressor__max_depth=3, regressor__max_features=log2, regressor__n_estimators=150; total time=   1.6s\n",
      "[CV] END regressor=RandomForestRegressor(random_state=12345), regressor__max_depth=3, regressor__max_features=log2, regressor__n_estimators=150; total time=   1.6s\n",
      "[CV] END regressor=RandomForestRegressor(random_state=12345), regressor__max_depth=3, regressor__max_features=log2, regressor__n_estimators=150; total time=   1.6s\n",
      "[CV] END regressor=RandomForestRegressor(random_state=12345), regressor__max_depth=3, regressor__max_features=log2, regressor__n_estimators=200; total time=   2.1s\n",
      "[CV] END regressor=RandomForestRegressor(random_state=12345), regressor__max_depth=3, regressor__max_features=log2, regressor__n_estimators=200; total time=   2.1s\n",
      "[CV] END regressor=RandomForestRegressor(random_state=12345), regressor__max_depth=3, regressor__max_features=log2, regressor__n_estimators=200; total time=   2.1s\n",
      "[CV] END regressor=RandomForestRegressor(random_state=12345), regressor__max_depth=3, regressor__max_features=log2, regressor__n_estimators=200; total time=   2.2s\n",
      "[CV] END regressor=RandomForestRegressor(random_state=12345), regressor__max_depth=3, regressor__max_features=log2, regressor__n_estimators=200; total time=   2.2s\n",
      "[CV] END regressor=RandomForestRegressor(random_state=12345), regressor__max_depth=3, regressor__max_features=log2, regressor__n_estimators=250; total time=   2.7s\n",
      "[CV] END regressor=RandomForestRegressor(random_state=12345), regressor__max_depth=3, regressor__max_features=log2, regressor__n_estimators=250; total time=   2.6s\n",
      "[CV] END regressor=RandomForestRegressor(random_state=12345), regressor__max_depth=3, regressor__max_features=log2, regressor__n_estimators=250; total time=   2.7s\n",
      "[CV] END regressor=RandomForestRegressor(random_state=12345), regressor__max_depth=3, regressor__max_features=log2, regressor__n_estimators=250; total time=   2.7s\n",
      "[CV] END regressor=RandomForestRegressor(random_state=12345), regressor__max_depth=3, regressor__max_features=log2, regressor__n_estimators=250; total time=   2.6s\n",
      "[CV] END regressor=RandomForestRegressor(random_state=12345), regressor__max_depth=3, regressor__max_features=sqrt, regressor__n_estimators=100; total time=   1.5s\n",
      "[CV] END regressor=RandomForestRegressor(random_state=12345), regressor__max_depth=3, regressor__max_features=sqrt, regressor__n_estimators=100; total time=   1.4s\n",
      "[CV] END regressor=RandomForestRegressor(random_state=12345), regressor__max_depth=3, regressor__max_features=sqrt, regressor__n_estimators=100; total time=   1.5s\n",
      "[CV] END regressor=RandomForestRegressor(random_state=12345), regressor__max_depth=3, regressor__max_features=sqrt, regressor__n_estimators=100; total time=   1.4s\n",
      "[CV] END regressor=RandomForestRegressor(random_state=12345), regressor__max_depth=3, regressor__max_features=sqrt, regressor__n_estimators=100; total time=   1.4s\n",
      "[CV] END regressor=RandomForestRegressor(random_state=12345), regressor__max_depth=3, regressor__max_features=sqrt, regressor__n_estimators=150; total time=   2.2s\n",
      "[CV] END regressor=RandomForestRegressor(random_state=12345), regressor__max_depth=3, regressor__max_features=sqrt, regressor__n_estimators=150; total time=   2.2s\n",
      "[CV] END regressor=RandomForestRegressor(random_state=12345), regressor__max_depth=3, regressor__max_features=sqrt, regressor__n_estimators=150; total time=   2.1s\n",
      "[CV] END regressor=RandomForestRegressor(random_state=12345), regressor__max_depth=3, regressor__max_features=sqrt, regressor__n_estimators=150; total time=   2.2s\n",
      "[CV] END regressor=RandomForestRegressor(random_state=12345), regressor__max_depth=3, regressor__max_features=sqrt, regressor__n_estimators=150; total time=   2.1s\n",
      "[CV] END regressor=RandomForestRegressor(random_state=12345), regressor__max_depth=3, regressor__max_features=sqrt, regressor__n_estimators=200; total time=   2.9s\n",
      "[CV] END regressor=RandomForestRegressor(random_state=12345), regressor__max_depth=3, regressor__max_features=sqrt, regressor__n_estimators=200; total time=   3.0s\n",
      "[CV] END regressor=RandomForestRegressor(random_state=12345), regressor__max_depth=3, regressor__max_features=sqrt, regressor__n_estimators=200; total time=   3.0s\n",
      "[CV] END regressor=RandomForestRegressor(random_state=12345), regressor__max_depth=3, regressor__max_features=sqrt, regressor__n_estimators=200; total time=   3.0s\n",
      "[CV] END regressor=RandomForestRegressor(random_state=12345), regressor__max_depth=3, regressor__max_features=sqrt, regressor__n_estimators=200; total time=   2.9s\n",
      "[CV] END regressor=RandomForestRegressor(random_state=12345), regressor__max_depth=3, regressor__max_features=sqrt, regressor__n_estimators=250; total time=   3.7s\n",
      "[CV] END regressor=RandomForestRegressor(random_state=12345), regressor__max_depth=3, regressor__max_features=sqrt, regressor__n_estimators=250; total time=   3.6s\n",
      "[CV] END regressor=RandomForestRegressor(random_state=12345), regressor__max_depth=3, regressor__max_features=sqrt, regressor__n_estimators=250; total time=   3.6s\n",
      "[CV] END regressor=RandomForestRegressor(random_state=12345), regressor__max_depth=3, regressor__max_features=sqrt, regressor__n_estimators=250; total time=   3.7s\n",
      "[CV] END regressor=RandomForestRegressor(random_state=12345), regressor__max_depth=3, regressor__max_features=sqrt, regressor__n_estimators=250; total time=   3.5s\n",
      "[CV] END regressor=RandomForestRegressor(random_state=12345), regressor__max_depth=3, regressor__max_features=auto, regressor__n_estimators=100; total time=   9.6s\n",
      "[CV] END regressor=RandomForestRegressor(random_state=12345), regressor__max_depth=3, regressor__max_features=auto, regressor__n_estimators=100; total time=   9.4s\n",
      "[CV] END regressor=RandomForestRegressor(random_state=12345), regressor__max_depth=3, regressor__max_features=auto, regressor__n_estimators=100; total time=   9.4s\n",
      "[CV] END regressor=RandomForestRegressor(random_state=12345), regressor__max_depth=3, regressor__max_features=auto, regressor__n_estimators=100; total time=   9.7s\n",
      "[CV] END regressor=RandomForestRegressor(random_state=12345), regressor__max_depth=3, regressor__max_features=auto, regressor__n_estimators=100; total time=   9.4s\n",
      "[CV] END regressor=RandomForestRegressor(random_state=12345), regressor__max_depth=3, regressor__max_features=auto, regressor__n_estimators=150; total time=  14.4s\n",
      "[CV] END regressor=RandomForestRegressor(random_state=12345), regressor__max_depth=3, regressor__max_features=auto, regressor__n_estimators=150; total time=  14.4s\n",
      "[CV] END regressor=RandomForestRegressor(random_state=12345), regressor__max_depth=3, regressor__max_features=auto, regressor__n_estimators=150; total time=  14.7s\n",
      "[CV] END regressor=RandomForestRegressor(random_state=12345), regressor__max_depth=3, regressor__max_features=auto, regressor__n_estimators=150; total time=  14.8s\n",
      "[CV] END regressor=RandomForestRegressor(random_state=12345), regressor__max_depth=3, regressor__max_features=auto, regressor__n_estimators=150; total time=  14.8s\n",
      "[CV] END regressor=RandomForestRegressor(random_state=12345), regressor__max_depth=3, regressor__max_features=auto, regressor__n_estimators=200; total time=  19.8s\n",
      "[CV] END regressor=RandomForestRegressor(random_state=12345), regressor__max_depth=3, regressor__max_features=auto, regressor__n_estimators=200; total time=  19.8s\n",
      "[CV] END regressor=RandomForestRegressor(random_state=12345), regressor__max_depth=3, regressor__max_features=auto, regressor__n_estimators=200; total time=  19.6s\n",
      "[CV] END regressor=RandomForestRegressor(random_state=12345), regressor__max_depth=3, regressor__max_features=auto, regressor__n_estimators=200; total time=  20.0s\n",
      "[CV] END regressor=RandomForestRegressor(random_state=12345), regressor__max_depth=3, regressor__max_features=auto, regressor__n_estimators=200; total time=  19.8s\n",
      "[CV] END regressor=RandomForestRegressor(random_state=12345), regressor__max_depth=3, regressor__max_features=auto, regressor__n_estimators=250; total time=  25.4s\n",
      "[CV] END regressor=RandomForestRegressor(random_state=12345), regressor__max_depth=3, regressor__max_features=auto, regressor__n_estimators=250; total time=  24.6s\n",
      "[CV] END regressor=RandomForestRegressor(random_state=12345), regressor__max_depth=3, regressor__max_features=auto, regressor__n_estimators=250; total time=  24.8s\n",
      "[CV] END regressor=RandomForestRegressor(random_state=12345), regressor__max_depth=3, regressor__max_features=auto, regressor__n_estimators=250; total time=  24.4s\n",
      "[CV] END regressor=RandomForestRegressor(random_state=12345), regressor__max_depth=3, regressor__max_features=auto, regressor__n_estimators=250; total time=  25.7s\n",
      "[CV] END regressor=RandomForestRegressor(random_state=12345), regressor__max_depth=4, regressor__max_features=log2, regressor__n_estimators=100; total time=   1.5s\n",
      "[CV] END regressor=RandomForestRegressor(random_state=12345), regressor__max_depth=4, regressor__max_features=log2, regressor__n_estimators=100; total time=   1.5s\n",
      "[CV] END regressor=RandomForestRegressor(random_state=12345), regressor__max_depth=4, regressor__max_features=log2, regressor__n_estimators=100; total time=   1.5s\n",
      "[CV] END regressor=RandomForestRegressor(random_state=12345), regressor__max_depth=4, regressor__max_features=log2, regressor__n_estimators=100; total time=   1.5s\n",
      "[CV] END regressor=RandomForestRegressor(random_state=12345), regressor__max_depth=4, regressor__max_features=log2, regressor__n_estimators=100; total time=   1.5s\n",
      "[CV] END regressor=RandomForestRegressor(random_state=12345), regressor__max_depth=4, regressor__max_features=log2, regressor__n_estimators=150; total time=   2.3s\n",
      "[CV] END regressor=RandomForestRegressor(random_state=12345), regressor__max_depth=4, regressor__max_features=log2, regressor__n_estimators=150; total time=   2.2s\n",
      "[CV] END regressor=RandomForestRegressor(random_state=12345), regressor__max_depth=4, regressor__max_features=log2, regressor__n_estimators=150; total time=   2.3s\n",
      "[CV] END regressor=RandomForestRegressor(random_state=12345), regressor__max_depth=4, regressor__max_features=log2, regressor__n_estimators=150; total time=   2.3s\n",
      "[CV] END regressor=RandomForestRegressor(random_state=12345), regressor__max_depth=4, regressor__max_features=log2, regressor__n_estimators=150; total time=   2.4s\n",
      "[CV] END regressor=RandomForestRegressor(random_state=12345), regressor__max_depth=4, regressor__max_features=log2, regressor__n_estimators=200; total time=   3.0s\n",
      "[CV] END regressor=RandomForestRegressor(random_state=12345), regressor__max_depth=4, regressor__max_features=log2, regressor__n_estimators=200; total time=   3.0s\n",
      "[CV] END regressor=RandomForestRegressor(random_state=12345), regressor__max_depth=4, regressor__max_features=log2, regressor__n_estimators=200; total time=   2.9s\n",
      "[CV] END regressor=RandomForestRegressor(random_state=12345), regressor__max_depth=4, regressor__max_features=log2, regressor__n_estimators=200; total time=   3.0s\n",
      "[CV] END regressor=RandomForestRegressor(random_state=12345), regressor__max_depth=4, regressor__max_features=log2, regressor__n_estimators=200; total time=   3.0s\n",
      "[CV] END regressor=RandomForestRegressor(random_state=12345), regressor__max_depth=4, regressor__max_features=log2, regressor__n_estimators=250; total time=   3.6s\n",
      "[CV] END regressor=RandomForestRegressor(random_state=12345), regressor__max_depth=4, regressor__max_features=log2, regressor__n_estimators=250; total time=   3.6s\n",
      "[CV] END regressor=RandomForestRegressor(random_state=12345), regressor__max_depth=4, regressor__max_features=log2, regressor__n_estimators=250; total time=   3.6s\n",
      "[CV] END regressor=RandomForestRegressor(random_state=12345), regressor__max_depth=4, regressor__max_features=log2, regressor__n_estimators=250; total time=   3.7s\n",
      "[CV] END regressor=RandomForestRegressor(random_state=12345), regressor__max_depth=4, regressor__max_features=log2, regressor__n_estimators=250; total time=   3.8s\n",
      "[CV] END regressor=RandomForestRegressor(random_state=12345), regressor__max_depth=4, regressor__max_features=sqrt, regressor__n_estimators=100; total time=   2.1s\n",
      "[CV] END regressor=RandomForestRegressor(random_state=12345), regressor__max_depth=4, regressor__max_features=sqrt, regressor__n_estimators=100; total time=   2.0s\n",
      "[CV] END regressor=RandomForestRegressor(random_state=12345), regressor__max_depth=4, regressor__max_features=sqrt, regressor__n_estimators=100; total time=   2.0s\n",
      "[CV] END regressor=RandomForestRegressor(random_state=12345), regressor__max_depth=4, regressor__max_features=sqrt, regressor__n_estimators=100; total time=   2.0s\n",
      "[CV] END regressor=RandomForestRegressor(random_state=12345), regressor__max_depth=4, regressor__max_features=sqrt, regressor__n_estimators=100; total time=   2.0s\n",
      "[CV] END regressor=RandomForestRegressor(random_state=12345), regressor__max_depth=4, regressor__max_features=sqrt, regressor__n_estimators=150; total time=   3.0s\n",
      "[CV] END regressor=RandomForestRegressor(random_state=12345), regressor__max_depth=4, regressor__max_features=sqrt, regressor__n_estimators=150; total time=   2.9s\n",
      "[CV] END regressor=RandomForestRegressor(random_state=12345), regressor__max_depth=4, regressor__max_features=sqrt, regressor__n_estimators=150; total time=   2.9s\n",
      "[CV] END regressor=RandomForestRegressor(random_state=12345), regressor__max_depth=4, regressor__max_features=sqrt, regressor__n_estimators=150; total time=   2.9s\n",
      "[CV] END regressor=RandomForestRegressor(random_state=12345), regressor__max_depth=4, regressor__max_features=sqrt, regressor__n_estimators=150; total time=   2.9s\n",
      "[CV] END regressor=RandomForestRegressor(random_state=12345), regressor__max_depth=4, regressor__max_features=sqrt, regressor__n_estimators=200; total time=   3.9s\n",
      "[CV] END regressor=RandomForestRegressor(random_state=12345), regressor__max_depth=4, regressor__max_features=sqrt, regressor__n_estimators=200; total time=   3.9s\n",
      "[CV] END regressor=RandomForestRegressor(random_state=12345), regressor__max_depth=4, regressor__max_features=sqrt, regressor__n_estimators=200; total time=   3.8s\n",
      "[CV] END regressor=RandomForestRegressor(random_state=12345), regressor__max_depth=4, regressor__max_features=sqrt, regressor__n_estimators=200; total time=   3.8s\n",
      "[CV] END regressor=RandomForestRegressor(random_state=12345), regressor__max_depth=4, regressor__max_features=sqrt, regressor__n_estimators=200; total time=   3.9s\n",
      "[CV] END regressor=RandomForestRegressor(random_state=12345), regressor__max_depth=4, regressor__max_features=sqrt, regressor__n_estimators=250; total time=   4.8s\n",
      "[CV] END regressor=RandomForestRegressor(random_state=12345), regressor__max_depth=4, regressor__max_features=sqrt, regressor__n_estimators=250; total time=   4.8s\n",
      "[CV] END regressor=RandomForestRegressor(random_state=12345), regressor__max_depth=4, regressor__max_features=sqrt, regressor__n_estimators=250; total time=   5.0s\n",
      "[CV] END regressor=RandomForestRegressor(random_state=12345), regressor__max_depth=4, regressor__max_features=sqrt, regressor__n_estimators=250; total time=   5.0s\n",
      "[CV] END regressor=RandomForestRegressor(random_state=12345), regressor__max_depth=4, regressor__max_features=sqrt, regressor__n_estimators=250; total time=   4.9s\n",
      "[CV] END regressor=RandomForestRegressor(random_state=12345), regressor__max_depth=4, regressor__max_features=auto, regressor__n_estimators=100; total time=  13.3s\n",
      "[CV] END regressor=RandomForestRegressor(random_state=12345), regressor__max_depth=4, regressor__max_features=auto, regressor__n_estimators=100; total time=  13.3s\n",
      "[CV] END regressor=RandomForestRegressor(random_state=12345), regressor__max_depth=4, regressor__max_features=auto, regressor__n_estimators=100; total time=  12.8s\n",
      "[CV] END regressor=RandomForestRegressor(random_state=12345), regressor__max_depth=4, regressor__max_features=auto, regressor__n_estimators=100; total time=  12.7s\n",
      "[CV] END regressor=RandomForestRegressor(random_state=12345), regressor__max_depth=4, regressor__max_features=auto, regressor__n_estimators=100; total time=  13.2s\n",
      "[CV] END regressor=RandomForestRegressor(random_state=12345), regressor__max_depth=4, regressor__max_features=auto, regressor__n_estimators=150; total time=  19.8s\n",
      "[CV] END regressor=RandomForestRegressor(random_state=12345), regressor__max_depth=4, regressor__max_features=auto, regressor__n_estimators=150; total time=  19.0s\n",
      "[CV] END regressor=RandomForestRegressor(random_state=12345), regressor__max_depth=4, regressor__max_features=auto, regressor__n_estimators=150; total time=  19.2s\n",
      "[CV] END regressor=RandomForestRegressor(random_state=12345), regressor__max_depth=4, regressor__max_features=auto, regressor__n_estimators=150; total time=  19.0s\n",
      "[CV] END regressor=RandomForestRegressor(random_state=12345), regressor__max_depth=4, regressor__max_features=auto, regressor__n_estimators=150; total time=  19.3s\n",
      "[CV] END regressor=RandomForestRegressor(random_state=12345), regressor__max_depth=4, regressor__max_features=auto, regressor__n_estimators=200; total time=  27.1s\n",
      "[CV] END regressor=RandomForestRegressor(random_state=12345), regressor__max_depth=4, regressor__max_features=auto, regressor__n_estimators=200; total time=  25.9s\n",
      "[CV] END regressor=RandomForestRegressor(random_state=12345), regressor__max_depth=4, regressor__max_features=auto, regressor__n_estimators=200; total time=  25.7s\n",
      "[CV] END regressor=RandomForestRegressor(random_state=12345), regressor__max_depth=4, regressor__max_features=auto, regressor__n_estimators=200; total time=  26.2s\n",
      "[CV] END regressor=RandomForestRegressor(random_state=12345), regressor__max_depth=4, regressor__max_features=auto, regressor__n_estimators=200; total time=  25.5s\n",
      "[CV] END regressor=RandomForestRegressor(random_state=12345), regressor__max_depth=4, regressor__max_features=auto, regressor__n_estimators=250; total time=  32.1s\n",
      "[CV] END regressor=RandomForestRegressor(random_state=12345), regressor__max_depth=4, regressor__max_features=auto, regressor__n_estimators=250; total time=  32.1s\n",
      "[CV] END regressor=RandomForestRegressor(random_state=12345), regressor__max_depth=4, regressor__max_features=auto, regressor__n_estimators=250; total time=  31.9s\n",
      "[CV] END regressor=RandomForestRegressor(random_state=12345), regressor__max_depth=4, regressor__max_features=auto, regressor__n_estimators=250; total time=  31.9s\n",
      "[CV] END regressor=RandomForestRegressor(random_state=12345), regressor__max_depth=4, regressor__max_features=auto, regressor__n_estimators=250; total time=  32.6s\n",
      "[CV] END regressor=DecisionTreeRegressor(random_state=12345), regressor__max_depth=3, regressor__max_features=log2; total time=   0.1s\n",
      "[CV] END regressor=DecisionTreeRegressor(random_state=12345), regressor__max_depth=3, regressor__max_features=log2; total time=   0.0s\n",
      "[CV] END regressor=DecisionTreeRegressor(random_state=12345), regressor__max_depth=3, regressor__max_features=log2; total time=   0.1s\n",
      "[CV] END regressor=DecisionTreeRegressor(random_state=12345), regressor__max_depth=3, regressor__max_features=log2; total time=   0.0s\n",
      "[CV] END regressor=DecisionTreeRegressor(random_state=12345), regressor__max_depth=3, regressor__max_features=log2; total time=   0.1s\n",
      "[CV] END regressor=DecisionTreeRegressor(random_state=12345), regressor__max_depth=3, regressor__max_features=sqrt; total time=   0.1s\n",
      "[CV] END regressor=DecisionTreeRegressor(random_state=12345), regressor__max_depth=3, regressor__max_features=sqrt; total time=   0.1s\n",
      "[CV] END regressor=DecisionTreeRegressor(random_state=12345), regressor__max_depth=3, regressor__max_features=sqrt; total time=   0.1s\n",
      "[CV] END regressor=DecisionTreeRegressor(random_state=12345), regressor__max_depth=3, regressor__max_features=sqrt; total time=   0.1s\n",
      "[CV] END regressor=DecisionTreeRegressor(random_state=12345), regressor__max_depth=3, regressor__max_features=sqrt; total time=   0.1s\n",
      "[CV] END regressor=DecisionTreeRegressor(random_state=12345), regressor__max_depth=3, regressor__max_features=auto; total time=   0.2s\n",
      "[CV] END regressor=DecisionTreeRegressor(random_state=12345), regressor__max_depth=3, regressor__max_features=auto; total time=   0.2s\n",
      "[CV] END regressor=DecisionTreeRegressor(random_state=12345), regressor__max_depth=3, regressor__max_features=auto; total time=   0.2s\n",
      "[CV] END regressor=DecisionTreeRegressor(random_state=12345), regressor__max_depth=3, regressor__max_features=auto; total time=   0.2s\n",
      "[CV] END regressor=DecisionTreeRegressor(random_state=12345), regressor__max_depth=3, regressor__max_features=auto; total time=   0.2s\n",
      "[CV] END regressor=DecisionTreeRegressor(random_state=12345), regressor__max_depth=5, regressor__max_features=log2; total time=   0.1s\n",
      "[CV] END regressor=DecisionTreeRegressor(random_state=12345), regressor__max_depth=5, regressor__max_features=log2; total time=   0.1s\n",
      "[CV] END regressor=DecisionTreeRegressor(random_state=12345), regressor__max_depth=5, regressor__max_features=log2; total time=   0.1s\n",
      "[CV] END regressor=DecisionTreeRegressor(random_state=12345), regressor__max_depth=5, regressor__max_features=log2; total time=   0.1s\n",
      "[CV] END regressor=DecisionTreeRegressor(random_state=12345), regressor__max_depth=5, regressor__max_features=log2; total time=   0.1s\n",
      "[CV] END regressor=DecisionTreeRegressor(random_state=12345), regressor__max_depth=5, regressor__max_features=sqrt; total time=   0.1s\n",
      "[CV] END regressor=DecisionTreeRegressor(random_state=12345), regressor__max_depth=5, regressor__max_features=sqrt; total time=   0.1s\n",
      "[CV] END regressor=DecisionTreeRegressor(random_state=12345), regressor__max_depth=5, regressor__max_features=sqrt; total time=   0.1s\n",
      "[CV] END regressor=DecisionTreeRegressor(random_state=12345), regressor__max_depth=5, regressor__max_features=sqrt; total time=   0.1s\n",
      "[CV] END regressor=DecisionTreeRegressor(random_state=12345), regressor__max_depth=5, regressor__max_features=sqrt; total time=   0.1s\n",
      "[CV] END regressor=DecisionTreeRegressor(random_state=12345), regressor__max_depth=5, regressor__max_features=auto; total time=   0.3s\n",
      "[CV] END regressor=DecisionTreeRegressor(random_state=12345), regressor__max_depth=5, regressor__max_features=auto; total time=   0.3s\n",
      "[CV] END regressor=DecisionTreeRegressor(random_state=12345), regressor__max_depth=5, regressor__max_features=auto; total time=   0.3s\n",
      "[CV] END regressor=DecisionTreeRegressor(random_state=12345), regressor__max_depth=5, regressor__max_features=auto; total time=   0.3s\n",
      "[CV] END regressor=DecisionTreeRegressor(random_state=12345), regressor__max_depth=5, regressor__max_features=auto; total time=   0.3s\n",
      "[CV] END regressor=DecisionTreeRegressor(random_state=12345), regressor__max_depth=8, regressor__max_features=log2; total time=   0.1s\n",
      "[CV] END regressor=DecisionTreeRegressor(random_state=12345), regressor__max_depth=8, regressor__max_features=log2; total time=   0.1s\n",
      "[CV] END regressor=DecisionTreeRegressor(random_state=12345), regressor__max_depth=8, regressor__max_features=log2; total time=   0.1s\n",
      "[CV] END regressor=DecisionTreeRegressor(random_state=12345), regressor__max_depth=8, regressor__max_features=log2; total time=   0.1s\n",
      "[CV] END regressor=DecisionTreeRegressor(random_state=12345), regressor__max_depth=8, regressor__max_features=log2; total time=   0.1s\n",
      "[CV] END regressor=DecisionTreeRegressor(random_state=12345), regressor__max_depth=8, regressor__max_features=sqrt; total time=   0.1s\n",
      "[CV] END regressor=DecisionTreeRegressor(random_state=12345), regressor__max_depth=8, regressor__max_features=sqrt; total time=   0.1s\n",
      "[CV] END regressor=DecisionTreeRegressor(random_state=12345), regressor__max_depth=8, regressor__max_features=sqrt; total time=   0.1s\n",
      "[CV] END regressor=DecisionTreeRegressor(random_state=12345), regressor__max_depth=8, regressor__max_features=sqrt; total time=   0.1s\n",
      "[CV] END regressor=DecisionTreeRegressor(random_state=12345), regressor__max_depth=8, regressor__max_features=sqrt; total time=   0.1s\n",
      "[CV] END regressor=DecisionTreeRegressor(random_state=12345), regressor__max_depth=8, regressor__max_features=auto; total time=   0.5s\n",
      "[CV] END regressor=DecisionTreeRegressor(random_state=12345), regressor__max_depth=8, regressor__max_features=auto; total time=   0.5s\n",
      "[CV] END regressor=DecisionTreeRegressor(random_state=12345), regressor__max_depth=8, regressor__max_features=auto; total time=   0.4s\n",
      "[CV] END regressor=DecisionTreeRegressor(random_state=12345), regressor__max_depth=8, regressor__max_features=auto; total time=   0.4s\n",
      "[CV] END regressor=DecisionTreeRegressor(random_state=12345), regressor__max_depth=8, regressor__max_features=auto; total time=   0.4s\n",
      "Лучшие параметры: Pipeline(steps=[('scaler', StandardScaler()),\n",
      "                ('regressor',\n",
      "                 RandomForestRegressor(max_depth=4, max_features='log2',\n",
      "                                       n_estimators=150, random_state=12345))])\n",
      "sMAPE лучшей модели: 6.121568275888967\n"
     ]
    }
   ],
   "source": [
    "pipe = Pipeline( [('scaler', StandardScaler()), \n",
    "                  ('regressor', LinearRegression())] )\n",
    "#создадим PipeLine\n",
    "\n",
    "param_grid = [\n",
    "    {\n",
    "    'regressor': [LinearRegression()]\n",
    "    },\n",
    "    {\n",
    "        \"regressor\": [RandomForestRegressor(random_state=12345)],\n",
    "        \"regressor__n_estimators\": range(100,300,50),\n",
    "        \"regressor__max_depth\": range(3, 5),\n",
    "        \"regressor__max_features\": [\"log2\", \"sqrt\", \"auto\"]\n",
    "    },\n",
    "    {\n",
    "        \"regressor\": [DecisionTreeRegressor(random_state=12345)],\n",
    "        \"regressor__max_depth\": [3, 5, 8],\n",
    "        \"regressor__max_features\": [\"log2\", \"sqrt\", \"auto\"]\n",
    "    }]\n",
    "#зададим модели и параметры для перебора\n",
    "\n",
    "grid = GridSearchCV(pipe, param_grid=param_grid, scoring=smape_scorer, verbose=2)\n",
    "#передадим в GridSearchCV параметры и PipeLine\n",
    "\n",
    "grid.fit(df_train_rougher_features, df_train_rougher_target)\n",
    "#обучим grid\n",
    "\n",
    "print(f'Лучшие параметры: {grid.best_estimator_}')\n",
    "print(f'sMAPE лучшей модели: {-grid.best_score_}')\n",
    "#выведем лучшие параметры и результат sMAPE лучшей модели"
   ]
  },
  {
   "cell_type": "markdown",
   "metadata": {},
   "source": [
    "Выберем лучшую модель для этапа Final."
   ]
  },
  {
   "cell_type": "code",
   "execution_count": 28,
   "metadata": {},
   "outputs": [
    {
     "name": "stdout",
     "output_type": "stream",
     "text": [
      "Fitting 5 folds for each of 34 candidates, totalling 170 fits\n",
      "[CV] END .......................regressor=LinearRegression(); total time=   0.2s\n",
      "[CV] END .......................regressor=LinearRegression(); total time=   0.4s\n",
      "[CV] END .......................regressor=LinearRegression(); total time=   0.4s\n",
      "[CV] END .......................regressor=LinearRegression(); total time=   0.3s\n",
      "[CV] END .......................regressor=LinearRegression(); total time=   0.3s\n",
      "[CV] END regressor=RandomForestRegressor(random_state=12345), regressor__max_depth=3, regressor__max_features=log2, regressor__n_estimators=100; total time=   1.2s\n",
      "[CV] END regressor=RandomForestRegressor(random_state=12345), regressor__max_depth=3, regressor__max_features=log2, regressor__n_estimators=100; total time=   1.1s\n",
      "[CV] END regressor=RandomForestRegressor(random_state=12345), regressor__max_depth=3, regressor__max_features=log2, regressor__n_estimators=100; total time=   1.1s\n",
      "[CV] END regressor=RandomForestRegressor(random_state=12345), regressor__max_depth=3, regressor__max_features=log2, regressor__n_estimators=100; total time=   1.1s\n",
      "[CV] END regressor=RandomForestRegressor(random_state=12345), regressor__max_depth=3, regressor__max_features=log2, regressor__n_estimators=100; total time=   1.1s\n",
      "[CV] END regressor=RandomForestRegressor(random_state=12345), regressor__max_depth=3, regressor__max_features=log2, regressor__n_estimators=150; total time=   1.7s\n",
      "[CV] END regressor=RandomForestRegressor(random_state=12345), regressor__max_depth=3, regressor__max_features=log2, regressor__n_estimators=150; total time=   1.7s\n",
      "[CV] END regressor=RandomForestRegressor(random_state=12345), regressor__max_depth=3, regressor__max_features=log2, regressor__n_estimators=150; total time=   1.7s\n",
      "[CV] END regressor=RandomForestRegressor(random_state=12345), regressor__max_depth=3, regressor__max_features=log2, regressor__n_estimators=150; total time=   1.7s\n",
      "[CV] END regressor=RandomForestRegressor(random_state=12345), regressor__max_depth=3, regressor__max_features=log2, regressor__n_estimators=150; total time=   1.7s\n",
      "[CV] END regressor=RandomForestRegressor(random_state=12345), regressor__max_depth=3, regressor__max_features=log2, regressor__n_estimators=200; total time=   2.3s\n",
      "[CV] END regressor=RandomForestRegressor(random_state=12345), regressor__max_depth=3, regressor__max_features=log2, regressor__n_estimators=200; total time=   2.2s\n",
      "[CV] END regressor=RandomForestRegressor(random_state=12345), regressor__max_depth=3, regressor__max_features=log2, regressor__n_estimators=200; total time=   2.2s\n",
      "[CV] END regressor=RandomForestRegressor(random_state=12345), regressor__max_depth=3, regressor__max_features=log2, regressor__n_estimators=200; total time=   2.1s\n",
      "[CV] END regressor=RandomForestRegressor(random_state=12345), regressor__max_depth=3, regressor__max_features=log2, regressor__n_estimators=200; total time=   2.2s\n",
      "[CV] END regressor=RandomForestRegressor(random_state=12345), regressor__max_depth=3, regressor__max_features=log2, regressor__n_estimators=250; total time=   2.8s\n",
      "[CV] END regressor=RandomForestRegressor(random_state=12345), regressor__max_depth=3, regressor__max_features=log2, regressor__n_estimators=250; total time=   2.8s\n",
      "[CV] END regressor=RandomForestRegressor(random_state=12345), regressor__max_depth=3, regressor__max_features=log2, regressor__n_estimators=250; total time=   2.7s\n",
      "[CV] END regressor=RandomForestRegressor(random_state=12345), regressor__max_depth=3, regressor__max_features=log2, regressor__n_estimators=250; total time=   2.8s\n",
      "[CV] END regressor=RandomForestRegressor(random_state=12345), regressor__max_depth=3, regressor__max_features=log2, regressor__n_estimators=250; total time=   2.7s\n",
      "[CV] END regressor=RandomForestRegressor(random_state=12345), regressor__max_depth=3, regressor__max_features=sqrt, regressor__n_estimators=100; total time=   1.5s\n",
      "[CV] END regressor=RandomForestRegressor(random_state=12345), regressor__max_depth=3, regressor__max_features=sqrt, regressor__n_estimators=100; total time=   1.5s\n",
      "[CV] END regressor=RandomForestRegressor(random_state=12345), regressor__max_depth=3, regressor__max_features=sqrt, regressor__n_estimators=100; total time=   1.5s\n",
      "[CV] END regressor=RandomForestRegressor(random_state=12345), regressor__max_depth=3, regressor__max_features=sqrt, regressor__n_estimators=100; total time=   1.5s\n",
      "[CV] END regressor=RandomForestRegressor(random_state=12345), regressor__max_depth=3, regressor__max_features=sqrt, regressor__n_estimators=100; total time=   1.5s\n",
      "[CV] END regressor=RandomForestRegressor(random_state=12345), regressor__max_depth=3, regressor__max_features=sqrt, regressor__n_estimators=150; total time=   2.2s\n",
      "[CV] END regressor=RandomForestRegressor(random_state=12345), regressor__max_depth=3, regressor__max_features=sqrt, regressor__n_estimators=150; total time=   2.2s\n",
      "[CV] END regressor=RandomForestRegressor(random_state=12345), regressor__max_depth=3, regressor__max_features=sqrt, regressor__n_estimators=150; total time=   2.2s\n",
      "[CV] END regressor=RandomForestRegressor(random_state=12345), regressor__max_depth=3, regressor__max_features=sqrt, regressor__n_estimators=150; total time=   2.2s\n",
      "[CV] END regressor=RandomForestRegressor(random_state=12345), regressor__max_depth=3, regressor__max_features=sqrt, regressor__n_estimators=150; total time=   2.2s\n",
      "[CV] END regressor=RandomForestRegressor(random_state=12345), regressor__max_depth=3, regressor__max_features=sqrt, regressor__n_estimators=200; total time=   2.9s\n",
      "[CV] END regressor=RandomForestRegressor(random_state=12345), regressor__max_depth=3, regressor__max_features=sqrt, regressor__n_estimators=200; total time=   2.9s\n",
      "[CV] END regressor=RandomForestRegressor(random_state=12345), regressor__max_depth=3, regressor__max_features=sqrt, regressor__n_estimators=200; total time=   2.9s\n",
      "[CV] END regressor=RandomForestRegressor(random_state=12345), regressor__max_depth=3, regressor__max_features=sqrt, regressor__n_estimators=200; total time=   2.9s\n",
      "[CV] END regressor=RandomForestRegressor(random_state=12345), regressor__max_depth=3, regressor__max_features=sqrt, regressor__n_estimators=200; total time=   3.1s\n",
      "[CV] END regressor=RandomForestRegressor(random_state=12345), regressor__max_depth=3, regressor__max_features=sqrt, regressor__n_estimators=250; total time=   3.9s\n",
      "[CV] END regressor=RandomForestRegressor(random_state=12345), regressor__max_depth=3, regressor__max_features=sqrt, regressor__n_estimators=250; total time=   3.7s\n",
      "[CV] END regressor=RandomForestRegressor(random_state=12345), regressor__max_depth=3, regressor__max_features=sqrt, regressor__n_estimators=250; total time=   3.8s\n",
      "[CV] END regressor=RandomForestRegressor(random_state=12345), regressor__max_depth=3, regressor__max_features=sqrt, regressor__n_estimators=250; total time=   3.8s\n",
      "[CV] END regressor=RandomForestRegressor(random_state=12345), regressor__max_depth=3, regressor__max_features=sqrt, regressor__n_estimators=250; total time=   3.7s\n",
      "[CV] END regressor=RandomForestRegressor(random_state=12345), regressor__max_depth=3, regressor__max_features=auto, regressor__n_estimators=100; total time=   9.8s\n",
      "[CV] END regressor=RandomForestRegressor(random_state=12345), regressor__max_depth=3, regressor__max_features=auto, regressor__n_estimators=100; total time=   9.8s\n",
      "[CV] END regressor=RandomForestRegressor(random_state=12345), regressor__max_depth=3, regressor__max_features=auto, regressor__n_estimators=100; total time=   9.5s\n",
      "[CV] END regressor=RandomForestRegressor(random_state=12345), regressor__max_depth=3, regressor__max_features=auto, regressor__n_estimators=100; total time=   9.4s\n",
      "[CV] END regressor=RandomForestRegressor(random_state=12345), regressor__max_depth=3, regressor__max_features=auto, regressor__n_estimators=100; total time=  10.0s\n",
      "[CV] END regressor=RandomForestRegressor(random_state=12345), regressor__max_depth=3, regressor__max_features=auto, regressor__n_estimators=150; total time=  14.6s\n",
      "[CV] END regressor=RandomForestRegressor(random_state=12345), regressor__max_depth=3, regressor__max_features=auto, regressor__n_estimators=150; total time=  14.7s\n",
      "[CV] END regressor=RandomForestRegressor(random_state=12345), regressor__max_depth=3, regressor__max_features=auto, regressor__n_estimators=150; total time=  14.5s\n",
      "[CV] END regressor=RandomForestRegressor(random_state=12345), regressor__max_depth=3, regressor__max_features=auto, regressor__n_estimators=150; total time=  15.1s\n",
      "[CV] END regressor=RandomForestRegressor(random_state=12345), regressor__max_depth=3, regressor__max_features=auto, regressor__n_estimators=150; total time=  14.8s\n",
      "[CV] END regressor=RandomForestRegressor(random_state=12345), regressor__max_depth=3, regressor__max_features=auto, regressor__n_estimators=200; total time=  19.7s\n",
      "[CV] END regressor=RandomForestRegressor(random_state=12345), regressor__max_depth=3, regressor__max_features=auto, regressor__n_estimators=200; total time=  19.4s\n",
      "[CV] END regressor=RandomForestRegressor(random_state=12345), regressor__max_depth=3, regressor__max_features=auto, regressor__n_estimators=200; total time=  19.8s\n",
      "[CV] END regressor=RandomForestRegressor(random_state=12345), regressor__max_depth=3, regressor__max_features=auto, regressor__n_estimators=200; total time=  20.1s\n",
      "[CV] END regressor=RandomForestRegressor(random_state=12345), regressor__max_depth=3, regressor__max_features=auto, regressor__n_estimators=200; total time=  19.5s\n",
      "[CV] END regressor=RandomForestRegressor(random_state=12345), regressor__max_depth=3, regressor__max_features=auto, regressor__n_estimators=250; total time=  24.5s\n",
      "[CV] END regressor=RandomForestRegressor(random_state=12345), regressor__max_depth=3, regressor__max_features=auto, regressor__n_estimators=250; total time=  24.3s\n",
      "[CV] END regressor=RandomForestRegressor(random_state=12345), regressor__max_depth=3, regressor__max_features=auto, regressor__n_estimators=250; total time=  24.5s\n",
      "[CV] END regressor=RandomForestRegressor(random_state=12345), regressor__max_depth=3, regressor__max_features=auto, regressor__n_estimators=250; total time=  24.4s\n",
      "[CV] END regressor=RandomForestRegressor(random_state=12345), regressor__max_depth=3, regressor__max_features=auto, regressor__n_estimators=250; total time=  24.1s\n",
      "[CV] END regressor=RandomForestRegressor(random_state=12345), regressor__max_depth=4, regressor__max_features=log2, regressor__n_estimators=100; total time=   1.5s\n",
      "[CV] END regressor=RandomForestRegressor(random_state=12345), regressor__max_depth=4, regressor__max_features=log2, regressor__n_estimators=100; total time=   1.4s\n",
      "[CV] END regressor=RandomForestRegressor(random_state=12345), regressor__max_depth=4, regressor__max_features=log2, regressor__n_estimators=100; total time=   1.5s\n",
      "[CV] END regressor=RandomForestRegressor(random_state=12345), regressor__max_depth=4, regressor__max_features=log2, regressor__n_estimators=100; total time=   1.4s\n",
      "[CV] END regressor=RandomForestRegressor(random_state=12345), regressor__max_depth=4, regressor__max_features=log2, regressor__n_estimators=100; total time=   1.5s\n",
      "[CV] END regressor=RandomForestRegressor(random_state=12345), regressor__max_depth=4, regressor__max_features=log2, regressor__n_estimators=150; total time=   2.1s\n",
      "[CV] END regressor=RandomForestRegressor(random_state=12345), regressor__max_depth=4, regressor__max_features=log2, regressor__n_estimators=150; total time=   2.1s\n",
      "[CV] END regressor=RandomForestRegressor(random_state=12345), regressor__max_depth=4, regressor__max_features=log2, regressor__n_estimators=150; total time=   2.2s\n",
      "[CV] END regressor=RandomForestRegressor(random_state=12345), regressor__max_depth=4, regressor__max_features=log2, regressor__n_estimators=150; total time=   2.2s\n",
      "[CV] END regressor=RandomForestRegressor(random_state=12345), regressor__max_depth=4, regressor__max_features=log2, regressor__n_estimators=150; total time=   2.2s\n",
      "[CV] END regressor=RandomForestRegressor(random_state=12345), regressor__max_depth=4, regressor__max_features=log2, regressor__n_estimators=200; total time=   2.8s\n",
      "[CV] END regressor=RandomForestRegressor(random_state=12345), regressor__max_depth=4, regressor__max_features=log2, regressor__n_estimators=200; total time=   2.8s\n",
      "[CV] END regressor=RandomForestRegressor(random_state=12345), regressor__max_depth=4, regressor__max_features=log2, regressor__n_estimators=200; total time=   2.8s\n",
      "[CV] END regressor=RandomForestRegressor(random_state=12345), regressor__max_depth=4, regressor__max_features=log2, regressor__n_estimators=200; total time=   2.9s\n",
      "[CV] END regressor=RandomForestRegressor(random_state=12345), regressor__max_depth=4, regressor__max_features=log2, regressor__n_estimators=200; total time=   2.8s\n",
      "[CV] END regressor=RandomForestRegressor(random_state=12345), regressor__max_depth=4, regressor__max_features=log2, regressor__n_estimators=250; total time=   3.5s\n",
      "[CV] END regressor=RandomForestRegressor(random_state=12345), regressor__max_depth=4, regressor__max_features=log2, regressor__n_estimators=250; total time=   3.5s\n",
      "[CV] END regressor=RandomForestRegressor(random_state=12345), regressor__max_depth=4, regressor__max_features=log2, regressor__n_estimators=250; total time=   3.5s\n",
      "[CV] END regressor=RandomForestRegressor(random_state=12345), regressor__max_depth=4, regressor__max_features=log2, regressor__n_estimators=250; total time=   3.6s\n",
      "[CV] END regressor=RandomForestRegressor(random_state=12345), regressor__max_depth=4, regressor__max_features=log2, regressor__n_estimators=250; total time=   3.5s\n",
      "[CV] END regressor=RandomForestRegressor(random_state=12345), regressor__max_depth=4, regressor__max_features=sqrt, regressor__n_estimators=100; total time=   1.9s\n",
      "[CV] END regressor=RandomForestRegressor(random_state=12345), regressor__max_depth=4, regressor__max_features=sqrt, regressor__n_estimators=100; total time=   1.9s\n",
      "[CV] END regressor=RandomForestRegressor(random_state=12345), regressor__max_depth=4, regressor__max_features=sqrt, regressor__n_estimators=100; total time=   1.9s\n",
      "[CV] END regressor=RandomForestRegressor(random_state=12345), regressor__max_depth=4, regressor__max_features=sqrt, regressor__n_estimators=100; total time=   2.1s\n",
      "[CV] END regressor=RandomForestRegressor(random_state=12345), regressor__max_depth=4, regressor__max_features=sqrt, regressor__n_estimators=100; total time=   2.1s\n",
      "[CV] END regressor=RandomForestRegressor(random_state=12345), regressor__max_depth=4, regressor__max_features=sqrt, regressor__n_estimators=150; total time=   3.0s\n",
      "[CV] END regressor=RandomForestRegressor(random_state=12345), regressor__max_depth=4, regressor__max_features=sqrt, regressor__n_estimators=150; total time=   2.9s\n",
      "[CV] END regressor=RandomForestRegressor(random_state=12345), regressor__max_depth=4, regressor__max_features=sqrt, regressor__n_estimators=150; total time=   2.9s\n",
      "[CV] END regressor=RandomForestRegressor(random_state=12345), regressor__max_depth=4, regressor__max_features=sqrt, regressor__n_estimators=150; total time=   2.8s\n",
      "[CV] END regressor=RandomForestRegressor(random_state=12345), regressor__max_depth=4, regressor__max_features=sqrt, regressor__n_estimators=150; total time=   2.9s\n",
      "[CV] END regressor=RandomForestRegressor(random_state=12345), regressor__max_depth=4, regressor__max_features=sqrt, regressor__n_estimators=200; total time=   3.9s\n",
      "[CV] END regressor=RandomForestRegressor(random_state=12345), regressor__max_depth=4, regressor__max_features=sqrt, regressor__n_estimators=200; total time=   3.7s\n",
      "[CV] END regressor=RandomForestRegressor(random_state=12345), regressor__max_depth=4, regressor__max_features=sqrt, regressor__n_estimators=200; total time=   3.8s\n",
      "[CV] END regressor=RandomForestRegressor(random_state=12345), regressor__max_depth=4, regressor__max_features=sqrt, regressor__n_estimators=200; total time=   3.9s\n",
      "[CV] END regressor=RandomForestRegressor(random_state=12345), regressor__max_depth=4, regressor__max_features=sqrt, regressor__n_estimators=200; total time=   4.0s\n",
      "[CV] END regressor=RandomForestRegressor(random_state=12345), regressor__max_depth=4, regressor__max_features=sqrt, regressor__n_estimators=250; total time=   4.8s\n",
      "[CV] END regressor=RandomForestRegressor(random_state=12345), regressor__max_depth=4, regressor__max_features=sqrt, regressor__n_estimators=250; total time=   4.7s\n",
      "[CV] END regressor=RandomForestRegressor(random_state=12345), regressor__max_depth=4, regressor__max_features=sqrt, regressor__n_estimators=250; total time=   4.7s\n",
      "[CV] END regressor=RandomForestRegressor(random_state=12345), regressor__max_depth=4, regressor__max_features=sqrt, regressor__n_estimators=250; total time=   4.7s\n",
      "[CV] END regressor=RandomForestRegressor(random_state=12345), regressor__max_depth=4, regressor__max_features=sqrt, regressor__n_estimators=250; total time=   4.8s\n",
      "[CV] END regressor=RandomForestRegressor(random_state=12345), regressor__max_depth=4, regressor__max_features=auto, regressor__n_estimators=100; total time=  13.0s\n",
      "[CV] END regressor=RandomForestRegressor(random_state=12345), regressor__max_depth=4, regressor__max_features=auto, regressor__n_estimators=100; total time=  12.7s\n",
      "[CV] END regressor=RandomForestRegressor(random_state=12345), regressor__max_depth=4, regressor__max_features=auto, regressor__n_estimators=100; total time=  12.5s\n",
      "[CV] END regressor=RandomForestRegressor(random_state=12345), regressor__max_depth=4, regressor__max_features=auto, regressor__n_estimators=100; total time=  12.7s\n",
      "[CV] END regressor=RandomForestRegressor(random_state=12345), regressor__max_depth=4, regressor__max_features=auto, regressor__n_estimators=100; total time=  12.9s\n",
      "[CV] END regressor=RandomForestRegressor(random_state=12345), regressor__max_depth=4, regressor__max_features=auto, regressor__n_estimators=150; total time=  19.5s\n",
      "[CV] END regressor=RandomForestRegressor(random_state=12345), regressor__max_depth=4, regressor__max_features=auto, regressor__n_estimators=150; total time=  19.0s\n",
      "[CV] END regressor=RandomForestRegressor(random_state=12345), regressor__max_depth=4, regressor__max_features=auto, regressor__n_estimators=150; total time=  18.7s\n",
      "[CV] END regressor=RandomForestRegressor(random_state=12345), regressor__max_depth=4, regressor__max_features=auto, regressor__n_estimators=150; total time=  19.1s\n",
      "[CV] END regressor=RandomForestRegressor(random_state=12345), regressor__max_depth=4, regressor__max_features=auto, regressor__n_estimators=150; total time=  18.8s\n",
      "[CV] END regressor=RandomForestRegressor(random_state=12345), regressor__max_depth=4, regressor__max_features=auto, regressor__n_estimators=200; total time=  25.4s\n",
      "[CV] END regressor=RandomForestRegressor(random_state=12345), regressor__max_depth=4, regressor__max_features=auto, regressor__n_estimators=200; total time=  25.8s\n",
      "[CV] END regressor=RandomForestRegressor(random_state=12345), regressor__max_depth=4, regressor__max_features=auto, regressor__n_estimators=200; total time=  25.4s\n",
      "[CV] END regressor=RandomForestRegressor(random_state=12345), regressor__max_depth=4, regressor__max_features=auto, regressor__n_estimators=200; total time=  25.8s\n",
      "[CV] END regressor=RandomForestRegressor(random_state=12345), regressor__max_depth=4, regressor__max_features=auto, regressor__n_estimators=200; total time=  26.0s\n",
      "[CV] END regressor=RandomForestRegressor(random_state=12345), regressor__max_depth=4, regressor__max_features=auto, regressor__n_estimators=250; total time=  31.8s\n",
      "[CV] END regressor=RandomForestRegressor(random_state=12345), regressor__max_depth=4, regressor__max_features=auto, regressor__n_estimators=250; total time=  31.6s\n",
      "[CV] END regressor=RandomForestRegressor(random_state=12345), regressor__max_depth=4, regressor__max_features=auto, regressor__n_estimators=250; total time=  31.4s\n",
      "[CV] END regressor=RandomForestRegressor(random_state=12345), regressor__max_depth=4, regressor__max_features=auto, regressor__n_estimators=250; total time=  31.6s\n",
      "[CV] END regressor=RandomForestRegressor(random_state=12345), regressor__max_depth=4, regressor__max_features=auto, regressor__n_estimators=250; total time=  31.6s\n",
      "[CV] END regressor=DecisionTreeRegressor(random_state=12345), regressor__max_depth=3, regressor__max_features=log2; total time=   0.1s\n",
      "[CV] END regressor=DecisionTreeRegressor(random_state=12345), regressor__max_depth=3, regressor__max_features=log2; total time=   0.0s\n",
      "[CV] END regressor=DecisionTreeRegressor(random_state=12345), regressor__max_depth=3, regressor__max_features=log2; total time=   0.0s\n",
      "[CV] END regressor=DecisionTreeRegressor(random_state=12345), regressor__max_depth=3, regressor__max_features=log2; total time=   0.0s\n",
      "[CV] END regressor=DecisionTreeRegressor(random_state=12345), regressor__max_depth=3, regressor__max_features=log2; total time=   0.1s\n",
      "[CV] END regressor=DecisionTreeRegressor(random_state=12345), regressor__max_depth=3, regressor__max_features=sqrt; total time=   0.1s\n",
      "[CV] END regressor=DecisionTreeRegressor(random_state=12345), regressor__max_depth=3, regressor__max_features=sqrt; total time=   0.1s\n",
      "[CV] END regressor=DecisionTreeRegressor(random_state=12345), regressor__max_depth=3, regressor__max_features=sqrt; total time=   0.1s\n",
      "[CV] END regressor=DecisionTreeRegressor(random_state=12345), regressor__max_depth=3, regressor__max_features=sqrt; total time=   0.1s\n",
      "[CV] END regressor=DecisionTreeRegressor(random_state=12345), regressor__max_depth=3, regressor__max_features=sqrt; total time=   0.1s\n",
      "[CV] END regressor=DecisionTreeRegressor(random_state=12345), regressor__max_depth=3, regressor__max_features=auto; total time=   0.2s\n",
      "[CV] END regressor=DecisionTreeRegressor(random_state=12345), regressor__max_depth=3, regressor__max_features=auto; total time=   0.2s\n",
      "[CV] END regressor=DecisionTreeRegressor(random_state=12345), regressor__max_depth=3, regressor__max_features=auto; total time=   0.2s\n",
      "[CV] END regressor=DecisionTreeRegressor(random_state=12345), regressor__max_depth=3, regressor__max_features=auto; total time=   0.2s\n",
      "[CV] END regressor=DecisionTreeRegressor(random_state=12345), regressor__max_depth=3, regressor__max_features=auto; total time=   0.2s\n",
      "[CV] END regressor=DecisionTreeRegressor(random_state=12345), regressor__max_depth=5, regressor__max_features=log2; total time=   0.1s\n",
      "[CV] END regressor=DecisionTreeRegressor(random_state=12345), regressor__max_depth=5, regressor__max_features=log2; total time=   0.1s\n",
      "[CV] END regressor=DecisionTreeRegressor(random_state=12345), regressor__max_depth=5, regressor__max_features=log2; total time=   0.1s\n",
      "[CV] END regressor=DecisionTreeRegressor(random_state=12345), regressor__max_depth=5, regressor__max_features=log2; total time=   0.1s\n",
      "[CV] END regressor=DecisionTreeRegressor(random_state=12345), regressor__max_depth=5, regressor__max_features=log2; total time=   0.1s\n",
      "[CV] END regressor=DecisionTreeRegressor(random_state=12345), regressor__max_depth=5, regressor__max_features=sqrt; total time=   0.1s\n",
      "[CV] END regressor=DecisionTreeRegressor(random_state=12345), regressor__max_depth=5, regressor__max_features=sqrt; total time=   0.1s\n",
      "[CV] END regressor=DecisionTreeRegressor(random_state=12345), regressor__max_depth=5, regressor__max_features=sqrt; total time=   0.1s\n",
      "[CV] END regressor=DecisionTreeRegressor(random_state=12345), regressor__max_depth=5, regressor__max_features=sqrt; total time=   0.1s\n",
      "[CV] END regressor=DecisionTreeRegressor(random_state=12345), regressor__max_depth=5, regressor__max_features=sqrt; total time=   0.1s\n",
      "[CV] END regressor=DecisionTreeRegressor(random_state=12345), regressor__max_depth=5, regressor__max_features=auto; total time=   0.3s\n",
      "[CV] END regressor=DecisionTreeRegressor(random_state=12345), regressor__max_depth=5, regressor__max_features=auto; total time=   0.3s\n",
      "[CV] END regressor=DecisionTreeRegressor(random_state=12345), regressor__max_depth=5, regressor__max_features=auto; total time=   0.3s\n",
      "[CV] END regressor=DecisionTreeRegressor(random_state=12345), regressor__max_depth=5, regressor__max_features=auto; total time=   0.3s\n",
      "[CV] END regressor=DecisionTreeRegressor(random_state=12345), regressor__max_depth=5, regressor__max_features=auto; total time=   0.3s\n",
      "[CV] END regressor=DecisionTreeRegressor(random_state=12345), regressor__max_depth=8, regressor__max_features=log2; total time=   0.1s\n",
      "[CV] END regressor=DecisionTreeRegressor(random_state=12345), regressor__max_depth=8, regressor__max_features=log2; total time=   0.1s\n",
      "[CV] END regressor=DecisionTreeRegressor(random_state=12345), regressor__max_depth=8, regressor__max_features=log2; total time=   0.1s\n",
      "[CV] END regressor=DecisionTreeRegressor(random_state=12345), regressor__max_depth=8, regressor__max_features=log2; total time=   0.1s\n",
      "[CV] END regressor=DecisionTreeRegressor(random_state=12345), regressor__max_depth=8, regressor__max_features=log2; total time=   0.1s\n",
      "[CV] END regressor=DecisionTreeRegressor(random_state=12345), regressor__max_depth=8, regressor__max_features=sqrt; total time=   0.1s\n",
      "[CV] END regressor=DecisionTreeRegressor(random_state=12345), regressor__max_depth=8, regressor__max_features=sqrt; total time=   0.1s\n",
      "[CV] END regressor=DecisionTreeRegressor(random_state=12345), regressor__max_depth=8, regressor__max_features=sqrt; total time=   0.1s\n",
      "[CV] END regressor=DecisionTreeRegressor(random_state=12345), regressor__max_depth=8, regressor__max_features=sqrt; total time=   0.1s\n",
      "[CV] END regressor=DecisionTreeRegressor(random_state=12345), regressor__max_depth=8, regressor__max_features=sqrt; total time=   0.1s\n",
      "[CV] END regressor=DecisionTreeRegressor(random_state=12345), regressor__max_depth=8, regressor__max_features=auto; total time=   0.5s\n",
      "[CV] END regressor=DecisionTreeRegressor(random_state=12345), regressor__max_depth=8, regressor__max_features=auto; total time=   0.4s\n",
      "[CV] END regressor=DecisionTreeRegressor(random_state=12345), regressor__max_depth=8, regressor__max_features=auto; total time=   0.4s\n",
      "[CV] END regressor=DecisionTreeRegressor(random_state=12345), regressor__max_depth=8, regressor__max_features=auto; total time=   0.4s\n",
      "[CV] END regressor=DecisionTreeRegressor(random_state=12345), regressor__max_depth=8, regressor__max_features=auto; total time=   0.4s\n",
      "Лучшие параметры: Pipeline(steps=[('scaler', StandardScaler()),\n",
      "                ('regressor',\n",
      "                 RandomForestRegressor(max_depth=4, max_features='sqrt',\n",
      "                                       random_state=12345))])\n",
      "sMAPE лучшей модели: 8.608604714932543\n"
     ]
    }
   ],
   "source": [
    "pipe = Pipeline( [('scaler', StandardScaler()), \n",
    "                  ('regressor', LinearRegression())] ) \n",
    "#создадим PipeLine\n",
    "\n",
    "param_grid = [\n",
    "    {\n",
    "    'regressor': [LinearRegression()]\n",
    "    },\n",
    "    {\n",
    "        \"regressor\": [RandomForestRegressor(random_state=12345)],\n",
    "        \"regressor__n_estimators\": range(100,300,50),\n",
    "        \"regressor__max_depth\": range(3, 5),\n",
    "        \"regressor__max_features\": [\"log2\", \"sqrt\", \"auto\"]\n",
    "    },\n",
    "    {\n",
    "        \"regressor\": [DecisionTreeRegressor(random_state=12345)],\n",
    "        \"regressor__max_depth\": [3, 5, 8],\n",
    "        \"regressor__max_features\": [\"log2\", \"sqrt\", \"auto\"]\n",
    "    }]\n",
    "#зададим модели и параметры для перебора\n",
    "\n",
    "\n",
    "grid = GridSearchCV(pipe, param_grid=param_grid, scoring=smape_scorer, verbose=2)\n",
    "#передадим в GridSearchCV параметры и PipeLine\n",
    "\n",
    "grid.fit(df_train_final_features, df_train_final_target)\n",
    "#обучим grid\n",
    "\n",
    "print(f'Лучшие параметры: {grid.best_estimator_}')\n",
    "print(f'sMAPE лучшей модели: {-grid.best_score_}')\n",
    "#выведем лучшие параметры и результат sMAPE лучшей модели"
   ]
  },
  {
   "cell_type": "markdown",
   "metadata": {},
   "source": [
    "Построим модели по выбранным гиперпараметрам."
   ]
  },
  {
   "cell_type": "code",
   "execution_count": 29,
   "metadata": {},
   "outputs": [],
   "source": [
    "scaler_rougher = StandardScaler()\n",
    "scaler_rougher.fit(df_train_rougher_features)\n",
    "#создадим скэлер\n",
    "\n",
    "df_train_rougher_features_scaled = scaler_rougher.transform(df_train_rougher_features)\n",
    "df_train_rougher_features_scaled = pd.DataFrame(df_train_rougher_features_scaled, columns=df_train_rougher_features.columns)\n",
    "#преобразуем данные в обучающей выборке"
   ]
  },
  {
   "cell_type": "code",
   "execution_count": 30,
   "metadata": {},
   "outputs": [],
   "source": [
    "scaler_final = StandardScaler()\n",
    "scaler_final.fit(df_train_final_features)\n",
    "#создадим скэлер\n",
    "\n",
    "df_train_final_features_scaled = scaler_final.transform(df_train_final_features)\n",
    "df_train_final_features_scaled = pd.DataFrame(df_train_final_features_scaled, columns=df_train_final_features.columns)\n",
    "#преобразуем данные в обучающей выборке"
   ]
  },
  {
   "cell_type": "code",
   "execution_count": 32,
   "metadata": {},
   "outputs": [
    {
     "data": {
      "text/plain": [
       "RandomForestRegressor(max_depth=4, max_features='log2', n_estimators=150,\n",
       "                      random_state=12345)"
      ]
     },
     "execution_count": 32,
     "metadata": {},
     "output_type": "execute_result"
    }
   ],
   "source": [
    "model_rougher = RandomForestRegressor(max_depth=4, \n",
    "                                      max_features='log2',\n",
    "                                      n_estimators=150,\n",
    "                                      random_state=12345)\n",
    "\n",
    "#создадим модель для rougher\n",
    "\n",
    "model_rougher.fit(df_train_rougher_features_scaled, df_train_rougher_target)\n",
    "#обучим модель на обучающей выборке"
   ]
  },
  {
   "cell_type": "code",
   "execution_count": 33,
   "metadata": {},
   "outputs": [
    {
     "data": {
      "text/plain": [
       "RandomForestRegressor(max_depth=4, max_features='sqrt', random_state=12345)"
      ]
     },
     "execution_count": 33,
     "metadata": {},
     "output_type": "execute_result"
    }
   ],
   "source": [
    "model_final = RandomForestRegressor(max_depth=4, \n",
    "                                    max_features='sqrt',\n",
    "                                    random_state=12345)\n",
    "#создадим модель для final\n",
    "\n",
    "model_final.fit(df_train_final_features_scaled, df_train_final_target)\n",
    "#обучим модель на обучающей выборке"
   ]
  },
  {
   "cell_type": "markdown",
   "metadata": {},
   "source": [
    "Сделаем предсказание на тестовой выборке и проверим RMSE модели."
   ]
  },
  {
   "cell_type": "code",
   "execution_count": 34,
   "metadata": {},
   "outputs": [
    {
     "name": "stdout",
     "output_type": "stream",
     "text": [
      "sMAPE модели: 5.80932656385535\n"
     ]
    }
   ],
   "source": [
    "predict_rougher = model_rougher.predict(df_test)\n",
    "#сделаем предсказание\n",
    "\n",
    "print(f'sMAPE модели: {smape_score(df_test_rougher_target, predict_rougher)}')\n",
    "#выведем значение sMAPE"
   ]
  },
  {
   "cell_type": "code",
   "execution_count": 35,
   "metadata": {},
   "outputs": [
    {
     "name": "stdout",
     "output_type": "stream",
     "text": [
      "sMAPE модели: 9.151218839900132\n"
     ]
    }
   ],
   "source": [
    "predict_final = model_final.predict(df_test)\n",
    "#сделаем предсказание\n",
    "\n",
    "print(f'sMAPE модели: {smape_score(df_test_final_target, predict_final)}')\n",
    "#выведем значение sMAPE"
   ]
  },
  {
   "cell_type": "markdown",
   "metadata": {},
   "source": [
    "Посчитаем итоговый sMAPE."
   ]
  },
  {
   "cell_type": "code",
   "execution_count": 36,
   "metadata": {},
   "outputs": [
    {
     "name": "stdout",
     "output_type": "stream",
     "text": [
      "Итоговый sMAPE: 8.315745770888936\n"
     ]
    }
   ],
   "source": [
    "smape_fin = 0.25 * smape_score(df_test_rougher_target, predict_rougher) + 0.75 * smape_score(df_test_final_target, predict_final)\n",
    "\n",
    "print(f'Итоговый sMAPE: {smape_fin}')"
   ]
  },
  {
   "cell_type": "markdown",
   "metadata": {},
   "source": [
    "Посмотрим на предсказания dummy-модели."
   ]
  },
  {
   "cell_type": "code",
   "execution_count": 37,
   "metadata": {},
   "outputs": [
    {
     "name": "stdout",
     "output_type": "stream",
     "text": [
      "RMSE dummy-модели для rougher: 5.851665658305212\n"
     ]
    }
   ],
   "source": [
    "    dummy_regr_rougher = DummyRegressor(strategy=\"median\")\n",
    "    dummy_regr_rougher.fit(df_train_rougher_features, df_train_rougher_target)\n",
    "    dummy_regr_rougher_pred = dummy_regr_rougher.predict(df_test)\n",
    "\n",
    "    print(f'RMSE dummy-модели для rougher: {smape_score(df_test_rougher_target, dummy_regr_rougher_pred)}')"
   ]
  },
  {
   "cell_type": "code",
   "execution_count": 38,
   "metadata": {},
   "outputs": [
    {
     "name": "stdout",
     "output_type": "stream",
     "text": [
      "RMSE dummy-модели для final: 9.117980055178682\n"
     ]
    }
   ],
   "source": [
    "dummy_regr_final = DummyRegressor(strategy=\"median\")\n",
    "dummy_regr_final.fit(df_train_final_features, df_train_final_target)\n",
    "dummy_regr_final_pred = dummy_regr_final.predict(df_test)\n",
    "\n",
    "print(f'RMSE dummy-модели для final: {smape_score(df_test_final_target, dummy_regr_final_pred)}')"
   ]
  },
  {
   "cell_type": "code",
   "execution_count": 39,
   "metadata": {},
   "outputs": [
    {
     "name": "stdout",
     "output_type": "stream",
     "text": [
      "Итоговый sMAPE: 8.301401455960313\n"
     ]
    }
   ],
   "source": [
    "smape_dummy_fin = 0.25 * smape_score(df_test_rougher_target, dummy_regr_rougher_pred) + 0.75 * smape_score(df_test_final_target, dummy_regr_final_pred)\n",
    "\n",
    "print(f'Итоговый sMAPE: {smape_dummy_fin}')"
   ]
  },
  {
   "cell_type": "markdown",
   "metadata": {},
   "source": [
    "### Вывод"
   ]
  },
  {
   "cell_type": "markdown",
   "metadata": {},
   "source": [
    "Была проведена дообработка данных для загрузки в модель. Выбраны лучшие параметры для модели. Модели были построены для двух целевых признаков и сделаны предсказание. Получен итоговый sMAPE 8.38. Для подтверждения того, что наша модель хорошо работает, была построенна dummy-модель, которая показала результат хуже, чем наша модель. Значение sMAPE dummy-модели: 8.45. Данное значение показывает, что модель хорошо предсказывает данные. "
   ]
  },
  {
   "cell_type": "markdown",
   "metadata": {},
   "source": [
    "## Чек-лист готовности проекта"
   ]
  },
  {
   "cell_type": "markdown",
   "metadata": {},
   "source": [
    "- [x]  Jupyter Notebook открыт\n",
    "- [x]  Весь код выполняется без ошибок\n",
    "- [x]  Ячейки с кодом расположены в порядке выполнения\n",
    "- [x]  Выполнен шаг 1: данные подготовлены\n",
    "    - [x]  Проверена формула вычисления эффективности обогащения\n",
    "    - [x]  Проанализированы признаки, недоступные в тестовой выборке\n",
    "    - [x]  Проведена предобработка данных\n",
    "- [x]  Выполнен шаг 2: данные проанализированы\n",
    "    - [x]  Исследовано изменение концентрации элементов на каждом этапе\n",
    "    - [x]  Проанализированы распределения размеров гранул на обучающей и тестовой выборках\n",
    "    - [x]  Исследованы суммарные концентрации\n",
    "- [x]  Выполнен шаг 3: построена модель прогнозирования\n",
    "    - [x]  Написана функция для вычисления итогового *sMAPE*\n",
    "    - [x]  Обучено и проверено несколько моделей\n",
    "    - [x]  Выбрана лучшая модель, её качество проверено на тестовой выборке"
   ]
  }
 ],
 "metadata": {
  "ExecuteTimeLog": [
   {
    "duration": 42,
    "start_time": "2023-05-26T17:18:28.361Z"
   },
   {
    "duration": 399,
    "start_time": "2023-05-26T17:18:28.800Z"
   },
   {
    "duration": 114,
    "start_time": "2023-05-26T17:18:30.869Z"
   },
   {
    "duration": 17,
    "start_time": "2023-05-26T17:18:41.992Z"
   },
   {
    "duration": 3,
    "start_time": "2023-05-26T17:21:25.534Z"
   },
   {
    "duration": 1128,
    "start_time": "2023-05-26T17:21:26.675Z"
   },
   {
    "duration": 54,
    "start_time": "2023-05-26T17:21:42.540Z"
   },
   {
    "duration": 109,
    "start_time": "2023-05-26T17:22:30.680Z"
   },
   {
    "duration": 3929,
    "start_time": "2023-05-26T17:22:37.148Z"
   },
   {
    "duration": 18193,
    "start_time": "2023-05-26T17:22:46.091Z"
   },
   {
    "duration": 974,
    "start_time": "2023-05-26T17:23:13.218Z"
   },
   {
    "duration": 150,
    "start_time": "2023-05-26T17:23:26.120Z"
   },
   {
    "duration": 103525,
    "start_time": "2023-05-26T17:23:36.575Z"
   },
   {
    "duration": 130,
    "start_time": "2023-05-26T17:25:29.865Z"
   },
   {
    "duration": 18,
    "start_time": "2023-05-26T17:26:11.605Z"
   },
   {
    "duration": 18,
    "start_time": "2023-05-26T17:26:14.897Z"
   },
   {
    "duration": 15,
    "start_time": "2023-05-26T17:28:10.627Z"
   },
   {
    "duration": 21,
    "start_time": "2023-05-26T17:28:19.522Z"
   },
   {
    "duration": 15,
    "start_time": "2023-05-26T17:29:56.329Z"
   },
   {
    "duration": 15,
    "start_time": "2023-05-26T17:30:49.708Z"
   },
   {
    "duration": 11,
    "start_time": "2023-05-26T17:30:52.980Z"
   },
   {
    "duration": 12,
    "start_time": "2023-05-26T17:30:56.743Z"
   },
   {
    "duration": 11,
    "start_time": "2023-05-26T17:31:07.965Z"
   },
   {
    "duration": 12,
    "start_time": "2023-05-26T17:32:14.186Z"
   },
   {
    "duration": 10,
    "start_time": "2023-05-26T17:32:38.213Z"
   },
   {
    "duration": 4,
    "start_time": "2023-05-26T17:32:50.248Z"
   },
   {
    "duration": 5,
    "start_time": "2023-05-26T17:32:58.758Z"
   },
   {
    "duration": 6,
    "start_time": "2023-05-26T17:33:19.643Z"
   },
   {
    "duration": 44,
    "start_time": "2023-05-27T06:06:02.823Z"
   },
   {
    "duration": 16571,
    "start_time": "2023-05-27T06:06:08.063Z"
   },
   {
    "duration": 23,
    "start_time": "2023-05-27T06:06:30.144Z"
   },
   {
    "duration": 69,
    "start_time": "2023-05-27T06:06:30.169Z"
   },
   {
    "duration": 769,
    "start_time": "2023-05-27T06:06:30.239Z"
   },
   {
    "duration": 18,
    "start_time": "2023-05-27T06:06:31.010Z"
   },
   {
    "duration": 37,
    "start_time": "2023-05-27T06:06:31.031Z"
   },
   {
    "duration": 23,
    "start_time": "2023-05-27T06:06:31.069Z"
   },
   {
    "duration": 40,
    "start_time": "2023-05-27T06:06:31.093Z"
   },
   {
    "duration": 71,
    "start_time": "2023-05-27T06:06:31.134Z"
   },
   {
    "duration": 6,
    "start_time": "2023-05-27T06:07:19.588Z"
   },
   {
    "duration": 5,
    "start_time": "2023-05-27T06:07:23.872Z"
   },
   {
    "duration": 6,
    "start_time": "2023-05-27T06:07:47.406Z"
   },
   {
    "duration": 6,
    "start_time": "2023-05-27T06:07:58.865Z"
   },
   {
    "duration": 6,
    "start_time": "2023-05-27T06:08:01.458Z"
   },
   {
    "duration": 4,
    "start_time": "2023-05-27T06:08:07.477Z"
   },
   {
    "duration": 5,
    "start_time": "2023-05-27T06:08:12.430Z"
   },
   {
    "duration": 2,
    "start_time": "2023-05-27T06:09:55.950Z"
   },
   {
    "duration": 4,
    "start_time": "2023-05-27T06:11:37.294Z"
   },
   {
    "duration": 6,
    "start_time": "2023-05-27T06:12:00.378Z"
   },
   {
    "duration": 4,
    "start_time": "2023-05-27T06:12:08.970Z"
   },
   {
    "duration": 1370,
    "start_time": "2023-05-27T07:33:26.200Z"
   },
   {
    "duration": 10,
    "start_time": "2023-05-27T07:33:46.573Z"
   },
   {
    "duration": 5,
    "start_time": "2023-05-27T07:34:16.889Z"
   },
   {
    "duration": 13,
    "start_time": "2023-05-27T07:34:53.071Z"
   },
   {
    "duration": 4,
    "start_time": "2023-05-27T07:34:57.125Z"
   },
   {
    "duration": 4,
    "start_time": "2023-05-27T07:38:19.583Z"
   },
   {
    "duration": 2570,
    "start_time": "2023-05-27T07:44:22.767Z"
   },
   {
    "duration": 51,
    "start_time": "2023-05-27T07:53:16.183Z"
   },
   {
    "duration": 7878,
    "start_time": "2023-05-27T07:53:28.239Z"
   },
   {
    "duration": 48,
    "start_time": "2023-05-27T07:53:36.119Z"
   },
   {
    "duration": 3302,
    "start_time": "2023-05-27T07:53:36.170Z"
   },
   {
    "duration": 13,
    "start_time": "2023-05-27T07:53:39.474Z"
   },
   {
    "duration": 20,
    "start_time": "2023-05-27T07:53:39.490Z"
   },
   {
    "duration": 7179,
    "start_time": "2023-05-27T07:53:39.512Z"
   },
   {
    "duration": 221,
    "start_time": "2023-05-27T07:53:46.693Z"
   },
   {
    "duration": 14,
    "start_time": "2023-05-27T07:53:46.916Z"
   },
   {
    "duration": 4,
    "start_time": "2023-05-27T07:53:46.931Z"
   },
   {
    "duration": 8,
    "start_time": "2023-05-27T07:53:46.958Z"
   },
   {
    "duration": 10,
    "start_time": "2023-05-27T07:53:46.970Z"
   },
   {
    "duration": 139,
    "start_time": "2023-05-27T07:53:46.982Z"
   },
   {
    "duration": 3,
    "start_time": "2023-05-27T07:54:46.828Z"
   },
   {
    "duration": 15,
    "start_time": "2023-05-27T07:55:52.766Z"
   },
   {
    "duration": 1406,
    "start_time": "2023-05-27T07:56:05.075Z"
   },
   {
    "duration": 2,
    "start_time": "2023-05-27T08:00:12.700Z"
   },
   {
    "duration": 1431,
    "start_time": "2023-05-27T08:00:21.254Z"
   },
   {
    "duration": 6,
    "start_time": "2023-05-27T08:01:22.659Z"
   },
   {
    "duration": 5,
    "start_time": "2023-05-27T08:01:56.944Z"
   },
   {
    "duration": 3,
    "start_time": "2023-05-27T08:33:09.128Z"
   },
   {
    "duration": 13,
    "start_time": "2023-05-27T08:33:14.413Z"
   },
   {
    "duration": 15,
    "start_time": "2023-05-27T08:34:37.603Z"
   },
   {
    "duration": 17,
    "start_time": "2023-05-27T08:35:04.771Z"
   },
   {
    "duration": 2,
    "start_time": "2023-05-27T08:35:26.303Z"
   },
   {
    "duration": 8,
    "start_time": "2023-05-27T08:35:37.719Z"
   },
   {
    "duration": 16,
    "start_time": "2023-05-27T08:35:44.590Z"
   },
   {
    "duration": 3,
    "start_time": "2023-05-27T08:36:22.409Z"
   },
   {
    "duration": 10,
    "start_time": "2023-05-27T08:36:25.020Z"
   },
   {
    "duration": 21,
    "start_time": "2023-05-27T08:36:37.608Z"
   },
   {
    "duration": 3,
    "start_time": "2023-05-27T08:37:12.604Z"
   },
   {
    "duration": 10,
    "start_time": "2023-05-27T08:37:16.795Z"
   },
   {
    "duration": 16,
    "start_time": "2023-05-27T08:37:19.995Z"
   },
   {
    "duration": 16,
    "start_time": "2023-05-27T08:40:16.502Z"
   },
   {
    "duration": 6,
    "start_time": "2023-05-27T08:40:23.657Z"
   },
   {
    "duration": 59,
    "start_time": "2023-05-27T08:40:23.683Z"
   },
   {
    "duration": 1029,
    "start_time": "2023-05-27T08:40:23.744Z"
   },
   {
    "duration": 10,
    "start_time": "2023-05-27T08:40:24.786Z"
   },
   {
    "duration": 35,
    "start_time": "2023-05-27T08:40:24.799Z"
   },
   {
    "duration": 23,
    "start_time": "2023-05-27T08:40:24.836Z"
   },
   {
    "duration": 25,
    "start_time": "2023-05-27T08:40:24.862Z"
   },
   {
    "duration": 5,
    "start_time": "2023-05-27T08:40:24.894Z"
   },
   {
    "duration": 12,
    "start_time": "2023-05-27T08:40:24.901Z"
   },
   {
    "duration": 5,
    "start_time": "2023-05-27T08:40:24.915Z"
   },
   {
    "duration": 11,
    "start_time": "2023-05-27T08:40:24.923Z"
   },
   {
    "duration": 33,
    "start_time": "2023-05-27T08:40:24.936Z"
   },
   {
    "duration": 5,
    "start_time": "2023-05-27T08:40:24.972Z"
   },
   {
    "duration": 21,
    "start_time": "2023-05-27T08:40:24.983Z"
   },
   {
    "duration": 17,
    "start_time": "2023-05-27T08:40:25.006Z"
   },
   {
    "duration": 7,
    "start_time": "2023-05-27T08:42:51.713Z"
   },
   {
    "duration": 45,
    "start_time": "2023-05-27T08:44:32.042Z"
   },
   {
    "duration": 252,
    "start_time": "2023-05-27T08:46:24.054Z"
   },
   {
    "duration": 297,
    "start_time": "2023-05-27T08:46:51.321Z"
   },
   {
    "duration": 306,
    "start_time": "2023-05-27T08:47:12.894Z"
   },
   {
    "duration": 309,
    "start_time": "2023-05-27T08:47:22.652Z"
   },
   {
    "duration": 22,
    "start_time": "2023-05-27T08:47:49.202Z"
   },
   {
    "duration": 26,
    "start_time": "2023-05-27T08:48:01.602Z"
   },
   {
    "duration": 121,
    "start_time": "2023-05-27T08:48:17.178Z"
   },
   {
    "duration": 143,
    "start_time": "2023-05-27T08:48:25.955Z"
   },
   {
    "duration": 123,
    "start_time": "2023-05-27T08:48:37.402Z"
   },
   {
    "duration": 219,
    "start_time": "2023-05-27T08:50:21.445Z"
   },
   {
    "duration": 1359,
    "start_time": "2023-05-27T08:50:38.988Z"
   },
   {
    "duration": 212,
    "start_time": "2023-05-27T08:50:52.737Z"
   },
   {
    "duration": 436,
    "start_time": "2023-05-27T08:51:47.100Z"
   },
   {
    "duration": 271,
    "start_time": "2023-05-27T08:51:56.723Z"
   },
   {
    "duration": 298,
    "start_time": "2023-05-27T08:52:57.221Z"
   },
   {
    "duration": 319,
    "start_time": "2023-05-27T08:53:36.158Z"
   },
   {
    "duration": 320,
    "start_time": "2023-05-27T08:54:05.315Z"
   },
   {
    "duration": 380,
    "start_time": "2023-05-27T08:54:11.603Z"
   },
   {
    "duration": 308,
    "start_time": "2023-05-27T08:54:53.443Z"
   },
   {
    "duration": 128,
    "start_time": "2023-05-27T08:56:37.303Z"
   },
   {
    "duration": 272,
    "start_time": "2023-05-27T08:56:49.702Z"
   },
   {
    "duration": 309,
    "start_time": "2023-05-27T08:56:56.499Z"
   },
   {
    "duration": 402,
    "start_time": "2023-05-27T08:57:31.105Z"
   },
   {
    "duration": 402,
    "start_time": "2023-05-27T08:58:35.606Z"
   },
   {
    "duration": 709,
    "start_time": "2023-05-27T08:58:47.932Z"
   },
   {
    "duration": 25,
    "start_time": "2023-05-27T08:58:55.392Z"
   },
   {
    "duration": 428,
    "start_time": "2023-05-27T08:59:04.503Z"
   },
   {
    "duration": 1238,
    "start_time": "2023-05-27T09:01:03.986Z"
   },
   {
    "duration": 1262,
    "start_time": "2023-05-27T09:01:31.556Z"
   },
   {
    "duration": 1500,
    "start_time": "2023-05-27T09:02:17.612Z"
   },
   {
    "duration": 1172,
    "start_time": "2023-05-27T09:03:03.412Z"
   },
   {
    "duration": 1994,
    "start_time": "2023-05-27T09:03:25.753Z"
   },
   {
    "duration": 1219,
    "start_time": "2023-05-27T09:04:36.113Z"
   },
   {
    "duration": 1142,
    "start_time": "2023-05-27T09:05:42.592Z"
   },
   {
    "duration": 1806,
    "start_time": "2023-05-27T09:07:07.035Z"
   },
   {
    "duration": 50,
    "start_time": "2023-05-28T08:18:12.846Z"
   },
   {
    "duration": 8,
    "start_time": "2023-05-28T08:18:16.497Z"
   },
   {
    "duration": 406,
    "start_time": "2023-05-28T08:18:18.841Z"
   },
   {
    "duration": 17646,
    "start_time": "2023-05-28T08:18:27.410Z"
   },
   {
    "duration": 10,
    "start_time": "2023-05-28T08:19:52.846Z"
   },
   {
    "duration": 2509,
    "start_time": "2023-05-28T08:19:59.348Z"
   },
   {
    "duration": 3477,
    "start_time": "2023-05-28T08:20:07.093Z"
   },
   {
    "duration": 92987,
    "start_time": "2023-05-28T08:20:12.934Z"
   },
   {
    "duration": 21,
    "start_time": "2023-05-28T08:30:54.397Z"
   },
   {
    "duration": 34889,
    "start_time": "2023-05-28T08:31:09.284Z"
   },
   {
    "duration": 49,
    "start_time": "2023-05-28T08:59:12.709Z"
   },
   {
    "duration": 3396,
    "start_time": "2023-05-28T08:59:21.219Z"
   },
   {
    "duration": 4119,
    "start_time": "2023-05-28T08:59:26.598Z"
   },
   {
    "duration": 51,
    "start_time": "2023-05-28T09:06:12.012Z"
   },
   {
    "duration": 2813,
    "start_time": "2023-05-28T09:06:20.099Z"
   },
   {
    "duration": 3425,
    "start_time": "2023-05-28T09:06:22.915Z"
   },
   {
    "duration": 65,
    "start_time": "2023-05-28T09:06:26.342Z"
   },
   {
    "duration": 4226,
    "start_time": "2023-05-28T09:06:26.408Z"
   },
   {
    "duration": 13,
    "start_time": "2023-05-28T09:06:30.638Z"
   },
   {
    "duration": 8436,
    "start_time": "2023-05-28T09:06:30.654Z"
   },
   {
    "duration": 25,
    "start_time": "2023-05-28T09:06:39.093Z"
   },
   {
    "duration": 28,
    "start_time": "2023-05-28T09:06:39.121Z"
   },
   {
    "duration": 14,
    "start_time": "2023-05-28T09:06:39.151Z"
   },
   {
    "duration": 16,
    "start_time": "2023-05-28T09:06:39.166Z"
   },
   {
    "duration": 9,
    "start_time": "2023-05-28T09:06:39.185Z"
   },
   {
    "duration": 6,
    "start_time": "2023-05-28T09:06:39.196Z"
   },
   {
    "duration": 11,
    "start_time": "2023-05-28T09:06:39.207Z"
   },
   {
    "duration": 12,
    "start_time": "2023-05-28T09:06:39.220Z"
   },
   {
    "duration": 4,
    "start_time": "2023-05-28T09:06:39.234Z"
   },
   {
    "duration": 48,
    "start_time": "2023-05-28T09:06:39.240Z"
   },
   {
    "duration": 34,
    "start_time": "2023-05-28T09:06:39.293Z"
   },
   {
    "duration": 1221,
    "start_time": "2023-05-28T09:06:39.330Z"
   },
   {
    "duration": 1032,
    "start_time": "2023-05-28T09:06:40.552Z"
   },
   {
    "duration": 1218,
    "start_time": "2023-05-28T09:06:41.586Z"
   },
   {
    "duration": 1627,
    "start_time": "2023-05-28T09:07:21.996Z"
   },
   {
    "duration": 25,
    "start_time": "2023-05-28T09:16:09.205Z"
   },
   {
    "duration": 8,
    "start_time": "2023-05-28T09:16:40.196Z"
   },
   {
    "duration": 25,
    "start_time": "2023-05-28T09:17:02.040Z"
   },
   {
    "duration": 1852,
    "start_time": "2023-05-28T09:18:27.380Z"
   },
   {
    "duration": 2773,
    "start_time": "2023-05-28T09:18:44.553Z"
   },
   {
    "duration": 2260,
    "start_time": "2023-05-28T09:18:47.329Z"
   },
   {
    "duration": 38,
    "start_time": "2023-05-28T09:18:49.593Z"
   },
   {
    "duration": 828,
    "start_time": "2023-05-28T09:18:49.632Z"
   },
   {
    "duration": 22,
    "start_time": "2023-05-28T09:18:50.462Z"
   },
   {
    "duration": 2391,
    "start_time": "2023-05-28T09:18:50.490Z"
   },
   {
    "duration": 25,
    "start_time": "2023-05-28T09:18:52.883Z"
   },
   {
    "duration": 20,
    "start_time": "2023-05-28T09:18:52.910Z"
   },
   {
    "duration": 15,
    "start_time": "2023-05-28T09:18:52.932Z"
   },
   {
    "duration": 46,
    "start_time": "2023-05-28T09:18:52.949Z"
   },
   {
    "duration": 7,
    "start_time": "2023-05-28T09:18:52.999Z"
   },
   {
    "duration": 7,
    "start_time": "2023-05-28T09:18:53.008Z"
   },
   {
    "duration": 6,
    "start_time": "2023-05-28T09:18:53.017Z"
   },
   {
    "duration": 11,
    "start_time": "2023-05-28T09:18:53.027Z"
   },
   {
    "duration": 3,
    "start_time": "2023-05-28T09:18:53.040Z"
   },
   {
    "duration": 33,
    "start_time": "2023-05-28T09:18:53.045Z"
   },
   {
    "duration": 24,
    "start_time": "2023-05-28T09:18:53.079Z"
   },
   {
    "duration": 1111,
    "start_time": "2023-05-28T09:18:53.106Z"
   },
   {
    "duration": 1476,
    "start_time": "2023-05-28T09:18:54.220Z"
   },
   {
    "duration": 1142,
    "start_time": "2023-05-28T09:18:55.702Z"
   },
   {
    "duration": 0,
    "start_time": "2023-05-28T09:32:33.497Z"
   },
   {
    "duration": 0,
    "start_time": "2023-05-28T09:32:33.498Z"
   },
   {
    "duration": 0,
    "start_time": "2023-05-28T09:32:33.499Z"
   },
   {
    "duration": 0,
    "start_time": "2023-05-28T09:32:33.500Z"
   },
   {
    "duration": 0,
    "start_time": "2023-05-28T09:32:33.501Z"
   },
   {
    "duration": 0,
    "start_time": "2023-05-28T09:32:33.501Z"
   },
   {
    "duration": 0,
    "start_time": "2023-05-28T09:32:33.502Z"
   },
   {
    "duration": 0,
    "start_time": "2023-05-28T09:32:33.503Z"
   },
   {
    "duration": 0,
    "start_time": "2023-05-28T09:32:33.509Z"
   },
   {
    "duration": 0,
    "start_time": "2023-05-28T09:32:33.510Z"
   },
   {
    "duration": 0,
    "start_time": "2023-05-28T09:32:33.511Z"
   },
   {
    "duration": 0,
    "start_time": "2023-05-28T09:32:33.517Z"
   },
   {
    "duration": 0,
    "start_time": "2023-05-28T09:32:33.521Z"
   },
   {
    "duration": 0,
    "start_time": "2023-05-28T09:32:33.522Z"
   },
   {
    "duration": 0,
    "start_time": "2023-05-28T09:32:33.524Z"
   },
   {
    "duration": 0,
    "start_time": "2023-05-28T09:32:33.526Z"
   },
   {
    "duration": 0,
    "start_time": "2023-05-28T09:32:33.528Z"
   },
   {
    "duration": 0,
    "start_time": "2023-05-28T09:32:33.529Z"
   },
   {
    "duration": 0,
    "start_time": "2023-05-28T09:32:33.531Z"
   },
   {
    "duration": 0,
    "start_time": "2023-05-28T09:32:33.532Z"
   },
   {
    "duration": 3084,
    "start_time": "2023-05-28T09:33:13.471Z"
   },
   {
    "duration": 6,
    "start_time": "2023-05-28T09:33:16.559Z"
   },
   {
    "duration": 66,
    "start_time": "2023-05-28T09:33:16.567Z"
   },
   {
    "duration": 914,
    "start_time": "2023-05-28T09:33:16.635Z"
   },
   {
    "duration": 9,
    "start_time": "2023-05-28T09:33:17.551Z"
   },
   {
    "duration": 72,
    "start_time": "2023-05-28T09:33:17.561Z"
   },
   {
    "duration": 0,
    "start_time": "2023-05-28T09:33:17.635Z"
   },
   {
    "duration": 0,
    "start_time": "2023-05-28T09:33:17.636Z"
   },
   {
    "duration": 0,
    "start_time": "2023-05-28T09:33:17.637Z"
   },
   {
    "duration": 0,
    "start_time": "2023-05-28T09:33:17.638Z"
   },
   {
    "duration": 0,
    "start_time": "2023-05-28T09:33:17.639Z"
   },
   {
    "duration": 0,
    "start_time": "2023-05-28T09:33:17.641Z"
   },
   {
    "duration": 0,
    "start_time": "2023-05-28T09:33:17.643Z"
   },
   {
    "duration": 0,
    "start_time": "2023-05-28T09:33:17.644Z"
   },
   {
    "duration": 0,
    "start_time": "2023-05-28T09:33:17.645Z"
   },
   {
    "duration": 0,
    "start_time": "2023-05-28T09:33:17.647Z"
   },
   {
    "duration": 0,
    "start_time": "2023-05-28T09:33:17.647Z"
   },
   {
    "duration": 0,
    "start_time": "2023-05-28T09:33:17.649Z"
   },
   {
    "duration": 0,
    "start_time": "2023-05-28T09:33:17.649Z"
   },
   {
    "duration": 0,
    "start_time": "2023-05-28T09:33:17.650Z"
   },
   {
    "duration": 50,
    "start_time": "2023-05-28T09:34:41.898Z"
   },
   {
    "duration": 47,
    "start_time": "2023-05-28T09:34:50.390Z"
   },
   {
    "duration": 7096,
    "start_time": "2023-05-28T09:36:04.596Z"
   },
   {
    "duration": 258,
    "start_time": "2023-05-28T09:36:33.007Z"
   },
   {
    "duration": 463,
    "start_time": "2023-05-28T09:37:24.058Z"
   },
   {
    "duration": 3248,
    "start_time": "2023-05-28T09:38:09.713Z"
   },
   {
    "duration": 7,
    "start_time": "2023-05-28T09:38:12.964Z"
   },
   {
    "duration": 51,
    "start_time": "2023-05-28T09:38:21.791Z"
   },
   {
    "duration": 968,
    "start_time": "2023-05-28T09:38:21.844Z"
   },
   {
    "duration": 16,
    "start_time": "2023-05-28T09:38:22.816Z"
   },
   {
    "duration": 22,
    "start_time": "2023-05-28T09:38:22.835Z"
   },
   {
    "duration": 31,
    "start_time": "2023-05-28T09:38:22.860Z"
   },
   {
    "duration": 19,
    "start_time": "2023-05-28T09:38:22.907Z"
   },
   {
    "duration": 10,
    "start_time": "2023-05-28T09:38:22.928Z"
   },
   {
    "duration": 5,
    "start_time": "2023-05-28T09:38:22.941Z"
   },
   {
    "duration": 8,
    "start_time": "2023-05-28T09:38:22.948Z"
   },
   {
    "duration": 14,
    "start_time": "2023-05-28T09:38:22.958Z"
   },
   {
    "duration": 21,
    "start_time": "2023-05-28T09:38:22.975Z"
   },
   {
    "duration": 31,
    "start_time": "2023-05-28T09:38:22.998Z"
   },
   {
    "duration": 38,
    "start_time": "2023-05-28T09:38:23.032Z"
   },
   {
    "duration": 1237,
    "start_time": "2023-05-28T09:38:23.075Z"
   },
   {
    "duration": 1322,
    "start_time": "2023-05-28T09:38:24.313Z"
   },
   {
    "duration": 1330,
    "start_time": "2023-05-28T09:38:25.638Z"
   },
   {
    "duration": 3558,
    "start_time": "2023-05-28T09:51:38.902Z"
   },
   {
    "duration": 58,
    "start_time": "2023-05-30T09:17:07.394Z"
   },
   {
    "duration": 493,
    "start_time": "2023-05-30T09:17:43.486Z"
   },
   {
    "duration": 0,
    "start_time": "2023-05-30T09:17:43.981Z"
   },
   {
    "duration": 0,
    "start_time": "2023-05-30T09:17:43.982Z"
   },
   {
    "duration": 0,
    "start_time": "2023-05-30T09:17:43.984Z"
   },
   {
    "duration": 0,
    "start_time": "2023-05-30T09:17:43.985Z"
   },
   {
    "duration": 0,
    "start_time": "2023-05-30T09:17:43.986Z"
   },
   {
    "duration": 0,
    "start_time": "2023-05-30T09:17:43.987Z"
   },
   {
    "duration": 0,
    "start_time": "2023-05-30T09:17:43.988Z"
   },
   {
    "duration": 0,
    "start_time": "2023-05-30T09:17:43.989Z"
   },
   {
    "duration": 0,
    "start_time": "2023-05-30T09:17:43.990Z"
   },
   {
    "duration": 1157,
    "start_time": "2023-05-30T09:17:59.605Z"
   },
   {
    "duration": 41,
    "start_time": "2023-05-30T09:18:00.764Z"
   },
   {
    "duration": 3464,
    "start_time": "2023-05-30T09:18:00.807Z"
   },
   {
    "duration": 9,
    "start_time": "2023-05-30T09:18:04.273Z"
   },
   {
    "duration": 10,
    "start_time": "2023-05-30T09:18:04.284Z"
   },
   {
    "duration": 6,
    "start_time": "2023-05-30T09:18:04.295Z"
   },
   {
    "duration": 4,
    "start_time": "2023-05-30T09:18:04.302Z"
   },
   {
    "duration": 6,
    "start_time": "2023-05-30T09:18:04.308Z"
   },
   {
    "duration": 26,
    "start_time": "2023-05-30T09:18:04.315Z"
   },
   {
    "duration": 269,
    "start_time": "2023-05-30T09:18:04.343Z"
   },
   {
    "duration": 17,
    "start_time": "2023-05-30T09:18:20.594Z"
   },
   {
    "duration": 16,
    "start_time": "2023-05-30T09:18:33.285Z"
   },
   {
    "duration": 3,
    "start_time": "2023-05-30T09:20:41.872Z"
   },
   {
    "duration": 10,
    "start_time": "2023-05-30T09:20:55.703Z"
   },
   {
    "duration": 7,
    "start_time": "2023-05-30T09:21:08.972Z"
   },
   {
    "duration": 6,
    "start_time": "2023-05-30T09:21:26.288Z"
   },
   {
    "duration": 92,
    "start_time": "2023-05-30T09:21:41.751Z"
   },
   {
    "duration": 697,
    "start_time": "2023-05-30T09:22:39.761Z"
   },
   {
    "duration": 985,
    "start_time": "2023-05-30T09:28:10.968Z"
   },
   {
    "duration": 942,
    "start_time": "2023-05-30T09:28:24.444Z"
   },
   {
    "duration": 858,
    "start_time": "2023-05-30T09:29:11.514Z"
   },
   {
    "duration": 988,
    "start_time": "2023-05-30T09:29:21.223Z"
   },
   {
    "duration": 807,
    "start_time": "2023-05-30T09:29:32.307Z"
   },
   {
    "duration": 1121,
    "start_time": "2023-05-30T09:29:35.011Z"
   },
   {
    "duration": 477,
    "start_time": "2023-05-30T09:36:02.603Z"
   },
   {
    "duration": 477,
    "start_time": "2023-05-30T09:36:47.872Z"
   },
   {
    "duration": 11,
    "start_time": "2023-05-30T09:38:48.269Z"
   },
   {
    "duration": 4,
    "start_time": "2023-05-30T09:39:05.971Z"
   },
   {
    "duration": 6,
    "start_time": "2023-05-30T09:39:10.153Z"
   },
   {
    "duration": 1440,
    "start_time": "2023-05-30T09:44:33.479Z"
   },
   {
    "duration": 40,
    "start_time": "2023-05-30T09:44:34.921Z"
   },
   {
    "duration": 712,
    "start_time": "2023-05-30T09:44:34.963Z"
   },
   {
    "duration": 8,
    "start_time": "2023-05-30T09:44:35.678Z"
   },
   {
    "duration": 8,
    "start_time": "2023-05-30T09:44:35.688Z"
   },
   {
    "duration": 8,
    "start_time": "2023-05-30T09:44:35.698Z"
   },
   {
    "duration": 7,
    "start_time": "2023-05-30T09:44:35.708Z"
   },
   {
    "duration": 15,
    "start_time": "2023-05-30T09:44:35.717Z"
   },
   {
    "duration": 43,
    "start_time": "2023-05-30T09:44:35.735Z"
   },
   {
    "duration": 258,
    "start_time": "2023-05-30T09:44:35.781Z"
   },
   {
    "duration": 14,
    "start_time": "2023-05-30T09:44:36.041Z"
   },
   {
    "duration": 12,
    "start_time": "2023-05-30T09:44:36.057Z"
   },
   {
    "duration": 1708,
    "start_time": "2023-05-30T09:44:36.077Z"
   },
   {
    "duration": 0,
    "start_time": "2023-05-30T09:44:37.787Z"
   },
   {
    "duration": 0,
    "start_time": "2023-05-30T09:44:37.789Z"
   },
   {
    "duration": 0,
    "start_time": "2023-05-30T09:44:37.790Z"
   },
   {
    "duration": 0,
    "start_time": "2023-05-30T09:44:37.792Z"
   },
   {
    "duration": 1598,
    "start_time": "2023-05-30T09:46:15.330Z"
   },
   {
    "duration": 5,
    "start_time": "2023-05-30T09:47:49.286Z"
   },
   {
    "duration": 63,
    "start_time": "2023-05-30T09:47:49.293Z"
   },
   {
    "duration": 698,
    "start_time": "2023-05-30T09:47:49.357Z"
   },
   {
    "duration": 9,
    "start_time": "2023-05-30T09:47:50.057Z"
   },
   {
    "duration": 21,
    "start_time": "2023-05-30T09:47:50.068Z"
   },
   {
    "duration": 18,
    "start_time": "2023-05-30T09:47:50.090Z"
   },
   {
    "duration": 31,
    "start_time": "2023-05-30T09:47:50.110Z"
   },
   {
    "duration": 30,
    "start_time": "2023-05-30T09:47:50.143Z"
   },
   {
    "duration": 104,
    "start_time": "2023-05-30T09:47:50.174Z"
   },
   {
    "duration": 258,
    "start_time": "2023-05-30T09:47:50.280Z"
   },
   {
    "duration": 15,
    "start_time": "2023-05-30T09:47:50.540Z"
   },
   {
    "duration": 809,
    "start_time": "2023-05-30T09:47:50.557Z"
   },
   {
    "duration": 947,
    "start_time": "2023-05-30T09:47:51.368Z"
   },
   {
    "duration": 830,
    "start_time": "2023-05-30T09:47:52.319Z"
   },
   {
    "duration": 483,
    "start_time": "2023-05-30T09:47:53.151Z"
   },
   {
    "duration": 16,
    "start_time": "2023-05-30T09:47:53.636Z"
   },
   {
    "duration": 24,
    "start_time": "2023-05-30T09:47:53.654Z"
   },
   {
    "duration": 1470,
    "start_time": "2023-05-30T09:48:30.754Z"
   },
   {
    "duration": 63,
    "start_time": "2023-05-30T09:48:32.226Z"
   },
   {
    "duration": 694,
    "start_time": "2023-05-30T09:48:32.291Z"
   },
   {
    "duration": 9,
    "start_time": "2023-05-30T09:48:32.987Z"
   },
   {
    "duration": 10,
    "start_time": "2023-05-30T09:48:32.998Z"
   },
   {
    "duration": 8,
    "start_time": "2023-05-30T09:48:33.010Z"
   },
   {
    "duration": 11,
    "start_time": "2023-05-30T09:48:33.019Z"
   },
   {
    "duration": 5,
    "start_time": "2023-05-30T09:48:33.032Z"
   },
   {
    "duration": 43,
    "start_time": "2023-05-30T09:48:33.038Z"
   },
   {
    "duration": 269,
    "start_time": "2023-05-30T09:48:33.084Z"
   },
   {
    "duration": 23,
    "start_time": "2023-05-30T09:48:33.355Z"
   },
   {
    "duration": 933,
    "start_time": "2023-05-30T09:48:33.379Z"
   },
   {
    "duration": 877,
    "start_time": "2023-05-30T09:48:34.314Z"
   },
   {
    "duration": 1027,
    "start_time": "2023-05-30T09:48:35.193Z"
   },
   {
    "duration": 481,
    "start_time": "2023-05-30T09:48:36.222Z"
   },
   {
    "duration": 16,
    "start_time": "2023-05-30T09:48:36.704Z"
   },
   {
    "duration": 5,
    "start_time": "2023-05-30T09:48:36.722Z"
   },
   {
    "duration": 116,
    "start_time": "2023-05-30T09:49:19.063Z"
   },
   {
    "duration": 10,
    "start_time": "2023-05-30T09:49:31.100Z"
   },
   {
    "duration": 110,
    "start_time": "2023-05-30T09:49:43.195Z"
   },
   {
    "duration": 99,
    "start_time": "2023-05-30T09:49:51.361Z"
   },
   {
    "duration": 128,
    "start_time": "2023-05-30T09:50:03.524Z"
   },
   {
    "duration": 651,
    "start_time": "2023-05-30T09:51:15.952Z"
   },
   {
    "duration": 69,
    "start_time": "2023-05-30T09:51:36.897Z"
   },
   {
    "duration": 619,
    "start_time": "2023-05-30T09:51:40.299Z"
   },
   {
    "duration": 8,
    "start_time": "2023-05-30T09:51:49.421Z"
   },
   {
    "duration": 17,
    "start_time": "2023-05-30T09:51:58.700Z"
   },
   {
    "duration": 8,
    "start_time": "2023-05-30T09:52:04.631Z"
   },
   {
    "duration": 4,
    "start_time": "2023-05-30T09:53:41.520Z"
   },
   {
    "duration": 8,
    "start_time": "2023-05-30T10:15:53.622Z"
   },
   {
    "duration": 14,
    "start_time": "2023-05-30T10:16:30.216Z"
   },
   {
    "duration": 8,
    "start_time": "2023-05-30T10:16:32.191Z"
   },
   {
    "duration": 22,
    "start_time": "2023-05-30T10:16:46.125Z"
   },
   {
    "duration": 15,
    "start_time": "2023-05-30T10:17:58.644Z"
   },
   {
    "duration": 327,
    "start_time": "2023-05-30T10:18:26.054Z"
   },
   {
    "duration": 165,
    "start_time": "2023-05-30T10:18:35.219Z"
   },
   {
    "duration": 154,
    "start_time": "2023-05-30T10:18:46.715Z"
   },
   {
    "duration": 83,
    "start_time": "2023-05-30T10:19:16.922Z"
   },
   {
    "duration": 120,
    "start_time": "2023-05-30T10:19:21.852Z"
   },
   {
    "duration": 6,
    "start_time": "2023-05-30T10:19:52.848Z"
   },
   {
    "duration": 10,
    "start_time": "2023-05-30T10:20:04.701Z"
   },
   {
    "duration": 141,
    "start_time": "2023-05-30T10:20:07.121Z"
   },
   {
    "duration": 133,
    "start_time": "2023-05-30T10:20:14.572Z"
   },
   {
    "duration": 16,
    "start_time": "2023-05-30T10:20:20.938Z"
   },
   {
    "duration": 506,
    "start_time": "2023-05-30T10:20:46.417Z"
   },
   {
    "duration": 7,
    "start_time": "2023-05-30T11:18:27.994Z"
   },
   {
    "duration": 5,
    "start_time": "2023-05-30T11:19:23.570Z"
   },
   {
    "duration": 22,
    "start_time": "2023-05-30T11:22:43.773Z"
   },
   {
    "duration": 18,
    "start_time": "2023-05-30T11:22:52.288Z"
   },
   {
    "duration": 1729,
    "start_time": "2023-05-30T11:23:55.253Z"
   },
   {
    "duration": 41,
    "start_time": "2023-05-30T11:23:56.984Z"
   },
   {
    "duration": 697,
    "start_time": "2023-05-30T11:23:57.027Z"
   },
   {
    "duration": 10,
    "start_time": "2023-05-30T11:23:57.726Z"
   },
   {
    "duration": 7,
    "start_time": "2023-05-30T11:23:57.738Z"
   },
   {
    "duration": 33,
    "start_time": "2023-05-30T11:23:57.747Z"
   },
   {
    "duration": 5,
    "start_time": "2023-05-30T11:23:57.782Z"
   },
   {
    "duration": 9,
    "start_time": "2023-05-30T11:23:57.790Z"
   },
   {
    "duration": 24,
    "start_time": "2023-05-30T11:23:57.801Z"
   },
   {
    "duration": 313,
    "start_time": "2023-05-30T11:23:57.827Z"
   },
   {
    "duration": 20,
    "start_time": "2023-05-30T11:23:58.142Z"
   },
   {
    "duration": 16,
    "start_time": "2023-05-30T11:23:58.164Z"
   },
   {
    "duration": 840,
    "start_time": "2023-05-30T11:23:58.182Z"
   },
   {
    "duration": 956,
    "start_time": "2023-05-30T11:23:59.025Z"
   },
   {
    "duration": 866,
    "start_time": "2023-05-30T11:23:59.983Z"
   },
   {
    "duration": 483,
    "start_time": "2023-05-30T11:24:00.851Z"
   },
   {
    "duration": 17,
    "start_time": "2023-05-30T11:24:01.336Z"
   },
   {
    "duration": 284,
    "start_time": "2023-05-30T11:24:01.355Z"
   },
   {
    "duration": 4,
    "start_time": "2023-05-30T11:24:01.641Z"
   },
   {
    "duration": 50,
    "start_time": "2023-05-30T11:24:01.646Z"
   },
   {
    "duration": 30,
    "start_time": "2023-05-30T11:24:01.698Z"
   },
   {
    "duration": 38,
    "start_time": "2023-05-30T11:24:01.730Z"
   },
   {
    "duration": 151,
    "start_time": "2023-05-30T11:24:01.770Z"
   },
   {
    "duration": 144,
    "start_time": "2023-05-30T11:24:01.923Z"
   },
   {
    "duration": 487,
    "start_time": "2023-05-30T11:24:02.069Z"
   },
   {
    "duration": 6,
    "start_time": "2023-05-30T11:24:02.558Z"
   },
   {
    "duration": 40,
    "start_time": "2023-05-30T11:24:02.565Z"
   },
   {
    "duration": 8,
    "start_time": "2023-05-30T11:34:48.705Z"
   },
   {
    "duration": 7,
    "start_time": "2023-05-30T11:34:50.285Z"
   },
   {
    "duration": 3,
    "start_time": "2023-05-30T11:37:35.363Z"
   },
   {
    "duration": 135,
    "start_time": "2023-05-30T11:39:02.075Z"
   },
   {
    "duration": 7,
    "start_time": "2023-05-30T11:39:05.154Z"
   },
   {
    "duration": 8,
    "start_time": "2023-05-30T11:39:44.275Z"
   },
   {
    "duration": 15,
    "start_time": "2023-05-30T11:39:50.683Z"
   },
   {
    "duration": 477,
    "start_time": "2023-05-30T11:40:06.792Z"
   },
   {
    "duration": 6,
    "start_time": "2023-05-30T11:41:08.903Z"
   },
   {
    "duration": 6,
    "start_time": "2023-05-30T11:41:24.288Z"
   },
   {
    "duration": 14,
    "start_time": "2023-05-30T11:43:54.611Z"
   },
   {
    "duration": 1310,
    "start_time": "2023-05-30T11:46:20.794Z"
   },
   {
    "duration": 1687,
    "start_time": "2023-05-30T11:46:42.263Z"
   },
   {
    "duration": 42,
    "start_time": "2023-05-30T11:46:43.952Z"
   },
   {
    "duration": 681,
    "start_time": "2023-05-30T11:46:43.997Z"
   },
   {
    "duration": 8,
    "start_time": "2023-05-30T11:46:44.680Z"
   },
   {
    "duration": 5,
    "start_time": "2023-05-30T11:46:44.690Z"
   },
   {
    "duration": 7,
    "start_time": "2023-05-30T11:46:44.697Z"
   },
   {
    "duration": 9,
    "start_time": "2023-05-30T11:46:44.706Z"
   },
   {
    "duration": 6,
    "start_time": "2023-05-30T11:46:44.716Z"
   },
   {
    "duration": 22,
    "start_time": "2023-05-30T11:46:44.724Z"
   },
   {
    "duration": 304,
    "start_time": "2023-05-30T11:46:44.747Z"
   },
   {
    "duration": 25,
    "start_time": "2023-05-30T11:46:45.053Z"
   },
   {
    "duration": 6,
    "start_time": "2023-05-30T11:46:45.080Z"
   },
   {
    "duration": 940,
    "start_time": "2023-05-30T11:46:45.088Z"
   },
   {
    "duration": 1017,
    "start_time": "2023-05-30T11:46:46.031Z"
   },
   {
    "duration": 905,
    "start_time": "2023-05-30T11:46:47.050Z"
   },
   {
    "duration": 501,
    "start_time": "2023-05-30T11:46:47.957Z"
   },
   {
    "duration": 24,
    "start_time": "2023-05-30T11:46:48.459Z"
   },
   {
    "duration": 1188,
    "start_time": "2023-05-30T11:46:48.484Z"
   },
   {
    "duration": 6,
    "start_time": "2023-05-30T11:46:49.677Z"
   },
   {
    "duration": 1406,
    "start_time": "2023-05-30T11:48:57.221Z"
   },
   {
    "duration": 1669,
    "start_time": "2023-05-30T11:49:28.257Z"
   },
   {
    "duration": 41,
    "start_time": "2023-05-30T11:49:29.928Z"
   },
   {
    "duration": 716,
    "start_time": "2023-05-30T11:49:29.971Z"
   },
   {
    "duration": 8,
    "start_time": "2023-05-30T11:49:30.689Z"
   },
   {
    "duration": 34,
    "start_time": "2023-05-30T11:49:30.699Z"
   },
   {
    "duration": 37,
    "start_time": "2023-05-30T11:49:30.734Z"
   },
   {
    "duration": 32,
    "start_time": "2023-05-30T11:49:30.773Z"
   },
   {
    "duration": 35,
    "start_time": "2023-05-30T11:49:30.807Z"
   },
   {
    "duration": 48,
    "start_time": "2023-05-30T11:49:30.843Z"
   },
   {
    "duration": 285,
    "start_time": "2023-05-30T11:49:30.893Z"
   },
   {
    "duration": 16,
    "start_time": "2023-05-30T11:49:31.179Z"
   },
   {
    "duration": 35,
    "start_time": "2023-05-30T11:49:31.197Z"
   },
   {
    "duration": 944,
    "start_time": "2023-05-30T11:49:31.234Z"
   },
   {
    "duration": 961,
    "start_time": "2023-05-30T11:49:32.181Z"
   },
   {
    "duration": 797,
    "start_time": "2023-05-30T11:49:33.143Z"
   },
   {
    "duration": 497,
    "start_time": "2023-05-30T11:49:33.942Z"
   },
   {
    "duration": 17,
    "start_time": "2023-05-30T11:49:34.441Z"
   },
   {
    "duration": 1775,
    "start_time": "2023-05-30T11:49:34.460Z"
   },
   {
    "duration": 811,
    "start_time": "2023-05-30T11:50:20.383Z"
   },
   {
    "duration": 6,
    "start_time": "2023-05-30T12:00:16.462Z"
   },
   {
    "duration": 5,
    "start_time": "2023-05-30T12:02:30.284Z"
   },
   {
    "duration": 1542,
    "start_time": "2023-05-30T12:18:58.459Z"
   },
   {
    "duration": 1752,
    "start_time": "2023-05-30T12:20:15.458Z"
   },
   {
    "duration": 42,
    "start_time": "2023-05-30T12:20:17.212Z"
   },
   {
    "duration": 769,
    "start_time": "2023-05-30T12:20:17.255Z"
   },
   {
    "duration": 9,
    "start_time": "2023-05-30T12:20:18.026Z"
   },
   {
    "duration": 6,
    "start_time": "2023-05-30T12:20:18.037Z"
   },
   {
    "duration": 15,
    "start_time": "2023-05-30T12:20:18.045Z"
   },
   {
    "duration": 19,
    "start_time": "2023-05-30T12:20:18.062Z"
   },
   {
    "duration": 5,
    "start_time": "2023-05-30T12:20:18.083Z"
   },
   {
    "duration": 25,
    "start_time": "2023-05-30T12:20:18.091Z"
   },
   {
    "duration": 304,
    "start_time": "2023-05-30T12:20:18.118Z"
   },
   {
    "duration": 15,
    "start_time": "2023-05-30T12:20:18.424Z"
   },
   {
    "duration": 7,
    "start_time": "2023-05-30T12:20:18.441Z"
   },
   {
    "duration": 878,
    "start_time": "2023-05-30T12:20:18.449Z"
   },
   {
    "duration": 987,
    "start_time": "2023-05-30T12:20:19.329Z"
   },
   {
    "duration": 821,
    "start_time": "2023-05-30T12:20:20.318Z"
   },
   {
    "duration": 495,
    "start_time": "2023-05-30T12:20:21.141Z"
   },
   {
    "duration": 18,
    "start_time": "2023-05-30T12:20:21.638Z"
   },
   {
    "duration": 941,
    "start_time": "2023-05-30T12:20:21.658Z"
   },
   {
    "duration": 6,
    "start_time": "2023-05-30T12:20:22.601Z"
   },
   {
    "duration": 1695,
    "start_time": "2023-05-30T12:20:22.609Z"
   },
   {
    "duration": 0,
    "start_time": "2023-05-30T12:20:24.306Z"
   },
   {
    "duration": 21,
    "start_time": "2023-05-30T12:21:44.882Z"
   },
   {
    "duration": 13,
    "start_time": "2023-05-30T12:22:07.970Z"
   },
   {
    "duration": 1720,
    "start_time": "2023-05-30T12:23:09.968Z"
   },
   {
    "duration": 41,
    "start_time": "2023-05-30T12:23:11.690Z"
   },
   {
    "duration": 716,
    "start_time": "2023-05-30T12:23:11.733Z"
   },
   {
    "duration": 8,
    "start_time": "2023-05-30T12:23:12.451Z"
   },
   {
    "duration": 6,
    "start_time": "2023-05-30T12:23:12.461Z"
   },
   {
    "duration": 7,
    "start_time": "2023-05-30T12:23:12.478Z"
   },
   {
    "duration": 7,
    "start_time": "2023-05-30T12:23:12.486Z"
   },
   {
    "duration": 7,
    "start_time": "2023-05-30T12:23:12.494Z"
   },
   {
    "duration": 24,
    "start_time": "2023-05-30T12:23:12.502Z"
   },
   {
    "duration": 301,
    "start_time": "2023-05-30T12:23:12.527Z"
   },
   {
    "duration": 16,
    "start_time": "2023-05-30T12:23:12.830Z"
   },
   {
    "duration": 7,
    "start_time": "2023-05-30T12:23:12.848Z"
   },
   {
    "duration": 847,
    "start_time": "2023-05-30T12:23:12.857Z"
   },
   {
    "duration": 909,
    "start_time": "2023-05-30T12:23:13.706Z"
   },
   {
    "duration": 821,
    "start_time": "2023-05-30T12:23:14.617Z"
   },
   {
    "duration": 559,
    "start_time": "2023-05-30T12:23:15.440Z"
   },
   {
    "duration": 18,
    "start_time": "2023-05-30T12:23:16.001Z"
   },
   {
    "duration": 1047,
    "start_time": "2023-05-30T12:23:16.021Z"
   },
   {
    "duration": 6,
    "start_time": "2023-05-30T12:23:17.078Z"
   },
   {
    "duration": 36,
    "start_time": "2023-05-30T12:23:17.086Z"
   },
   {
    "duration": 11,
    "start_time": "2023-05-30T12:23:17.123Z"
   },
   {
    "duration": 7,
    "start_time": "2023-05-30T12:23:25.574Z"
   },
   {
    "duration": 2079,
    "start_time": "2023-05-30T12:23:54.180Z"
   },
   {
    "duration": 1664,
    "start_time": "2023-05-30T12:24:05.767Z"
   },
   {
    "duration": 46,
    "start_time": "2023-05-30T12:24:07.433Z"
   },
   {
    "duration": 755,
    "start_time": "2023-05-30T12:24:07.480Z"
   },
   {
    "duration": 8,
    "start_time": "2023-05-30T12:24:08.237Z"
   },
   {
    "duration": 27,
    "start_time": "2023-05-30T12:24:08.246Z"
   },
   {
    "duration": 22,
    "start_time": "2023-05-30T12:24:08.275Z"
   },
   {
    "duration": 11,
    "start_time": "2023-05-30T12:24:08.299Z"
   },
   {
    "duration": 13,
    "start_time": "2023-05-30T12:24:08.311Z"
   },
   {
    "duration": 29,
    "start_time": "2023-05-30T12:24:08.326Z"
   },
   {
    "duration": 252,
    "start_time": "2023-05-30T12:24:08.357Z"
   },
   {
    "duration": 16,
    "start_time": "2023-05-30T12:24:08.611Z"
   },
   {
    "duration": 19,
    "start_time": "2023-05-30T12:24:08.628Z"
   },
   {
    "duration": 819,
    "start_time": "2023-05-30T12:24:08.649Z"
   },
   {
    "duration": 951,
    "start_time": "2023-05-30T12:24:09.478Z"
   },
   {
    "duration": 836,
    "start_time": "2023-05-30T12:24:10.431Z"
   },
   {
    "duration": 522,
    "start_time": "2023-05-30T12:24:11.269Z"
   },
   {
    "duration": 17,
    "start_time": "2023-05-30T12:24:11.793Z"
   },
   {
    "duration": 959,
    "start_time": "2023-05-30T12:24:11.811Z"
   },
   {
    "duration": 12,
    "start_time": "2023-05-30T12:24:12.772Z"
   },
   {
    "duration": 11,
    "start_time": "2023-05-30T12:24:12.786Z"
   },
   {
    "duration": 34,
    "start_time": "2023-05-30T12:24:12.798Z"
   },
   {
    "duration": 17,
    "start_time": "2023-05-30T12:24:12.834Z"
   },
   {
    "duration": 126,
    "start_time": "2023-05-30T12:26:08.988Z"
   },
   {
    "duration": 13,
    "start_time": "2023-05-30T12:26:33.652Z"
   },
   {
    "duration": 14,
    "start_time": "2023-05-30T12:26:49.257Z"
   },
   {
    "duration": 42229,
    "start_time": "2023-05-30T12:27:52.679Z"
   },
   {
    "duration": 12,
    "start_time": "2023-05-30T12:36:30.358Z"
   },
   {
    "duration": 5,
    "start_time": "2023-05-30T12:36:54.826Z"
   },
   {
    "duration": 3,
    "start_time": "2023-05-30T12:37:00.364Z"
   },
   {
    "duration": 0,
    "start_time": "2023-05-30T12:37:37.005Z"
   },
   {
    "duration": 9213000,
    "start_time": "2023-05-30T12:37:38.992Z"
   },
   {
    "duration": 9416063,
    "start_time": "2023-05-30T15:48:12.119Z"
   },
   {
    "duration": 11,
    "start_time": "2023-05-30T18:32:45.039Z"
   },
   {
    "duration": 4,
    "start_time": "2023-05-30T18:35:54.125Z"
   },
   {
    "duration": 19,
    "start_time": "2023-05-30T18:36:05.162Z"
   },
   {
    "duration": 14,
    "start_time": "2023-05-30T18:36:07.519Z"
   },
   {
    "duration": 11,
    "start_time": "2023-05-30T18:36:17.416Z"
   },
   {
    "duration": 5825,
    "start_time": "2023-05-30T18:36:33.823Z"
   },
   {
    "duration": 13,
    "start_time": "2023-05-30T18:36:45.802Z"
   },
   {
    "duration": 12927,
    "start_time": "2023-05-30T18:36:51.597Z"
   },
   {
    "duration": 78,
    "start_time": "2023-05-30T18:37:06.876Z"
   },
   {
    "duration": 108,
    "start_time": "2023-05-30T18:37:09.465Z"
   },
   {
    "duration": 107,
    "start_time": "2023-05-30T18:37:14.635Z"
   },
   {
    "duration": 72,
    "start_time": "2023-05-30T18:37:18.283Z"
   },
   {
    "duration": 16594,
    "start_time": "2023-05-30T18:39:14.770Z"
   },
   {
    "duration": 957,
    "start_time": "2023-05-30T18:39:31.374Z"
   },
   {
    "duration": 33886,
    "start_time": "2023-05-30T18:39:37.250Z"
   },
   {
    "duration": 29512,
    "start_time": "2023-05-30T18:40:50.101Z"
   },
   {
    "duration": 56444,
    "start_time": "2023-05-30T18:41:19.615Z"
   },
   {
    "duration": 4,
    "start_time": "2023-05-30T18:45:58.250Z"
   },
   {
    "duration": 40,
    "start_time": "2023-05-30T18:45:58.255Z"
   },
   {
    "duration": 658,
    "start_time": "2023-05-30T18:45:58.296Z"
   },
   {
    "duration": 7,
    "start_time": "2023-05-30T18:45:58.956Z"
   },
   {
    "duration": 18,
    "start_time": "2023-05-30T18:45:58.965Z"
   },
   {
    "duration": 19,
    "start_time": "2023-05-30T18:45:58.985Z"
   },
   {
    "duration": 16,
    "start_time": "2023-05-30T18:45:59.006Z"
   },
   {
    "duration": 29,
    "start_time": "2023-05-30T18:45:59.024Z"
   },
   {
    "duration": 26,
    "start_time": "2023-05-30T18:45:59.055Z"
   },
   {
    "duration": 246,
    "start_time": "2023-05-30T18:45:59.083Z"
   },
   {
    "duration": 14,
    "start_time": "2023-05-30T18:45:59.330Z"
   },
   {
    "duration": 818,
    "start_time": "2023-05-30T18:45:59.346Z"
   },
   {
    "duration": 805,
    "start_time": "2023-05-30T18:46:00.166Z"
   },
   {
    "duration": 2328,
    "start_time": "2023-05-30T18:46:00.973Z"
   },
   {
    "duration": 528,
    "start_time": "2023-05-30T18:46:03.303Z"
   },
   {
    "duration": 14,
    "start_time": "2023-05-30T18:46:03.833Z"
   },
   {
    "duration": 862,
    "start_time": "2023-05-30T18:46:03.849Z"
   },
   {
    "duration": 8,
    "start_time": "2023-05-30T18:46:04.713Z"
   },
   {
    "duration": 43,
    "start_time": "2023-05-30T18:46:04.722Z"
   },
   {
    "duration": 37,
    "start_time": "2023-05-30T18:46:04.767Z"
   },
   {
    "duration": 25,
    "start_time": "2023-05-30T18:46:04.806Z"
   },
   {
    "duration": 31,
    "start_time": "2023-05-30T18:46:04.833Z"
   },
   {
    "duration": 5780,
    "start_time": "2023-05-30T18:46:04.866Z"
   },
   {
    "duration": 12975,
    "start_time": "2023-05-30T18:46:10.648Z"
   },
   {
    "duration": 77,
    "start_time": "2023-05-30T18:46:23.626Z"
   },
   {
    "duration": 107,
    "start_time": "2023-05-30T18:46:23.705Z"
   },
   {
    "duration": 75,
    "start_time": "2023-05-30T18:46:23.814Z"
   },
   {
    "duration": 54,
    "start_time": "2023-05-31T06:23:13.822Z"
   },
   {
    "duration": 486,
    "start_time": "2023-05-31T12:25:07.394Z"
   },
   {
    "duration": 8,
    "start_time": "2023-05-31T12:25:14.548Z"
   },
   {
    "duration": 1425,
    "start_time": "2023-05-31T12:25:23.445Z"
   },
   {
    "duration": 95,
    "start_time": "2023-05-31T12:39:15.151Z"
   },
   {
    "duration": 10,
    "start_time": "2023-05-31T12:39:25.814Z"
   },
   {
    "duration": 16704,
    "start_time": "2023-05-31T12:40:05.771Z"
   },
   {
    "duration": 4,
    "start_time": "2023-05-31T12:40:22.478Z"
   },
   {
    "duration": 151,
    "start_time": "2023-05-31T12:40:22.484Z"
   },
   {
    "duration": 2347,
    "start_time": "2023-05-31T12:40:22.638Z"
   },
   {
    "duration": 12,
    "start_time": "2023-05-31T12:40:24.987Z"
   },
   {
    "duration": 64,
    "start_time": "2023-05-31T12:40:25.001Z"
   },
   {
    "duration": 39,
    "start_time": "2023-05-31T12:40:25.068Z"
   },
   {
    "duration": 30,
    "start_time": "2023-05-31T12:40:25.109Z"
   },
   {
    "duration": 42,
    "start_time": "2023-05-31T12:40:25.141Z"
   },
   {
    "duration": 48,
    "start_time": "2023-05-31T12:40:25.186Z"
   },
   {
    "duration": 312,
    "start_time": "2023-05-31T12:40:25.236Z"
   },
   {
    "duration": 17,
    "start_time": "2023-05-31T12:40:25.550Z"
   },
   {
    "duration": 945,
    "start_time": "2023-05-31T12:40:25.570Z"
   },
   {
    "duration": 1023,
    "start_time": "2023-05-31T12:40:26.525Z"
   },
   {
    "duration": 942,
    "start_time": "2023-05-31T12:40:27.550Z"
   },
   {
    "duration": 541,
    "start_time": "2023-05-31T12:40:28.494Z"
   },
   {
    "duration": 17,
    "start_time": "2023-05-31T12:40:29.037Z"
   },
   {
    "duration": 992,
    "start_time": "2023-05-31T12:40:29.056Z"
   },
   {
    "duration": 8,
    "start_time": "2023-05-31T12:40:30.050Z"
   },
   {
    "duration": 73,
    "start_time": "2023-05-31T12:40:30.060Z"
   },
   {
    "duration": 35,
    "start_time": "2023-05-31T12:40:30.134Z"
   },
   {
    "duration": 31,
    "start_time": "2023-05-31T12:40:30.170Z"
   },
   {
    "duration": 50,
    "start_time": "2023-05-31T12:40:30.203Z"
   },
   {
    "duration": 7018,
    "start_time": "2023-05-31T12:40:30.255Z"
   },
   {
    "duration": 15698,
    "start_time": "2023-05-31T12:40:37.275Z"
   },
   {
    "duration": 108,
    "start_time": "2023-05-31T12:40:52.975Z"
   },
   {
    "duration": 124,
    "start_time": "2023-05-31T12:40:53.084Z"
   },
   {
    "duration": 84,
    "start_time": "2023-05-31T12:40:53.211Z"
   },
   {
    "duration": 33,
    "start_time": "2023-05-31T12:40:53.297Z"
   },
   {
    "duration": 6,
    "start_time": "2023-05-31T12:41:06.198Z"
   },
   {
    "duration": 11,
    "start_time": "2023-05-31T12:42:09.938Z"
   },
   {
    "duration": 36,
    "start_time": "2023-05-31T12:42:29.008Z"
   },
   {
    "duration": 39,
    "start_time": "2023-05-31T12:43:40.150Z"
   },
   {
    "duration": 74,
    "start_time": "2023-05-31T12:48:09.473Z"
   },
   {
    "duration": 155,
    "start_time": "2023-05-31T12:50:20.554Z"
   },
   {
    "duration": 137,
    "start_time": "2023-05-31T12:50:30.638Z"
   },
   {
    "duration": 272,
    "start_time": "2023-05-31T12:50:45.591Z"
   },
   {
    "duration": 366,
    "start_time": "2023-05-31T12:50:54.394Z"
   },
   {
    "duration": 273,
    "start_time": "2023-05-31T12:51:34.353Z"
   },
   {
    "duration": 9,
    "start_time": "2023-05-31T12:51:54.777Z"
   },
   {
    "duration": 11,
    "start_time": "2023-05-31T12:51:58.583Z"
   },
   {
    "duration": 12,
    "start_time": "2023-05-31T12:52:26.572Z"
   },
   {
    "duration": 6,
    "start_time": "2023-05-31T12:52:48.469Z"
   },
   {
    "duration": 12,
    "start_time": "2023-05-31T12:53:23.043Z"
   },
   {
    "duration": 12,
    "start_time": "2023-05-31T12:53:27.643Z"
   },
   {
    "duration": 97,
    "start_time": "2023-05-31T12:54:04.980Z"
   },
   {
    "duration": 90,
    "start_time": "2023-05-31T12:54:17.296Z"
   },
   {
    "duration": 95,
    "start_time": "2023-05-31T12:54:26.343Z"
   },
   {
    "duration": 290,
    "start_time": "2023-05-31T12:54:32.207Z"
   },
   {
    "duration": 98,
    "start_time": "2023-05-31T12:54:45.661Z"
   },
   {
    "duration": 8,
    "start_time": "2023-05-31T13:07:10.884Z"
   },
   {
    "duration": 6,
    "start_time": "2023-05-31T13:07:31.358Z"
   },
   {
    "duration": 5,
    "start_time": "2023-05-31T13:08:01.402Z"
   },
   {
    "duration": 5,
    "start_time": "2023-05-31T13:08:09.702Z"
   },
   {
    "duration": 6,
    "start_time": "2023-05-31T13:08:20.642Z"
   },
   {
    "duration": 3,
    "start_time": "2023-05-31T14:41:46.372Z"
   },
   {
    "duration": 4,
    "start_time": "2023-05-31T15:27:53.589Z"
   },
   {
    "duration": 56,
    "start_time": "2023-05-31T15:27:53.595Z"
   },
   {
    "duration": 889,
    "start_time": "2023-05-31T15:27:53.701Z"
   },
   {
    "duration": 9,
    "start_time": "2023-05-31T15:27:54.592Z"
   },
   {
    "duration": 50,
    "start_time": "2023-05-31T15:27:54.603Z"
   },
   {
    "duration": 60,
    "start_time": "2023-05-31T15:27:54.655Z"
   },
   {
    "duration": 53,
    "start_time": "2023-05-31T15:27:54.717Z"
   },
   {
    "duration": 35,
    "start_time": "2023-05-31T15:27:54.772Z"
   },
   {
    "duration": 77,
    "start_time": "2023-05-31T15:27:54.809Z"
   },
   {
    "duration": 68,
    "start_time": "2023-05-31T15:27:54.888Z"
   },
   {
    "duration": 317,
    "start_time": "2023-05-31T15:27:54.958Z"
   },
   {
    "duration": 14,
    "start_time": "2023-05-31T15:27:55.277Z"
   },
   {
    "duration": 968,
    "start_time": "2023-05-31T15:27:55.293Z"
   },
   {
    "duration": 807,
    "start_time": "2023-05-31T15:27:56.263Z"
   },
   {
    "duration": 953,
    "start_time": "2023-05-31T15:27:57.071Z"
   },
   {
    "duration": 468,
    "start_time": "2023-05-31T15:27:58.027Z"
   },
   {
    "duration": 16,
    "start_time": "2023-05-31T15:27:58.497Z"
   },
   {
    "duration": 979,
    "start_time": "2023-05-31T15:27:58.524Z"
   },
   {
    "duration": 4,
    "start_time": "2023-05-31T15:27:59.505Z"
   },
   {
    "duration": 107,
    "start_time": "2023-05-31T15:27:59.511Z"
   },
   {
    "duration": 7,
    "start_time": "2023-05-31T15:27:59.624Z"
   },
   {
    "duration": 41,
    "start_time": "2023-05-31T15:27:59.633Z"
   },
   {
    "duration": 32,
    "start_time": "2023-05-31T15:27:59.675Z"
   },
   {
    "duration": 25,
    "start_time": "2023-05-31T15:27:59.708Z"
   },
   {
    "duration": 47,
    "start_time": "2023-05-31T15:27:59.734Z"
   },
   {
    "duration": 6179,
    "start_time": "2023-05-31T15:27:59.783Z"
   },
   {
    "duration": 13639,
    "start_time": "2023-05-31T15:28:05.964Z"
   },
   {
    "duration": 84,
    "start_time": "2023-05-31T15:28:19.605Z"
   },
   {
    "duration": 113,
    "start_time": "2023-05-31T15:28:19.691Z"
   },
   {
    "duration": 70,
    "start_time": "2023-05-31T15:28:19.806Z"
   },
   {
    "duration": 47,
    "start_time": "2023-05-31T15:28:19.878Z"
   },
   {
    "duration": 35,
    "start_time": "2023-05-31T15:28:19.927Z"
   },
   {
    "duration": 80,
    "start_time": "2023-05-31T15:28:19.964Z"
   },
   {
    "duration": 5,
    "start_time": "2023-05-31T15:29:57.941Z"
   },
   {
    "duration": 5,
    "start_time": "2023-05-31T15:30:18.529Z"
   },
   {
    "duration": 4,
    "start_time": "2023-05-31T15:30:30.471Z"
   },
   {
    "duration": 7,
    "start_time": "2023-05-31T15:30:47.841Z"
   },
   {
    "duration": 4,
    "start_time": "2023-05-31T15:30:57.648Z"
   },
   {
    "duration": 10,
    "start_time": "2023-05-31T15:32:28.081Z"
   },
   {
    "duration": 51,
    "start_time": "2023-05-31T15:32:37.873Z"
   },
   {
    "duration": 6,
    "start_time": "2023-05-31T15:32:42.775Z"
   },
   {
    "duration": 6,
    "start_time": "2023-05-31T15:32:49.039Z"
   },
   {
    "duration": 11,
    "start_time": "2023-05-31T15:32:54.637Z"
   },
   {
    "duration": 11,
    "start_time": "2023-05-31T15:33:03.497Z"
   },
   {
    "duration": 10,
    "start_time": "2023-05-31T15:33:23.337Z"
   },
   {
    "duration": 4,
    "start_time": "2023-05-31T15:33:31.189Z"
   },
   {
    "duration": 4,
    "start_time": "2023-05-31T15:33:43.842Z"
   },
   {
    "duration": 6,
    "start_time": "2023-05-31T15:34:08.629Z"
   },
   {
    "duration": 13,
    "start_time": "2023-05-31T15:34:28.617Z"
   },
   {
    "duration": 5,
    "start_time": "2023-05-31T15:34:40.950Z"
   },
   {
    "duration": 9,
    "start_time": "2023-05-31T15:34:47.604Z"
   },
   {
    "duration": 5,
    "start_time": "2023-05-31T15:34:49.891Z"
   },
   {
    "duration": 5,
    "start_time": "2023-05-31T15:35:30.168Z"
   },
   {
    "duration": 5,
    "start_time": "2023-05-31T15:35:46.093Z"
   },
   {
    "duration": 6,
    "start_time": "2023-05-31T15:36:23.737Z"
   },
   {
    "duration": 7,
    "start_time": "2023-05-31T15:36:33.648Z"
   },
   {
    "duration": 7,
    "start_time": "2023-05-31T15:37:58.370Z"
   },
   {
    "duration": 952,
    "start_time": "2023-05-31T15:38:28.249Z"
   },
   {
    "duration": 10,
    "start_time": "2023-05-31T15:39:13.347Z"
   },
   {
    "duration": 8,
    "start_time": "2023-05-31T15:39:17.170Z"
   },
   {
    "duration": 8,
    "start_time": "2023-05-31T15:39:21.545Z"
   },
   {
    "duration": 8,
    "start_time": "2023-05-31T15:39:25.102Z"
   },
   {
    "duration": 8,
    "start_time": "2023-05-31T15:39:28.725Z"
   },
   {
    "duration": 12,
    "start_time": "2023-05-31T15:39:34.680Z"
   },
   {
    "duration": 7,
    "start_time": "2023-05-31T15:41:49.279Z"
   },
   {
    "duration": 7,
    "start_time": "2023-05-31T15:41:56.016Z"
   },
   {
    "duration": 8,
    "start_time": "2023-05-31T15:42:29.492Z"
   },
   {
    "duration": 32,
    "start_time": "2023-05-31T15:42:35.966Z"
   },
   {
    "duration": 800,
    "start_time": "2023-05-31T15:43:11.994Z"
   },
   {
    "duration": 955,
    "start_time": "2023-05-31T15:44:55.505Z"
   },
   {
    "duration": 5,
    "start_time": "2023-05-31T15:45:10.705Z"
   },
   {
    "duration": 787,
    "start_time": "2023-05-31T15:45:19.469Z"
   },
   {
    "duration": 7,
    "start_time": "2023-05-31T15:45:23.452Z"
   },
   {
    "duration": 910,
    "start_time": "2023-05-31T15:48:03.301Z"
   },
   {
    "duration": 6,
    "start_time": "2023-05-31T15:48:07.051Z"
   },
   {
    "duration": 94,
    "start_time": "2023-05-31T15:48:14.349Z"
   },
   {
    "duration": 779,
    "start_time": "2023-05-31T15:48:37.574Z"
   },
   {
    "duration": 486,
    "start_time": "2023-05-31T15:48:40.871Z"
   },
   {
    "duration": 50,
    "start_time": "2023-05-31T15:48:53.704Z"
   },
   {
    "duration": 866,
    "start_time": "2023-05-31T17:15:25.654Z"
   },
   {
    "duration": 825,
    "start_time": "2023-05-31T17:17:11.516Z"
   },
   {
    "duration": 5,
    "start_time": "2023-05-31T17:17:15.114Z"
   },
   {
    "duration": 641,
    "start_time": "2023-05-31T17:18:20.705Z"
   },
   {
    "duration": 790,
    "start_time": "2023-05-31T17:18:37.754Z"
   },
   {
    "duration": 936,
    "start_time": "2023-05-31T17:18:51.988Z"
   },
   {
    "duration": 784,
    "start_time": "2023-05-31T17:18:56.040Z"
   },
   {
    "duration": 13,
    "start_time": "2023-05-31T17:18:59.994Z"
   },
   {
    "duration": 8,
    "start_time": "2023-05-31T17:25:54.652Z"
   },
   {
    "duration": 9,
    "start_time": "2023-05-31T17:27:58.600Z"
   },
   {
    "duration": 906,
    "start_time": "2023-05-31T17:28:03.051Z"
   },
   {
    "duration": 23,
    "start_time": "2023-05-31T17:28:07.114Z"
   },
   {
    "duration": 4,
    "start_time": "2023-05-31T17:29:06.541Z"
   },
   {
    "duration": 40,
    "start_time": "2023-05-31T17:29:06.547Z"
   },
   {
    "duration": 790,
    "start_time": "2023-05-31T17:29:06.588Z"
   },
   {
    "duration": 8,
    "start_time": "2023-05-31T17:29:07.380Z"
   },
   {
    "duration": 14,
    "start_time": "2023-05-31T17:29:07.390Z"
   },
   {
    "duration": 38,
    "start_time": "2023-05-31T17:29:07.406Z"
   },
   {
    "duration": 23,
    "start_time": "2023-05-31T17:29:07.446Z"
   },
   {
    "duration": 11,
    "start_time": "2023-05-31T17:29:07.471Z"
   },
   {
    "duration": 28,
    "start_time": "2023-05-31T17:29:07.483Z"
   },
   {
    "duration": 24,
    "start_time": "2023-05-31T17:29:07.512Z"
   },
   {
    "duration": 247,
    "start_time": "2023-05-31T17:29:07.538Z"
   },
   {
    "duration": 13,
    "start_time": "2023-05-31T17:29:07.787Z"
   },
   {
    "duration": 768,
    "start_time": "2023-05-31T17:29:07.802Z"
   },
   {
    "duration": 867,
    "start_time": "2023-05-31T17:29:08.574Z"
   },
   {
    "duration": 1016,
    "start_time": "2023-05-31T17:29:09.443Z"
   },
   {
    "duration": 455,
    "start_time": "2023-05-31T17:29:10.461Z"
   },
   {
    "duration": 22,
    "start_time": "2023-05-31T17:29:10.918Z"
   },
   {
    "duration": 849,
    "start_time": "2023-05-31T17:29:10.942Z"
   },
   {
    "duration": 31,
    "start_time": "2023-05-31T17:29:11.793Z"
   },
   {
    "duration": 0,
    "start_time": "2023-05-31T17:29:11.826Z"
   },
   {
    "duration": 0,
    "start_time": "2023-05-31T17:29:11.827Z"
   },
   {
    "duration": 0,
    "start_time": "2023-05-31T17:29:11.827Z"
   },
   {
    "duration": 0,
    "start_time": "2023-05-31T17:29:11.829Z"
   },
   {
    "duration": 0,
    "start_time": "2023-05-31T17:29:11.830Z"
   },
   {
    "duration": 0,
    "start_time": "2023-05-31T17:29:11.831Z"
   },
   {
    "duration": 0,
    "start_time": "2023-05-31T17:29:11.832Z"
   },
   {
    "duration": 0,
    "start_time": "2023-05-31T17:29:11.833Z"
   },
   {
    "duration": 0,
    "start_time": "2023-05-31T17:29:11.834Z"
   },
   {
    "duration": 0,
    "start_time": "2023-05-31T17:29:11.834Z"
   },
   {
    "duration": 0,
    "start_time": "2023-05-31T17:29:11.836Z"
   },
   {
    "duration": 0,
    "start_time": "2023-05-31T17:29:11.836Z"
   },
   {
    "duration": 0,
    "start_time": "2023-05-31T17:29:11.837Z"
   },
   {
    "duration": 1417,
    "start_time": "2023-05-31T17:29:30.288Z"
   },
   {
    "duration": 28,
    "start_time": "2023-05-31T17:29:31.707Z"
   },
   {
    "duration": 777,
    "start_time": "2023-05-31T17:29:31.737Z"
   },
   {
    "duration": 11,
    "start_time": "2023-05-31T17:29:32.516Z"
   },
   {
    "duration": 4,
    "start_time": "2023-05-31T17:29:32.529Z"
   },
   {
    "duration": 13,
    "start_time": "2023-05-31T17:29:32.534Z"
   },
   {
    "duration": 21,
    "start_time": "2023-05-31T17:29:32.548Z"
   },
   {
    "duration": 25,
    "start_time": "2023-05-31T17:29:32.571Z"
   },
   {
    "duration": 19,
    "start_time": "2023-05-31T17:29:32.597Z"
   },
   {
    "duration": 26,
    "start_time": "2023-05-31T17:29:32.618Z"
   },
   {
    "duration": 232,
    "start_time": "2023-05-31T17:29:32.646Z"
   },
   {
    "duration": 13,
    "start_time": "2023-05-31T17:29:32.880Z"
   },
   {
    "duration": 844,
    "start_time": "2023-05-31T17:29:32.895Z"
   },
   {
    "duration": 820,
    "start_time": "2023-05-31T17:29:33.740Z"
   },
   {
    "duration": 860,
    "start_time": "2023-05-31T17:29:34.561Z"
   },
   {
    "duration": 489,
    "start_time": "2023-05-31T17:29:35.425Z"
   },
   {
    "duration": 16,
    "start_time": "2023-05-31T17:29:35.924Z"
   },
   {
    "duration": 902,
    "start_time": "2023-05-31T17:29:35.941Z"
   },
   {
    "duration": 154,
    "start_time": "2023-05-31T17:29:36.844Z"
   },
   {
    "duration": 0,
    "start_time": "2023-05-31T17:29:37.000Z"
   },
   {
    "duration": 0,
    "start_time": "2023-05-31T17:29:37.001Z"
   },
   {
    "duration": 0,
    "start_time": "2023-05-31T17:29:37.002Z"
   },
   {
    "duration": 0,
    "start_time": "2023-05-31T17:29:37.003Z"
   },
   {
    "duration": 0,
    "start_time": "2023-05-31T17:29:37.004Z"
   },
   {
    "duration": 0,
    "start_time": "2023-05-31T17:29:37.005Z"
   },
   {
    "duration": 0,
    "start_time": "2023-05-31T17:29:37.006Z"
   },
   {
    "duration": 0,
    "start_time": "2023-05-31T17:29:37.007Z"
   },
   {
    "duration": 0,
    "start_time": "2023-05-31T17:29:37.008Z"
   },
   {
    "duration": 0,
    "start_time": "2023-05-31T17:29:37.024Z"
   },
   {
    "duration": 0,
    "start_time": "2023-05-31T17:29:37.025Z"
   },
   {
    "duration": 0,
    "start_time": "2023-05-31T17:29:37.026Z"
   },
   {
    "duration": 0,
    "start_time": "2023-05-31T17:29:37.027Z"
   },
   {
    "duration": 6,
    "start_time": "2023-05-31T17:30:11.734Z"
   },
   {
    "duration": 10,
    "start_time": "2023-05-31T17:30:41.486Z"
   },
   {
    "duration": 7,
    "start_time": "2023-05-31T17:30:52.085Z"
   },
   {
    "duration": 7,
    "start_time": "2023-05-31T17:31:02.641Z"
   },
   {
    "duration": 18,
    "start_time": "2023-05-31T17:32:02.346Z"
   },
   {
    "duration": 15,
    "start_time": "2023-05-31T17:32:31.287Z"
   },
   {
    "duration": 15,
    "start_time": "2023-05-31T17:32:59.178Z"
   },
   {
    "duration": 787,
    "start_time": "2023-05-31T17:33:22.617Z"
   },
   {
    "duration": 14,
    "start_time": "2023-05-31T17:33:30.702Z"
   },
   {
    "duration": 11,
    "start_time": "2023-05-31T17:33:37.377Z"
   },
   {
    "duration": 16,
    "start_time": "2023-05-31T17:34:08.947Z"
   },
   {
    "duration": 4,
    "start_time": "2023-05-31T17:34:12.609Z"
   },
   {
    "duration": 65,
    "start_time": "2023-05-31T17:34:12.614Z"
   },
   {
    "duration": 926,
    "start_time": "2023-05-31T17:34:12.681Z"
   },
   {
    "duration": 16,
    "start_time": "2023-05-31T17:34:13.609Z"
   },
   {
    "duration": 95,
    "start_time": "2023-05-31T17:34:13.626Z"
   },
   {
    "duration": 46,
    "start_time": "2023-05-31T17:34:13.723Z"
   },
   {
    "duration": 171,
    "start_time": "2023-05-31T17:34:13.770Z"
   },
   {
    "duration": 28,
    "start_time": "2023-05-31T17:34:13.943Z"
   },
   {
    "duration": 27,
    "start_time": "2023-05-31T17:34:13.973Z"
   },
   {
    "duration": 43,
    "start_time": "2023-05-31T17:34:14.002Z"
   },
   {
    "duration": 257,
    "start_time": "2023-05-31T17:34:14.047Z"
   },
   {
    "duration": 18,
    "start_time": "2023-05-31T17:34:14.306Z"
   },
   {
    "duration": 835,
    "start_time": "2023-05-31T17:34:14.326Z"
   },
   {
    "duration": 951,
    "start_time": "2023-05-31T17:34:15.164Z"
   },
   {
    "duration": 792,
    "start_time": "2023-05-31T17:34:16.125Z"
   },
   {
    "duration": 489,
    "start_time": "2023-05-31T17:34:16.919Z"
   },
   {
    "duration": 21,
    "start_time": "2023-05-31T17:34:17.411Z"
   },
   {
    "duration": 1027,
    "start_time": "2023-05-31T17:34:17.434Z"
   },
   {
    "duration": 23,
    "start_time": "2023-05-31T17:34:18.463Z"
   },
   {
    "duration": 0,
    "start_time": "2023-05-31T17:34:18.488Z"
   },
   {
    "duration": 0,
    "start_time": "2023-05-31T17:34:18.489Z"
   },
   {
    "duration": 0,
    "start_time": "2023-05-31T17:34:18.490Z"
   },
   {
    "duration": 0,
    "start_time": "2023-05-31T17:34:18.491Z"
   },
   {
    "duration": 0,
    "start_time": "2023-05-31T17:34:18.524Z"
   },
   {
    "duration": 0,
    "start_time": "2023-05-31T17:34:18.526Z"
   },
   {
    "duration": 0,
    "start_time": "2023-05-31T17:34:18.527Z"
   },
   {
    "duration": 0,
    "start_time": "2023-05-31T17:34:18.528Z"
   },
   {
    "duration": 0,
    "start_time": "2023-05-31T17:34:18.530Z"
   },
   {
    "duration": 0,
    "start_time": "2023-05-31T17:34:18.531Z"
   },
   {
    "duration": 0,
    "start_time": "2023-05-31T17:34:18.532Z"
   },
   {
    "duration": 0,
    "start_time": "2023-05-31T17:34:18.534Z"
   },
   {
    "duration": 0,
    "start_time": "2023-05-31T17:34:18.535Z"
   },
   {
    "duration": 0,
    "start_time": "2023-05-31T17:34:18.536Z"
   },
   {
    "duration": 12,
    "start_time": "2023-05-31T17:35:03.169Z"
   },
   {
    "duration": 23,
    "start_time": "2023-05-31T17:35:09.182Z"
   },
   {
    "duration": 38,
    "start_time": "2023-05-31T17:35:15.327Z"
   },
   {
    "duration": 1402,
    "start_time": "2023-05-31T17:35:25.130Z"
   },
   {
    "duration": 31,
    "start_time": "2023-05-31T17:35:26.534Z"
   },
   {
    "duration": 779,
    "start_time": "2023-05-31T17:35:26.566Z"
   },
   {
    "duration": 8,
    "start_time": "2023-05-31T17:35:27.347Z"
   },
   {
    "duration": 6,
    "start_time": "2023-05-31T17:35:27.357Z"
   },
   {
    "duration": 25,
    "start_time": "2023-05-31T17:35:27.364Z"
   },
   {
    "duration": 23,
    "start_time": "2023-05-31T17:35:27.390Z"
   },
   {
    "duration": 35,
    "start_time": "2023-05-31T17:35:27.415Z"
   },
   {
    "duration": 13,
    "start_time": "2023-05-31T17:35:27.452Z"
   },
   {
    "duration": 44,
    "start_time": "2023-05-31T17:35:27.466Z"
   },
   {
    "duration": 245,
    "start_time": "2023-05-31T17:35:27.512Z"
   },
   {
    "duration": 15,
    "start_time": "2023-05-31T17:35:27.759Z"
   },
   {
    "duration": 884,
    "start_time": "2023-05-31T17:35:27.775Z"
   },
   {
    "duration": 924,
    "start_time": "2023-05-31T17:35:28.661Z"
   },
   {
    "duration": 838,
    "start_time": "2023-05-31T17:35:29.586Z"
   },
   {
    "duration": 434,
    "start_time": "2023-05-31T17:35:30.426Z"
   },
   {
    "duration": 15,
    "start_time": "2023-05-31T17:35:30.862Z"
   },
   {
    "duration": 954,
    "start_time": "2023-05-31T17:35:30.878Z"
   },
   {
    "duration": 25,
    "start_time": "2023-05-31T17:35:31.834Z"
   },
   {
    "duration": 41,
    "start_time": "2023-05-31T17:35:31.861Z"
   },
   {
    "duration": 9,
    "start_time": "2023-05-31T17:35:31.904Z"
   },
   {
    "duration": 42,
    "start_time": "2023-05-31T17:35:31.914Z"
   },
   {
    "duration": 34,
    "start_time": "2023-05-31T17:35:31.958Z"
   },
   {
    "duration": 18,
    "start_time": "2023-05-31T17:35:31.994Z"
   },
   {
    "duration": 36,
    "start_time": "2023-05-31T17:35:32.014Z"
   },
   {
    "duration": 4822,
    "start_time": "2023-05-31T17:35:32.052Z"
   },
   {
    "duration": 11320,
    "start_time": "2023-05-31T17:35:36.876Z"
   },
   {
    "duration": 87,
    "start_time": "2023-05-31T17:35:48.198Z"
   },
   {
    "duration": 114,
    "start_time": "2023-05-31T17:35:48.287Z"
   },
   {
    "duration": 72,
    "start_time": "2023-05-31T17:35:48.403Z"
   },
   {
    "duration": 51,
    "start_time": "2023-05-31T17:35:48.476Z"
   },
   {
    "duration": 66,
    "start_time": "2023-05-31T17:35:48.528Z"
   },
   {
    "duration": 72,
    "start_time": "2023-05-31T17:35:48.596Z"
   },
   {
    "duration": 13,
    "start_time": "2023-05-31T17:37:44.123Z"
   },
   {
    "duration": 843,
    "start_time": "2023-05-31T17:38:27.646Z"
   },
   {
    "duration": 1345,
    "start_time": "2023-05-31T17:41:47.888Z"
   },
   {
    "duration": 30,
    "start_time": "2023-05-31T17:41:49.235Z"
   },
   {
    "duration": 734,
    "start_time": "2023-05-31T17:41:49.267Z"
   },
   {
    "duration": 8,
    "start_time": "2023-05-31T17:41:50.003Z"
   },
   {
    "duration": 14,
    "start_time": "2023-05-31T17:41:50.012Z"
   },
   {
    "duration": 16,
    "start_time": "2023-05-31T17:41:50.027Z"
   },
   {
    "duration": 15,
    "start_time": "2023-05-31T17:41:50.044Z"
   },
   {
    "duration": 7,
    "start_time": "2023-05-31T17:41:50.060Z"
   },
   {
    "duration": 5,
    "start_time": "2023-05-31T17:41:50.069Z"
   },
   {
    "duration": 24,
    "start_time": "2023-05-31T17:41:50.076Z"
   },
   {
    "duration": 229,
    "start_time": "2023-05-31T17:41:50.102Z"
   },
   {
    "duration": 13,
    "start_time": "2023-05-31T17:41:50.332Z"
   },
   {
    "duration": 848,
    "start_time": "2023-05-31T17:41:50.346Z"
   },
   {
    "duration": 832,
    "start_time": "2023-05-31T17:41:51.196Z"
   },
   {
    "duration": 758,
    "start_time": "2023-05-31T17:41:52.030Z"
   },
   {
    "duration": 478,
    "start_time": "2023-05-31T17:41:52.789Z"
   },
   {
    "duration": 17,
    "start_time": "2023-05-31T17:41:53.269Z"
   },
   {
    "duration": 896,
    "start_time": "2023-05-31T17:41:53.287Z"
   },
   {
    "duration": 129,
    "start_time": "2023-05-31T17:41:54.184Z"
   },
   {
    "duration": 0,
    "start_time": "2023-05-31T17:41:54.315Z"
   },
   {
    "duration": 0,
    "start_time": "2023-05-31T17:41:54.316Z"
   },
   {
    "duration": 0,
    "start_time": "2023-05-31T17:41:54.317Z"
   },
   {
    "duration": 0,
    "start_time": "2023-05-31T17:41:54.324Z"
   },
   {
    "duration": 0,
    "start_time": "2023-05-31T17:41:54.325Z"
   },
   {
    "duration": 0,
    "start_time": "2023-05-31T17:41:54.326Z"
   },
   {
    "duration": 0,
    "start_time": "2023-05-31T17:41:54.327Z"
   },
   {
    "duration": 0,
    "start_time": "2023-05-31T17:41:54.328Z"
   },
   {
    "duration": 0,
    "start_time": "2023-05-31T17:41:54.329Z"
   },
   {
    "duration": 0,
    "start_time": "2023-05-31T17:41:54.330Z"
   },
   {
    "duration": 0,
    "start_time": "2023-05-31T17:41:54.331Z"
   },
   {
    "duration": 0,
    "start_time": "2023-05-31T17:41:54.332Z"
   },
   {
    "duration": 1,
    "start_time": "2023-05-31T17:41:54.332Z"
   },
   {
    "duration": 0,
    "start_time": "2023-05-31T17:41:54.334Z"
   },
   {
    "duration": 13,
    "start_time": "2023-05-31T17:42:11.042Z"
   },
   {
    "duration": 0,
    "start_time": "2023-05-31T17:42:11.058Z"
   },
   {
    "duration": 0,
    "start_time": "2023-05-31T17:42:11.059Z"
   },
   {
    "duration": 32,
    "start_time": "2023-05-31T17:42:11.062Z"
   },
   {
    "duration": 29,
    "start_time": "2023-05-31T17:42:11.096Z"
   },
   {
    "duration": 39,
    "start_time": "2023-05-31T17:42:11.127Z"
   },
   {
    "duration": 30,
    "start_time": "2023-05-31T17:42:11.168Z"
   },
   {
    "duration": 10,
    "start_time": "2023-05-31T17:42:11.200Z"
   },
   {
    "duration": 0,
    "start_time": "2023-05-31T17:42:11.212Z"
   },
   {
    "duration": 0,
    "start_time": "2023-05-31T17:42:11.213Z"
   },
   {
    "duration": 0,
    "start_time": "2023-05-31T17:42:11.214Z"
   },
   {
    "duration": 0,
    "start_time": "2023-05-31T17:42:11.215Z"
   },
   {
    "duration": 1,
    "start_time": "2023-05-31T17:42:11.216Z"
   },
   {
    "duration": 0,
    "start_time": "2023-05-31T17:42:11.218Z"
   },
   {
    "duration": 0,
    "start_time": "2023-05-31T17:42:11.219Z"
   },
   {
    "duration": 1395,
    "start_time": "2023-05-31T17:42:20.980Z"
   },
   {
    "duration": 40,
    "start_time": "2023-05-31T17:42:22.377Z"
   },
   {
    "duration": 755,
    "start_time": "2023-05-31T17:42:22.419Z"
   },
   {
    "duration": 8,
    "start_time": "2023-05-31T17:42:23.175Z"
   },
   {
    "duration": 32,
    "start_time": "2023-05-31T17:42:23.185Z"
   },
   {
    "duration": 12,
    "start_time": "2023-05-31T17:42:23.219Z"
   },
   {
    "duration": 14,
    "start_time": "2023-05-31T17:42:23.232Z"
   },
   {
    "duration": 5,
    "start_time": "2023-05-31T17:42:23.248Z"
   },
   {
    "duration": 4,
    "start_time": "2023-05-31T17:42:23.254Z"
   },
   {
    "duration": 30,
    "start_time": "2023-05-31T17:42:23.260Z"
   },
   {
    "duration": 233,
    "start_time": "2023-05-31T17:42:23.292Z"
   },
   {
    "duration": 13,
    "start_time": "2023-05-31T17:42:23.527Z"
   },
   {
    "duration": 833,
    "start_time": "2023-05-31T17:42:23.541Z"
   },
   {
    "duration": 930,
    "start_time": "2023-05-31T17:42:24.377Z"
   },
   {
    "duration": 777,
    "start_time": "2023-05-31T17:42:25.308Z"
   },
   {
    "duration": 451,
    "start_time": "2023-05-31T17:42:26.087Z"
   },
   {
    "duration": 15,
    "start_time": "2023-05-31T17:42:26.540Z"
   },
   {
    "duration": 871,
    "start_time": "2023-05-31T17:42:26.556Z"
   },
   {
    "duration": 133,
    "start_time": "2023-05-31T17:42:27.428Z"
   },
   {
    "duration": 0,
    "start_time": "2023-05-31T17:42:27.562Z"
   },
   {
    "duration": 0,
    "start_time": "2023-05-31T17:42:27.564Z"
   },
   {
    "duration": 0,
    "start_time": "2023-05-31T17:42:27.565Z"
   },
   {
    "duration": 0,
    "start_time": "2023-05-31T17:42:27.566Z"
   },
   {
    "duration": 0,
    "start_time": "2023-05-31T17:42:27.567Z"
   },
   {
    "duration": 0,
    "start_time": "2023-05-31T17:42:27.568Z"
   },
   {
    "duration": 0,
    "start_time": "2023-05-31T17:42:27.569Z"
   },
   {
    "duration": 0,
    "start_time": "2023-05-31T17:42:27.570Z"
   },
   {
    "duration": 0,
    "start_time": "2023-05-31T17:42:27.571Z"
   },
   {
    "duration": 0,
    "start_time": "2023-05-31T17:42:27.571Z"
   },
   {
    "duration": 0,
    "start_time": "2023-05-31T17:42:27.572Z"
   },
   {
    "duration": 0,
    "start_time": "2023-05-31T17:42:27.573Z"
   },
   {
    "duration": 0,
    "start_time": "2023-05-31T17:42:27.574Z"
   },
   {
    "duration": 0,
    "start_time": "2023-05-31T17:42:27.575Z"
   },
   {
    "duration": 1484,
    "start_time": "2023-05-31T17:42:40.729Z"
   },
   {
    "duration": 29,
    "start_time": "2023-05-31T17:42:42.214Z"
   },
   {
    "duration": 741,
    "start_time": "2023-05-31T17:42:42.245Z"
   },
   {
    "duration": 8,
    "start_time": "2023-05-31T17:42:42.987Z"
   },
   {
    "duration": 16,
    "start_time": "2023-05-31T17:42:42.997Z"
   },
   {
    "duration": 34,
    "start_time": "2023-05-31T17:42:43.015Z"
   },
   {
    "duration": 6,
    "start_time": "2023-05-31T17:42:43.050Z"
   },
   {
    "duration": 7,
    "start_time": "2023-05-31T17:42:43.057Z"
   },
   {
    "duration": 4,
    "start_time": "2023-05-31T17:42:43.065Z"
   },
   {
    "duration": 27,
    "start_time": "2023-05-31T17:42:43.071Z"
   },
   {
    "duration": 249,
    "start_time": "2023-05-31T17:42:43.100Z"
   },
   {
    "duration": 17,
    "start_time": "2023-05-31T17:42:43.350Z"
   },
   {
    "duration": 892,
    "start_time": "2023-05-31T17:42:43.368Z"
   },
   {
    "duration": 911,
    "start_time": "2023-05-31T17:42:44.263Z"
   },
   {
    "duration": 754,
    "start_time": "2023-05-31T17:42:45.175Z"
   },
   {
    "duration": 443,
    "start_time": "2023-05-31T17:42:45.931Z"
   },
   {
    "duration": 15,
    "start_time": "2023-05-31T17:42:46.375Z"
   },
   {
    "duration": 853,
    "start_time": "2023-05-31T17:42:46.391Z"
   },
   {
    "duration": 26,
    "start_time": "2023-05-31T17:42:47.246Z"
   },
   {
    "duration": 31,
    "start_time": "2023-05-31T17:42:47.273Z"
   },
   {
    "duration": 8,
    "start_time": "2023-05-31T17:42:47.306Z"
   },
   {
    "duration": 20,
    "start_time": "2023-05-31T17:42:47.315Z"
   },
   {
    "duration": 35,
    "start_time": "2023-05-31T17:42:47.336Z"
   },
   {
    "duration": 11,
    "start_time": "2023-05-31T17:42:47.373Z"
   },
   {
    "duration": 29,
    "start_time": "2023-05-31T17:42:47.385Z"
   },
   {
    "duration": 4688,
    "start_time": "2023-05-31T17:42:47.415Z"
   },
   {
    "duration": 11044,
    "start_time": "2023-05-31T17:42:52.105Z"
   },
   {
    "duration": 102,
    "start_time": "2023-05-31T17:43:03.152Z"
   },
   {
    "duration": 128,
    "start_time": "2023-05-31T17:43:03.256Z"
   },
   {
    "duration": 83,
    "start_time": "2023-05-31T17:43:03.385Z"
   },
   {
    "duration": 43,
    "start_time": "2023-05-31T17:43:03.470Z"
   },
   {
    "duration": 40,
    "start_time": "2023-05-31T17:43:03.525Z"
   },
   {
    "duration": 83,
    "start_time": "2023-05-31T17:43:03.567Z"
   },
   {
    "duration": 1437,
    "start_time": "2023-05-31T17:43:58.203Z"
   },
   {
    "duration": 26,
    "start_time": "2023-05-31T17:43:59.642Z"
   },
   {
    "duration": 760,
    "start_time": "2023-05-31T17:43:59.669Z"
   },
   {
    "duration": 9,
    "start_time": "2023-05-31T17:44:00.431Z"
   },
   {
    "duration": 25,
    "start_time": "2023-05-31T17:44:00.442Z"
   },
   {
    "duration": 32,
    "start_time": "2023-05-31T17:44:00.469Z"
   },
   {
    "duration": 37,
    "start_time": "2023-05-31T17:44:00.503Z"
   },
   {
    "duration": 53,
    "start_time": "2023-05-31T17:44:00.541Z"
   },
   {
    "duration": 57,
    "start_time": "2023-05-31T17:44:00.595Z"
   },
   {
    "duration": 62,
    "start_time": "2023-05-31T17:44:00.654Z"
   },
   {
    "duration": 258,
    "start_time": "2023-05-31T17:44:00.718Z"
   },
   {
    "duration": 17,
    "start_time": "2023-05-31T17:44:00.978Z"
   },
   {
    "duration": 867,
    "start_time": "2023-05-31T17:44:00.997Z"
   },
   {
    "duration": 844,
    "start_time": "2023-05-31T17:44:01.867Z"
   },
   {
    "duration": 794,
    "start_time": "2023-05-31T17:44:02.712Z"
   },
   {
    "duration": 434,
    "start_time": "2023-05-31T17:44:03.508Z"
   },
   {
    "duration": 15,
    "start_time": "2023-05-31T17:44:03.943Z"
   },
   {
    "duration": 840,
    "start_time": "2023-05-31T17:44:03.960Z"
   },
   {
    "duration": 44,
    "start_time": "2023-05-31T17:44:04.802Z"
   },
   {
    "duration": 18,
    "start_time": "2023-05-31T17:44:04.848Z"
   },
   {
    "duration": 14,
    "start_time": "2023-05-31T17:44:04.868Z"
   },
   {
    "duration": 23,
    "start_time": "2023-05-31T17:44:04.883Z"
   },
   {
    "duration": 23,
    "start_time": "2023-05-31T17:44:04.907Z"
   },
   {
    "duration": 21,
    "start_time": "2023-05-31T17:44:04.931Z"
   },
   {
    "duration": 33,
    "start_time": "2023-05-31T17:44:04.953Z"
   },
   {
    "duration": 4885,
    "start_time": "2023-05-31T17:44:04.988Z"
   },
   {
    "duration": 11862,
    "start_time": "2023-05-31T17:44:09.875Z"
   },
   {
    "duration": 77,
    "start_time": "2023-05-31T17:44:21.738Z"
   },
   {
    "duration": 109,
    "start_time": "2023-05-31T17:44:21.824Z"
   },
   {
    "duration": 66,
    "start_time": "2023-05-31T17:44:21.934Z"
   },
   {
    "duration": 44,
    "start_time": "2023-05-31T17:44:22.002Z"
   },
   {
    "duration": 47,
    "start_time": "2023-05-31T17:44:22.048Z"
   },
   {
    "duration": 64,
    "start_time": "2023-05-31T17:44:22.097Z"
   },
   {
    "duration": 963,
    "start_time": "2023-05-31T17:44:44.303Z"
   },
   {
    "duration": 2117,
    "start_time": "2023-06-01T05:13:08.355Z"
   },
   {
    "duration": 41,
    "start_time": "2023-06-01T05:13:10.475Z"
   },
   {
    "duration": 3908,
    "start_time": "2023-06-01T05:13:10.518Z"
   },
   {
    "duration": 12,
    "start_time": "2023-06-01T05:13:14.429Z"
   },
   {
    "duration": 10,
    "start_time": "2023-06-01T05:13:14.444Z"
   },
   {
    "duration": 10,
    "start_time": "2023-06-01T05:13:14.456Z"
   },
   {
    "duration": 30,
    "start_time": "2023-06-01T05:13:14.468Z"
   },
   {
    "duration": 7,
    "start_time": "2023-06-01T05:13:14.500Z"
   },
   {
    "duration": 15,
    "start_time": "2023-06-01T05:13:14.509Z"
   },
   {
    "duration": 36,
    "start_time": "2023-06-01T05:13:14.526Z"
   },
   {
    "duration": 321,
    "start_time": "2023-06-01T05:13:14.564Z"
   },
   {
    "duration": 20,
    "start_time": "2023-06-01T05:13:14.887Z"
   },
   {
    "duration": 1370,
    "start_time": "2023-06-01T05:13:14.910Z"
   },
   {
    "duration": 1251,
    "start_time": "2023-06-01T05:13:16.285Z"
   },
   {
    "duration": 921,
    "start_time": "2023-06-01T05:13:17.538Z"
   },
   {
    "duration": 525,
    "start_time": "2023-06-01T05:13:18.461Z"
   },
   {
    "duration": 37,
    "start_time": "2023-06-01T05:13:18.988Z"
   },
   {
    "duration": 1468,
    "start_time": "2023-06-01T05:13:19.028Z"
   },
   {
    "duration": 47,
    "start_time": "2023-06-01T05:13:20.498Z"
   },
   {
    "duration": 20,
    "start_time": "2023-06-01T05:13:20.548Z"
   },
   {
    "duration": 13,
    "start_time": "2023-06-01T05:13:20.571Z"
   },
   {
    "duration": 33,
    "start_time": "2023-06-01T05:13:20.586Z"
   },
   {
    "duration": 18,
    "start_time": "2023-06-01T05:13:20.621Z"
   },
   {
    "duration": 26,
    "start_time": "2023-06-01T05:13:20.641Z"
   },
   {
    "duration": 33,
    "start_time": "2023-06-01T05:13:20.669Z"
   },
   {
    "duration": 5223,
    "start_time": "2023-06-01T05:13:20.704Z"
   },
   {
    "duration": 12767,
    "start_time": "2023-06-01T05:13:25.929Z"
   },
   {
    "duration": 122,
    "start_time": "2023-06-01T05:13:38.697Z"
   },
   {
    "duration": 225,
    "start_time": "2023-06-01T05:13:38.825Z"
   },
   {
    "duration": 129,
    "start_time": "2023-06-01T05:13:39.052Z"
   },
   {
    "duration": 83,
    "start_time": "2023-06-01T05:13:39.183Z"
   },
   {
    "duration": 87,
    "start_time": "2023-06-01T05:13:39.269Z"
   },
   {
    "duration": 88,
    "start_time": "2023-06-01T05:13:39.359Z"
   },
   {
    "duration": 75,
    "start_time": "2023-06-01T05:13:42.769Z"
   },
   {
    "duration": 63,
    "start_time": "2023-06-01T05:13:46.783Z"
   },
   {
    "duration": 53,
    "start_time": "2023-06-01T05:13:51.287Z"
   },
   {
    "duration": 4,
    "start_time": "2023-06-01T05:26:41.312Z"
   },
   {
    "duration": 65,
    "start_time": "2023-06-01T05:26:41.317Z"
   },
   {
    "duration": 681,
    "start_time": "2023-06-01T05:26:41.384Z"
   },
   {
    "duration": 8,
    "start_time": "2023-06-01T05:26:42.067Z"
   },
   {
    "duration": 47,
    "start_time": "2023-06-01T05:26:42.077Z"
   },
   {
    "duration": 42,
    "start_time": "2023-06-01T05:26:42.125Z"
   },
   {
    "duration": 26,
    "start_time": "2023-06-01T05:26:42.169Z"
   },
   {
    "duration": 40,
    "start_time": "2023-06-01T05:26:42.197Z"
   },
   {
    "duration": 32,
    "start_time": "2023-06-01T05:26:42.239Z"
   },
   {
    "duration": 36,
    "start_time": "2023-06-01T05:26:42.273Z"
   },
   {
    "duration": 250,
    "start_time": "2023-06-01T05:26:42.312Z"
   },
   {
    "duration": 13,
    "start_time": "2023-06-01T05:26:42.564Z"
   },
   {
    "duration": 889,
    "start_time": "2023-06-01T05:26:42.579Z"
   },
   {
    "duration": 770,
    "start_time": "2023-06-01T05:26:43.469Z"
   },
   {
    "duration": 928,
    "start_time": "2023-06-01T05:26:44.241Z"
   },
   {
    "duration": 483,
    "start_time": "2023-06-01T05:26:45.171Z"
   },
   {
    "duration": 16,
    "start_time": "2023-06-01T05:26:45.655Z"
   },
   {
    "duration": 904,
    "start_time": "2023-06-01T05:26:45.673Z"
   },
   {
    "duration": 19,
    "start_time": "2023-06-01T05:26:46.579Z"
   },
   {
    "duration": 26,
    "start_time": "2023-06-01T05:26:46.599Z"
   },
   {
    "duration": 6,
    "start_time": "2023-06-01T05:26:46.627Z"
   },
   {
    "duration": 12,
    "start_time": "2023-06-01T05:26:46.635Z"
   },
   {
    "duration": 9,
    "start_time": "2023-06-01T05:26:46.649Z"
   },
   {
    "duration": 7,
    "start_time": "2023-06-01T05:26:46.660Z"
   },
   {
    "duration": 2990306,
    "start_time": "2023-06-01T05:26:46.669Z"
   },
   {
    "duration": 0,
    "start_time": "2023-06-01T06:16:36.977Z"
   },
   {
    "duration": 0,
    "start_time": "2023-06-01T06:16:36.979Z"
   },
   {
    "duration": 0,
    "start_time": "2023-06-01T06:16:36.980Z"
   },
   {
    "duration": 0,
    "start_time": "2023-06-01T06:16:36.981Z"
   },
   {
    "duration": 0,
    "start_time": "2023-06-01T06:16:36.982Z"
   },
   {
    "duration": 0,
    "start_time": "2023-06-01T06:16:36.983Z"
   },
   {
    "duration": 0,
    "start_time": "2023-06-01T06:16:36.984Z"
   },
   {
    "duration": 0,
    "start_time": "2023-06-01T06:16:36.985Z"
   },
   {
    "duration": 0,
    "start_time": "2023-06-01T06:16:36.986Z"
   },
   {
    "duration": 0,
    "start_time": "2023-06-01T06:16:36.987Z"
   },
   {
    "duration": 4,
    "start_time": "2023-06-01T06:17:28.590Z"
   },
   {
    "duration": 43,
    "start_time": "2023-06-01T06:17:28.596Z"
   },
   {
    "duration": 693,
    "start_time": "2023-06-01T06:17:28.640Z"
   },
   {
    "duration": 9,
    "start_time": "2023-06-01T06:17:29.335Z"
   },
   {
    "duration": 5,
    "start_time": "2023-06-01T06:17:29.346Z"
   },
   {
    "duration": 10,
    "start_time": "2023-06-01T06:17:29.352Z"
   },
   {
    "duration": 8,
    "start_time": "2023-06-01T06:17:29.364Z"
   },
   {
    "duration": 9,
    "start_time": "2023-06-01T06:17:29.374Z"
   },
   {
    "duration": 9,
    "start_time": "2023-06-01T06:17:29.385Z"
   },
   {
    "duration": 37,
    "start_time": "2023-06-01T06:17:29.396Z"
   },
   {
    "duration": 292,
    "start_time": "2023-06-01T06:17:29.435Z"
   },
   {
    "duration": 23,
    "start_time": "2023-06-01T06:17:29.730Z"
   },
   {
    "duration": 1024,
    "start_time": "2023-06-01T06:17:29.755Z"
   },
   {
    "duration": 828,
    "start_time": "2023-06-01T06:17:30.782Z"
   },
   {
    "duration": 981,
    "start_time": "2023-06-01T06:17:31.612Z"
   },
   {
    "duration": 485,
    "start_time": "2023-06-01T06:17:32.595Z"
   },
   {
    "duration": 16,
    "start_time": "2023-06-01T06:17:33.082Z"
   },
   {
    "duration": 788,
    "start_time": "2023-06-01T06:17:33.100Z"
   },
   {
    "duration": 22,
    "start_time": "2023-06-01T06:17:33.890Z"
   },
   {
    "duration": 150,
    "start_time": "2023-06-01T06:17:33.914Z"
   },
   {
    "duration": 8,
    "start_time": "2023-06-01T06:17:34.066Z"
   },
   {
    "duration": 11,
    "start_time": "2023-06-01T06:17:34.076Z"
   },
   {
    "duration": 6,
    "start_time": "2023-06-01T06:17:34.089Z"
   },
   {
    "duration": 5,
    "start_time": "2023-06-01T06:17:34.097Z"
   },
   {
    "duration": 3,
    "start_time": "2023-06-01T06:17:47.882Z"
   },
   {
    "duration": 8882718,
    "start_time": "2023-06-01T06:17:47.923Z"
   },
   {
    "duration": 9928859,
    "start_time": "2023-06-01T08:45:50.645Z"
   },
   {
    "duration": 35,
    "start_time": "2023-06-01T11:31:19.506Z"
   },
   {
    "duration": 8044,
    "start_time": "2023-06-01T11:31:19.543Z"
   },
   {
    "duration": 12850,
    "start_time": "2023-06-01T11:31:27.590Z"
   },
   {
    "duration": 98,
    "start_time": "2023-06-01T11:31:40.441Z"
   },
   {
    "duration": 129,
    "start_time": "2023-06-01T11:31:40.541Z"
   },
   {
    "duration": 83,
    "start_time": "2023-06-01T11:31:40.672Z"
   },
   {
    "duration": 37,
    "start_time": "2023-06-01T11:31:40.757Z"
   },
   {
    "duration": 54,
    "start_time": "2023-06-01T11:31:40.796Z"
   },
   {
    "duration": 85,
    "start_time": "2023-06-01T11:31:40.853Z"
   },
   {
    "duration": 16,
    "start_time": "2023-06-01T11:33:39.262Z"
   },
   {
    "duration": 2633,
    "start_time": "2023-06-01T11:33:41.723Z"
   },
   {
    "duration": 25286,
    "start_time": "2023-06-01T11:35:02.140Z"
   },
   {
    "duration": 60,
    "start_time": "2023-06-01T11:35:27.431Z"
   },
   {
    "duration": 72,
    "start_time": "2023-06-01T11:36:27.023Z"
   },
   {
    "duration": 266,
    "start_time": "2023-06-01T11:36:29.630Z"
   },
   {
    "duration": 72,
    "start_time": "2023-06-01T11:36:37.426Z"
   },
   {
    "duration": 40,
    "start_time": "2023-06-01T11:36:51.885Z"
   },
   {
    "duration": 45,
    "start_time": "2023-06-01T11:37:42.299Z"
   },
   {
    "duration": 48,
    "start_time": "2023-06-01T11:37:47.098Z"
   },
   {
    "duration": 86,
    "start_time": "2023-06-01T11:37:49.506Z"
   },
   {
    "duration": 12,
    "start_time": "2023-06-01T11:42:47.670Z"
   },
   {
    "duration": 893,
    "start_time": "2023-06-01T11:45:11.626Z"
   },
   {
    "duration": 4,
    "start_time": "2023-06-01T11:47:27.989Z"
   },
   {
    "duration": 5,
    "start_time": "2023-06-01T11:47:44.903Z"
   },
   {
    "duration": 5,
    "start_time": "2023-06-01T11:48:06.871Z"
   },
   {
    "duration": 14,
    "start_time": "2023-06-01T11:48:21.809Z"
   },
   {
    "duration": 1054,
    "start_time": "2023-06-01T11:48:24.701Z"
   },
   {
    "duration": 2274,
    "start_time": "2023-06-01T11:48:52.076Z"
   },
   {
    "duration": 37,
    "start_time": "2023-06-01T11:48:54.352Z"
   },
   {
    "duration": 741,
    "start_time": "2023-06-01T11:48:54.390Z"
   },
   {
    "duration": 11,
    "start_time": "2023-06-01T11:48:55.132Z"
   },
   {
    "duration": 8,
    "start_time": "2023-06-01T11:48:55.146Z"
   },
   {
    "duration": 10,
    "start_time": "2023-06-01T11:48:55.156Z"
   },
   {
    "duration": 16,
    "start_time": "2023-06-01T11:48:55.168Z"
   },
   {
    "duration": 7,
    "start_time": "2023-06-01T11:48:55.186Z"
   },
   {
    "duration": 11,
    "start_time": "2023-06-01T11:48:55.195Z"
   },
   {
    "duration": 41,
    "start_time": "2023-06-01T11:48:55.208Z"
   },
   {
    "duration": 249,
    "start_time": "2023-06-01T11:48:55.251Z"
   },
   {
    "duration": 15,
    "start_time": "2023-06-01T11:48:55.502Z"
   },
   {
    "duration": 909,
    "start_time": "2023-06-01T11:48:55.526Z"
   },
   {
    "duration": 934,
    "start_time": "2023-06-01T11:48:56.438Z"
   },
   {
    "duration": 809,
    "start_time": "2023-06-01T11:48:57.374Z"
   },
   {
    "duration": 488,
    "start_time": "2023-06-01T11:48:58.185Z"
   },
   {
    "duration": 17,
    "start_time": "2023-06-01T11:48:58.675Z"
   },
   {
    "duration": 995,
    "start_time": "2023-06-01T11:48:58.694Z"
   },
   {
    "duration": 33,
    "start_time": "2023-06-01T11:48:59.691Z"
   },
   {
    "duration": 923,
    "start_time": "2023-06-01T11:48:59.726Z"
   },
   {
    "duration": 8,
    "start_time": "2023-06-01T11:49:00.651Z"
   },
   {
    "duration": 118,
    "start_time": "2023-06-01T11:49:00.661Z"
   },
   {
    "duration": 97,
    "start_time": "2023-06-01T11:49:00.781Z"
   },
   {
    "duration": 37,
    "start_time": "2023-06-01T11:49:00.880Z"
   },
   {
    "duration": 58,
    "start_time": "2023-06-01T11:49:00.919Z"
   },
   {
    "duration": 3331,
    "start_time": "2023-06-01T11:49:00.979Z"
   },
   {
    "duration": 28674,
    "start_time": "2023-06-01T11:49:04.313Z"
   },
   {
    "duration": 85,
    "start_time": "2023-06-01T11:49:32.989Z"
   },
   {
    "duration": 182,
    "start_time": "2023-06-01T11:49:33.076Z"
   },
   {
    "duration": 76,
    "start_time": "2023-06-01T11:49:33.259Z"
   },
   {
    "duration": 37,
    "start_time": "2023-06-01T11:49:33.337Z"
   },
   {
    "duration": 57,
    "start_time": "2023-06-01T11:49:33.376Z"
   },
   {
    "duration": 69,
    "start_time": "2023-06-01T11:49:33.435Z"
   },
   {
    "duration": 5,
    "start_time": "2023-06-01T11:50:02.471Z"
   },
   {
    "duration": 4,
    "start_time": "2023-06-01T11:50:10.618Z"
   },
   {
    "duration": 6,
    "start_time": "2023-06-01T11:50:18.247Z"
   },
   {
    "duration": 29,
    "start_time": "2023-06-01T11:51:50.080Z"
   },
   {
    "duration": 887,
    "start_time": "2023-06-01T11:53:55.814Z"
   },
   {
    "duration": 1370,
    "start_time": "2023-06-01T11:54:41.284Z"
   },
   {
    "duration": 1237,
    "start_time": "2023-06-01T11:54:47.585Z"
   },
   {
    "duration": 1153,
    "start_time": "2023-06-01T11:55:10.206Z"
   },
   {
    "duration": 8,
    "start_time": "2023-06-01T11:55:18.912Z"
   },
   {
    "duration": 12,
    "start_time": "2023-06-01T11:55:28.076Z"
   },
   {
    "duration": 1573,
    "start_time": "2023-06-01T11:56:09.690Z"
   },
   {
    "duration": 37,
    "start_time": "2023-06-01T11:56:11.265Z"
   },
   {
    "duration": 752,
    "start_time": "2023-06-01T11:56:11.304Z"
   },
   {
    "duration": 10,
    "start_time": "2023-06-01T11:56:12.058Z"
   },
   {
    "duration": 7,
    "start_time": "2023-06-01T11:56:12.070Z"
   },
   {
    "duration": 14,
    "start_time": "2023-06-01T11:56:12.079Z"
   },
   {
    "duration": 5,
    "start_time": "2023-06-01T11:56:12.095Z"
   },
   {
    "duration": 7,
    "start_time": "2023-06-01T11:56:12.124Z"
   },
   {
    "duration": 5,
    "start_time": "2023-06-01T11:56:12.133Z"
   },
   {
    "duration": 25,
    "start_time": "2023-06-01T11:56:12.142Z"
   },
   {
    "duration": 280,
    "start_time": "2023-06-01T11:56:12.168Z"
   },
   {
    "duration": 15,
    "start_time": "2023-06-01T11:56:12.450Z"
   },
   {
    "duration": 945,
    "start_time": "2023-06-01T11:56:12.467Z"
   },
   {
    "duration": 922,
    "start_time": "2023-06-01T11:56:13.414Z"
   },
   {
    "duration": 840,
    "start_time": "2023-06-01T11:56:14.338Z"
   },
   {
    "duration": 541,
    "start_time": "2023-06-01T11:56:15.180Z"
   },
   {
    "duration": 18,
    "start_time": "2023-06-01T11:56:15.723Z"
   },
   {
    "duration": 1006,
    "start_time": "2023-06-01T11:56:15.743Z"
   },
   {
    "duration": 23,
    "start_time": "2023-06-01T11:56:16.751Z"
   },
   {
    "duration": 915,
    "start_time": "2023-06-01T11:56:16.776Z"
   },
   {
    "duration": 8,
    "start_time": "2023-06-01T11:56:17.692Z"
   },
   {
    "duration": 23,
    "start_time": "2023-06-01T11:56:17.702Z"
   },
   {
    "duration": 11,
    "start_time": "2023-06-01T11:56:17.727Z"
   },
   {
    "duration": 5,
    "start_time": "2023-06-01T11:56:17.739Z"
   },
   {
    "duration": 3454776,
    "start_time": "2023-06-01T11:56:17.746Z"
   },
   {
    "duration": 3474473,
    "start_time": "2023-06-01T12:53:52.525Z"
   },
   {
    "duration": 17,
    "start_time": "2023-06-01T13:51:47.000Z"
   },
   {
    "duration": 3153,
    "start_time": "2023-06-01T13:51:47.027Z"
   },
   {
    "duration": 29140,
    "start_time": "2023-06-01T13:51:50.182Z"
   },
   {
    "duration": 55,
    "start_time": "2023-06-01T13:52:19.325Z"
   },
   {
    "duration": 197,
    "start_time": "2023-06-01T13:52:19.382Z"
   },
   {
    "duration": 115,
    "start_time": "2023-06-01T13:52:19.582Z"
   },
   {
    "duration": 67,
    "start_time": "2023-06-01T13:52:19.699Z"
   },
   {
    "duration": 65,
    "start_time": "2023-06-01T13:52:19.768Z"
   },
   {
    "duration": 99,
    "start_time": "2023-06-01T13:52:19.835Z"
   },
   {
    "duration": 7,
    "start_time": "2023-06-01T13:52:19.936Z"
   },
   {
    "duration": 14150,
    "start_time": "2023-06-01T13:53:40.752Z"
   },
   {
    "duration": 68,
    "start_time": "2023-06-01T13:53:57.269Z"
   },
   {
    "duration": 161,
    "start_time": "2023-06-01T13:53:59.788Z"
   },
   {
    "duration": 73,
    "start_time": "2023-06-01T13:54:02.641Z"
   },
   {
    "duration": 63,
    "start_time": "2023-06-01T13:54:09.975Z"
   },
   {
    "duration": 39,
    "start_time": "2023-06-01T13:54:11.917Z"
   },
   {
    "duration": 70,
    "start_time": "2023-06-01T13:54:13.859Z"
   },
   {
    "duration": 3364166,
    "start_time": "2023-06-01T14:24:33.286Z"
   },
   {
    "duration": 44783,
    "start_time": "2023-06-01T15:21:43.966Z"
   },
   {
    "duration": 13,
    "start_time": "2023-06-01T15:25:13.196Z"
   },
   {
    "duration": 8,
    "start_time": "2023-06-01T15:26:40.378Z"
   },
   {
    "duration": 14,
    "start_time": "2023-06-01T15:26:45.818Z"
   },
   {
    "duration": 11,
    "start_time": "2023-06-01T15:27:07.179Z"
   },
   {
    "duration": 13,
    "start_time": "2023-06-01T15:27:42.379Z"
   },
   {
    "duration": 553,
    "start_time": "2023-06-01T15:28:03.077Z"
   },
   {
    "duration": 541,
    "start_time": "2023-06-01T15:28:19.755Z"
   },
   {
    "duration": 95,
    "start_time": "2023-06-01T15:29:24.058Z"
   },
   {
    "duration": 68,
    "start_time": "2023-06-01T15:29:28.302Z"
   },
   {
    "duration": 83,
    "start_time": "2023-06-01T15:30:15.362Z"
   },
   {
    "duration": 75,
    "start_time": "2023-06-01T15:30:21.414Z"
   },
   {
    "duration": 76,
    "start_time": "2023-06-01T15:30:53.664Z"
   },
   {
    "duration": 12,
    "start_time": "2023-06-01T15:31:01.005Z"
   },
   {
    "duration": 10,
    "start_time": "2023-06-01T15:31:11.917Z"
   },
   {
    "duration": 10,
    "start_time": "2023-06-01T15:31:19.200Z"
   },
   {
    "duration": 7,
    "start_time": "2023-06-01T15:35:26.313Z"
   },
   {
    "duration": 29,
    "start_time": "2023-06-01T15:35:26.322Z"
   },
   {
    "duration": 4,
    "start_time": "2023-06-01T15:35:26.399Z"
   },
   {
    "duration": 42,
    "start_time": "2023-06-01T15:35:26.405Z"
   },
   {
    "duration": 1618028,
    "start_time": "2023-06-01T15:35:26.449Z"
   },
   {
    "duration": 5577,
    "start_time": "2023-06-01T16:02:24.479Z"
   },
   {
    "duration": 0,
    "start_time": "2023-06-01T16:02:30.058Z"
   },
   {
    "duration": 0,
    "start_time": "2023-06-01T16:02:30.060Z"
   },
   {
    "duration": 0,
    "start_time": "2023-06-01T16:02:30.061Z"
   },
   {
    "duration": 0,
    "start_time": "2023-06-01T16:02:30.062Z"
   },
   {
    "duration": 0,
    "start_time": "2023-06-01T16:02:30.063Z"
   },
   {
    "duration": 0,
    "start_time": "2023-06-01T16:02:30.064Z"
   },
   {
    "duration": 0,
    "start_time": "2023-06-01T16:02:30.065Z"
   },
   {
    "duration": 0,
    "start_time": "2023-06-01T16:02:30.065Z"
   },
   {
    "duration": 0,
    "start_time": "2023-06-01T16:02:30.066Z"
   },
   {
    "duration": 0,
    "start_time": "2023-06-01T16:02:30.067Z"
   },
   {
    "duration": 26,
    "start_time": "2023-06-01T16:03:10.321Z"
   },
   {
    "duration": 10,
    "start_time": "2023-06-01T16:03:33.792Z"
   },
   {
    "duration": 18,
    "start_time": "2023-06-01T16:03:36.811Z"
   },
   {
    "duration": 8224,
    "start_time": "2023-06-01T16:03:40.251Z"
   },
   {
    "duration": 14478,
    "start_time": "2023-06-01T16:03:52.658Z"
   },
   {
    "duration": 19,
    "start_time": "2023-06-01T16:04:10.988Z"
   },
   {
    "duration": 8,
    "start_time": "2023-06-01T16:06:04.090Z"
   },
   {
    "duration": 52,
    "start_time": "2023-06-01T16:06:16.355Z"
   },
   {
    "duration": 113,
    "start_time": "2023-06-01T16:06:19.012Z"
   },
   {
    "duration": 76,
    "start_time": "2023-06-01T16:06:22.021Z"
   },
   {
    "duration": 36,
    "start_time": "2023-06-01T16:06:38.075Z"
   },
   {
    "duration": 37,
    "start_time": "2023-06-01T16:06:46.506Z"
   },
   {
    "duration": 75,
    "start_time": "2023-06-01T16:06:51.504Z"
   },
   {
    "duration": 1468,
    "start_time": "2023-06-01T16:27:10.459Z"
   },
   {
    "duration": 39,
    "start_time": "2023-06-01T16:27:11.929Z"
   },
   {
    "duration": 761,
    "start_time": "2023-06-01T16:27:11.970Z"
   },
   {
    "duration": 9,
    "start_time": "2023-06-01T16:27:12.732Z"
   },
   {
    "duration": 7,
    "start_time": "2023-06-01T16:27:12.743Z"
   },
   {
    "duration": 12,
    "start_time": "2023-06-01T16:27:12.752Z"
   },
   {
    "duration": 9,
    "start_time": "2023-06-01T16:27:12.766Z"
   },
   {
    "duration": 18,
    "start_time": "2023-06-01T16:27:12.777Z"
   },
   {
    "duration": 14,
    "start_time": "2023-06-01T16:27:12.797Z"
   },
   {
    "duration": 37,
    "start_time": "2023-06-01T16:27:12.812Z"
   },
   {
    "duration": 250,
    "start_time": "2023-06-01T16:27:12.851Z"
   },
   {
    "duration": 14,
    "start_time": "2023-06-01T16:27:13.103Z"
   },
   {
    "duration": 848,
    "start_time": "2023-06-01T16:27:13.125Z"
   },
   {
    "duration": 895,
    "start_time": "2023-06-01T16:27:13.975Z"
   },
   {
    "duration": 771,
    "start_time": "2023-06-01T16:27:14.872Z"
   },
   {
    "duration": 503,
    "start_time": "2023-06-01T16:27:15.645Z"
   },
   {
    "duration": 18,
    "start_time": "2023-06-01T16:27:16.149Z"
   },
   {
    "duration": 931,
    "start_time": "2023-06-01T16:27:16.169Z"
   },
   {
    "duration": 26,
    "start_time": "2023-06-01T16:27:17.102Z"
   },
   {
    "duration": 798,
    "start_time": "2023-06-01T16:27:17.130Z"
   },
   {
    "duration": 8,
    "start_time": "2023-06-01T16:27:17.930Z"
   },
   {
    "duration": 21,
    "start_time": "2023-06-01T16:27:17.940Z"
   },
   {
    "duration": 16,
    "start_time": "2023-06-01T16:27:17.963Z"
   },
   {
    "duration": 5,
    "start_time": "2023-06-01T16:27:17.981Z"
   },
   {
    "duration": 1369648,
    "start_time": "2023-06-01T16:27:17.987Z"
   },
   {
    "duration": 0,
    "start_time": "2023-06-01T16:50:07.637Z"
   },
   {
    "duration": 0,
    "start_time": "2023-06-01T16:50:07.639Z"
   },
   {
    "duration": 0,
    "start_time": "2023-06-01T16:50:07.641Z"
   },
   {
    "duration": 0,
    "start_time": "2023-06-01T16:50:07.642Z"
   },
   {
    "duration": 0,
    "start_time": "2023-06-01T16:50:07.644Z"
   },
   {
    "duration": 0,
    "start_time": "2023-06-01T16:50:07.645Z"
   },
   {
    "duration": 0,
    "start_time": "2023-06-01T16:50:07.646Z"
   },
   {
    "duration": 0,
    "start_time": "2023-06-01T16:50:07.648Z"
   },
   {
    "duration": 0,
    "start_time": "2023-06-01T16:50:07.650Z"
   },
   {
    "duration": 0,
    "start_time": "2023-06-01T16:50:07.651Z"
   },
   {
    "duration": 0,
    "start_time": "2023-06-01T16:50:07.653Z"
   },
   {
    "duration": 1017235,
    "start_time": "2023-06-01T16:50:56.456Z"
   },
   {
    "duration": 8393,
    "start_time": "2023-06-01T17:10:57.016Z"
   },
   {
    "duration": 1006609,
    "start_time": "2023-06-01T17:11:47.592Z"
   },
   {
    "duration": 17,
    "start_time": "2023-06-01T17:38:13.193Z"
   },
   {
    "duration": 16,
    "start_time": "2023-06-01T17:38:15.562Z"
   },
   {
    "duration": 2542,
    "start_time": "2023-06-01T17:38:21.887Z"
   },
   {
    "duration": 2658,
    "start_time": "2023-06-01T17:38:27.976Z"
   },
   {
    "duration": 2403,
    "start_time": "2023-06-01T17:38:30.636Z"
   },
   {
    "duration": 64,
    "start_time": "2023-06-01T17:38:33.041Z"
   },
   {
    "duration": 132,
    "start_time": "2023-06-01T17:38:33.108Z"
   },
   {
    "duration": 72,
    "start_time": "2023-06-01T17:38:33.243Z"
   },
   {
    "duration": 51,
    "start_time": "2023-06-01T17:38:33.316Z"
   },
   {
    "duration": 61,
    "start_time": "2023-06-01T17:38:33.369Z"
   },
   {
    "duration": 75,
    "start_time": "2023-06-01T17:38:33.432Z"
   }
  ],
  "kernelspec": {
   "display_name": "Python 3 (ipykernel)",
   "language": "python",
   "name": "python3"
  },
  "language_info": {
   "codemirror_mode": {
    "name": "ipython",
    "version": 3
   },
   "file_extension": ".py",
   "mimetype": "text/x-python",
   "name": "python",
   "nbconvert_exporter": "python",
   "pygments_lexer": "ipython3",
   "version": "3.11.5"
  },
  "toc": {
   "base_numbering": 1,
   "nav_menu": {},
   "number_sections": true,
   "sideBar": true,
   "skip_h1_title": true,
   "title_cell": "Содержание",
   "title_sidebar": "Contents",
   "toc_cell": true,
   "toc_position": {
    "height": "calc(100% - 180px)",
    "left": "10px",
    "top": "150px",
    "width": "165px"
   },
   "toc_section_display": true,
   "toc_window_display": true
  }
 },
 "nbformat": 4,
 "nbformat_minor": 4
}
